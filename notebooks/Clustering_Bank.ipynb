{
 "cells": [
  {
   "cell_type": "markdown",
   "metadata": {
    "id": "MsgYS5VMT79k"
   },
   "source": [
    "# Bank Credit Customer Analysis"
   ]
  },
  {
   "cell_type": "markdown",
   "metadata": {
    "id": "wQVoHhwmdET0"
   },
   "source": [
    "## Aboud Dataset"
   ]
  },
  {
   "cell_type": "markdown",
   "metadata": {
    "id": "a20gO5HFdKN4"
   },
   "source": [
    "### Context\n",
    "\n",
    "The dataset contains 1000 registers about credits in a bank, each row represents a customer who takes a credit in the bank"
   ]
  },
  {
   "cell_type": "markdown",
   "metadata": {
    "id": "gJ4q4iVDZdYu"
   },
   "source": [
    "### Content\n",
    "\n",
    "- Age (numeric)\n",
    "- Sex (text: male, female)\n",
    "- Job (numeric: 0 - unskilled and non-resident, 1 - unskilled and resident, 2 - skilled, 3 - highly skilled)\n",
    "- Housing (text: own, rent, or free)\n",
    "- Saving accounts (text - little, moderate, quite rich, rich)\n",
    "- Checking account (numeric, in DM - Deutsch Mark)\n",
    "- Credit amount (numeric, in DM)\n",
    "- Duration (numeric, in month)\n",
    "- Purpose (text: car, furniture/equipment, radio/TV, domestic appliances, repairs, education, business, vacation/others)"
   ]
  },
  {
   "cell_type": "markdown",
   "metadata": {
    "id": "vSfQ7QWnfYJO"
   },
   "source": [
    "### Goal\n",
    "\n",
    "Finding patterns in the dataset for determinate what type of customer can take credits of highest amount"
   ]
  },
  {
   "cell_type": "markdown",
   "metadata": {
    "id": "xgLXqC1hgir1"
   },
   "source": [
    "### Stakeholder Message\n",
    "\n",
    "If exists missing data you can replace it by unknown word"
   ]
  },
  {
   "cell_type": "markdown",
   "metadata": {
    "id": "n4RQ8RZNf3gi"
   },
   "source": [
    "## Import Libraries and Data"
   ]
  },
  {
   "cell_type": "code",
   "execution_count": 207,
   "metadata": {
    "id": "1LFAs_osunOC"
   },
   "outputs": [],
   "source": []
  },
  {
   "cell_type": "code",
   "execution_count": 1,
   "metadata": {
    "id": "_nEfTTZmSrqj"
   },
   "outputs": [],
   "source": [
    "import pandas as pd\n",
    "import numpy as np\n",
    "import matplotlib.pyplot as plt\n",
    "import seaborn as sns\n",
    "import plotly.express as px\n",
    "import plotly.io as pio\n",
    "import plotly.graph_objects as go\n",
    "from plotly.subplots import make_subplots\n",
    "\n",
    "pio.templates.default = 'plotly_dark'"
   ]
  },
  {
   "cell_type": "code",
   "execution_count": 2,
   "metadata": {
    "id": "QgnQBkX4ULFf"
   },
   "outputs": [],
   "source": [
    "# Data\n",
    "df = pd.read_csv('../german_credit_data.csv')"
   ]
  },
  {
   "cell_type": "markdown",
   "metadata": {
    "id": "zyxMq41Pf-IM"
   },
   "source": [
    "## Data Review"
   ]
  },
  {
   "cell_type": "code",
   "execution_count": 210,
   "metadata": {
    "colab": {
     "base_uri": "https://localhost:8080/",
     "height": 268
    },
    "id": "hKq7M35JUXtw",
    "outputId": "b8470f22-4dfb-4394-a032-9e749e3a26ff"
   },
   "outputs": [
    {
     "data": {
      "text/html": [
       "\n",
       "  <div id=\"df-af9cdfd6-f0b3-4c94-bb8d-b8a5329373e3\">\n",
       "    <div class=\"colab-df-container\">\n",
       "      <div>\n",
       "<style scoped>\n",
       "    .dataframe tbody tr th:only-of-type {\n",
       "        vertical-align: middle;\n",
       "    }\n",
       "\n",
       "    .dataframe tbody tr th {\n",
       "        vertical-align: top;\n",
       "    }\n",
       "\n",
       "    .dataframe thead th {\n",
       "        text-align: right;\n",
       "    }\n",
       "</style>\n",
       "<table border=\"1\" class=\"dataframe\">\n",
       "  <thead>\n",
       "    <tr style=\"text-align: right;\">\n",
       "      <th></th>\n",
       "      <th>Unnamed: 0</th>\n",
       "      <th>Age</th>\n",
       "      <th>Sex</th>\n",
       "      <th>Job</th>\n",
       "      <th>Housing</th>\n",
       "      <th>Saving accounts</th>\n",
       "      <th>Checking account</th>\n",
       "      <th>Credit amount</th>\n",
       "      <th>Duration</th>\n",
       "      <th>Purpose</th>\n",
       "    </tr>\n",
       "  </thead>\n",
       "  <tbody>\n",
       "    <tr>\n",
       "      <th>0</th>\n",
       "      <td>0</td>\n",
       "      <td>67</td>\n",
       "      <td>male</td>\n",
       "      <td>2</td>\n",
       "      <td>own</td>\n",
       "      <td>NaN</td>\n",
       "      <td>little</td>\n",
       "      <td>1169</td>\n",
       "      <td>6</td>\n",
       "      <td>radio/TV</td>\n",
       "    </tr>\n",
       "    <tr>\n",
       "      <th>1</th>\n",
       "      <td>1</td>\n",
       "      <td>22</td>\n",
       "      <td>female</td>\n",
       "      <td>2</td>\n",
       "      <td>own</td>\n",
       "      <td>little</td>\n",
       "      <td>moderate</td>\n",
       "      <td>5951</td>\n",
       "      <td>48</td>\n",
       "      <td>radio/TV</td>\n",
       "    </tr>\n",
       "    <tr>\n",
       "      <th>2</th>\n",
       "      <td>2</td>\n",
       "      <td>49</td>\n",
       "      <td>male</td>\n",
       "      <td>1</td>\n",
       "      <td>own</td>\n",
       "      <td>little</td>\n",
       "      <td>NaN</td>\n",
       "      <td>2096</td>\n",
       "      <td>12</td>\n",
       "      <td>education</td>\n",
       "    </tr>\n",
       "    <tr>\n",
       "      <th>3</th>\n",
       "      <td>3</td>\n",
       "      <td>45</td>\n",
       "      <td>male</td>\n",
       "      <td>2</td>\n",
       "      <td>free</td>\n",
       "      <td>little</td>\n",
       "      <td>little</td>\n",
       "      <td>7882</td>\n",
       "      <td>42</td>\n",
       "      <td>furniture/equipment</td>\n",
       "    </tr>\n",
       "    <tr>\n",
       "      <th>4</th>\n",
       "      <td>4</td>\n",
       "      <td>53</td>\n",
       "      <td>male</td>\n",
       "      <td>2</td>\n",
       "      <td>free</td>\n",
       "      <td>little</td>\n",
       "      <td>little</td>\n",
       "      <td>4870</td>\n",
       "      <td>24</td>\n",
       "      <td>car</td>\n",
       "    </tr>\n",
       "  </tbody>\n",
       "</table>\n",
       "</div>\n",
       "      <button class=\"colab-df-convert\" onclick=\"convertToInteractive('df-af9cdfd6-f0b3-4c94-bb8d-b8a5329373e3')\"\n",
       "              title=\"Convert this dataframe to an interactive table.\"\n",
       "              style=\"display:none;\">\n",
       "        \n",
       "  <svg xmlns=\"http://www.w3.org/2000/svg\" height=\"24px\"viewBox=\"0 0 24 24\"\n",
       "       width=\"24px\">\n",
       "    <path d=\"M0 0h24v24H0V0z\" fill=\"none\"/>\n",
       "    <path d=\"M18.56 5.44l.94 2.06.94-2.06 2.06-.94-2.06-.94-.94-2.06-.94 2.06-2.06.94zm-11 1L8.5 8.5l.94-2.06 2.06-.94-2.06-.94L8.5 2.5l-.94 2.06-2.06.94zm10 10l.94 2.06.94-2.06 2.06-.94-2.06-.94-.94-2.06-.94 2.06-2.06.94z\"/><path d=\"M17.41 7.96l-1.37-1.37c-.4-.4-.92-.59-1.43-.59-.52 0-1.04.2-1.43.59L10.3 9.45l-7.72 7.72c-.78.78-.78 2.05 0 2.83L4 21.41c.39.39.9.59 1.41.59.51 0 1.02-.2 1.41-.59l7.78-7.78 2.81-2.81c.8-.78.8-2.07 0-2.86zM5.41 20L4 18.59l7.72-7.72 1.47 1.35L5.41 20z\"/>\n",
       "  </svg>\n",
       "      </button>\n",
       "      \n",
       "  <style>\n",
       "    .colab-df-container {\n",
       "      display:flex;\n",
       "      flex-wrap:wrap;\n",
       "      gap: 12px;\n",
       "    }\n",
       "\n",
       "    .colab-df-convert {\n",
       "      background-color: #E8F0FE;\n",
       "      border: none;\n",
       "      border-radius: 50%;\n",
       "      cursor: pointer;\n",
       "      display: none;\n",
       "      fill: #1967D2;\n",
       "      height: 32px;\n",
       "      padding: 0 0 0 0;\n",
       "      width: 32px;\n",
       "    }\n",
       "\n",
       "    .colab-df-convert:hover {\n",
       "      background-color: #E2EBFA;\n",
       "      box-shadow: 0px 1px 2px rgba(60, 64, 67, 0.3), 0px 1px 3px 1px rgba(60, 64, 67, 0.15);\n",
       "      fill: #174EA6;\n",
       "    }\n",
       "\n",
       "    [theme=dark] .colab-df-convert {\n",
       "      background-color: #3B4455;\n",
       "      fill: #D2E3FC;\n",
       "    }\n",
       "\n",
       "    [theme=dark] .colab-df-convert:hover {\n",
       "      background-color: #434B5C;\n",
       "      box-shadow: 0px 1px 3px 1px rgba(0, 0, 0, 0.15);\n",
       "      filter: drop-shadow(0px 1px 2px rgba(0, 0, 0, 0.3));\n",
       "      fill: #FFFFFF;\n",
       "    }\n",
       "  </style>\n",
       "\n",
       "      <script>\n",
       "        const buttonEl =\n",
       "          document.querySelector('#df-af9cdfd6-f0b3-4c94-bb8d-b8a5329373e3 button.colab-df-convert');\n",
       "        buttonEl.style.display =\n",
       "          google.colab.kernel.accessAllowed ? 'block' : 'none';\n",
       "\n",
       "        async function convertToInteractive(key) {\n",
       "          const element = document.querySelector('#df-af9cdfd6-f0b3-4c94-bb8d-b8a5329373e3');\n",
       "          const dataTable =\n",
       "            await google.colab.kernel.invokeFunction('convertToInteractive',\n",
       "                                                     [key], {});\n",
       "          if (!dataTable) return;\n",
       "\n",
       "          const docLinkHtml = 'Like what you see? Visit the ' +\n",
       "            '<a target=\"_blank\" href=https://colab.research.google.com/notebooks/data_table.ipynb>data table notebook</a>'\n",
       "            + ' to learn more about interactive tables.';\n",
       "          element.innerHTML = '';\n",
       "          dataTable['output_type'] = 'display_data';\n",
       "          await google.colab.output.renderOutput(dataTable, element);\n",
       "          const docLink = document.createElement('div');\n",
       "          docLink.innerHTML = docLinkHtml;\n",
       "          element.appendChild(docLink);\n",
       "        }\n",
       "      </script>\n",
       "    </div>\n",
       "  </div>\n",
       "  "
      ],
      "text/plain": [
       "   Unnamed: 0  Age     Sex  Job Housing Saving accounts Checking account  \\\n",
       "0           0   67    male    2     own             NaN           little   \n",
       "1           1   22  female    2     own          little         moderate   \n",
       "2           2   49    male    1     own          little              NaN   \n",
       "3           3   45    male    2    free          little           little   \n",
       "4           4   53    male    2    free          little           little   \n",
       "\n",
       "   Credit amount  Duration              Purpose  \n",
       "0           1169         6             radio/TV  \n",
       "1           5951        48             radio/TV  \n",
       "2           2096        12            education  \n",
       "3           7882        42  furniture/equipment  \n",
       "4           4870        24                  car  "
      ]
     },
     "execution_count": 210,
     "metadata": {},
     "output_type": "execute_result"
    }
   ],
   "source": [
    "df.head()"
   ]
  },
  {
   "cell_type": "code",
   "execution_count": 211,
   "metadata": {
    "colab": {
     "base_uri": "https://localhost:8080/"
    },
    "id": "8eu0yvg4Y4qJ",
    "outputId": "c98d4113-efc7-4314-d926-613028172862"
   },
   "outputs": [
    {
     "data": {
      "text/plain": [
       "(1000, 10)"
      ]
     },
     "execution_count": 211,
     "metadata": {},
     "output_type": "execute_result"
    }
   ],
   "source": [
    "df.shape"
   ]
  },
  {
   "cell_type": "code",
   "execution_count": 212,
   "metadata": {
    "colab": {
     "base_uri": "https://localhost:8080/"
    },
    "id": "A-AeStKJgGjK",
    "outputId": "d028b2fb-9b50-4f90-904b-447c01dd4fd9"
   },
   "outputs": [
    {
     "name": "stdout",
     "output_type": "stream",
     "text": [
      "<class 'pandas.core.frame.DataFrame'>\n",
      "RangeIndex: 1000 entries, 0 to 999\n",
      "Data columns (total 10 columns):\n",
      " #   Column            Non-Null Count  Dtype \n",
      "---  ------            --------------  ----- \n",
      " 0   Unnamed: 0        1000 non-null   int64 \n",
      " 1   Age               1000 non-null   int64 \n",
      " 2   Sex               1000 non-null   object\n",
      " 3   Job               1000 non-null   int64 \n",
      " 4   Housing           1000 non-null   object\n",
      " 5   Saving accounts   817 non-null    object\n",
      " 6   Checking account  606 non-null    object\n",
      " 7   Credit amount     1000 non-null   int64 \n",
      " 8   Duration          1000 non-null   int64 \n",
      " 9   Purpose           1000 non-null   object\n",
      "dtypes: int64(5), object(5)\n",
      "memory usage: 78.2+ KB\n"
     ]
    }
   ],
   "source": [
    "df.info()"
   ]
  },
  {
   "cell_type": "markdown",
   "metadata": {
    "id": "fl_C0o_5gzWt"
   },
   "source": [
    "## Cleaning Data"
   ]
  },
  {
   "cell_type": "code",
   "execution_count": 213,
   "metadata": {
    "colab": {
     "base_uri": "https://localhost:8080/"
    },
    "id": "hTmJgCqOnJnD",
    "outputId": "5a54a579-d858-4f8f-972b-9f3871ebbf94"
   },
   "outputs": [
    {
     "data": {
      "text/plain": [
       "Unnamed: 0            0\n",
       "Age                   0\n",
       "Sex                   0\n",
       "Job                   0\n",
       "Housing               0\n",
       "Saving accounts     183\n",
       "Checking account    394\n",
       "Credit amount         0\n",
       "Duration              0\n",
       "Purpose               0\n",
       "dtype: int64"
      ]
     },
     "execution_count": 213,
     "metadata": {},
     "output_type": "execute_result"
    }
   ],
   "source": [
    "# Verifying missing data\n",
    "df.isna().sum()"
   ]
  },
  {
   "cell_type": "code",
   "execution_count": 214,
   "metadata": {
    "colab": {
     "base_uri": "https://localhost:8080/"
    },
    "id": "kHty9ffKgLc-",
    "outputId": "5bda9d56-f5e5-44e3-d8f6-fb1644af8918"
   },
   "outputs": [
    {
     "data": {
      "text/plain": [
       "array([nan, 'little', 'quite rich', 'rich', 'moderate'], dtype=object)"
      ]
     },
     "execution_count": 214,
     "metadata": {},
     "output_type": "execute_result"
    }
   ],
   "source": [
    "df['Saving accounts'].unique()"
   ]
  },
  {
   "cell_type": "code",
   "execution_count": 215,
   "metadata": {
    "colab": {
     "base_uri": "https://localhost:8080/"
    },
    "id": "Tq-kSaG0oNC5",
    "outputId": "683db3d4-3de1-4cf1-cdf2-384bc35367da"
   },
   "outputs": [
    {
     "data": {
      "text/plain": [
       "array(['little', 'moderate', nan, 'rich'], dtype=object)"
      ]
     },
     "execution_count": 215,
     "metadata": {},
     "output_type": "execute_result"
    }
   ],
   "source": [
    "df['Checking account'].unique()"
   ]
  },
  {
   "cell_type": "code",
   "execution_count": 216,
   "metadata": {
    "id": "zvXcAbikngkM"
   },
   "outputs": [],
   "source": [
    "df['Saving accounts'] = df['Saving accounts'].fillna( 'unknown' )"
   ]
  },
  {
   "cell_type": "code",
   "execution_count": 217,
   "metadata": {
    "id": "wTMRYiuQoYCF"
   },
   "outputs": [],
   "source": [
    "df['Checking account'] = df['Checking account'].fillna( 'unknown' )"
   ]
  },
  {
   "cell_type": "code",
   "execution_count": 218,
   "metadata": {
    "colab": {
     "base_uri": "https://localhost:8080/"
    },
    "id": "HmveggVaogVC",
    "outputId": "ebc80c15-b3a3-4a3f-9d1c-951ed35549ce"
   },
   "outputs": [
    {
     "data": {
      "text/plain": [
       "Unnamed: 0          0\n",
       "Age                 0\n",
       "Sex                 0\n",
       "Job                 0\n",
       "Housing             0\n",
       "Saving accounts     0\n",
       "Checking account    0\n",
       "Credit amount       0\n",
       "Duration            0\n",
       "Purpose             0\n",
       "dtype: int64"
      ]
     },
     "execution_count": 218,
     "metadata": {},
     "output_type": "execute_result"
    }
   ],
   "source": [
    "df.isna().sum()"
   ]
  },
  {
   "cell_type": "code",
   "execution_count": 219,
   "metadata": {
    "colab": {
     "base_uri": "https://localhost:8080/",
     "height": 268
    },
    "id": "kmzIhi3MqTnF",
    "outputId": "e29c0a76-46bb-4c96-9588-31103942249a"
   },
   "outputs": [
    {
     "data": {
      "text/html": [
       "\n",
       "  <div id=\"df-2d688518-49d3-43e5-8ec4-7f8d5ee87471\">\n",
       "    <div class=\"colab-df-container\">\n",
       "      <div>\n",
       "<style scoped>\n",
       "    .dataframe tbody tr th:only-of-type {\n",
       "        vertical-align: middle;\n",
       "    }\n",
       "\n",
       "    .dataframe tbody tr th {\n",
       "        vertical-align: top;\n",
       "    }\n",
       "\n",
       "    .dataframe thead th {\n",
       "        text-align: right;\n",
       "    }\n",
       "</style>\n",
       "<table border=\"1\" class=\"dataframe\">\n",
       "  <thead>\n",
       "    <tr style=\"text-align: right;\">\n",
       "      <th></th>\n",
       "      <th>Unnamed: 0</th>\n",
       "      <th>Age</th>\n",
       "      <th>Sex</th>\n",
       "      <th>Job</th>\n",
       "      <th>Housing</th>\n",
       "      <th>Saving accounts</th>\n",
       "      <th>Checking account</th>\n",
       "      <th>Credit amount</th>\n",
       "      <th>Duration</th>\n",
       "      <th>Purpose</th>\n",
       "    </tr>\n",
       "  </thead>\n",
       "  <tbody>\n",
       "    <tr>\n",
       "      <th>0</th>\n",
       "      <td>0</td>\n",
       "      <td>67</td>\n",
       "      <td>male</td>\n",
       "      <td>2</td>\n",
       "      <td>own</td>\n",
       "      <td>unknown</td>\n",
       "      <td>little</td>\n",
       "      <td>1169</td>\n",
       "      <td>6</td>\n",
       "      <td>radio/TV</td>\n",
       "    </tr>\n",
       "    <tr>\n",
       "      <th>1</th>\n",
       "      <td>1</td>\n",
       "      <td>22</td>\n",
       "      <td>female</td>\n",
       "      <td>2</td>\n",
       "      <td>own</td>\n",
       "      <td>little</td>\n",
       "      <td>moderate</td>\n",
       "      <td>5951</td>\n",
       "      <td>48</td>\n",
       "      <td>radio/TV</td>\n",
       "    </tr>\n",
       "    <tr>\n",
       "      <th>2</th>\n",
       "      <td>2</td>\n",
       "      <td>49</td>\n",
       "      <td>male</td>\n",
       "      <td>1</td>\n",
       "      <td>own</td>\n",
       "      <td>little</td>\n",
       "      <td>unknown</td>\n",
       "      <td>2096</td>\n",
       "      <td>12</td>\n",
       "      <td>education</td>\n",
       "    </tr>\n",
       "    <tr>\n",
       "      <th>3</th>\n",
       "      <td>3</td>\n",
       "      <td>45</td>\n",
       "      <td>male</td>\n",
       "      <td>2</td>\n",
       "      <td>free</td>\n",
       "      <td>little</td>\n",
       "      <td>little</td>\n",
       "      <td>7882</td>\n",
       "      <td>42</td>\n",
       "      <td>furniture/equipment</td>\n",
       "    </tr>\n",
       "    <tr>\n",
       "      <th>4</th>\n",
       "      <td>4</td>\n",
       "      <td>53</td>\n",
       "      <td>male</td>\n",
       "      <td>2</td>\n",
       "      <td>free</td>\n",
       "      <td>little</td>\n",
       "      <td>little</td>\n",
       "      <td>4870</td>\n",
       "      <td>24</td>\n",
       "      <td>car</td>\n",
       "    </tr>\n",
       "  </tbody>\n",
       "</table>\n",
       "</div>\n",
       "      <button class=\"colab-df-convert\" onclick=\"convertToInteractive('df-2d688518-49d3-43e5-8ec4-7f8d5ee87471')\"\n",
       "              title=\"Convert this dataframe to an interactive table.\"\n",
       "              style=\"display:none;\">\n",
       "        \n",
       "  <svg xmlns=\"http://www.w3.org/2000/svg\" height=\"24px\"viewBox=\"0 0 24 24\"\n",
       "       width=\"24px\">\n",
       "    <path d=\"M0 0h24v24H0V0z\" fill=\"none\"/>\n",
       "    <path d=\"M18.56 5.44l.94 2.06.94-2.06 2.06-.94-2.06-.94-.94-2.06-.94 2.06-2.06.94zm-11 1L8.5 8.5l.94-2.06 2.06-.94-2.06-.94L8.5 2.5l-.94 2.06-2.06.94zm10 10l.94 2.06.94-2.06 2.06-.94-2.06-.94-.94-2.06-.94 2.06-2.06.94z\"/><path d=\"M17.41 7.96l-1.37-1.37c-.4-.4-.92-.59-1.43-.59-.52 0-1.04.2-1.43.59L10.3 9.45l-7.72 7.72c-.78.78-.78 2.05 0 2.83L4 21.41c.39.39.9.59 1.41.59.51 0 1.02-.2 1.41-.59l7.78-7.78 2.81-2.81c.8-.78.8-2.07 0-2.86zM5.41 20L4 18.59l7.72-7.72 1.47 1.35L5.41 20z\"/>\n",
       "  </svg>\n",
       "      </button>\n",
       "      \n",
       "  <style>\n",
       "    .colab-df-container {\n",
       "      display:flex;\n",
       "      flex-wrap:wrap;\n",
       "      gap: 12px;\n",
       "    }\n",
       "\n",
       "    .colab-df-convert {\n",
       "      background-color: #E8F0FE;\n",
       "      border: none;\n",
       "      border-radius: 50%;\n",
       "      cursor: pointer;\n",
       "      display: none;\n",
       "      fill: #1967D2;\n",
       "      height: 32px;\n",
       "      padding: 0 0 0 0;\n",
       "      width: 32px;\n",
       "    }\n",
       "\n",
       "    .colab-df-convert:hover {\n",
       "      background-color: #E2EBFA;\n",
       "      box-shadow: 0px 1px 2px rgba(60, 64, 67, 0.3), 0px 1px 3px 1px rgba(60, 64, 67, 0.15);\n",
       "      fill: #174EA6;\n",
       "    }\n",
       "\n",
       "    [theme=dark] .colab-df-convert {\n",
       "      background-color: #3B4455;\n",
       "      fill: #D2E3FC;\n",
       "    }\n",
       "\n",
       "    [theme=dark] .colab-df-convert:hover {\n",
       "      background-color: #434B5C;\n",
       "      box-shadow: 0px 1px 3px 1px rgba(0, 0, 0, 0.15);\n",
       "      filter: drop-shadow(0px 1px 2px rgba(0, 0, 0, 0.3));\n",
       "      fill: #FFFFFF;\n",
       "    }\n",
       "  </style>\n",
       "\n",
       "      <script>\n",
       "        const buttonEl =\n",
       "          document.querySelector('#df-2d688518-49d3-43e5-8ec4-7f8d5ee87471 button.colab-df-convert');\n",
       "        buttonEl.style.display =\n",
       "          google.colab.kernel.accessAllowed ? 'block' : 'none';\n",
       "\n",
       "        async function convertToInteractive(key) {\n",
       "          const element = document.querySelector('#df-2d688518-49d3-43e5-8ec4-7f8d5ee87471');\n",
       "          const dataTable =\n",
       "            await google.colab.kernel.invokeFunction('convertToInteractive',\n",
       "                                                     [key], {});\n",
       "          if (!dataTable) return;\n",
       "\n",
       "          const docLinkHtml = 'Like what you see? Visit the ' +\n",
       "            '<a target=\"_blank\" href=https://colab.research.google.com/notebooks/data_table.ipynb>data table notebook</a>'\n",
       "            + ' to learn more about interactive tables.';\n",
       "          element.innerHTML = '';\n",
       "          dataTable['output_type'] = 'display_data';\n",
       "          await google.colab.output.renderOutput(dataTable, element);\n",
       "          const docLink = document.createElement('div');\n",
       "          docLink.innerHTML = docLinkHtml;\n",
       "          element.appendChild(docLink);\n",
       "        }\n",
       "      </script>\n",
       "    </div>\n",
       "  </div>\n",
       "  "
      ],
      "text/plain": [
       "   Unnamed: 0  Age     Sex  Job Housing Saving accounts Checking account  \\\n",
       "0           0   67    male    2     own         unknown           little   \n",
       "1           1   22  female    2     own          little         moderate   \n",
       "2           2   49    male    1     own          little          unknown   \n",
       "3           3   45    male    2    free          little           little   \n",
       "4           4   53    male    2    free          little           little   \n",
       "\n",
       "   Credit amount  Duration              Purpose  \n",
       "0           1169         6             radio/TV  \n",
       "1           5951        48             radio/TV  \n",
       "2           2096        12            education  \n",
       "3           7882        42  furniture/equipment  \n",
       "4           4870        24                  car  "
      ]
     },
     "execution_count": 219,
     "metadata": {},
     "output_type": "execute_result"
    }
   ],
   "source": [
    "df.head()"
   ]
  },
  {
   "cell_type": "code",
   "execution_count": 220,
   "metadata": {
    "id": "6eR0eNNTrkq8"
   },
   "outputs": [],
   "source": [
    "df = df.drop('Unnamed: 0', axis=1)"
   ]
  },
  {
   "cell_type": "code",
   "execution_count": 221,
   "metadata": {
    "colab": {
     "base_uri": "https://localhost:8080/",
     "height": 206
    },
    "id": "JioFgODdrupb",
    "outputId": "eaa88799-0c8b-45fb-b88a-760f72c6d03a"
   },
   "outputs": [
    {
     "data": {
      "text/html": [
       "\n",
       "  <div id=\"df-845b3741-87d1-4551-a84a-bb7ef960b781\">\n",
       "    <div class=\"colab-df-container\">\n",
       "      <div>\n",
       "<style scoped>\n",
       "    .dataframe tbody tr th:only-of-type {\n",
       "        vertical-align: middle;\n",
       "    }\n",
       "\n",
       "    .dataframe tbody tr th {\n",
       "        vertical-align: top;\n",
       "    }\n",
       "\n",
       "    .dataframe thead th {\n",
       "        text-align: right;\n",
       "    }\n",
       "</style>\n",
       "<table border=\"1\" class=\"dataframe\">\n",
       "  <thead>\n",
       "    <tr style=\"text-align: right;\">\n",
       "      <th></th>\n",
       "      <th>Age</th>\n",
       "      <th>Sex</th>\n",
       "      <th>Job</th>\n",
       "      <th>Housing</th>\n",
       "      <th>Saving accounts</th>\n",
       "      <th>Checking account</th>\n",
       "      <th>Credit amount</th>\n",
       "      <th>Duration</th>\n",
       "      <th>Purpose</th>\n",
       "    </tr>\n",
       "  </thead>\n",
       "  <tbody>\n",
       "    <tr>\n",
       "      <th>0</th>\n",
       "      <td>67</td>\n",
       "      <td>male</td>\n",
       "      <td>2</td>\n",
       "      <td>own</td>\n",
       "      <td>unknown</td>\n",
       "      <td>little</td>\n",
       "      <td>1169</td>\n",
       "      <td>6</td>\n",
       "      <td>radio/TV</td>\n",
       "    </tr>\n",
       "    <tr>\n",
       "      <th>1</th>\n",
       "      <td>22</td>\n",
       "      <td>female</td>\n",
       "      <td>2</td>\n",
       "      <td>own</td>\n",
       "      <td>little</td>\n",
       "      <td>moderate</td>\n",
       "      <td>5951</td>\n",
       "      <td>48</td>\n",
       "      <td>radio/TV</td>\n",
       "    </tr>\n",
       "    <tr>\n",
       "      <th>2</th>\n",
       "      <td>49</td>\n",
       "      <td>male</td>\n",
       "      <td>1</td>\n",
       "      <td>own</td>\n",
       "      <td>little</td>\n",
       "      <td>unknown</td>\n",
       "      <td>2096</td>\n",
       "      <td>12</td>\n",
       "      <td>education</td>\n",
       "    </tr>\n",
       "    <tr>\n",
       "      <th>3</th>\n",
       "      <td>45</td>\n",
       "      <td>male</td>\n",
       "      <td>2</td>\n",
       "      <td>free</td>\n",
       "      <td>little</td>\n",
       "      <td>little</td>\n",
       "      <td>7882</td>\n",
       "      <td>42</td>\n",
       "      <td>furniture/equipment</td>\n",
       "    </tr>\n",
       "    <tr>\n",
       "      <th>4</th>\n",
       "      <td>53</td>\n",
       "      <td>male</td>\n",
       "      <td>2</td>\n",
       "      <td>free</td>\n",
       "      <td>little</td>\n",
       "      <td>little</td>\n",
       "      <td>4870</td>\n",
       "      <td>24</td>\n",
       "      <td>car</td>\n",
       "    </tr>\n",
       "  </tbody>\n",
       "</table>\n",
       "</div>\n",
       "      <button class=\"colab-df-convert\" onclick=\"convertToInteractive('df-845b3741-87d1-4551-a84a-bb7ef960b781')\"\n",
       "              title=\"Convert this dataframe to an interactive table.\"\n",
       "              style=\"display:none;\">\n",
       "        \n",
       "  <svg xmlns=\"http://www.w3.org/2000/svg\" height=\"24px\"viewBox=\"0 0 24 24\"\n",
       "       width=\"24px\">\n",
       "    <path d=\"M0 0h24v24H0V0z\" fill=\"none\"/>\n",
       "    <path d=\"M18.56 5.44l.94 2.06.94-2.06 2.06-.94-2.06-.94-.94-2.06-.94 2.06-2.06.94zm-11 1L8.5 8.5l.94-2.06 2.06-.94-2.06-.94L8.5 2.5l-.94 2.06-2.06.94zm10 10l.94 2.06.94-2.06 2.06-.94-2.06-.94-.94-2.06-.94 2.06-2.06.94z\"/><path d=\"M17.41 7.96l-1.37-1.37c-.4-.4-.92-.59-1.43-.59-.52 0-1.04.2-1.43.59L10.3 9.45l-7.72 7.72c-.78.78-.78 2.05 0 2.83L4 21.41c.39.39.9.59 1.41.59.51 0 1.02-.2 1.41-.59l7.78-7.78 2.81-2.81c.8-.78.8-2.07 0-2.86zM5.41 20L4 18.59l7.72-7.72 1.47 1.35L5.41 20z\"/>\n",
       "  </svg>\n",
       "      </button>\n",
       "      \n",
       "  <style>\n",
       "    .colab-df-container {\n",
       "      display:flex;\n",
       "      flex-wrap:wrap;\n",
       "      gap: 12px;\n",
       "    }\n",
       "\n",
       "    .colab-df-convert {\n",
       "      background-color: #E8F0FE;\n",
       "      border: none;\n",
       "      border-radius: 50%;\n",
       "      cursor: pointer;\n",
       "      display: none;\n",
       "      fill: #1967D2;\n",
       "      height: 32px;\n",
       "      padding: 0 0 0 0;\n",
       "      width: 32px;\n",
       "    }\n",
       "\n",
       "    .colab-df-convert:hover {\n",
       "      background-color: #E2EBFA;\n",
       "      box-shadow: 0px 1px 2px rgba(60, 64, 67, 0.3), 0px 1px 3px 1px rgba(60, 64, 67, 0.15);\n",
       "      fill: #174EA6;\n",
       "    }\n",
       "\n",
       "    [theme=dark] .colab-df-convert {\n",
       "      background-color: #3B4455;\n",
       "      fill: #D2E3FC;\n",
       "    }\n",
       "\n",
       "    [theme=dark] .colab-df-convert:hover {\n",
       "      background-color: #434B5C;\n",
       "      box-shadow: 0px 1px 3px 1px rgba(0, 0, 0, 0.15);\n",
       "      filter: drop-shadow(0px 1px 2px rgba(0, 0, 0, 0.3));\n",
       "      fill: #FFFFFF;\n",
       "    }\n",
       "  </style>\n",
       "\n",
       "      <script>\n",
       "        const buttonEl =\n",
       "          document.querySelector('#df-845b3741-87d1-4551-a84a-bb7ef960b781 button.colab-df-convert');\n",
       "        buttonEl.style.display =\n",
       "          google.colab.kernel.accessAllowed ? 'block' : 'none';\n",
       "\n",
       "        async function convertToInteractive(key) {\n",
       "          const element = document.querySelector('#df-845b3741-87d1-4551-a84a-bb7ef960b781');\n",
       "          const dataTable =\n",
       "            await google.colab.kernel.invokeFunction('convertToInteractive',\n",
       "                                                     [key], {});\n",
       "          if (!dataTable) return;\n",
       "\n",
       "          const docLinkHtml = 'Like what you see? Visit the ' +\n",
       "            '<a target=\"_blank\" href=https://colab.research.google.com/notebooks/data_table.ipynb>data table notebook</a>'\n",
       "            + ' to learn more about interactive tables.';\n",
       "          element.innerHTML = '';\n",
       "          dataTable['output_type'] = 'display_data';\n",
       "          await google.colab.output.renderOutput(dataTable, element);\n",
       "          const docLink = document.createElement('div');\n",
       "          docLink.innerHTML = docLinkHtml;\n",
       "          element.appendChild(docLink);\n",
       "        }\n",
       "      </script>\n",
       "    </div>\n",
       "  </div>\n",
       "  "
      ],
      "text/plain": [
       "   Age     Sex  Job Housing Saving accounts Checking account  Credit amount  \\\n",
       "0   67    male    2     own         unknown           little           1169   \n",
       "1   22  female    2     own          little         moderate           5951   \n",
       "2   49    male    1     own          little          unknown           2096   \n",
       "3   45    male    2    free          little           little           7882   \n",
       "4   53    male    2    free          little           little           4870   \n",
       "\n",
       "   Duration              Purpose  \n",
       "0         6             radio/TV  \n",
       "1        48             radio/TV  \n",
       "2        12            education  \n",
       "3        42  furniture/equipment  \n",
       "4        24                  car  "
      ]
     },
     "execution_count": 221,
     "metadata": {},
     "output_type": "execute_result"
    }
   ],
   "source": [
    "df.head()"
   ]
  },
  {
   "cell_type": "code",
   "execution_count": 222,
   "metadata": {
    "id": "xvx4MQnrAK-j"
   },
   "outputs": [],
   "source": [
    "def age_cohorte(age):\n",
    "  if age < 26:\n",
    "    return '0-25'\n",
    "  elif age < 51:\n",
    "    return '26-50'\n",
    "  else:\n",
    "    return '51-75'  "
   ]
  },
  {
   "cell_type": "code",
   "execution_count": 223,
   "metadata": {
    "id": "r3p53vThBAAg"
   },
   "outputs": [],
   "source": [
    "df['Age Cohorte'] = df['Age'].apply( age_cohorte )"
   ]
  },
  {
   "cell_type": "code",
   "execution_count": 224,
   "metadata": {
    "colab": {
     "base_uri": "https://localhost:8080/",
     "height": 268
    },
    "id": "6Z76yknIBJ1X",
    "outputId": "13eb9273-a055-424b-bcc6-a4547154b6c1"
   },
   "outputs": [
    {
     "data": {
      "text/html": [
       "\n",
       "  <div id=\"df-1b28899e-acb9-4912-82ad-db47e65b84af\">\n",
       "    <div class=\"colab-df-container\">\n",
       "      <div>\n",
       "<style scoped>\n",
       "    .dataframe tbody tr th:only-of-type {\n",
       "        vertical-align: middle;\n",
       "    }\n",
       "\n",
       "    .dataframe tbody tr th {\n",
       "        vertical-align: top;\n",
       "    }\n",
       "\n",
       "    .dataframe thead th {\n",
       "        text-align: right;\n",
       "    }\n",
       "</style>\n",
       "<table border=\"1\" class=\"dataframe\">\n",
       "  <thead>\n",
       "    <tr style=\"text-align: right;\">\n",
       "      <th></th>\n",
       "      <th>Age</th>\n",
       "      <th>Sex</th>\n",
       "      <th>Job</th>\n",
       "      <th>Housing</th>\n",
       "      <th>Saving accounts</th>\n",
       "      <th>Checking account</th>\n",
       "      <th>Credit amount</th>\n",
       "      <th>Duration</th>\n",
       "      <th>Purpose</th>\n",
       "      <th>Age Cohorte</th>\n",
       "    </tr>\n",
       "  </thead>\n",
       "  <tbody>\n",
       "    <tr>\n",
       "      <th>0</th>\n",
       "      <td>67</td>\n",
       "      <td>male</td>\n",
       "      <td>2</td>\n",
       "      <td>own</td>\n",
       "      <td>unknown</td>\n",
       "      <td>little</td>\n",
       "      <td>1169</td>\n",
       "      <td>6</td>\n",
       "      <td>radio/TV</td>\n",
       "      <td>51-75</td>\n",
       "    </tr>\n",
       "    <tr>\n",
       "      <th>1</th>\n",
       "      <td>22</td>\n",
       "      <td>female</td>\n",
       "      <td>2</td>\n",
       "      <td>own</td>\n",
       "      <td>little</td>\n",
       "      <td>moderate</td>\n",
       "      <td>5951</td>\n",
       "      <td>48</td>\n",
       "      <td>radio/TV</td>\n",
       "      <td>0-25</td>\n",
       "    </tr>\n",
       "    <tr>\n",
       "      <th>2</th>\n",
       "      <td>49</td>\n",
       "      <td>male</td>\n",
       "      <td>1</td>\n",
       "      <td>own</td>\n",
       "      <td>little</td>\n",
       "      <td>unknown</td>\n",
       "      <td>2096</td>\n",
       "      <td>12</td>\n",
       "      <td>education</td>\n",
       "      <td>26-50</td>\n",
       "    </tr>\n",
       "    <tr>\n",
       "      <th>3</th>\n",
       "      <td>45</td>\n",
       "      <td>male</td>\n",
       "      <td>2</td>\n",
       "      <td>free</td>\n",
       "      <td>little</td>\n",
       "      <td>little</td>\n",
       "      <td>7882</td>\n",
       "      <td>42</td>\n",
       "      <td>furniture/equipment</td>\n",
       "      <td>26-50</td>\n",
       "    </tr>\n",
       "    <tr>\n",
       "      <th>4</th>\n",
       "      <td>53</td>\n",
       "      <td>male</td>\n",
       "      <td>2</td>\n",
       "      <td>free</td>\n",
       "      <td>little</td>\n",
       "      <td>little</td>\n",
       "      <td>4870</td>\n",
       "      <td>24</td>\n",
       "      <td>car</td>\n",
       "      <td>51-75</td>\n",
       "    </tr>\n",
       "  </tbody>\n",
       "</table>\n",
       "</div>\n",
       "      <button class=\"colab-df-convert\" onclick=\"convertToInteractive('df-1b28899e-acb9-4912-82ad-db47e65b84af')\"\n",
       "              title=\"Convert this dataframe to an interactive table.\"\n",
       "              style=\"display:none;\">\n",
       "        \n",
       "  <svg xmlns=\"http://www.w3.org/2000/svg\" height=\"24px\"viewBox=\"0 0 24 24\"\n",
       "       width=\"24px\">\n",
       "    <path d=\"M0 0h24v24H0V0z\" fill=\"none\"/>\n",
       "    <path d=\"M18.56 5.44l.94 2.06.94-2.06 2.06-.94-2.06-.94-.94-2.06-.94 2.06-2.06.94zm-11 1L8.5 8.5l.94-2.06 2.06-.94-2.06-.94L8.5 2.5l-.94 2.06-2.06.94zm10 10l.94 2.06.94-2.06 2.06-.94-2.06-.94-.94-2.06-.94 2.06-2.06.94z\"/><path d=\"M17.41 7.96l-1.37-1.37c-.4-.4-.92-.59-1.43-.59-.52 0-1.04.2-1.43.59L10.3 9.45l-7.72 7.72c-.78.78-.78 2.05 0 2.83L4 21.41c.39.39.9.59 1.41.59.51 0 1.02-.2 1.41-.59l7.78-7.78 2.81-2.81c.8-.78.8-2.07 0-2.86zM5.41 20L4 18.59l7.72-7.72 1.47 1.35L5.41 20z\"/>\n",
       "  </svg>\n",
       "      </button>\n",
       "      \n",
       "  <style>\n",
       "    .colab-df-container {\n",
       "      display:flex;\n",
       "      flex-wrap:wrap;\n",
       "      gap: 12px;\n",
       "    }\n",
       "\n",
       "    .colab-df-convert {\n",
       "      background-color: #E8F0FE;\n",
       "      border: none;\n",
       "      border-radius: 50%;\n",
       "      cursor: pointer;\n",
       "      display: none;\n",
       "      fill: #1967D2;\n",
       "      height: 32px;\n",
       "      padding: 0 0 0 0;\n",
       "      width: 32px;\n",
       "    }\n",
       "\n",
       "    .colab-df-convert:hover {\n",
       "      background-color: #E2EBFA;\n",
       "      box-shadow: 0px 1px 2px rgba(60, 64, 67, 0.3), 0px 1px 3px 1px rgba(60, 64, 67, 0.15);\n",
       "      fill: #174EA6;\n",
       "    }\n",
       "\n",
       "    [theme=dark] .colab-df-convert {\n",
       "      background-color: #3B4455;\n",
       "      fill: #D2E3FC;\n",
       "    }\n",
       "\n",
       "    [theme=dark] .colab-df-convert:hover {\n",
       "      background-color: #434B5C;\n",
       "      box-shadow: 0px 1px 3px 1px rgba(0, 0, 0, 0.15);\n",
       "      filter: drop-shadow(0px 1px 2px rgba(0, 0, 0, 0.3));\n",
       "      fill: #FFFFFF;\n",
       "    }\n",
       "  </style>\n",
       "\n",
       "      <script>\n",
       "        const buttonEl =\n",
       "          document.querySelector('#df-1b28899e-acb9-4912-82ad-db47e65b84af button.colab-df-convert');\n",
       "        buttonEl.style.display =\n",
       "          google.colab.kernel.accessAllowed ? 'block' : 'none';\n",
       "\n",
       "        async function convertToInteractive(key) {\n",
       "          const element = document.querySelector('#df-1b28899e-acb9-4912-82ad-db47e65b84af');\n",
       "          const dataTable =\n",
       "            await google.colab.kernel.invokeFunction('convertToInteractive',\n",
       "                                                     [key], {});\n",
       "          if (!dataTable) return;\n",
       "\n",
       "          const docLinkHtml = 'Like what you see? Visit the ' +\n",
       "            '<a target=\"_blank\" href=https://colab.research.google.com/notebooks/data_table.ipynb>data table notebook</a>'\n",
       "            + ' to learn more about interactive tables.';\n",
       "          element.innerHTML = '';\n",
       "          dataTable['output_type'] = 'display_data';\n",
       "          await google.colab.output.renderOutput(dataTable, element);\n",
       "          const docLink = document.createElement('div');\n",
       "          docLink.innerHTML = docLinkHtml;\n",
       "          element.appendChild(docLink);\n",
       "        }\n",
       "      </script>\n",
       "    </div>\n",
       "  </div>\n",
       "  "
      ],
      "text/plain": [
       "   Age     Sex  Job Housing Saving accounts Checking account  Credit amount  \\\n",
       "0   67    male    2     own         unknown           little           1169   \n",
       "1   22  female    2     own          little         moderate           5951   \n",
       "2   49    male    1     own          little          unknown           2096   \n",
       "3   45    male    2    free          little           little           7882   \n",
       "4   53    male    2    free          little           little           4870   \n",
       "\n",
       "   Duration              Purpose Age Cohorte  \n",
       "0         6             radio/TV       51-75  \n",
       "1        48             radio/TV        0-25  \n",
       "2        12            education       26-50  \n",
       "3        42  furniture/equipment       26-50  \n",
       "4        24                  car       51-75  "
      ]
     },
     "execution_count": 224,
     "metadata": {},
     "output_type": "execute_result"
    }
   ],
   "source": [
    "df.head()"
   ]
  },
  {
   "cell_type": "markdown",
   "metadata": {
    "id": "kl3luw1Nswrb"
   },
   "source": [
    "## EDA"
   ]
  },
  {
   "cell_type": "code",
   "execution_count": 225,
   "metadata": {
    "colab": {
     "base_uri": "https://localhost:8080/",
     "height": 456
    },
    "id": "lYGlIuE4q1v9",
    "outputId": "9239f6fd-71c3-409e-c407-628bbb1fe2b1"
   },
   "outputs": [
    {
     "data": {
      "text/html": [
       "\n",
       "  <div id=\"df-86642079-eead-4a92-8838-aa972c46e27a\">\n",
       "    <div class=\"colab-df-container\">\n",
       "      <div>\n",
       "<style scoped>\n",
       "    .dataframe tbody tr th:only-of-type {\n",
       "        vertical-align: middle;\n",
       "    }\n",
       "\n",
       "    .dataframe tbody tr th {\n",
       "        vertical-align: top;\n",
       "    }\n",
       "\n",
       "    .dataframe thead th {\n",
       "        text-align: right;\n",
       "    }\n",
       "</style>\n",
       "<table border=\"1\" class=\"dataframe\">\n",
       "  <thead>\n",
       "    <tr style=\"text-align: right;\">\n",
       "      <th></th>\n",
       "      <th>Age</th>\n",
       "      <th>Sex</th>\n",
       "      <th>Job</th>\n",
       "      <th>Housing</th>\n",
       "      <th>Saving accounts</th>\n",
       "      <th>Checking account</th>\n",
       "      <th>Credit amount</th>\n",
       "      <th>Duration</th>\n",
       "      <th>Purpose</th>\n",
       "      <th>Age Cohorte</th>\n",
       "    </tr>\n",
       "  </thead>\n",
       "  <tbody>\n",
       "    <tr>\n",
       "      <th>count</th>\n",
       "      <td>1000.000000</td>\n",
       "      <td>1000</td>\n",
       "      <td>1000.000000</td>\n",
       "      <td>1000</td>\n",
       "      <td>1000</td>\n",
       "      <td>1000</td>\n",
       "      <td>1000.000000</td>\n",
       "      <td>1000.000000</td>\n",
       "      <td>1000</td>\n",
       "      <td>1000</td>\n",
       "    </tr>\n",
       "    <tr>\n",
       "      <th>unique</th>\n",
       "      <td>NaN</td>\n",
       "      <td>2</td>\n",
       "      <td>NaN</td>\n",
       "      <td>3</td>\n",
       "      <td>5</td>\n",
       "      <td>4</td>\n",
       "      <td>NaN</td>\n",
       "      <td>NaN</td>\n",
       "      <td>8</td>\n",
       "      <td>3</td>\n",
       "    </tr>\n",
       "    <tr>\n",
       "      <th>top</th>\n",
       "      <td>NaN</td>\n",
       "      <td>male</td>\n",
       "      <td>NaN</td>\n",
       "      <td>own</td>\n",
       "      <td>little</td>\n",
       "      <td>unknown</td>\n",
       "      <td>NaN</td>\n",
       "      <td>NaN</td>\n",
       "      <td>car</td>\n",
       "      <td>26-50</td>\n",
       "    </tr>\n",
       "    <tr>\n",
       "      <th>freq</th>\n",
       "      <td>NaN</td>\n",
       "      <td>690</td>\n",
       "      <td>NaN</td>\n",
       "      <td>713</td>\n",
       "      <td>603</td>\n",
       "      <td>394</td>\n",
       "      <td>NaN</td>\n",
       "      <td>NaN</td>\n",
       "      <td>337</td>\n",
       "      <td>697</td>\n",
       "    </tr>\n",
       "    <tr>\n",
       "      <th>mean</th>\n",
       "      <td>35.546000</td>\n",
       "      <td>NaN</td>\n",
       "      <td>1.904000</td>\n",
       "      <td>NaN</td>\n",
       "      <td>NaN</td>\n",
       "      <td>NaN</td>\n",
       "      <td>3271.258000</td>\n",
       "      <td>20.903000</td>\n",
       "      <td>NaN</td>\n",
       "      <td>NaN</td>\n",
       "    </tr>\n",
       "    <tr>\n",
       "      <th>std</th>\n",
       "      <td>11.375469</td>\n",
       "      <td>NaN</td>\n",
       "      <td>0.653614</td>\n",
       "      <td>NaN</td>\n",
       "      <td>NaN</td>\n",
       "      <td>NaN</td>\n",
       "      <td>2822.736876</td>\n",
       "      <td>12.058814</td>\n",
       "      <td>NaN</td>\n",
       "      <td>NaN</td>\n",
       "    </tr>\n",
       "    <tr>\n",
       "      <th>min</th>\n",
       "      <td>19.000000</td>\n",
       "      <td>NaN</td>\n",
       "      <td>0.000000</td>\n",
       "      <td>NaN</td>\n",
       "      <td>NaN</td>\n",
       "      <td>NaN</td>\n",
       "      <td>250.000000</td>\n",
       "      <td>4.000000</td>\n",
       "      <td>NaN</td>\n",
       "      <td>NaN</td>\n",
       "    </tr>\n",
       "    <tr>\n",
       "      <th>25%</th>\n",
       "      <td>27.000000</td>\n",
       "      <td>NaN</td>\n",
       "      <td>2.000000</td>\n",
       "      <td>NaN</td>\n",
       "      <td>NaN</td>\n",
       "      <td>NaN</td>\n",
       "      <td>1365.500000</td>\n",
       "      <td>12.000000</td>\n",
       "      <td>NaN</td>\n",
       "      <td>NaN</td>\n",
       "    </tr>\n",
       "    <tr>\n",
       "      <th>50%</th>\n",
       "      <td>33.000000</td>\n",
       "      <td>NaN</td>\n",
       "      <td>2.000000</td>\n",
       "      <td>NaN</td>\n",
       "      <td>NaN</td>\n",
       "      <td>NaN</td>\n",
       "      <td>2319.500000</td>\n",
       "      <td>18.000000</td>\n",
       "      <td>NaN</td>\n",
       "      <td>NaN</td>\n",
       "    </tr>\n",
       "    <tr>\n",
       "      <th>75%</th>\n",
       "      <td>42.000000</td>\n",
       "      <td>NaN</td>\n",
       "      <td>2.000000</td>\n",
       "      <td>NaN</td>\n",
       "      <td>NaN</td>\n",
       "      <td>NaN</td>\n",
       "      <td>3972.250000</td>\n",
       "      <td>24.000000</td>\n",
       "      <td>NaN</td>\n",
       "      <td>NaN</td>\n",
       "    </tr>\n",
       "    <tr>\n",
       "      <th>max</th>\n",
       "      <td>75.000000</td>\n",
       "      <td>NaN</td>\n",
       "      <td>3.000000</td>\n",
       "      <td>NaN</td>\n",
       "      <td>NaN</td>\n",
       "      <td>NaN</td>\n",
       "      <td>18424.000000</td>\n",
       "      <td>72.000000</td>\n",
       "      <td>NaN</td>\n",
       "      <td>NaN</td>\n",
       "    </tr>\n",
       "  </tbody>\n",
       "</table>\n",
       "</div>\n",
       "      <button class=\"colab-df-convert\" onclick=\"convertToInteractive('df-86642079-eead-4a92-8838-aa972c46e27a')\"\n",
       "              title=\"Convert this dataframe to an interactive table.\"\n",
       "              style=\"display:none;\">\n",
       "        \n",
       "  <svg xmlns=\"http://www.w3.org/2000/svg\" height=\"24px\"viewBox=\"0 0 24 24\"\n",
       "       width=\"24px\">\n",
       "    <path d=\"M0 0h24v24H0V0z\" fill=\"none\"/>\n",
       "    <path d=\"M18.56 5.44l.94 2.06.94-2.06 2.06-.94-2.06-.94-.94-2.06-.94 2.06-2.06.94zm-11 1L8.5 8.5l.94-2.06 2.06-.94-2.06-.94L8.5 2.5l-.94 2.06-2.06.94zm10 10l.94 2.06.94-2.06 2.06-.94-2.06-.94-.94-2.06-.94 2.06-2.06.94z\"/><path d=\"M17.41 7.96l-1.37-1.37c-.4-.4-.92-.59-1.43-.59-.52 0-1.04.2-1.43.59L10.3 9.45l-7.72 7.72c-.78.78-.78 2.05 0 2.83L4 21.41c.39.39.9.59 1.41.59.51 0 1.02-.2 1.41-.59l7.78-7.78 2.81-2.81c.8-.78.8-2.07 0-2.86zM5.41 20L4 18.59l7.72-7.72 1.47 1.35L5.41 20z\"/>\n",
       "  </svg>\n",
       "      </button>\n",
       "      \n",
       "  <style>\n",
       "    .colab-df-container {\n",
       "      display:flex;\n",
       "      flex-wrap:wrap;\n",
       "      gap: 12px;\n",
       "    }\n",
       "\n",
       "    .colab-df-convert {\n",
       "      background-color: #E8F0FE;\n",
       "      border: none;\n",
       "      border-radius: 50%;\n",
       "      cursor: pointer;\n",
       "      display: none;\n",
       "      fill: #1967D2;\n",
       "      height: 32px;\n",
       "      padding: 0 0 0 0;\n",
       "      width: 32px;\n",
       "    }\n",
       "\n",
       "    .colab-df-convert:hover {\n",
       "      background-color: #E2EBFA;\n",
       "      box-shadow: 0px 1px 2px rgba(60, 64, 67, 0.3), 0px 1px 3px 1px rgba(60, 64, 67, 0.15);\n",
       "      fill: #174EA6;\n",
       "    }\n",
       "\n",
       "    [theme=dark] .colab-df-convert {\n",
       "      background-color: #3B4455;\n",
       "      fill: #D2E3FC;\n",
       "    }\n",
       "\n",
       "    [theme=dark] .colab-df-convert:hover {\n",
       "      background-color: #434B5C;\n",
       "      box-shadow: 0px 1px 3px 1px rgba(0, 0, 0, 0.15);\n",
       "      filter: drop-shadow(0px 1px 2px rgba(0, 0, 0, 0.3));\n",
       "      fill: #FFFFFF;\n",
       "    }\n",
       "  </style>\n",
       "\n",
       "      <script>\n",
       "        const buttonEl =\n",
       "          document.querySelector('#df-86642079-eead-4a92-8838-aa972c46e27a button.colab-df-convert');\n",
       "        buttonEl.style.display =\n",
       "          google.colab.kernel.accessAllowed ? 'block' : 'none';\n",
       "\n",
       "        async function convertToInteractive(key) {\n",
       "          const element = document.querySelector('#df-86642079-eead-4a92-8838-aa972c46e27a');\n",
       "          const dataTable =\n",
       "            await google.colab.kernel.invokeFunction('convertToInteractive',\n",
       "                                                     [key], {});\n",
       "          if (!dataTable) return;\n",
       "\n",
       "          const docLinkHtml = 'Like what you see? Visit the ' +\n",
       "            '<a target=\"_blank\" href=https://colab.research.google.com/notebooks/data_table.ipynb>data table notebook</a>'\n",
       "            + ' to learn more about interactive tables.';\n",
       "          element.innerHTML = '';\n",
       "          dataTable['output_type'] = 'display_data';\n",
       "          await google.colab.output.renderOutput(dataTable, element);\n",
       "          const docLink = document.createElement('div');\n",
       "          docLink.innerHTML = docLinkHtml;\n",
       "          element.appendChild(docLink);\n",
       "        }\n",
       "      </script>\n",
       "    </div>\n",
       "  </div>\n",
       "  "
      ],
      "text/plain": [
       "                Age   Sex          Job Housing Saving accounts  \\\n",
       "count   1000.000000  1000  1000.000000    1000            1000   \n",
       "unique          NaN     2          NaN       3               5   \n",
       "top             NaN  male          NaN     own          little   \n",
       "freq            NaN   690          NaN     713             603   \n",
       "mean      35.546000   NaN     1.904000     NaN             NaN   \n",
       "std       11.375469   NaN     0.653614     NaN             NaN   \n",
       "min       19.000000   NaN     0.000000     NaN             NaN   \n",
       "25%       27.000000   NaN     2.000000     NaN             NaN   \n",
       "50%       33.000000   NaN     2.000000     NaN             NaN   \n",
       "75%       42.000000   NaN     2.000000     NaN             NaN   \n",
       "max       75.000000   NaN     3.000000     NaN             NaN   \n",
       "\n",
       "       Checking account  Credit amount     Duration Purpose Age Cohorte  \n",
       "count              1000    1000.000000  1000.000000    1000        1000  \n",
       "unique                4            NaN          NaN       8           3  \n",
       "top             unknown            NaN          NaN     car       26-50  \n",
       "freq                394            NaN          NaN     337         697  \n",
       "mean                NaN    3271.258000    20.903000     NaN         NaN  \n",
       "std                 NaN    2822.736876    12.058814     NaN         NaN  \n",
       "min                 NaN     250.000000     4.000000     NaN         NaN  \n",
       "25%                 NaN    1365.500000    12.000000     NaN         NaN  \n",
       "50%                 NaN    2319.500000    18.000000     NaN         NaN  \n",
       "75%                 NaN    3972.250000    24.000000     NaN         NaN  \n",
       "max                 NaN   18424.000000    72.000000     NaN         NaN  "
      ]
     },
     "execution_count": 225,
     "metadata": {},
     "output_type": "execute_result"
    }
   ],
   "source": [
    "df.describe(include='all')"
   ]
  },
  {
   "cell_type": "code",
   "execution_count": 225,
   "metadata": {
    "id": "-isdLag_Tgbe"
   },
   "outputs": [],
   "source": []
  },
  {
   "cell_type": "code",
   "execution_count": 226,
   "metadata": {
    "colab": {
     "base_uri": "https://localhost:8080/",
     "height": 542
    },
    "id": "Yc6unqhMrxHp",
    "outputId": "06afc7d7-feac-4464-adf2-43e324a0aaab"
   },
   "outputs": [
    {
     "data": {
      "text/html": [
       "<html>\n",
       "<head><meta charset=\"utf-8\" /></head>\n",
       "<body>\n",
       "    <div>            <script src=\"https://cdnjs.cloudflare.com/ajax/libs/mathjax/2.7.5/MathJax.js?config=TeX-AMS-MML_SVG\"></script><script type=\"text/javascript\">if (window.MathJax) {MathJax.Hub.Config({SVG: {font: \"STIX-Web\"}});}</script>                <script type=\"text/javascript\">window.PlotlyConfig = {MathJaxConfig: 'local'};</script>\n",
       "        <script src=\"https://cdn.plot.ly/plotly-2.8.3.min.js\"></script>                <div id=\"4d6dac54-3c69-4e29-8485-19cfe4209255\" class=\"plotly-graph-div\" style=\"height:525px; width:100%;\"></div>            <script type=\"text/javascript\">                                    window.PLOTLYENV=window.PLOTLYENV || {};                                    if (document.getElementById(\"4d6dac54-3c69-4e29-8485-19cfe4209255\")) {                    Plotly.newPlot(                        \"4d6dac54-3c69-4e29-8485-19cfe4209255\",                        [{\"alignmentgroup\":\"True\",\"hovertemplate\":\"Sex=%{x}<br>number_sex=%{y}<extra></extra>\",\"legendgroup\":\"\",\"marker\":{\"color\":\"#636efa\",\"pattern\":{\"shape\":\"\"}},\"name\":\"\",\"offsetgroup\":\"\",\"orientation\":\"v\",\"showlegend\":false,\"textposition\":\"auto\",\"x\":[\"male\",\"female\"],\"xaxis\":\"x\",\"y\":[690,310],\"yaxis\":\"y\",\"type\":\"bar\"}],                        {\"template\":{\"data\":{\"bar\":[{\"error_x\":{\"color\":\"#f2f5fa\"},\"error_y\":{\"color\":\"#f2f5fa\"},\"marker\":{\"line\":{\"color\":\"rgb(17,17,17)\",\"width\":0.5},\"pattern\":{\"fillmode\":\"overlay\",\"size\":10,\"solidity\":0.2}},\"type\":\"bar\"}],\"barpolar\":[{\"marker\":{\"line\":{\"color\":\"rgb(17,17,17)\",\"width\":0.5},\"pattern\":{\"fillmode\":\"overlay\",\"size\":10,\"solidity\":0.2}},\"type\":\"barpolar\"}],\"carpet\":[{\"aaxis\":{\"endlinecolor\":\"#A2B1C6\",\"gridcolor\":\"#506784\",\"linecolor\":\"#506784\",\"minorgridcolor\":\"#506784\",\"startlinecolor\":\"#A2B1C6\"},\"baxis\":{\"endlinecolor\":\"#A2B1C6\",\"gridcolor\":\"#506784\",\"linecolor\":\"#506784\",\"minorgridcolor\":\"#506784\",\"startlinecolor\":\"#A2B1C6\"},\"type\":\"carpet\"}],\"choropleth\":[{\"colorbar\":{\"outlinewidth\":0,\"ticks\":\"\"},\"type\":\"choropleth\"}],\"contour\":[{\"colorbar\":{\"outlinewidth\":0,\"ticks\":\"\"},\"colorscale\":[[0.0,\"#0d0887\"],[0.1111111111111111,\"#46039f\"],[0.2222222222222222,\"#7201a8\"],[0.3333333333333333,\"#9c179e\"],[0.4444444444444444,\"#bd3786\"],[0.5555555555555556,\"#d8576b\"],[0.6666666666666666,\"#ed7953\"],[0.7777777777777778,\"#fb9f3a\"],[0.8888888888888888,\"#fdca26\"],[1.0,\"#f0f921\"]],\"type\":\"contour\"}],\"contourcarpet\":[{\"colorbar\":{\"outlinewidth\":0,\"ticks\":\"\"},\"type\":\"contourcarpet\"}],\"heatmap\":[{\"colorbar\":{\"outlinewidth\":0,\"ticks\":\"\"},\"colorscale\":[[0.0,\"#0d0887\"],[0.1111111111111111,\"#46039f\"],[0.2222222222222222,\"#7201a8\"],[0.3333333333333333,\"#9c179e\"],[0.4444444444444444,\"#bd3786\"],[0.5555555555555556,\"#d8576b\"],[0.6666666666666666,\"#ed7953\"],[0.7777777777777778,\"#fb9f3a\"],[0.8888888888888888,\"#fdca26\"],[1.0,\"#f0f921\"]],\"type\":\"heatmap\"}],\"heatmapgl\":[{\"colorbar\":{\"outlinewidth\":0,\"ticks\":\"\"},\"colorscale\":[[0.0,\"#0d0887\"],[0.1111111111111111,\"#46039f\"],[0.2222222222222222,\"#7201a8\"],[0.3333333333333333,\"#9c179e\"],[0.4444444444444444,\"#bd3786\"],[0.5555555555555556,\"#d8576b\"],[0.6666666666666666,\"#ed7953\"],[0.7777777777777778,\"#fb9f3a\"],[0.8888888888888888,\"#fdca26\"],[1.0,\"#f0f921\"]],\"type\":\"heatmapgl\"}],\"histogram\":[{\"marker\":{\"pattern\":{\"fillmode\":\"overlay\",\"size\":10,\"solidity\":0.2}},\"type\":\"histogram\"}],\"histogram2d\":[{\"colorbar\":{\"outlinewidth\":0,\"ticks\":\"\"},\"colorscale\":[[0.0,\"#0d0887\"],[0.1111111111111111,\"#46039f\"],[0.2222222222222222,\"#7201a8\"],[0.3333333333333333,\"#9c179e\"],[0.4444444444444444,\"#bd3786\"],[0.5555555555555556,\"#d8576b\"],[0.6666666666666666,\"#ed7953\"],[0.7777777777777778,\"#fb9f3a\"],[0.8888888888888888,\"#fdca26\"],[1.0,\"#f0f921\"]],\"type\":\"histogram2d\"}],\"histogram2dcontour\":[{\"colorbar\":{\"outlinewidth\":0,\"ticks\":\"\"},\"colorscale\":[[0.0,\"#0d0887\"],[0.1111111111111111,\"#46039f\"],[0.2222222222222222,\"#7201a8\"],[0.3333333333333333,\"#9c179e\"],[0.4444444444444444,\"#bd3786\"],[0.5555555555555556,\"#d8576b\"],[0.6666666666666666,\"#ed7953\"],[0.7777777777777778,\"#fb9f3a\"],[0.8888888888888888,\"#fdca26\"],[1.0,\"#f0f921\"]],\"type\":\"histogram2dcontour\"}],\"mesh3d\":[{\"colorbar\":{\"outlinewidth\":0,\"ticks\":\"\"},\"type\":\"mesh3d\"}],\"parcoords\":[{\"line\":{\"colorbar\":{\"outlinewidth\":0,\"ticks\":\"\"}},\"type\":\"parcoords\"}],\"pie\":[{\"automargin\":true,\"type\":\"pie\"}],\"scatter\":[{\"marker\":{\"line\":{\"color\":\"#283442\"}},\"type\":\"scatter\"}],\"scatter3d\":[{\"line\":{\"colorbar\":{\"outlinewidth\":0,\"ticks\":\"\"}},\"marker\":{\"colorbar\":{\"outlinewidth\":0,\"ticks\":\"\"}},\"type\":\"scatter3d\"}],\"scattercarpet\":[{\"marker\":{\"colorbar\":{\"outlinewidth\":0,\"ticks\":\"\"}},\"type\":\"scattercarpet\"}],\"scattergeo\":[{\"marker\":{\"colorbar\":{\"outlinewidth\":0,\"ticks\":\"\"}},\"type\":\"scattergeo\"}],\"scattergl\":[{\"marker\":{\"line\":{\"color\":\"#283442\"}},\"type\":\"scattergl\"}],\"scattermapbox\":[{\"marker\":{\"colorbar\":{\"outlinewidth\":0,\"ticks\":\"\"}},\"type\":\"scattermapbox\"}],\"scatterpolar\":[{\"marker\":{\"colorbar\":{\"outlinewidth\":0,\"ticks\":\"\"}},\"type\":\"scatterpolar\"}],\"scatterpolargl\":[{\"marker\":{\"colorbar\":{\"outlinewidth\":0,\"ticks\":\"\"}},\"type\":\"scatterpolargl\"}],\"scatterternary\":[{\"marker\":{\"colorbar\":{\"outlinewidth\":0,\"ticks\":\"\"}},\"type\":\"scatterternary\"}],\"surface\":[{\"colorbar\":{\"outlinewidth\":0,\"ticks\":\"\"},\"colorscale\":[[0.0,\"#0d0887\"],[0.1111111111111111,\"#46039f\"],[0.2222222222222222,\"#7201a8\"],[0.3333333333333333,\"#9c179e\"],[0.4444444444444444,\"#bd3786\"],[0.5555555555555556,\"#d8576b\"],[0.6666666666666666,\"#ed7953\"],[0.7777777777777778,\"#fb9f3a\"],[0.8888888888888888,\"#fdca26\"],[1.0,\"#f0f921\"]],\"type\":\"surface\"}],\"table\":[{\"cells\":{\"fill\":{\"color\":\"#506784\"},\"line\":{\"color\":\"rgb(17,17,17)\"}},\"header\":{\"fill\":{\"color\":\"#2a3f5f\"},\"line\":{\"color\":\"rgb(17,17,17)\"}},\"type\":\"table\"}]},\"layout\":{\"annotationdefaults\":{\"arrowcolor\":\"#f2f5fa\",\"arrowhead\":0,\"arrowwidth\":1},\"autotypenumbers\":\"strict\",\"coloraxis\":{\"colorbar\":{\"outlinewidth\":0,\"ticks\":\"\"}},\"colorscale\":{\"diverging\":[[0,\"#8e0152\"],[0.1,\"#c51b7d\"],[0.2,\"#de77ae\"],[0.3,\"#f1b6da\"],[0.4,\"#fde0ef\"],[0.5,\"#f7f7f7\"],[0.6,\"#e6f5d0\"],[0.7,\"#b8e186\"],[0.8,\"#7fbc41\"],[0.9,\"#4d9221\"],[1,\"#276419\"]],\"sequential\":[[0.0,\"#0d0887\"],[0.1111111111111111,\"#46039f\"],[0.2222222222222222,\"#7201a8\"],[0.3333333333333333,\"#9c179e\"],[0.4444444444444444,\"#bd3786\"],[0.5555555555555556,\"#d8576b\"],[0.6666666666666666,\"#ed7953\"],[0.7777777777777778,\"#fb9f3a\"],[0.8888888888888888,\"#fdca26\"],[1.0,\"#f0f921\"]],\"sequentialminus\":[[0.0,\"#0d0887\"],[0.1111111111111111,\"#46039f\"],[0.2222222222222222,\"#7201a8\"],[0.3333333333333333,\"#9c179e\"],[0.4444444444444444,\"#bd3786\"],[0.5555555555555556,\"#d8576b\"],[0.6666666666666666,\"#ed7953\"],[0.7777777777777778,\"#fb9f3a\"],[0.8888888888888888,\"#fdca26\"],[1.0,\"#f0f921\"]]},\"colorway\":[\"#636efa\",\"#EF553B\",\"#00cc96\",\"#ab63fa\",\"#FFA15A\",\"#19d3f3\",\"#FF6692\",\"#B6E880\",\"#FF97FF\",\"#FECB52\"],\"font\":{\"color\":\"#f2f5fa\"},\"geo\":{\"bgcolor\":\"rgb(17,17,17)\",\"lakecolor\":\"rgb(17,17,17)\",\"landcolor\":\"rgb(17,17,17)\",\"showlakes\":true,\"showland\":true,\"subunitcolor\":\"#506784\"},\"hoverlabel\":{\"align\":\"left\"},\"hovermode\":\"closest\",\"mapbox\":{\"style\":\"dark\"},\"paper_bgcolor\":\"rgb(17,17,17)\",\"plot_bgcolor\":\"rgb(17,17,17)\",\"polar\":{\"angularaxis\":{\"gridcolor\":\"#506784\",\"linecolor\":\"#506784\",\"ticks\":\"\"},\"bgcolor\":\"rgb(17,17,17)\",\"radialaxis\":{\"gridcolor\":\"#506784\",\"linecolor\":\"#506784\",\"ticks\":\"\"}},\"scene\":{\"xaxis\":{\"backgroundcolor\":\"rgb(17,17,17)\",\"gridcolor\":\"#506784\",\"gridwidth\":2,\"linecolor\":\"#506784\",\"showbackground\":true,\"ticks\":\"\",\"zerolinecolor\":\"#C8D4E3\"},\"yaxis\":{\"backgroundcolor\":\"rgb(17,17,17)\",\"gridcolor\":\"#506784\",\"gridwidth\":2,\"linecolor\":\"#506784\",\"showbackground\":true,\"ticks\":\"\",\"zerolinecolor\":\"#C8D4E3\"},\"zaxis\":{\"backgroundcolor\":\"rgb(17,17,17)\",\"gridcolor\":\"#506784\",\"gridwidth\":2,\"linecolor\":\"#506784\",\"showbackground\":true,\"ticks\":\"\",\"zerolinecolor\":\"#C8D4E3\"}},\"shapedefaults\":{\"line\":{\"color\":\"#f2f5fa\"}},\"sliderdefaults\":{\"bgcolor\":\"#C8D4E3\",\"bordercolor\":\"rgb(17,17,17)\",\"borderwidth\":1,\"tickwidth\":0},\"ternary\":{\"aaxis\":{\"gridcolor\":\"#506784\",\"linecolor\":\"#506784\",\"ticks\":\"\"},\"baxis\":{\"gridcolor\":\"#506784\",\"linecolor\":\"#506784\",\"ticks\":\"\"},\"bgcolor\":\"rgb(17,17,17)\",\"caxis\":{\"gridcolor\":\"#506784\",\"linecolor\":\"#506784\",\"ticks\":\"\"}},\"title\":{\"x\":0.05},\"updatemenudefaults\":{\"bgcolor\":\"#506784\",\"borderwidth\":0},\"xaxis\":{\"automargin\":true,\"gridcolor\":\"#283442\",\"linecolor\":\"#506784\",\"ticks\":\"\",\"title\":{\"standoff\":15},\"zerolinecolor\":\"#283442\",\"zerolinewidth\":2},\"yaxis\":{\"automargin\":true,\"gridcolor\":\"#283442\",\"linecolor\":\"#506784\",\"ticks\":\"\",\"title\":{\"standoff\":15},\"zerolinecolor\":\"#283442\",\"zerolinewidth\":2}}},\"xaxis\":{\"anchor\":\"y\",\"domain\":[0.0,1.0],\"title\":{\"text\":\"Sex\"}},\"yaxis\":{\"anchor\":\"x\",\"domain\":[0.0,1.0],\"title\":{\"text\":\"number_sex\"}},\"legend\":{\"tracegroupgap\":0},\"title\":{\"text\":\"Number of people per sex\"},\"barmode\":\"relative\"},                        {\"responsive\": true}                    ).then(function(){\n",
       "                            \n",
       "var gd = document.getElementById('4d6dac54-3c69-4e29-8485-19cfe4209255');\n",
       "var x = new MutationObserver(function (mutations, observer) {{\n",
       "        var display = window.getComputedStyle(gd).display;\n",
       "        if (!display || display === 'none') {{\n",
       "            console.log([gd, 'removed!']);\n",
       "            Plotly.purge(gd);\n",
       "            observer.disconnect();\n",
       "        }}\n",
       "}});\n",
       "\n",
       "// Listen for the removal of the full notebook cells\n",
       "var notebookContainer = gd.closest('#notebook-container');\n",
       "if (notebookContainer) {{\n",
       "    x.observe(notebookContainer, {childList: true});\n",
       "}}\n",
       "\n",
       "// Listen for the clearing of the current output cell\n",
       "var outputEl = gd.closest('.output');\n",
       "if (outputEl) {{\n",
       "    x.observe(outputEl, {childList: true});\n",
       "}}\n",
       "\n",
       "                        })                };                            </script>        </div>\n",
       "</body>\n",
       "</html>"
      ]
     },
     "metadata": {},
     "output_type": "display_data"
    }
   ],
   "source": [
    "sex_count = df['Sex'].value_counts().reset_index()\n",
    "sex_count = sex_count.rename(columns={'index': 'Sex', 'Sex':'number_sex'})\n",
    "\n",
    "px.bar(sex_count, x='Sex', y='number_sex', title='Number of people per sex')"
   ]
  },
  {
   "cell_type": "code",
   "execution_count": 227,
   "metadata": {
    "colab": {
     "base_uri": "https://localhost:8080/",
     "height": 559
    },
    "id": "ThaqJH2XE6Yr",
    "outputId": "c3775751-060c-47a9-806c-812a3d38312d"
   },
   "outputs": [
    {
     "data": {
      "text/html": [
       "<html>\n",
       "<head><meta charset=\"utf-8\" /></head>\n",
       "<body>\n",
       "    <div>            <script src=\"https://cdnjs.cloudflare.com/ajax/libs/mathjax/2.7.5/MathJax.js?config=TeX-AMS-MML_SVG\"></script><script type=\"text/javascript\">if (window.MathJax) {MathJax.Hub.Config({SVG: {font: \"STIX-Web\"}});}</script>                <script type=\"text/javascript\">window.PlotlyConfig = {MathJaxConfig: 'local'};</script>\n",
       "        <script src=\"https://cdn.plot.ly/plotly-2.8.3.min.js\"></script>                <div id=\"98bfcafe-e525-4d53-bbde-cf6ab1da19ad\" class=\"plotly-graph-div\" style=\"height:525px; width:100%;\"></div>            <script type=\"text/javascript\">                                    window.PLOTLYENV=window.PLOTLYENV || {};                                    if (document.getElementById(\"98bfcafe-e525-4d53-bbde-cf6ab1da19ad\")) {                    Plotly.newPlot(                        \"98bfcafe-e525-4d53-bbde-cf6ab1da19ad\",                        [{\"alignmentgroup\":\"True\",\"hovertemplate\":\"Purpose=%{x}<br>Credit amount=%{y}<extra></extra>\",\"legendgroup\":\"\",\"marker\":{\"color\":\"#636efa\",\"pattern\":{\"shape\":\"\"}},\"name\":\"\",\"offsetgroup\":\"\",\"orientation\":\"v\",\"showlegend\":false,\"textposition\":\"auto\",\"x\":[\"business\",\"car\",\"domestic appliances\",\"education\",\"furniture/equipment\",\"radio/TV\",\"repairs\",\"vacation/others\"],\"xaxis\":\"x\",\"y\":[97,337,12,59,181,280,22,12],\"yaxis\":\"y\",\"type\":\"bar\"}],                        {\"template\":{\"data\":{\"bar\":[{\"error_x\":{\"color\":\"#f2f5fa\"},\"error_y\":{\"color\":\"#f2f5fa\"},\"marker\":{\"line\":{\"color\":\"rgb(17,17,17)\",\"width\":0.5},\"pattern\":{\"fillmode\":\"overlay\",\"size\":10,\"solidity\":0.2}},\"type\":\"bar\"}],\"barpolar\":[{\"marker\":{\"line\":{\"color\":\"rgb(17,17,17)\",\"width\":0.5},\"pattern\":{\"fillmode\":\"overlay\",\"size\":10,\"solidity\":0.2}},\"type\":\"barpolar\"}],\"carpet\":[{\"aaxis\":{\"endlinecolor\":\"#A2B1C6\",\"gridcolor\":\"#506784\",\"linecolor\":\"#506784\",\"minorgridcolor\":\"#506784\",\"startlinecolor\":\"#A2B1C6\"},\"baxis\":{\"endlinecolor\":\"#A2B1C6\",\"gridcolor\":\"#506784\",\"linecolor\":\"#506784\",\"minorgridcolor\":\"#506784\",\"startlinecolor\":\"#A2B1C6\"},\"type\":\"carpet\"}],\"choropleth\":[{\"colorbar\":{\"outlinewidth\":0,\"ticks\":\"\"},\"type\":\"choropleth\"}],\"contour\":[{\"colorbar\":{\"outlinewidth\":0,\"ticks\":\"\"},\"colorscale\":[[0.0,\"#0d0887\"],[0.1111111111111111,\"#46039f\"],[0.2222222222222222,\"#7201a8\"],[0.3333333333333333,\"#9c179e\"],[0.4444444444444444,\"#bd3786\"],[0.5555555555555556,\"#d8576b\"],[0.6666666666666666,\"#ed7953\"],[0.7777777777777778,\"#fb9f3a\"],[0.8888888888888888,\"#fdca26\"],[1.0,\"#f0f921\"]],\"type\":\"contour\"}],\"contourcarpet\":[{\"colorbar\":{\"outlinewidth\":0,\"ticks\":\"\"},\"type\":\"contourcarpet\"}],\"heatmap\":[{\"colorbar\":{\"outlinewidth\":0,\"ticks\":\"\"},\"colorscale\":[[0.0,\"#0d0887\"],[0.1111111111111111,\"#46039f\"],[0.2222222222222222,\"#7201a8\"],[0.3333333333333333,\"#9c179e\"],[0.4444444444444444,\"#bd3786\"],[0.5555555555555556,\"#d8576b\"],[0.6666666666666666,\"#ed7953\"],[0.7777777777777778,\"#fb9f3a\"],[0.8888888888888888,\"#fdca26\"],[1.0,\"#f0f921\"]],\"type\":\"heatmap\"}],\"heatmapgl\":[{\"colorbar\":{\"outlinewidth\":0,\"ticks\":\"\"},\"colorscale\":[[0.0,\"#0d0887\"],[0.1111111111111111,\"#46039f\"],[0.2222222222222222,\"#7201a8\"],[0.3333333333333333,\"#9c179e\"],[0.4444444444444444,\"#bd3786\"],[0.5555555555555556,\"#d8576b\"],[0.6666666666666666,\"#ed7953\"],[0.7777777777777778,\"#fb9f3a\"],[0.8888888888888888,\"#fdca26\"],[1.0,\"#f0f921\"]],\"type\":\"heatmapgl\"}],\"histogram\":[{\"marker\":{\"pattern\":{\"fillmode\":\"overlay\",\"size\":10,\"solidity\":0.2}},\"type\":\"histogram\"}],\"histogram2d\":[{\"colorbar\":{\"outlinewidth\":0,\"ticks\":\"\"},\"colorscale\":[[0.0,\"#0d0887\"],[0.1111111111111111,\"#46039f\"],[0.2222222222222222,\"#7201a8\"],[0.3333333333333333,\"#9c179e\"],[0.4444444444444444,\"#bd3786\"],[0.5555555555555556,\"#d8576b\"],[0.6666666666666666,\"#ed7953\"],[0.7777777777777778,\"#fb9f3a\"],[0.8888888888888888,\"#fdca26\"],[1.0,\"#f0f921\"]],\"type\":\"histogram2d\"}],\"histogram2dcontour\":[{\"colorbar\":{\"outlinewidth\":0,\"ticks\":\"\"},\"colorscale\":[[0.0,\"#0d0887\"],[0.1111111111111111,\"#46039f\"],[0.2222222222222222,\"#7201a8\"],[0.3333333333333333,\"#9c179e\"],[0.4444444444444444,\"#bd3786\"],[0.5555555555555556,\"#d8576b\"],[0.6666666666666666,\"#ed7953\"],[0.7777777777777778,\"#fb9f3a\"],[0.8888888888888888,\"#fdca26\"],[1.0,\"#f0f921\"]],\"type\":\"histogram2dcontour\"}],\"mesh3d\":[{\"colorbar\":{\"outlinewidth\":0,\"ticks\":\"\"},\"type\":\"mesh3d\"}],\"parcoords\":[{\"line\":{\"colorbar\":{\"outlinewidth\":0,\"ticks\":\"\"}},\"type\":\"parcoords\"}],\"pie\":[{\"automargin\":true,\"type\":\"pie\"}],\"scatter\":[{\"marker\":{\"line\":{\"color\":\"#283442\"}},\"type\":\"scatter\"}],\"scatter3d\":[{\"line\":{\"colorbar\":{\"outlinewidth\":0,\"ticks\":\"\"}},\"marker\":{\"colorbar\":{\"outlinewidth\":0,\"ticks\":\"\"}},\"type\":\"scatter3d\"}],\"scattercarpet\":[{\"marker\":{\"colorbar\":{\"outlinewidth\":0,\"ticks\":\"\"}},\"type\":\"scattercarpet\"}],\"scattergeo\":[{\"marker\":{\"colorbar\":{\"outlinewidth\":0,\"ticks\":\"\"}},\"type\":\"scattergeo\"}],\"scattergl\":[{\"marker\":{\"line\":{\"color\":\"#283442\"}},\"type\":\"scattergl\"}],\"scattermapbox\":[{\"marker\":{\"colorbar\":{\"outlinewidth\":0,\"ticks\":\"\"}},\"type\":\"scattermapbox\"}],\"scatterpolar\":[{\"marker\":{\"colorbar\":{\"outlinewidth\":0,\"ticks\":\"\"}},\"type\":\"scatterpolar\"}],\"scatterpolargl\":[{\"marker\":{\"colorbar\":{\"outlinewidth\":0,\"ticks\":\"\"}},\"type\":\"scatterpolargl\"}],\"scatterternary\":[{\"marker\":{\"colorbar\":{\"outlinewidth\":0,\"ticks\":\"\"}},\"type\":\"scatterternary\"}],\"surface\":[{\"colorbar\":{\"outlinewidth\":0,\"ticks\":\"\"},\"colorscale\":[[0.0,\"#0d0887\"],[0.1111111111111111,\"#46039f\"],[0.2222222222222222,\"#7201a8\"],[0.3333333333333333,\"#9c179e\"],[0.4444444444444444,\"#bd3786\"],[0.5555555555555556,\"#d8576b\"],[0.6666666666666666,\"#ed7953\"],[0.7777777777777778,\"#fb9f3a\"],[0.8888888888888888,\"#fdca26\"],[1.0,\"#f0f921\"]],\"type\":\"surface\"}],\"table\":[{\"cells\":{\"fill\":{\"color\":\"#506784\"},\"line\":{\"color\":\"rgb(17,17,17)\"}},\"header\":{\"fill\":{\"color\":\"#2a3f5f\"},\"line\":{\"color\":\"rgb(17,17,17)\"}},\"type\":\"table\"}]},\"layout\":{\"annotationdefaults\":{\"arrowcolor\":\"#f2f5fa\",\"arrowhead\":0,\"arrowwidth\":1},\"autotypenumbers\":\"strict\",\"coloraxis\":{\"colorbar\":{\"outlinewidth\":0,\"ticks\":\"\"}},\"colorscale\":{\"diverging\":[[0,\"#8e0152\"],[0.1,\"#c51b7d\"],[0.2,\"#de77ae\"],[0.3,\"#f1b6da\"],[0.4,\"#fde0ef\"],[0.5,\"#f7f7f7\"],[0.6,\"#e6f5d0\"],[0.7,\"#b8e186\"],[0.8,\"#7fbc41\"],[0.9,\"#4d9221\"],[1,\"#276419\"]],\"sequential\":[[0.0,\"#0d0887\"],[0.1111111111111111,\"#46039f\"],[0.2222222222222222,\"#7201a8\"],[0.3333333333333333,\"#9c179e\"],[0.4444444444444444,\"#bd3786\"],[0.5555555555555556,\"#d8576b\"],[0.6666666666666666,\"#ed7953\"],[0.7777777777777778,\"#fb9f3a\"],[0.8888888888888888,\"#fdca26\"],[1.0,\"#f0f921\"]],\"sequentialminus\":[[0.0,\"#0d0887\"],[0.1111111111111111,\"#46039f\"],[0.2222222222222222,\"#7201a8\"],[0.3333333333333333,\"#9c179e\"],[0.4444444444444444,\"#bd3786\"],[0.5555555555555556,\"#d8576b\"],[0.6666666666666666,\"#ed7953\"],[0.7777777777777778,\"#fb9f3a\"],[0.8888888888888888,\"#fdca26\"],[1.0,\"#f0f921\"]]},\"colorway\":[\"#636efa\",\"#EF553B\",\"#00cc96\",\"#ab63fa\",\"#FFA15A\",\"#19d3f3\",\"#FF6692\",\"#B6E880\",\"#FF97FF\",\"#FECB52\"],\"font\":{\"color\":\"#f2f5fa\"},\"geo\":{\"bgcolor\":\"rgb(17,17,17)\",\"lakecolor\":\"rgb(17,17,17)\",\"landcolor\":\"rgb(17,17,17)\",\"showlakes\":true,\"showland\":true,\"subunitcolor\":\"#506784\"},\"hoverlabel\":{\"align\":\"left\"},\"hovermode\":\"closest\",\"mapbox\":{\"style\":\"dark\"},\"paper_bgcolor\":\"rgb(17,17,17)\",\"plot_bgcolor\":\"rgb(17,17,17)\",\"polar\":{\"angularaxis\":{\"gridcolor\":\"#506784\",\"linecolor\":\"#506784\",\"ticks\":\"\"},\"bgcolor\":\"rgb(17,17,17)\",\"radialaxis\":{\"gridcolor\":\"#506784\",\"linecolor\":\"#506784\",\"ticks\":\"\"}},\"scene\":{\"xaxis\":{\"backgroundcolor\":\"rgb(17,17,17)\",\"gridcolor\":\"#506784\",\"gridwidth\":2,\"linecolor\":\"#506784\",\"showbackground\":true,\"ticks\":\"\",\"zerolinecolor\":\"#C8D4E3\"},\"yaxis\":{\"backgroundcolor\":\"rgb(17,17,17)\",\"gridcolor\":\"#506784\",\"gridwidth\":2,\"linecolor\":\"#506784\",\"showbackground\":true,\"ticks\":\"\",\"zerolinecolor\":\"#C8D4E3\"},\"zaxis\":{\"backgroundcolor\":\"rgb(17,17,17)\",\"gridcolor\":\"#506784\",\"gridwidth\":2,\"linecolor\":\"#506784\",\"showbackground\":true,\"ticks\":\"\",\"zerolinecolor\":\"#C8D4E3\"}},\"shapedefaults\":{\"line\":{\"color\":\"#f2f5fa\"}},\"sliderdefaults\":{\"bgcolor\":\"#C8D4E3\",\"bordercolor\":\"rgb(17,17,17)\",\"borderwidth\":1,\"tickwidth\":0},\"ternary\":{\"aaxis\":{\"gridcolor\":\"#506784\",\"linecolor\":\"#506784\",\"ticks\":\"\"},\"baxis\":{\"gridcolor\":\"#506784\",\"linecolor\":\"#506784\",\"ticks\":\"\"},\"bgcolor\":\"rgb(17,17,17)\",\"caxis\":{\"gridcolor\":\"#506784\",\"linecolor\":\"#506784\",\"ticks\":\"\"}},\"title\":{\"x\":0.05},\"updatemenudefaults\":{\"bgcolor\":\"#506784\",\"borderwidth\":0},\"xaxis\":{\"automargin\":true,\"gridcolor\":\"#283442\",\"linecolor\":\"#506784\",\"ticks\":\"\",\"title\":{\"standoff\":15},\"zerolinecolor\":\"#283442\",\"zerolinewidth\":2},\"yaxis\":{\"automargin\":true,\"gridcolor\":\"#283442\",\"linecolor\":\"#506784\",\"ticks\":\"\",\"title\":{\"standoff\":15},\"zerolinecolor\":\"#283442\",\"zerolinewidth\":2}}},\"xaxis\":{\"anchor\":\"y\",\"domain\":[0.0,1.0],\"title\":{\"text\":\"Purpose\"}},\"yaxis\":{\"anchor\":\"x\",\"domain\":[0.0,1.0],\"title\":{\"text\":\"Credit amount\"}},\"legend\":{\"tracegroupgap\":0},\"title\":{\"text\":\"Number of credits per purpose\"},\"barmode\":\"relative\"},                        {\"responsive\": true}                    ).then(function(){\n",
       "                            \n",
       "var gd = document.getElementById('98bfcafe-e525-4d53-bbde-cf6ab1da19ad');\n",
       "var x = new MutationObserver(function (mutations, observer) {{\n",
       "        var display = window.getComputedStyle(gd).display;\n",
       "        if (!display || display === 'none') {{\n",
       "            console.log([gd, 'removed!']);\n",
       "            Plotly.purge(gd);\n",
       "            observer.disconnect();\n",
       "        }}\n",
       "}});\n",
       "\n",
       "// Listen for the removal of the full notebook cells\n",
       "var notebookContainer = gd.closest('#notebook-container');\n",
       "if (notebookContainer) {{\n",
       "    x.observe(notebookContainer, {childList: true});\n",
       "}}\n",
       "\n",
       "// Listen for the clearing of the current output cell\n",
       "var outputEl = gd.closest('.output');\n",
       "if (outputEl) {{\n",
       "    x.observe(outputEl, {childList: true});\n",
       "}}\n",
       "\n",
       "                        })                };                            </script>        </div>\n",
       "</body>\n",
       "</html>"
      ]
     },
     "metadata": {},
     "output_type": "display_data"
    },
    {
     "data": {
      "text/plain": [
       "<Figure size 960x480 with 0 Axes>"
      ]
     },
     "metadata": {},
     "output_type": "display_data"
    }
   ],
   "source": [
    "purpose_table = df.groupby('Purpose').count().reset_index()\n",
    "plt.figure(figsize = (8, 4), dpi=120)\n",
    "px.bar(purpose_table, x='Purpose', \n",
    "       y= 'Credit amount', title='Number of credits per purpose',)"
   ]
  },
  {
   "cell_type": "markdown",
   "metadata": {
    "id": "mirKzvpwJxmn"
   },
   "source": [
    "In the plot above we can see the number of credits by purpose, and we have that mos people take a credit for car purpose and radio/tv purpose.  On the other hand we can see that credits for domestic appliances and vacations/others are less requested"
   ]
  },
  {
   "cell_type": "code",
   "execution_count": 228,
   "metadata": {
    "colab": {
     "base_uri": "https://localhost:8080/",
     "height": 559
    },
    "id": "T2gJdo4eJtsR",
    "outputId": "9c9f1eec-dcf3-4d0c-a9a4-9fb8d983a8bc"
   },
   "outputs": [
    {
     "data": {
      "text/html": [
       "<html>\n",
       "<head><meta charset=\"utf-8\" /></head>\n",
       "<body>\n",
       "    <div>            <script src=\"https://cdnjs.cloudflare.com/ajax/libs/mathjax/2.7.5/MathJax.js?config=TeX-AMS-MML_SVG\"></script><script type=\"text/javascript\">if (window.MathJax) {MathJax.Hub.Config({SVG: {font: \"STIX-Web\"}});}</script>                <script type=\"text/javascript\">window.PlotlyConfig = {MathJaxConfig: 'local'};</script>\n",
       "        <script src=\"https://cdn.plot.ly/plotly-2.8.3.min.js\"></script>                <div id=\"f3135b27-302c-461b-9e16-ca16ef78303c\" class=\"plotly-graph-div\" style=\"height:525px; width:100%;\"></div>            <script type=\"text/javascript\">                                    window.PLOTLYENV=window.PLOTLYENV || {};                                    if (document.getElementById(\"f3135b27-302c-461b-9e16-ca16ef78303c\")) {                    Plotly.newPlot(                        \"f3135b27-302c-461b-9e16-ca16ef78303c\",                        [{\"alignmentgroup\":\"True\",\"hovertemplate\":\"Sex=male<br>Purpose=%{x}<br>Credit amount=%{y}<extra></extra>\",\"legendgroup\":\"male\",\"marker\":{\"color\":\"#636efa\"},\"name\":\"male\",\"notched\":false,\"offsetgroup\":\"male\",\"orientation\":\"v\",\"showlegend\":true,\"x\":[\"radio/TV\",\"education\",\"furniture/equipment\",\"car\",\"education\",\"furniture/equipment\",\"car\",\"radio/TV\",\"car\",\"car\",\"radio/TV\",\"business\",\"radio/TV\",\"car\",\"radio/TV\",\"car\",\"car\",\"furniture/equipment\",\"furniture/equipment\",\"radio/TV\",\"radio/TV\",\"business\",\"business\",\"furniture/equipment\",\"car\",\"business\",\"radio/TV\",\"education\",\"radio/TV\",\"domestic appliances\",\"radio/TV\",\"radio/TV\",\"radio/TV\",\"repairs\",\"car\",\"radio/TV\",\"car\",\"furniture/equipment\",\"car\",\"radio/TV\",\"car\",\"car\",\"car\",\"radio/TV\",\"business\",\"radio/TV\",\"business\",\"business\",\"repairs\",\"car\",\"education\",\"radio/TV\",\"vacation/others\",\"education\",\"car\",\"radio/TV\",\"radio/TV\",\"car\",\"furniture/equipment\",\"radio/TV\",\"radio/TV\",\"education\",\"car\",\"repairs\",\"radio/TV\",\"car\",\"furniture/equipment\",\"car\",\"business\",\"business\",\"radio/TV\",\"car\",\"car\",\"radio/TV\",\"furniture/equipment\",\"car\",\"vacation/others\",\"car\",\"car\",\"business\",\"business\",\"car\",\"radio/TV\",\"radio/TV\",\"car\",\"furniture/equipment\",\"car\",\"car\",\"radio/TV\",\"repairs\",\"car\",\"education\",\"furniture/equipment\",\"furniture/equipment\",\"car\",\"radio/TV\",\"radio/TV\",\"car\",\"radio/TV\",\"furniture/equipment\",\"business\",\"furniture/equipment\",\"radio/TV\",\"radio/TV\",\"radio/TV\",\"radio/TV\",\"business\",\"repairs\",\"education\",\"car\",\"radio/TV\",\"radio/TV\",\"domestic appliances\",\"car\",\"car\",\"furniture/equipment\",\"business\",\"car\",\"radio/TV\",\"education\",\"furniture/equipment\",\"radio/TV\",\"radio/TV\",\"car\",\"business\",\"business\",\"car\",\"furniture/equipment\",\"car\",\"radio/TV\",\"car\",\"radio/TV\",\"business\",\"business\",\"business\",\"radio/TV\",\"radio/TV\",\"car\",\"furniture/equipment\",\"education\",\"car\",\"business\",\"education\",\"car\",\"car\",\"furniture/equipment\",\"domestic appliances\",\"business\",\"car\",\"radio/TV\",\"business\",\"business\",\"radio/TV\",\"business\",\"radio/TV\",\"furniture/equipment\",\"radio/TV\",\"radio/TV\",\"business\",\"car\",\"repairs\",\"radio/TV\",\"furniture/equipment\",\"radio/TV\",\"furniture/equipment\",\"radio/TV\",\"car\",\"radio/TV\",\"radio/TV\",\"radio/TV\",\"radio/TV\",\"car\",\"business\",\"radio/TV\",\"radio/TV\",\"car\",\"business\",\"radio/TV\",\"car\",\"furniture/equipment\",\"furniture/equipment\",\"furniture/equipment\",\"radio/TV\",\"radio/TV\",\"radio/TV\",\"furniture/equipment\",\"car\",\"car\",\"radio/TV\",\"business\",\"car\",\"radio/TV\",\"car\",\"car\",\"radio/TV\",\"repairs\",\"radio/TV\",\"furniture/equipment\",\"radio/TV\",\"car\",\"furniture/equipment\",\"radio/TV\",\"furniture/equipment\",\"car\",\"car\",\"vacation/others\",\"radio/TV\",\"business\",\"car\",\"car\",\"business\",\"car\",\"furniture/equipment\",\"furniture/equipment\",\"car\",\"car\",\"car\",\"furniture/equipment\",\"radio/TV\",\"car\",\"vacation/others\",\"furniture/equipment\",\"car\",\"car\",\"furniture/equipment\",\"furniture/equipment\",\"education\",\"car\",\"radio/TV\",\"car\",\"furniture/equipment\",\"car\",\"furniture/equipment\",\"radio/TV\",\"radio/TV\",\"car\",\"furniture/equipment\",\"furniture/equipment\",\"furniture/equipment\",\"furniture/equipment\",\"radio/TV\",\"business\",\"car\",\"radio/TV\",\"business\",\"education\",\"car\",\"radio/TV\",\"education\",\"car\",\"radio/TV\",\"radio/TV\",\"radio/TV\",\"education\",\"radio/TV\",\"furniture/equipment\",\"furniture/equipment\",\"business\",\"car\",\"furniture/equipment\",\"car\",\"radio/TV\",\"car\",\"radio/TV\",\"radio/TV\",\"car\",\"furniture/equipment\",\"car\",\"business\",\"furniture/equipment\",\"business\",\"car\",\"car\",\"furniture/equipment\",\"education\",\"furniture/equipment\",\"car\",\"radio/TV\",\"business\",\"business\",\"car\",\"car\",\"radio/TV\",\"car\",\"radio/TV\",\"radio/TV\",\"car\",\"car\",\"business\",\"car\",\"car\",\"car\",\"car\",\"car\",\"furniture/equipment\",\"car\",\"radio/TV\",\"radio/TV\",\"furniture/equipment\",\"business\",\"vacation/others\",\"furniture/equipment\",\"repairs\",\"furniture/equipment\",\"radio/TV\",\"repairs\",\"repairs\",\"car\",\"vacation/others\",\"education\",\"radio/TV\",\"repairs\",\"car\",\"furniture/equipment\",\"car\",\"car\",\"car\",\"car\",\"radio/TV\",\"furniture/equipment\",\"car\",\"education\",\"business\",\"car\",\"radio/TV\",\"car\",\"radio/TV\",\"car\",\"education\",\"radio/TV\",\"car\",\"radio/TV\",\"business\",\"furniture/equipment\",\"car\",\"car\",\"car\",\"radio/TV\",\"car\",\"car\",\"radio/TV\",\"radio/TV\",\"car\",\"furniture/equipment\",\"furniture/equipment\",\"furniture/equipment\",\"radio/TV\",\"car\",\"car\",\"radio/TV\",\"radio/TV\",\"car\",\"car\",\"car\",\"radio/TV\",\"car\",\"car\",\"car\",\"business\",\"radio/TV\",\"car\",\"car\",\"car\",\"radio/TV\",\"repairs\",\"furniture/equipment\",\"car\",\"radio/TV\",\"radio/TV\",\"car\",\"education\",\"car\",\"radio/TV\",\"radio/TV\",\"education\",\"car\",\"radio/TV\",\"car\",\"furniture/equipment\",\"furniture/equipment\",\"car\",\"car\",\"radio/TV\",\"car\",\"radio/TV\",\"radio/TV\",\"car\",\"radio/TV\",\"furniture/equipment\",\"furniture/equipment\",\"car\",\"radio/TV\",\"car\",\"business\",\"car\",\"radio/TV\",\"radio/TV\",\"radio/TV\",\"radio/TV\",\"car\",\"education\",\"car\",\"car\",\"repairs\",\"car\",\"furniture/equipment\",\"domestic appliances\",\"furniture/equipment\",\"vacation/others\",\"business\",\"car\",\"business\",\"furniture/equipment\",\"business\",\"radio/TV\",\"car\",\"business\",\"radio/TV\",\"car\",\"car\",\"business\",\"car\",\"business\",\"radio/TV\",\"radio/TV\",\"furniture/equipment\",\"car\",\"furniture/equipment\",\"education\",\"furniture/equipment\",\"radio/TV\",\"education\",\"radio/TV\",\"radio/TV\",\"repairs\",\"education\",\"radio/TV\",\"radio/TV\",\"business\",\"furniture/equipment\",\"car\",\"education\",\"education\",\"furniture/equipment\",\"car\",\"car\",\"car\",\"car\",\"car\",\"radio/TV\",\"furniture/equipment\",\"radio/TV\",\"car\",\"furniture/equipment\",\"furniture/equipment\",\"vacation/others\",\"furniture/equipment\",\"car\",\"radio/TV\",\"business\",\"business\",\"car\",\"car\",\"business\",\"furniture/equipment\",\"radio/TV\",\"radio/TV\",\"radio/TV\",\"radio/TV\",\"radio/TV\",\"business\",\"car\",\"radio/TV\",\"car\",\"radio/TV\",\"car\",\"furniture/equipment\",\"radio/TV\",\"car\",\"radio/TV\",\"car\",\"radio/TV\",\"radio/TV\",\"education\",\"car\",\"business\",\"car\",\"radio/TV\",\"radio/TV\",\"car\",\"radio/TV\",\"car\",\"car\",\"radio/TV\",\"radio/TV\",\"radio/TV\",\"car\",\"radio/TV\",\"radio/TV\",\"business\",\"radio/TV\",\"radio/TV\",\"car\",\"car\",\"car\",\"radio/TV\",\"radio/TV\",\"furniture/equipment\",\"furniture/equipment\",\"business\",\"car\",\"car\",\"repairs\",\"car\",\"radio/TV\",\"car\",\"car\",\"radio/TV\",\"car\",\"car\",\"radio/TV\",\"furniture/equipment\",\"furniture/equipment\",\"radio/TV\",\"car\",\"radio/TV\",\"car\",\"car\",\"car\",\"radio/TV\",\"car\",\"education\",\"car\",\"business\",\"radio/TV\",\"car\",\"education\",\"education\",\"car\",\"furniture/equipment\",\"furniture/equipment\",\"furniture/equipment\",\"car\",\"car\",\"car\",\"education\",\"radio/TV\",\"car\",\"radio/TV\",\"radio/TV\",\"car\",\"business\",\"radio/TV\",\"car\",\"domestic appliances\",\"car\",\"domestic appliances\",\"vacation/others\",\"radio/TV\",\"car\",\"radio/TV\",\"furniture/equipment\",\"car\",\"furniture/equipment\",\"car\",\"business\",\"car\",\"business\",\"business\",\"business\",\"car\",\"car\",\"radio/TV\",\"furniture/equipment\",\"car\",\"business\",\"furniture/equipment\",\"furniture/equipment\",\"car\",\"car\",\"radio/TV\",\"radio/TV\",\"car\",\"car\",\"radio/TV\",\"car\",\"car\",\"car\",\"furniture/equipment\",\"car\",\"car\",\"business\",\"furniture/equipment\",\"furniture/equipment\",\"furniture/equipment\",\"business\",\"car\",\"business\",\"furniture/equipment\",\"radio/TV\",\"radio/TV\",\"car\",\"radio/TV\",\"car\",\"car\",\"car\",\"furniture/equipment\",\"business\",\"business\",\"car\",\"car\",\"business\",\"radio/TV\",\"car\",\"car\",\"radio/TV\",\"car\",\"furniture/equipment\",\"car\",\"car\",\"car\",\"radio/TV\",\"radio/TV\",\"radio/TV\",\"car\",\"education\",\"business\",\"business\",\"car\",\"car\",\"furniture/equipment\",\"furniture/equipment\",\"radio/TV\",\"car\",\"furniture/equipment\",\"car\",\"car\",\"radio/TV\",\"car\",\"furniture/equipment\",\"car\",\"radio/TV\",\"radio/TV\",\"radio/TV\",\"education\",\"car\",\"car\",\"car\",\"furniture/equipment\",\"car\",\"furniture/equipment\",\"car\",\"furniture/equipment\",\"radio/TV\",\"business\",\"business\",\"radio/TV\",\"radio/TV\",\"car\",\"furniture/equipment\",\"radio/TV\",\"car\",\"car\",\"radio/TV\",\"repairs\",\"radio/TV\",\"radio/TV\",\"car\",\"repairs\",\"car\",\"business\",\"business\",\"car\",\"car\",\"furniture/equipment\",\"business\",\"car\",\"furniture/equipment\",\"business\",\"car\",\"radio/TV\",\"education\",\"radio/TV\",\"radio/TV\",\"furniture/equipment\",\"car\",\"car\",\"radio/TV\",\"radio/TV\",\"car\"],\"x0\":\" \",\"xaxis\":\"x\",\"y\":[1169,2096,7882,4870,9055,2835,6948,3059,5234,1199,2424,8072,3430,2134,2647,2241,1804,2069,1374,426,2415,6836,1913,4020,5866,1264,4746,6110,2100,1225,458,2333,1158,6204,6187,2299,7228,2333,5965,1262,3378,2225,783,6468,1391,1537,1953,14421,5190,1007,1819,730,1164,1977,1526,3965,4771,9436,3832,1213,2315,12612,2249,1108,618,1409,3617,1318,15945,2622,2337,7057,1469,2323,1919,2445,11938,6458,6078,1410,1449,6260,1680,3578,2366,1768,781,2121,701,639,1860,6887,2708,1984,8613,766,2728,709,3416,2462,3566,5371,1582,1346,1924,5848,6967,1288,339,3512,1898,2872,1262,7308,909,2978,1935,950,1414,3414,2577,338,1963,571,9572,4455,1647,3777,884,1360,1175,674,4591,3844,3915,2108,3031,2760,4297,936,1168,5117,902,1495,10623,1935,1424,6568,1413,3074,5293,1908,3342,3104,3913,3021,625,707,2978,4657,2613,10961,7865,1478,3149,4210,2507,2141,866,1544,1823,14555,2767,2522,1595,4605,1258,717,1204,1925,4151,2030,7418,2684,2149,1657,5302,1231,802,6304,8978,999,2662,12169,3060,11998,2697,1262,1901,3368,1574,1445,1520,3878,4788,7582,1024,1076,9398,4796,7629,1287,2515,2745,1344,1038,10127,1543,727,276,5381,5511,685,1494,2746,708,701,4249,1938,2910,2659,3398,5801,4473,1068,6615,4110,3384,4169,1521,3213,4439,3949,882,1743,1136,3229,6199,727,1246,2331,4463,776,1239,3399,1766,2473,1542,3850,3446,3079,6070,13756,2320,846,14318,2212,1330,4272,7374,2326,1820,3249,2406,11760,2348,1223,1473,1887,8648,802,2899,2039,2197,1053,3235,939,7253,2292,1597,5842,2579,2028,958,1591,2779,2743,1149,1313,3448,11328,1872,2058,2136,1484,660,3394,1884,2629,719,2576,1512,11054,2759,2670,4817,3905,3386,4594,3620,1721,754,1950,2924,7238,4679,3092,654,1238,1245,2569,5152,1037,1478,1201,1163,1209,3077,1418,3518,1934,368,2122,2996,9034,1585,1301,1323,5493,1126,1216,1309,2360,6850,1413,8588,759,4686,2687,585,2255,1361,1203,700,5507,7119,7966,1503,2302,662,2273,1503,1311,3105,2319,7763,1534,2032,6350,2864,1255,1333,1552,8858,1750,6999,1995,1331,3552,1928,2964,1546,12389,4712,1372,2578,3979,5954,1082,2820,937,1056,3124,2384,2799,1289,1217,2246,1358,4241,2775,3863,2828,4526,2051,1300,12204,9157,3676,640,3652,1530,3914,2600,1979,2116,1437,4042,3832,1553,1444,1393,15653,4370,1308,4623,1851,1880,7980,4583,947,684,7476,1922,2303,8086,2346,3973,888,10222,6361,1297,900,2241,1050,6314,3496,4843,3017,4139,5742,10366,2080,2580,5150,5595,2384,2279,1478,5103,9857,6527,1347,2862,2753,3651,975,2896,4716,2284,1236,1103,1800,1905,6331,2503,6560,2118,629,2476,1138,14027,7596,3077,1505,3148,6148,1337,1316,1275,6403,1987,4380,6761,2325,1048,3160,2483,14179,1797,5248,3029,1555,1299,1271,1393,691,2214,12680,2463,1155,3108,3617,1655,3275,2223,1480,3535,5711,4933,1940,1410,6468,1941,2675,2751,6224,5998,6313,1221,2892,3062,7511,717,1549,1597,976,9271,590,930,9283,907,484,9629,3051,3931,1338,15857,1345,1101,3016,2712,731,3780,1602,4165,8335,6681,2375,11816,1082,2957,2611,5179,2993,1559,3422,3976,6761,1249,1364,709,2235,4042,1471,1442,10875,1474,3343,3577,5804,2169,4526,2210,3331,7409,1343,1382,3590,1940,3595,1422,6742,7814,9277,2181,4057,2825,15672,6614,7824,2442,1829,2171,5800,1169,8947,4153,2625,3485,10477,1386,1278,1107,3763,3711,2142,3161,2848,14896,2359,3345,12749,2002,6872,697,10297,1867,1344,1747,1224,522,1919,2063,6288,6842,3527,1546,929,1455,3349,2859,1533,3621,3590,2145,3656,1154,4006,3069,1740,2353,3556,2397,454,2520,7166,3939,1514,7393,7297,2427,2538,1264,8386,4844,8229,2028,6289,6579,1743,3565,1569,1936,3959,2390,3857,804,1845,4576],\"y0\":\" \",\"yaxis\":\"y\",\"type\":\"box\"},{\"alignmentgroup\":\"True\",\"hovertemplate\":\"Sex=female<br>Purpose=%{x}<br>Credit amount=%{y}<extra></extra>\",\"legendgroup\":\"female\",\"marker\":{\"color\":\"#EF553B\"},\"name\":\"female\",\"notched\":false,\"offsetgroup\":\"female\",\"orientation\":\"v\",\"showlegend\":true,\"x\":[\"radio/TV\",\"car\",\"business\",\"radio/TV\",\"car\",\"radio/TV\",\"car\",\"radio/TV\",\"furniture/equipment\",\"car\",\"car\",\"car\",\"radio/TV\",\"radio/TV\",\"car\",\"furniture/equipment\",\"radio/TV\",\"radio/TV\",\"radio/TV\",\"car\",\"business\",\"radio/TV\",\"business\",\"vacation/others\",\"business\",\"furniture/equipment\",\"radio/TV\",\"education\",\"radio/TV\",\"furniture/equipment\",\"education\",\"car\",\"radio/TV\",\"furniture/equipment\",\"furniture/equipment\",\"radio/TV\",\"car\",\"furniture/equipment\",\"car\",\"car\",\"radio/TV\",\"radio/TV\",\"radio/TV\",\"radio/TV\",\"furniture/equipment\",\"car\",\"car\",\"car\",\"furniture/equipment\",\"car\",\"furniture/equipment\",\"furniture/equipment\",\"furniture/equipment\",\"furniture/equipment\",\"furniture/equipment\",\"car\",\"car\",\"furniture/equipment\",\"education\",\"radio/TV\",\"furniture/equipment\",\"radio/TV\",\"education\",\"car\",\"education\",\"radio/TV\",\"car\",\"business\",\"education\",\"radio/TV\",\"car\",\"furniture/equipment\",\"car\",\"car\",\"radio/TV\",\"radio/TV\",\"education\",\"radio/TV\",\"furniture/equipment\",\"radio/TV\",\"furniture/equipment\",\"car\",\"radio/TV\",\"car\",\"furniture/equipment\",\"car\",\"car\",\"radio/TV\",\"car\",\"furniture/equipment\",\"furniture/equipment\",\"furniture/equipment\",\"furniture/equipment\",\"car\",\"car\",\"education\",\"car\",\"car\",\"radio/TV\",\"domestic appliances\",\"education\",\"furniture/equipment\",\"radio/TV\",\"radio/TV\",\"domestic appliances\",\"furniture/equipment\",\"furniture/equipment\",\"car\",\"furniture/equipment\",\"furniture/equipment\",\"furniture/equipment\",\"vacation/others\",\"business\",\"car\",\"car\",\"car\",\"radio/TV\",\"radio/TV\",\"business\",\"furniture/equipment\",\"radio/TV\",\"furniture/equipment\",\"radio/TV\",\"radio/TV\",\"car\",\"education\",\"car\",\"car\",\"car\",\"furniture/equipment\",\"repairs\",\"car\",\"business\",\"furniture/equipment\",\"furniture/equipment\",\"education\",\"car\",\"furniture/equipment\",\"radio/TV\",\"car\",\"domestic appliances\",\"furniture/equipment\",\"radio/TV\",\"business\",\"education\",\"furniture/equipment\",\"radio/TV\",\"furniture/equipment\",\"furniture/equipment\",\"car\",\"business\",\"radio/TV\",\"car\",\"car\",\"car\",\"furniture/equipment\",\"radio/TV\",\"car\",\"radio/TV\",\"education\",\"car\",\"car\",\"furniture/equipment\",\"furniture/equipment\",\"car\",\"radio/TV\",\"repairs\",\"education\",\"car\",\"car\",\"radio/TV\",\"radio/TV\",\"radio/TV\",\"furniture/equipment\",\"car\",\"business\",\"furniture/equipment\",\"radio/TV\",\"education\",\"furniture/equipment\",\"car\",\"furniture/equipment\",\"radio/TV\",\"car\",\"business\",\"car\",\"car\",\"car\",\"radio/TV\",\"furniture/equipment\",\"education\",\"furniture/equipment\",\"furniture/equipment\",\"radio/TV\",\"domestic appliances\",\"car\",\"radio/TV\",\"car\",\"furniture/equipment\",\"furniture/equipment\",\"furniture/equipment\",\"radio/TV\",\"furniture/equipment\",\"car\",\"radio/TV\",\"radio/TV\",\"education\",\"car\",\"business\",\"education\",\"business\",\"radio/TV\",\"radio/TV\",\"education\",\"repairs\",\"car\",\"furniture/equipment\",\"radio/TV\",\"business\",\"car\",\"furniture/equipment\",\"radio/TV\",\"education\",\"education\",\"car\",\"radio/TV\",\"car\",\"car\",\"radio/TV\",\"business\",\"radio/TV\",\"car\",\"car\",\"domestic appliances\",\"car\",\"business\",\"car\",\"car\",\"furniture/equipment\",\"car\",\"business\",\"radio/TV\",\"car\",\"car\",\"furniture/equipment\",\"car\",\"car\",\"education\",\"car\",\"radio/TV\",\"repairs\",\"car\",\"business\",\"furniture/equipment\",\"furniture/equipment\",\"radio/TV\",\"furniture/equipment\",\"car\",\"car\",\"car\",\"radio/TV\",\"car\",\"car\",\"radio/TV\",\"radio/TV\",\"radio/TV\",\"furniture/equipment\",\"repairs\",\"education\",\"car\",\"radio/TV\",\"furniture/equipment\",\"radio/TV\",\"furniture/equipment\",\"furniture/equipment\",\"domestic appliances\",\"car\",\"radio/TV\",\"education\",\"radio/TV\",\"furniture/equipment\",\"furniture/equipment\",\"car\",\"car\",\"radio/TV\",\"furniture/equipment\",\"radio/TV\",\"vacation/others\",\"furniture/equipment\",\"radio/TV\",\"furniture/equipment\",\"radio/TV\",\"radio/TV\",\"radio/TV\",\"furniture/equipment\",\"car\",\"car\",\"furniture/equipment\",\"car\",\"radio/TV\",\"radio/TV\",\"radio/TV\",\"car\",\"radio/TV\",\"radio/TV\",\"radio/TV\",\"car\",\"furniture/equipment\",\"radio/TV\",\"furniture/equipment\"],\"x0\":\" \",\"xaxis\":\"x\",\"y\":[5951,1295,4308,1567,1403,1282,12579,409,1474,6143,1393,1352,2073,9566,1961,6229,3181,2171,2394,8133,5954,5943,1568,1755,1412,1295,797,2012,932,7721,392,7855,7174,2132,4281,1835,3868,1924,3499,8487,10144,1240,1881,4795,2288,860,682,7758,1282,1055,1131,1577,3972,763,2064,7485,5129,3244,1501,1382,951,3835,932,1364,1200,1291,915,1185,3447,433,666,2251,2150,3812,1154,1603,2748,1533,1402,2404,4611,10722,1092,6419,9960,4675,672,3804,4811,1237,3749,4351,3643,1028,1525,1864,7408,11590,2101,1275,5743,3599,1459,3758,1236,959,2406,2247,3650,3001,2146,14782,7685,362,12976,1283,2238,1126,1449,983,1957,2578,1516,1967,1381,8471,2782,1042,3186,2762,1190,1287,609,1620,5096,1244,1842,1424,518,2679,343,3017,1659,2764,448,3114,3573,3622,960,3757,8318,1237,3123,1207,609,7127,3190,3488,1113,1532,2631,1374,3612,3049,2022,626,996,1199,2278,5003,683,1553,6758,3234,5433,806,2788,2930,1927,1388,2133,2039,385,1965,1572,2718,931,1442,2329,918,1837,3349,1275,2671,741,1240,3357,3632,1808,3441,1858,3660,1980,1355,1376,1493,750,1386,4221,1047,3609,4530,1453,1538,2631,926,1123,1377,2528,5324,2969,1206,1198,433,1228,790,2570,250,1882,6416,760,2603,3380,3990,11560,4280,2511,1274,428,976,841,5771,1285,5045,2124,2901,2812,8065,1371,3509,3872,836,1188,2301,1258,1795,4272,7472,1778,7432,1554,3966,1216,5084,2327,886,601,1943,894,3959,2439,2221,2389,652,7678,874,1322,1098,795,2606,1592,2186,3594,3195,4454,4736,2991,18424,1817,1366,1049,1670,1498,745,1845,8358,4113,10974,1893,1231,1715,3568,1193,2831,1258,753,2923,1433,1409,1736],\"y0\":\" \",\"yaxis\":\"y\",\"type\":\"box\"}],                        {\"template\":{\"data\":{\"bar\":[{\"error_x\":{\"color\":\"#f2f5fa\"},\"error_y\":{\"color\":\"#f2f5fa\"},\"marker\":{\"line\":{\"color\":\"rgb(17,17,17)\",\"width\":0.5},\"pattern\":{\"fillmode\":\"overlay\",\"size\":10,\"solidity\":0.2}},\"type\":\"bar\"}],\"barpolar\":[{\"marker\":{\"line\":{\"color\":\"rgb(17,17,17)\",\"width\":0.5},\"pattern\":{\"fillmode\":\"overlay\",\"size\":10,\"solidity\":0.2}},\"type\":\"barpolar\"}],\"carpet\":[{\"aaxis\":{\"endlinecolor\":\"#A2B1C6\",\"gridcolor\":\"#506784\",\"linecolor\":\"#506784\",\"minorgridcolor\":\"#506784\",\"startlinecolor\":\"#A2B1C6\"},\"baxis\":{\"endlinecolor\":\"#A2B1C6\",\"gridcolor\":\"#506784\",\"linecolor\":\"#506784\",\"minorgridcolor\":\"#506784\",\"startlinecolor\":\"#A2B1C6\"},\"type\":\"carpet\"}],\"choropleth\":[{\"colorbar\":{\"outlinewidth\":0,\"ticks\":\"\"},\"type\":\"choropleth\"}],\"contour\":[{\"colorbar\":{\"outlinewidth\":0,\"ticks\":\"\"},\"colorscale\":[[0.0,\"#0d0887\"],[0.1111111111111111,\"#46039f\"],[0.2222222222222222,\"#7201a8\"],[0.3333333333333333,\"#9c179e\"],[0.4444444444444444,\"#bd3786\"],[0.5555555555555556,\"#d8576b\"],[0.6666666666666666,\"#ed7953\"],[0.7777777777777778,\"#fb9f3a\"],[0.8888888888888888,\"#fdca26\"],[1.0,\"#f0f921\"]],\"type\":\"contour\"}],\"contourcarpet\":[{\"colorbar\":{\"outlinewidth\":0,\"ticks\":\"\"},\"type\":\"contourcarpet\"}],\"heatmap\":[{\"colorbar\":{\"outlinewidth\":0,\"ticks\":\"\"},\"colorscale\":[[0.0,\"#0d0887\"],[0.1111111111111111,\"#46039f\"],[0.2222222222222222,\"#7201a8\"],[0.3333333333333333,\"#9c179e\"],[0.4444444444444444,\"#bd3786\"],[0.5555555555555556,\"#d8576b\"],[0.6666666666666666,\"#ed7953\"],[0.7777777777777778,\"#fb9f3a\"],[0.8888888888888888,\"#fdca26\"],[1.0,\"#f0f921\"]],\"type\":\"heatmap\"}],\"heatmapgl\":[{\"colorbar\":{\"outlinewidth\":0,\"ticks\":\"\"},\"colorscale\":[[0.0,\"#0d0887\"],[0.1111111111111111,\"#46039f\"],[0.2222222222222222,\"#7201a8\"],[0.3333333333333333,\"#9c179e\"],[0.4444444444444444,\"#bd3786\"],[0.5555555555555556,\"#d8576b\"],[0.6666666666666666,\"#ed7953\"],[0.7777777777777778,\"#fb9f3a\"],[0.8888888888888888,\"#fdca26\"],[1.0,\"#f0f921\"]],\"type\":\"heatmapgl\"}],\"histogram\":[{\"marker\":{\"pattern\":{\"fillmode\":\"overlay\",\"size\":10,\"solidity\":0.2}},\"type\":\"histogram\"}],\"histogram2d\":[{\"colorbar\":{\"outlinewidth\":0,\"ticks\":\"\"},\"colorscale\":[[0.0,\"#0d0887\"],[0.1111111111111111,\"#46039f\"],[0.2222222222222222,\"#7201a8\"],[0.3333333333333333,\"#9c179e\"],[0.4444444444444444,\"#bd3786\"],[0.5555555555555556,\"#d8576b\"],[0.6666666666666666,\"#ed7953\"],[0.7777777777777778,\"#fb9f3a\"],[0.8888888888888888,\"#fdca26\"],[1.0,\"#f0f921\"]],\"type\":\"histogram2d\"}],\"histogram2dcontour\":[{\"colorbar\":{\"outlinewidth\":0,\"ticks\":\"\"},\"colorscale\":[[0.0,\"#0d0887\"],[0.1111111111111111,\"#46039f\"],[0.2222222222222222,\"#7201a8\"],[0.3333333333333333,\"#9c179e\"],[0.4444444444444444,\"#bd3786\"],[0.5555555555555556,\"#d8576b\"],[0.6666666666666666,\"#ed7953\"],[0.7777777777777778,\"#fb9f3a\"],[0.8888888888888888,\"#fdca26\"],[1.0,\"#f0f921\"]],\"type\":\"histogram2dcontour\"}],\"mesh3d\":[{\"colorbar\":{\"outlinewidth\":0,\"ticks\":\"\"},\"type\":\"mesh3d\"}],\"parcoords\":[{\"line\":{\"colorbar\":{\"outlinewidth\":0,\"ticks\":\"\"}},\"type\":\"parcoords\"}],\"pie\":[{\"automargin\":true,\"type\":\"pie\"}],\"scatter\":[{\"marker\":{\"line\":{\"color\":\"#283442\"}},\"type\":\"scatter\"}],\"scatter3d\":[{\"line\":{\"colorbar\":{\"outlinewidth\":0,\"ticks\":\"\"}},\"marker\":{\"colorbar\":{\"outlinewidth\":0,\"ticks\":\"\"}},\"type\":\"scatter3d\"}],\"scattercarpet\":[{\"marker\":{\"colorbar\":{\"outlinewidth\":0,\"ticks\":\"\"}},\"type\":\"scattercarpet\"}],\"scattergeo\":[{\"marker\":{\"colorbar\":{\"outlinewidth\":0,\"ticks\":\"\"}},\"type\":\"scattergeo\"}],\"scattergl\":[{\"marker\":{\"line\":{\"color\":\"#283442\"}},\"type\":\"scattergl\"}],\"scattermapbox\":[{\"marker\":{\"colorbar\":{\"outlinewidth\":0,\"ticks\":\"\"}},\"type\":\"scattermapbox\"}],\"scatterpolar\":[{\"marker\":{\"colorbar\":{\"outlinewidth\":0,\"ticks\":\"\"}},\"type\":\"scatterpolar\"}],\"scatterpolargl\":[{\"marker\":{\"colorbar\":{\"outlinewidth\":0,\"ticks\":\"\"}},\"type\":\"scatterpolargl\"}],\"scatterternary\":[{\"marker\":{\"colorbar\":{\"outlinewidth\":0,\"ticks\":\"\"}},\"type\":\"scatterternary\"}],\"surface\":[{\"colorbar\":{\"outlinewidth\":0,\"ticks\":\"\"},\"colorscale\":[[0.0,\"#0d0887\"],[0.1111111111111111,\"#46039f\"],[0.2222222222222222,\"#7201a8\"],[0.3333333333333333,\"#9c179e\"],[0.4444444444444444,\"#bd3786\"],[0.5555555555555556,\"#d8576b\"],[0.6666666666666666,\"#ed7953\"],[0.7777777777777778,\"#fb9f3a\"],[0.8888888888888888,\"#fdca26\"],[1.0,\"#f0f921\"]],\"type\":\"surface\"}],\"table\":[{\"cells\":{\"fill\":{\"color\":\"#506784\"},\"line\":{\"color\":\"rgb(17,17,17)\"}},\"header\":{\"fill\":{\"color\":\"#2a3f5f\"},\"line\":{\"color\":\"rgb(17,17,17)\"}},\"type\":\"table\"}]},\"layout\":{\"annotationdefaults\":{\"arrowcolor\":\"#f2f5fa\",\"arrowhead\":0,\"arrowwidth\":1},\"autotypenumbers\":\"strict\",\"coloraxis\":{\"colorbar\":{\"outlinewidth\":0,\"ticks\":\"\"}},\"colorscale\":{\"diverging\":[[0,\"#8e0152\"],[0.1,\"#c51b7d\"],[0.2,\"#de77ae\"],[0.3,\"#f1b6da\"],[0.4,\"#fde0ef\"],[0.5,\"#f7f7f7\"],[0.6,\"#e6f5d0\"],[0.7,\"#b8e186\"],[0.8,\"#7fbc41\"],[0.9,\"#4d9221\"],[1,\"#276419\"]],\"sequential\":[[0.0,\"#0d0887\"],[0.1111111111111111,\"#46039f\"],[0.2222222222222222,\"#7201a8\"],[0.3333333333333333,\"#9c179e\"],[0.4444444444444444,\"#bd3786\"],[0.5555555555555556,\"#d8576b\"],[0.6666666666666666,\"#ed7953\"],[0.7777777777777778,\"#fb9f3a\"],[0.8888888888888888,\"#fdca26\"],[1.0,\"#f0f921\"]],\"sequentialminus\":[[0.0,\"#0d0887\"],[0.1111111111111111,\"#46039f\"],[0.2222222222222222,\"#7201a8\"],[0.3333333333333333,\"#9c179e\"],[0.4444444444444444,\"#bd3786\"],[0.5555555555555556,\"#d8576b\"],[0.6666666666666666,\"#ed7953\"],[0.7777777777777778,\"#fb9f3a\"],[0.8888888888888888,\"#fdca26\"],[1.0,\"#f0f921\"]]},\"colorway\":[\"#636efa\",\"#EF553B\",\"#00cc96\",\"#ab63fa\",\"#FFA15A\",\"#19d3f3\",\"#FF6692\",\"#B6E880\",\"#FF97FF\",\"#FECB52\"],\"font\":{\"color\":\"#f2f5fa\"},\"geo\":{\"bgcolor\":\"rgb(17,17,17)\",\"lakecolor\":\"rgb(17,17,17)\",\"landcolor\":\"rgb(17,17,17)\",\"showlakes\":true,\"showland\":true,\"subunitcolor\":\"#506784\"},\"hoverlabel\":{\"align\":\"left\"},\"hovermode\":\"closest\",\"mapbox\":{\"style\":\"dark\"},\"paper_bgcolor\":\"rgb(17,17,17)\",\"plot_bgcolor\":\"rgb(17,17,17)\",\"polar\":{\"angularaxis\":{\"gridcolor\":\"#506784\",\"linecolor\":\"#506784\",\"ticks\":\"\"},\"bgcolor\":\"rgb(17,17,17)\",\"radialaxis\":{\"gridcolor\":\"#506784\",\"linecolor\":\"#506784\",\"ticks\":\"\"}},\"scene\":{\"xaxis\":{\"backgroundcolor\":\"rgb(17,17,17)\",\"gridcolor\":\"#506784\",\"gridwidth\":2,\"linecolor\":\"#506784\",\"showbackground\":true,\"ticks\":\"\",\"zerolinecolor\":\"#C8D4E3\"},\"yaxis\":{\"backgroundcolor\":\"rgb(17,17,17)\",\"gridcolor\":\"#506784\",\"gridwidth\":2,\"linecolor\":\"#506784\",\"showbackground\":true,\"ticks\":\"\",\"zerolinecolor\":\"#C8D4E3\"},\"zaxis\":{\"backgroundcolor\":\"rgb(17,17,17)\",\"gridcolor\":\"#506784\",\"gridwidth\":2,\"linecolor\":\"#506784\",\"showbackground\":true,\"ticks\":\"\",\"zerolinecolor\":\"#C8D4E3\"}},\"shapedefaults\":{\"line\":{\"color\":\"#f2f5fa\"}},\"sliderdefaults\":{\"bgcolor\":\"#C8D4E3\",\"bordercolor\":\"rgb(17,17,17)\",\"borderwidth\":1,\"tickwidth\":0},\"ternary\":{\"aaxis\":{\"gridcolor\":\"#506784\",\"linecolor\":\"#506784\",\"ticks\":\"\"},\"baxis\":{\"gridcolor\":\"#506784\",\"linecolor\":\"#506784\",\"ticks\":\"\"},\"bgcolor\":\"rgb(17,17,17)\",\"caxis\":{\"gridcolor\":\"#506784\",\"linecolor\":\"#506784\",\"ticks\":\"\"}},\"title\":{\"x\":0.05},\"updatemenudefaults\":{\"bgcolor\":\"#506784\",\"borderwidth\":0},\"xaxis\":{\"automargin\":true,\"gridcolor\":\"#283442\",\"linecolor\":\"#506784\",\"ticks\":\"\",\"title\":{\"standoff\":15},\"zerolinecolor\":\"#283442\",\"zerolinewidth\":2},\"yaxis\":{\"automargin\":true,\"gridcolor\":\"#283442\",\"linecolor\":\"#506784\",\"ticks\":\"\",\"title\":{\"standoff\":15},\"zerolinecolor\":\"#283442\",\"zerolinewidth\":2}}},\"xaxis\":{\"anchor\":\"y\",\"domain\":[0.0,1.0],\"title\":{\"text\":\"Purpose\"}},\"yaxis\":{\"anchor\":\"x\",\"domain\":[0.0,1.0],\"title\":{\"text\":\"Credit amount\"}},\"legend\":{\"title\":{\"text\":\"Sex\"},\"tracegroupgap\":0},\"title\":{\"text\":\"Creadit Amount per Purporse\"},\"boxmode\":\"group\"},                        {\"responsive\": true}                    ).then(function(){\n",
       "                            \n",
       "var gd = document.getElementById('f3135b27-302c-461b-9e16-ca16ef78303c');\n",
       "var x = new MutationObserver(function (mutations, observer) {{\n",
       "        var display = window.getComputedStyle(gd).display;\n",
       "        if (!display || display === 'none') {{\n",
       "            console.log([gd, 'removed!']);\n",
       "            Plotly.purge(gd);\n",
       "            observer.disconnect();\n",
       "        }}\n",
       "}});\n",
       "\n",
       "// Listen for the removal of the full notebook cells\n",
       "var notebookContainer = gd.closest('#notebook-container');\n",
       "if (notebookContainer) {{\n",
       "    x.observe(notebookContainer, {childList: true});\n",
       "}}\n",
       "\n",
       "// Listen for the clearing of the current output cell\n",
       "var outputEl = gd.closest('.output');\n",
       "if (outputEl) {{\n",
       "    x.observe(outputEl, {childList: true});\n",
       "}}\n",
       "\n",
       "                        })                };                            </script>        </div>\n",
       "</body>\n",
       "</html>"
      ]
     },
     "metadata": {},
     "output_type": "display_data"
    },
    {
     "data": {
      "text/plain": [
       "<Figure size 960x480 with 0 Axes>"
      ]
     },
     "metadata": {},
     "output_type": "display_data"
    }
   ],
   "source": [
    "plt.figure(figsize = (8, 4), dpi=120)\n",
    "px.box(df, x='Purpose', y= 'Credit amount', color= 'Sex',\n",
    "       title= 'Creadit Amount per Purporse')"
   ]
  },
  {
   "cell_type": "markdown",
   "metadata": {
    "id": "td_EXTtffIMi"
   },
   "source": [
    "The pllot above shows that credits with the largest amounts is for vacations/others category and the smallest for domestic appliaces. Most of categories have outliers at top of the boxes (higher amounts), also we can see that in most of cases there are not differences between male and female customer, except in vacation/other, education categories, although in the case of vacation/other category we have to remember that there were few credits."
   ]
  },
  {
   "cell_type": "code",
   "execution_count": 229,
   "metadata": {
    "colab": {
     "base_uri": "https://localhost:8080/",
     "height": 559
    },
    "id": "czGEBX7fLS8-",
    "outputId": "dd4a9262-1e4e-4c5a-92fe-e820f111effe"
   },
   "outputs": [
    {
     "data": {
      "text/html": [
       "<html>\n",
       "<head><meta charset=\"utf-8\" /></head>\n",
       "<body>\n",
       "    <div>            <script src=\"https://cdnjs.cloudflare.com/ajax/libs/mathjax/2.7.5/MathJax.js?config=TeX-AMS-MML_SVG\"></script><script type=\"text/javascript\">if (window.MathJax) {MathJax.Hub.Config({SVG: {font: \"STIX-Web\"}});}</script>                <script type=\"text/javascript\">window.PlotlyConfig = {MathJaxConfig: 'local'};</script>\n",
       "        <script src=\"https://cdn.plot.ly/plotly-2.8.3.min.js\"></script>                <div id=\"ccb83765-e4bb-4a9f-a7b0-03c1ae8a7fe4\" class=\"plotly-graph-div\" style=\"height:525px; width:100%;\"></div>            <script type=\"text/javascript\">                                    window.PLOTLYENV=window.PLOTLYENV || {};                                    if (document.getElementById(\"ccb83765-e4bb-4a9f-a7b0-03c1ae8a7fe4\")) {                    Plotly.newPlot(                        \"ccb83765-e4bb-4a9f-a7b0-03c1ae8a7fe4\",                        [{\"hovertemplate\":\"Sex=male<br>Credit amount=%{x}<br>Duration=%{y}<extra></extra>\",\"legendgroup\":\"male\",\"marker\":{\"color\":\"#636efa\",\"symbol\":\"circle\"},\"mode\":\"markers\",\"name\":\"male\",\"orientation\":\"v\",\"showlegend\":true,\"x\":[1169,2096,7882,4870,9055,2835,6948,3059,5234,1199,2424,8072,3430,2134,2647,2241,1804,2069,1374,426,2415,6836,1913,4020,5866,1264,4746,6110,2100,1225,458,2333,1158,6204,6187,2299,7228,2333,5965,1262,3378,2225,783,6468,1391,1537,1953,14421,5190,1007,1819,730,1164,1977,1526,3965,4771,9436,3832,1213,2315,12612,2249,1108,618,1409,3617,1318,15945,2622,2337,7057,1469,2323,1919,2445,11938,6458,6078,1410,1449,6260,1680,3578,2366,1768,781,2121,701,639,1860,6887,2708,1984,8613,766,2728,709,3416,2462,3566,5371,1582,1346,1924,5848,6967,1288,339,3512,1898,2872,1262,7308,909,2978,1935,950,1414,3414,2577,338,1963,571,9572,4455,1647,3777,884,1360,1175,674,4591,3844,3915,2108,3031,2760,4297,936,1168,5117,902,1495,10623,1935,1424,6568,1413,3074,5293,1908,3342,3104,3913,3021,625,707,2978,4657,2613,10961,7865,1478,3149,4210,2507,2141,866,1544,1823,14555,2767,2522,1595,4605,1258,717,1204,1925,4151,2030,7418,2684,2149,1657,5302,1231,802,6304,8978,999,2662,12169,3060,11998,2697,1262,1901,3368,1574,1445,1520,3878,4788,7582,1024,1076,9398,4796,7629,1287,2515,2745,1344,1038,10127,1543,727,276,5381,5511,685,1494,2746,708,701,4249,1938,2910,2659,3398,5801,4473,1068,6615,4110,3384,4169,1521,3213,4439,3949,882,1743,1136,3229,6199,727,1246,2331,4463,776,1239,3399,1766,2473,1542,3850,3446,3079,6070,13756,2320,846,14318,2212,1330,4272,7374,2326,1820,3249,2406,11760,2348,1223,1473,1887,8648,802,2899,2039,2197,1053,3235,939,7253,2292,1597,5842,2579,2028,958,1591,2779,2743,1149,1313,3448,11328,1872,2058,2136,1484,660,3394,1884,2629,719,2576,1512,11054,2759,2670,4817,3905,3386,4594,3620,1721,754,1950,2924,7238,4679,3092,654,1238,1245,2569,5152,1037,1478,1201,1163,1209,3077,1418,3518,1934,368,2122,2996,9034,1585,1301,1323,5493,1126,1216,1309,2360,6850,1413,8588,759,4686,2687,585,2255,1361,1203,700,5507,7119,7966,1503,2302,662,2273,1503,1311,3105,2319,7763,1534,2032,6350,2864,1255,1333,1552,8858,1750,6999,1995,1331,3552,1928,2964,1546,12389,4712,1372,2578,3979,5954,1082,2820,937,1056,3124,2384,2799,1289,1217,2246,1358,4241,2775,3863,2828,4526,2051,1300,12204,9157,3676,640,3652,1530,3914,2600,1979,2116,1437,4042,3832,1553,1444,1393,15653,4370,1308,4623,1851,1880,7980,4583,947,684,7476,1922,2303,8086,2346,3973,888,10222,6361,1297,900,2241,1050,6314,3496,4843,3017,4139,5742,10366,2080,2580,5150,5595,2384,2279,1478,5103,9857,6527,1347,2862,2753,3651,975,2896,4716,2284,1236,1103,1800,1905,6331,2503,6560,2118,629,2476,1138,14027,7596,3077,1505,3148,6148,1337,1316,1275,6403,1987,4380,6761,2325,1048,3160,2483,14179,1797,5248,3029,1555,1299,1271,1393,691,2214,12680,2463,1155,3108,3617,1655,3275,2223,1480,3535,5711,4933,1940,1410,6468,1941,2675,2751,6224,5998,6313,1221,2892,3062,7511,717,1549,1597,976,9271,590,930,9283,907,484,9629,3051,3931,1338,15857,1345,1101,3016,2712,731,3780,1602,4165,8335,6681,2375,11816,1082,2957,2611,5179,2993,1559,3422,3976,6761,1249,1364,709,2235,4042,1471,1442,10875,1474,3343,3577,5804,2169,4526,2210,3331,7409,1343,1382,3590,1940,3595,1422,6742,7814,9277,2181,4057,2825,15672,6614,7824,2442,1829,2171,5800,1169,8947,4153,2625,3485,10477,1386,1278,1107,3763,3711,2142,3161,2848,14896,2359,3345,12749,2002,6872,697,10297,1867,1344,1747,1224,522,1919,2063,6288,6842,3527,1546,929,1455,3349,2859,1533,3621,3590,2145,3656,1154,4006,3069,1740,2353,3556,2397,454,2520,7166,3939,1514,7393,7297,2427,2538,1264,8386,4844,8229,2028,6289,6579,1743,3565,1569,1936,3959,2390,3857,804,1845,4576],\"xaxis\":\"x\",\"y\":[6,12,42,24,36,24,36,12,30,24,24,30,24,9,6,10,12,10,6,6,7,60,18,24,18,12,45,48,18,10,9,30,12,18,30,36,11,24,27,12,18,36,6,12,9,15,36,48,27,12,36,7,8,36,12,42,11,54,30,15,10,36,18,12,12,12,24,12,54,18,36,20,24,36,9,12,24,18,12,14,6,18,12,48,12,12,10,12,12,12,12,36,15,18,27,12,15,6,27,18,48,36,18,6,10,36,24,9,12,24,6,24,15,10,36,6,24,15,8,21,12,6,12,21,36,36,21,24,18,15,16,12,24,48,27,6,45,24,18,9,12,27,12,12,30,12,12,24,12,9,27,30,36,18,36,24,12,12,24,15,36,48,12,9,24,36,9,12,18,4,24,6,21,30,6,48,24,12,6,24,24,9,60,24,12,12,18,10,15,36,14,24,18,48,48,30,9,12,24,15,12,18,15,24,48,48,24,12,36,42,48,10,18,21,24,10,48,6,12,9,48,24,12,4,36,12,12,30,24,24,18,8,12,36,6,24,24,6,24,10,18,18,10,13,6,9,18,12,10,24,12,36,12,18,12,6,18,12,18,36,36,18,60,18,7,36,20,12,30,18,15,18,36,9,39,36,12,18,18,24,14,18,24,24,15,24,12,33,12,10,36,12,12,12,21,18,28,18,9,5,24,6,24,9,12,6,42,12,20,12,7,15,36,12,24,24,11,12,18,36,15,12,18,24,48,24,24,9,6,18,39,24,12,15,24,12,6,12,10,6,12,6,12,24,36,24,18,6,36,9,24,10,15,15,24,39,12,36,15,12,24,6,6,6,24,48,26,4,36,6,36,12,24,24,21,48,12,24,30,18,12,24,24,48,6,48,12,12,24,18,24,24,36,24,12,24,48,30,9,36,24,18,12,36,9,12,18,12,24,24,18,24,24,24,18,15,48,60,6,12,21,18,48,18,15,6,9,42,9,18,15,12,60,42,15,15,24,18,36,30,24,12,48,12,24,36,24,14,12,48,18,12,12,21,6,24,30,12,30,24,36,60,6,21,24,72,24,12,15,24,36,60,10,36,9,12,15,24,6,24,6,12,18,15,48,30,48,9,18,21,9,60,30,30,18,24,20,9,15,24,24,24,18,6,24,10,21,24,39,13,21,15,12,6,15,24,12,12,21,24,12,30,12,12,21,24,12,36,36,39,24,12,20,18,22,48,48,40,24,6,24,24,18,24,9,24,12,36,6,12,42,8,6,36,48,48,6,36,18,12,12,36,8,18,21,18,36,48,24,45,12,24,24,36,21,24,18,21,18,24,9,12,20,24,15,18,36,24,15,9,24,18,27,10,12,36,6,24,12,18,36,9,30,24,24,30,24,24,48,36,28,27,15,12,36,18,36,18,16,20,36,15,24,12,21,36,11,24,10,6,24,24,48,12,24,12,48,30,12,24,9,12,30,6,60,24,12,10,24,4,24,12,18,24,18,36,30,9,28,24,6,21,15,24,6,27,42,11,15,24,60,18,24,15,30,48,36,24,42,24,24,12,15,18,36,12,30,12,45,45],\"yaxis\":\"y\",\"type\":\"scatter\"},{\"hovertemplate\":\"Sex=female<br>Credit amount=%{x}<br>Duration=%{y}<extra></extra>\",\"legendgroup\":\"female\",\"marker\":{\"color\":\"#EF553B\",\"symbol\":\"circle\"},\"mode\":\"markers\",\"name\":\"female\",\"orientation\":\"v\",\"showlegend\":true,\"x\":[5951,1295,4308,1567,1403,1282,12579,409,1474,6143,1393,1352,2073,9566,1961,6229,3181,2171,2394,8133,5954,5943,1568,1755,1412,1295,797,2012,932,7721,392,7855,7174,2132,4281,1835,3868,1924,3499,8487,10144,1240,1881,4795,2288,860,682,7758,1282,1055,1131,1577,3972,763,2064,7485,5129,3244,1501,1382,951,3835,932,1364,1200,1291,915,1185,3447,433,666,2251,2150,3812,1154,1603,2748,1533,1402,2404,4611,10722,1092,6419,9960,4675,672,3804,4811,1237,3749,4351,3643,1028,1525,1864,7408,11590,2101,1275,5743,3599,1459,3758,1236,959,2406,2247,3650,3001,2146,14782,7685,362,12976,1283,2238,1126,1449,983,1957,2578,1516,1967,1381,8471,2782,1042,3186,2762,1190,1287,609,1620,5096,1244,1842,1424,518,2679,343,3017,1659,2764,448,3114,3573,3622,960,3757,8318,1237,3123,1207,609,7127,3190,3488,1113,1532,2631,1374,3612,3049,2022,626,996,1199,2278,5003,683,1553,6758,3234,5433,806,2788,2930,1927,1388,2133,2039,385,1965,1572,2718,931,1442,2329,918,1837,3349,1275,2671,741,1240,3357,3632,1808,3441,1858,3660,1980,1355,1376,1493,750,1386,4221,1047,3609,4530,1453,1538,2631,926,1123,1377,2528,5324,2969,1206,1198,433,1228,790,2570,250,1882,6416,760,2603,3380,3990,11560,4280,2511,1274,428,976,841,5771,1285,5045,2124,2901,2812,8065,1371,3509,3872,836,1188,2301,1258,1795,4272,7472,1778,7432,1554,3966,1216,5084,2327,886,601,1943,894,3959,2439,2221,2389,652,7678,874,1322,1098,795,2606,1592,2186,3594,3195,4454,4736,2991,18424,1817,1366,1049,1670,1498,745,1845,8358,4113,10974,1893,1231,1715,3568,1193,2831,1258,753,2923,1433,1409,1736],\"xaxis\":\"x\",\"y\":[48,12,48,12,15,24,24,12,12,48,11,6,12,36,18,36,24,12,36,36,42,24,18,24,12,18,12,12,6,24,15,36,42,10,33,21,24,18,12,48,60,12,12,36,21,6,12,24,12,18,18,11,24,12,24,30,9,18,9,6,12,36,6,10,12,12,24,12,12,18,6,12,30,15,11,24,12,24,12,18,6,47,12,24,48,12,6,36,30,8,24,24,15,18,24,18,60,48,13,15,24,21,15,24,9,9,30,12,18,18,10,60,48,6,18,22,18,18,9,12,6,12,24,24,24,18,21,18,15,12,18,24,12,12,48,9,36,12,6,24,6,12,24,33,6,18,12,30,15,24,27,6,24,24,6,36,18,24,18,15,15,6,18,18,24,12,12,9,18,21,6,24,48,24,24,15,15,12,24,9,12,18,12,24,21,24,6,24,7,9,24,36,10,36,12,10,21,24,18,30,12,24,9,24,24,12,18,12,30,6,48,30,18,6,15,12,12,24,27,15,12,9,6,6,12,9,27,6,18,48,8,24,4,36,24,30,15,12,6,18,12,30,24,15,18,10,24,36,24,18,18,12,21,9,12,18,20,12,15,36,6,18,18,24,15,12,4,18,10,15,24,15,18,12,36,15,11,18,12,21,12,15,15,9,36,24,30,48,18,9,18,9,12,9,15,48,24,36,12,24,30,15,24,30,24,6,21,15,13,12],\"yaxis\":\"y\",\"type\":\"scatter\"}],                        {\"template\":{\"data\":{\"bar\":[{\"error_x\":{\"color\":\"#f2f5fa\"},\"error_y\":{\"color\":\"#f2f5fa\"},\"marker\":{\"line\":{\"color\":\"rgb(17,17,17)\",\"width\":0.5},\"pattern\":{\"fillmode\":\"overlay\",\"size\":10,\"solidity\":0.2}},\"type\":\"bar\"}],\"barpolar\":[{\"marker\":{\"line\":{\"color\":\"rgb(17,17,17)\",\"width\":0.5},\"pattern\":{\"fillmode\":\"overlay\",\"size\":10,\"solidity\":0.2}},\"type\":\"barpolar\"}],\"carpet\":[{\"aaxis\":{\"endlinecolor\":\"#A2B1C6\",\"gridcolor\":\"#506784\",\"linecolor\":\"#506784\",\"minorgridcolor\":\"#506784\",\"startlinecolor\":\"#A2B1C6\"},\"baxis\":{\"endlinecolor\":\"#A2B1C6\",\"gridcolor\":\"#506784\",\"linecolor\":\"#506784\",\"minorgridcolor\":\"#506784\",\"startlinecolor\":\"#A2B1C6\"},\"type\":\"carpet\"}],\"choropleth\":[{\"colorbar\":{\"outlinewidth\":0,\"ticks\":\"\"},\"type\":\"choropleth\"}],\"contour\":[{\"colorbar\":{\"outlinewidth\":0,\"ticks\":\"\"},\"colorscale\":[[0.0,\"#0d0887\"],[0.1111111111111111,\"#46039f\"],[0.2222222222222222,\"#7201a8\"],[0.3333333333333333,\"#9c179e\"],[0.4444444444444444,\"#bd3786\"],[0.5555555555555556,\"#d8576b\"],[0.6666666666666666,\"#ed7953\"],[0.7777777777777778,\"#fb9f3a\"],[0.8888888888888888,\"#fdca26\"],[1.0,\"#f0f921\"]],\"type\":\"contour\"}],\"contourcarpet\":[{\"colorbar\":{\"outlinewidth\":0,\"ticks\":\"\"},\"type\":\"contourcarpet\"}],\"heatmap\":[{\"colorbar\":{\"outlinewidth\":0,\"ticks\":\"\"},\"colorscale\":[[0.0,\"#0d0887\"],[0.1111111111111111,\"#46039f\"],[0.2222222222222222,\"#7201a8\"],[0.3333333333333333,\"#9c179e\"],[0.4444444444444444,\"#bd3786\"],[0.5555555555555556,\"#d8576b\"],[0.6666666666666666,\"#ed7953\"],[0.7777777777777778,\"#fb9f3a\"],[0.8888888888888888,\"#fdca26\"],[1.0,\"#f0f921\"]],\"type\":\"heatmap\"}],\"heatmapgl\":[{\"colorbar\":{\"outlinewidth\":0,\"ticks\":\"\"},\"colorscale\":[[0.0,\"#0d0887\"],[0.1111111111111111,\"#46039f\"],[0.2222222222222222,\"#7201a8\"],[0.3333333333333333,\"#9c179e\"],[0.4444444444444444,\"#bd3786\"],[0.5555555555555556,\"#d8576b\"],[0.6666666666666666,\"#ed7953\"],[0.7777777777777778,\"#fb9f3a\"],[0.8888888888888888,\"#fdca26\"],[1.0,\"#f0f921\"]],\"type\":\"heatmapgl\"}],\"histogram\":[{\"marker\":{\"pattern\":{\"fillmode\":\"overlay\",\"size\":10,\"solidity\":0.2}},\"type\":\"histogram\"}],\"histogram2d\":[{\"colorbar\":{\"outlinewidth\":0,\"ticks\":\"\"},\"colorscale\":[[0.0,\"#0d0887\"],[0.1111111111111111,\"#46039f\"],[0.2222222222222222,\"#7201a8\"],[0.3333333333333333,\"#9c179e\"],[0.4444444444444444,\"#bd3786\"],[0.5555555555555556,\"#d8576b\"],[0.6666666666666666,\"#ed7953\"],[0.7777777777777778,\"#fb9f3a\"],[0.8888888888888888,\"#fdca26\"],[1.0,\"#f0f921\"]],\"type\":\"histogram2d\"}],\"histogram2dcontour\":[{\"colorbar\":{\"outlinewidth\":0,\"ticks\":\"\"},\"colorscale\":[[0.0,\"#0d0887\"],[0.1111111111111111,\"#46039f\"],[0.2222222222222222,\"#7201a8\"],[0.3333333333333333,\"#9c179e\"],[0.4444444444444444,\"#bd3786\"],[0.5555555555555556,\"#d8576b\"],[0.6666666666666666,\"#ed7953\"],[0.7777777777777778,\"#fb9f3a\"],[0.8888888888888888,\"#fdca26\"],[1.0,\"#f0f921\"]],\"type\":\"histogram2dcontour\"}],\"mesh3d\":[{\"colorbar\":{\"outlinewidth\":0,\"ticks\":\"\"},\"type\":\"mesh3d\"}],\"parcoords\":[{\"line\":{\"colorbar\":{\"outlinewidth\":0,\"ticks\":\"\"}},\"type\":\"parcoords\"}],\"pie\":[{\"automargin\":true,\"type\":\"pie\"}],\"scatter\":[{\"marker\":{\"line\":{\"color\":\"#283442\"}},\"type\":\"scatter\"}],\"scatter3d\":[{\"line\":{\"colorbar\":{\"outlinewidth\":0,\"ticks\":\"\"}},\"marker\":{\"colorbar\":{\"outlinewidth\":0,\"ticks\":\"\"}},\"type\":\"scatter3d\"}],\"scattercarpet\":[{\"marker\":{\"colorbar\":{\"outlinewidth\":0,\"ticks\":\"\"}},\"type\":\"scattercarpet\"}],\"scattergeo\":[{\"marker\":{\"colorbar\":{\"outlinewidth\":0,\"ticks\":\"\"}},\"type\":\"scattergeo\"}],\"scattergl\":[{\"marker\":{\"line\":{\"color\":\"#283442\"}},\"type\":\"scattergl\"}],\"scattermapbox\":[{\"marker\":{\"colorbar\":{\"outlinewidth\":0,\"ticks\":\"\"}},\"type\":\"scattermapbox\"}],\"scatterpolar\":[{\"marker\":{\"colorbar\":{\"outlinewidth\":0,\"ticks\":\"\"}},\"type\":\"scatterpolar\"}],\"scatterpolargl\":[{\"marker\":{\"colorbar\":{\"outlinewidth\":0,\"ticks\":\"\"}},\"type\":\"scatterpolargl\"}],\"scatterternary\":[{\"marker\":{\"colorbar\":{\"outlinewidth\":0,\"ticks\":\"\"}},\"type\":\"scatterternary\"}],\"surface\":[{\"colorbar\":{\"outlinewidth\":0,\"ticks\":\"\"},\"colorscale\":[[0.0,\"#0d0887\"],[0.1111111111111111,\"#46039f\"],[0.2222222222222222,\"#7201a8\"],[0.3333333333333333,\"#9c179e\"],[0.4444444444444444,\"#bd3786\"],[0.5555555555555556,\"#d8576b\"],[0.6666666666666666,\"#ed7953\"],[0.7777777777777778,\"#fb9f3a\"],[0.8888888888888888,\"#fdca26\"],[1.0,\"#f0f921\"]],\"type\":\"surface\"}],\"table\":[{\"cells\":{\"fill\":{\"color\":\"#506784\"},\"line\":{\"color\":\"rgb(17,17,17)\"}},\"header\":{\"fill\":{\"color\":\"#2a3f5f\"},\"line\":{\"color\":\"rgb(17,17,17)\"}},\"type\":\"table\"}]},\"layout\":{\"annotationdefaults\":{\"arrowcolor\":\"#f2f5fa\",\"arrowhead\":0,\"arrowwidth\":1},\"autotypenumbers\":\"strict\",\"coloraxis\":{\"colorbar\":{\"outlinewidth\":0,\"ticks\":\"\"}},\"colorscale\":{\"diverging\":[[0,\"#8e0152\"],[0.1,\"#c51b7d\"],[0.2,\"#de77ae\"],[0.3,\"#f1b6da\"],[0.4,\"#fde0ef\"],[0.5,\"#f7f7f7\"],[0.6,\"#e6f5d0\"],[0.7,\"#b8e186\"],[0.8,\"#7fbc41\"],[0.9,\"#4d9221\"],[1,\"#276419\"]],\"sequential\":[[0.0,\"#0d0887\"],[0.1111111111111111,\"#46039f\"],[0.2222222222222222,\"#7201a8\"],[0.3333333333333333,\"#9c179e\"],[0.4444444444444444,\"#bd3786\"],[0.5555555555555556,\"#d8576b\"],[0.6666666666666666,\"#ed7953\"],[0.7777777777777778,\"#fb9f3a\"],[0.8888888888888888,\"#fdca26\"],[1.0,\"#f0f921\"]],\"sequentialminus\":[[0.0,\"#0d0887\"],[0.1111111111111111,\"#46039f\"],[0.2222222222222222,\"#7201a8\"],[0.3333333333333333,\"#9c179e\"],[0.4444444444444444,\"#bd3786\"],[0.5555555555555556,\"#d8576b\"],[0.6666666666666666,\"#ed7953\"],[0.7777777777777778,\"#fb9f3a\"],[0.8888888888888888,\"#fdca26\"],[1.0,\"#f0f921\"]]},\"colorway\":[\"#636efa\",\"#EF553B\",\"#00cc96\",\"#ab63fa\",\"#FFA15A\",\"#19d3f3\",\"#FF6692\",\"#B6E880\",\"#FF97FF\",\"#FECB52\"],\"font\":{\"color\":\"#f2f5fa\"},\"geo\":{\"bgcolor\":\"rgb(17,17,17)\",\"lakecolor\":\"rgb(17,17,17)\",\"landcolor\":\"rgb(17,17,17)\",\"showlakes\":true,\"showland\":true,\"subunitcolor\":\"#506784\"},\"hoverlabel\":{\"align\":\"left\"},\"hovermode\":\"closest\",\"mapbox\":{\"style\":\"dark\"},\"paper_bgcolor\":\"rgb(17,17,17)\",\"plot_bgcolor\":\"rgb(17,17,17)\",\"polar\":{\"angularaxis\":{\"gridcolor\":\"#506784\",\"linecolor\":\"#506784\",\"ticks\":\"\"},\"bgcolor\":\"rgb(17,17,17)\",\"radialaxis\":{\"gridcolor\":\"#506784\",\"linecolor\":\"#506784\",\"ticks\":\"\"}},\"scene\":{\"xaxis\":{\"backgroundcolor\":\"rgb(17,17,17)\",\"gridcolor\":\"#506784\",\"gridwidth\":2,\"linecolor\":\"#506784\",\"showbackground\":true,\"ticks\":\"\",\"zerolinecolor\":\"#C8D4E3\"},\"yaxis\":{\"backgroundcolor\":\"rgb(17,17,17)\",\"gridcolor\":\"#506784\",\"gridwidth\":2,\"linecolor\":\"#506784\",\"showbackground\":true,\"ticks\":\"\",\"zerolinecolor\":\"#C8D4E3\"},\"zaxis\":{\"backgroundcolor\":\"rgb(17,17,17)\",\"gridcolor\":\"#506784\",\"gridwidth\":2,\"linecolor\":\"#506784\",\"showbackground\":true,\"ticks\":\"\",\"zerolinecolor\":\"#C8D4E3\"}},\"shapedefaults\":{\"line\":{\"color\":\"#f2f5fa\"}},\"sliderdefaults\":{\"bgcolor\":\"#C8D4E3\",\"bordercolor\":\"rgb(17,17,17)\",\"borderwidth\":1,\"tickwidth\":0},\"ternary\":{\"aaxis\":{\"gridcolor\":\"#506784\",\"linecolor\":\"#506784\",\"ticks\":\"\"},\"baxis\":{\"gridcolor\":\"#506784\",\"linecolor\":\"#506784\",\"ticks\":\"\"},\"bgcolor\":\"rgb(17,17,17)\",\"caxis\":{\"gridcolor\":\"#506784\",\"linecolor\":\"#506784\",\"ticks\":\"\"}},\"title\":{\"x\":0.05},\"updatemenudefaults\":{\"bgcolor\":\"#506784\",\"borderwidth\":0},\"xaxis\":{\"automargin\":true,\"gridcolor\":\"#283442\",\"linecolor\":\"#506784\",\"ticks\":\"\",\"title\":{\"standoff\":15},\"zerolinecolor\":\"#283442\",\"zerolinewidth\":2},\"yaxis\":{\"automargin\":true,\"gridcolor\":\"#283442\",\"linecolor\":\"#506784\",\"ticks\":\"\",\"title\":{\"standoff\":15},\"zerolinecolor\":\"#283442\",\"zerolinewidth\":2}}},\"xaxis\":{\"anchor\":\"y\",\"domain\":[0.0,1.0],\"title\":{\"text\":\"Credit amount\"}},\"yaxis\":{\"anchor\":\"x\",\"domain\":[0.0,1.0],\"title\":{\"text\":\"Duration\"}},\"legend\":{\"title\":{\"text\":\"Sex\"},\"tracegroupgap\":0},\"title\":{\"text\":\"Credit amount vs Duration\"}},                        {\"responsive\": true}                    ).then(function(){\n",
       "                            \n",
       "var gd = document.getElementById('ccb83765-e4bb-4a9f-a7b0-03c1ae8a7fe4');\n",
       "var x = new MutationObserver(function (mutations, observer) {{\n",
       "        var display = window.getComputedStyle(gd).display;\n",
       "        if (!display || display === 'none') {{\n",
       "            console.log([gd, 'removed!']);\n",
       "            Plotly.purge(gd);\n",
       "            observer.disconnect();\n",
       "        }}\n",
       "}});\n",
       "\n",
       "// Listen for the removal of the full notebook cells\n",
       "var notebookContainer = gd.closest('#notebook-container');\n",
       "if (notebookContainer) {{\n",
       "    x.observe(notebookContainer, {childList: true});\n",
       "}}\n",
       "\n",
       "// Listen for the clearing of the current output cell\n",
       "var outputEl = gd.closest('.output');\n",
       "if (outputEl) {{\n",
       "    x.observe(outputEl, {childList: true});\n",
       "}}\n",
       "\n",
       "                        })                };                            </script>        </div>\n",
       "</body>\n",
       "</html>"
      ]
     },
     "metadata": {},
     "output_type": "display_data"
    },
    {
     "data": {
      "text/plain": [
       "<Figure size 960x480 with 0 Axes>"
      ]
     },
     "metadata": {},
     "output_type": "display_data"
    }
   ],
   "source": [
    "plt.figure(figsize = (8, 4), dpi=120)\n",
    "px.scatter(df, x='Credit amount', y='Duration', color='Sex',\n",
    "           title='Credit amount vs Duration')"
   ]
  },
  {
   "cell_type": "markdown",
   "metadata": {
    "id": "Bu3zpeEOkh26"
   },
   "source": [
    "This plot shows first that if the credit amount and the duration increase, the number of credits decrease, second the highest concentration of credits are between 1k and 5k in credits amount and in terms of duration 1 and 22 months"
   ]
  },
  {
   "cell_type": "code",
   "execution_count": 230,
   "metadata": {
    "colab": {
     "base_uri": "https://localhost:8080/",
     "height": 559
    },
    "id": "vrigQJjUkJD-",
    "outputId": "05181e77-1dca-4273-8175-b0eca265b1ed"
   },
   "outputs": [
    {
     "data": {
      "text/html": [
       "<html>\n",
       "<head><meta charset=\"utf-8\" /></head>\n",
       "<body>\n",
       "    <div>            <script src=\"https://cdnjs.cloudflare.com/ajax/libs/mathjax/2.7.5/MathJax.js?config=TeX-AMS-MML_SVG\"></script><script type=\"text/javascript\">if (window.MathJax) {MathJax.Hub.Config({SVG: {font: \"STIX-Web\"}});}</script>                <script type=\"text/javascript\">window.PlotlyConfig = {MathJaxConfig: 'local'};</script>\n",
       "        <script src=\"https://cdn.plot.ly/plotly-2.8.3.min.js\"></script>                <div id=\"0e6a81d0-b8b3-46ce-9c1f-0f25190c29c7\" class=\"plotly-graph-div\" style=\"height:525px; width:100%;\"></div>            <script type=\"text/javascript\">                                    window.PLOTLYENV=window.PLOTLYENV || {};                                    if (document.getElementById(\"0e6a81d0-b8b3-46ce-9c1f-0f25190c29c7\")) {                    Plotly.newPlot(                        \"0e6a81d0-b8b3-46ce-9c1f-0f25190c29c7\",                        [{\"hovertemplate\":\"Sex=male<br>Credit amount=%{x}<br>Age=%{y}<extra></extra>\",\"legendgroup\":\"male\",\"marker\":{\"color\":\"#636efa\",\"symbol\":\"circle\"},\"mode\":\"markers\",\"name\":\"male\",\"orientation\":\"v\",\"showlegend\":true,\"x\":[1169,2096,7882,4870,9055,2835,6948,3059,5234,1199,2424,8072,3430,2134,2647,2241,1804,2069,1374,426,2415,6836,1913,4020,5866,1264,4746,6110,2100,1225,458,2333,1158,6204,6187,2299,7228,2333,5965,1262,3378,2225,783,6468,1391,1537,1953,14421,5190,1007,1819,730,1164,1977,1526,3965,4771,9436,3832,1213,2315,12612,2249,1108,618,1409,3617,1318,15945,2622,2337,7057,1469,2323,1919,2445,11938,6458,6078,1410,1449,6260,1680,3578,2366,1768,781,2121,701,639,1860,6887,2708,1984,8613,766,2728,709,3416,2462,3566,5371,1582,1346,1924,5848,6967,1288,339,3512,1898,2872,1262,7308,909,2978,1935,950,1414,3414,2577,338,1963,571,9572,4455,1647,3777,884,1360,1175,674,4591,3844,3915,2108,3031,2760,4297,936,1168,5117,902,1495,10623,1935,1424,6568,1413,3074,5293,1908,3342,3104,3913,3021,625,707,2978,4657,2613,10961,7865,1478,3149,4210,2507,2141,866,1544,1823,14555,2767,2522,1595,4605,1258,717,1204,1925,4151,2030,7418,2684,2149,1657,5302,1231,802,6304,8978,999,2662,12169,3060,11998,2697,1262,1901,3368,1574,1445,1520,3878,4788,7582,1024,1076,9398,4796,7629,1287,2515,2745,1344,1038,10127,1543,727,276,5381,5511,685,1494,2746,708,701,4249,1938,2910,2659,3398,5801,4473,1068,6615,4110,3384,4169,1521,3213,4439,3949,882,1743,1136,3229,6199,727,1246,2331,4463,776,1239,3399,1766,2473,1542,3850,3446,3079,6070,13756,2320,846,14318,2212,1330,4272,7374,2326,1820,3249,2406,11760,2348,1223,1473,1887,8648,802,2899,2039,2197,1053,3235,939,7253,2292,1597,5842,2579,2028,958,1591,2779,2743,1149,1313,3448,11328,1872,2058,2136,1484,660,3394,1884,2629,719,2576,1512,11054,2759,2670,4817,3905,3386,4594,3620,1721,754,1950,2924,7238,4679,3092,654,1238,1245,2569,5152,1037,1478,1201,1163,1209,3077,1418,3518,1934,368,2122,2996,9034,1585,1301,1323,5493,1126,1216,1309,2360,6850,1413,8588,759,4686,2687,585,2255,1361,1203,700,5507,7119,7966,1503,2302,662,2273,1503,1311,3105,2319,7763,1534,2032,6350,2864,1255,1333,1552,8858,1750,6999,1995,1331,3552,1928,2964,1546,12389,4712,1372,2578,3979,5954,1082,2820,937,1056,3124,2384,2799,1289,1217,2246,1358,4241,2775,3863,2828,4526,2051,1300,12204,9157,3676,640,3652,1530,3914,2600,1979,2116,1437,4042,3832,1553,1444,1393,15653,4370,1308,4623,1851,1880,7980,4583,947,684,7476,1922,2303,8086,2346,3973,888,10222,6361,1297,900,2241,1050,6314,3496,4843,3017,4139,5742,10366,2080,2580,5150,5595,2384,2279,1478,5103,9857,6527,1347,2862,2753,3651,975,2896,4716,2284,1236,1103,1800,1905,6331,2503,6560,2118,629,2476,1138,14027,7596,3077,1505,3148,6148,1337,1316,1275,6403,1987,4380,6761,2325,1048,3160,2483,14179,1797,5248,3029,1555,1299,1271,1393,691,2214,12680,2463,1155,3108,3617,1655,3275,2223,1480,3535,5711,4933,1940,1410,6468,1941,2675,2751,6224,5998,6313,1221,2892,3062,7511,717,1549,1597,976,9271,590,930,9283,907,484,9629,3051,3931,1338,15857,1345,1101,3016,2712,731,3780,1602,4165,8335,6681,2375,11816,1082,2957,2611,5179,2993,1559,3422,3976,6761,1249,1364,709,2235,4042,1471,1442,10875,1474,3343,3577,5804,2169,4526,2210,3331,7409,1343,1382,3590,1940,3595,1422,6742,7814,9277,2181,4057,2825,15672,6614,7824,2442,1829,2171,5800,1169,8947,4153,2625,3485,10477,1386,1278,1107,3763,3711,2142,3161,2848,14896,2359,3345,12749,2002,6872,697,10297,1867,1344,1747,1224,522,1919,2063,6288,6842,3527,1546,929,1455,3349,2859,1533,3621,3590,2145,3656,1154,4006,3069,1740,2353,3556,2397,454,2520,7166,3939,1514,7393,7297,2427,2538,1264,8386,4844,8229,2028,6289,6579,1743,3565,1569,1936,3959,2390,3857,804,1845,4576],\"xaxis\":\"x\",\"y\":[67,49,45,53,35,53,35,61,28,60,53,25,31,48,44,48,44,26,36,39,34,63,36,27,30,57,25,31,37,37,24,30,26,44,24,39,39,29,30,25,31,57,26,52,27,50,61,25,48,22,37,46,51,40,66,34,51,39,22,47,52,47,30,28,56,54,20,54,58,34,36,36,41,24,35,26,39,39,32,35,31,28,35,47,36,24,63,30,40,30,34,29,27,47,27,66,35,27,27,22,30,28,46,42,38,24,36,48,45,38,34,36,36,70,36,32,31,33,33,26,42,52,31,65,28,30,40,50,36,31,68,20,54,34,36,29,21,36,40,52,27,26,21,38,38,43,26,21,55,33,50,66,51,31,23,24,26,30,32,30,27,27,53,22,22,26,51,35,25,42,30,23,61,39,51,24,25,52,35,26,35,24,27,35,29,27,36,32,37,36,45,25,32,36,28,34,32,49,29,23,50,49,63,37,26,31,48,26,28,56,46,45,43,32,37,49,44,33,33,22,40,25,25,29,31,38,32,28,32,34,28,39,49,31,28,75,23,44,28,31,25,33,37,23,34,32,38,28,46,23,49,26,28,61,37,21,25,36,27,42,36,33,63,34,36,57,39,26,26,40,27,30,39,31,32,46,46,39,28,27,27,43,22,43,27,26,28,35,42,40,35,33,30,47,34,21,29,46,20,74,29,36,33,25,25,23,65,39,29,41,35,61,30,34,35,31,36,35,32,37,36,38,34,63,32,35,22,28,36,33,24,25,39,44,26,44,47,52,35,26,26,38,39,20,29,40,32,28,42,49,38,27,36,34,28,45,26,32,26,20,54,40,43,36,44,53,30,42,31,41,32,41,26,25,33,42,23,60,31,34,61,43,32,35,45,34,27,22,27,31,49,24,37,37,36,34,41,38,27,27,27,30,49,33,36,21,47,60,40,36,31,32,22,74,33,45,48,27,37,49,27,32,38,65,35,41,29,36,64,44,23,47,21,26,38,40,33,32,27,32,38,40,50,37,45,42,35,22,41,37,41,23,23,50,35,27,34,43,47,27,31,42,24,41,33,24,64,37,33,47,31,34,27,30,35,31,25,29,44,28,50,29,24,40,46,41,24,37,32,46,25,27,63,40,32,31,31,34,47,36,33,21,35,45,32,23,41,22,30,28,26,33,55,74,39,31,35,24,30,27,40,31,28,63,36,52,66,37,38,25,60,31,60,35,40,38,50,27,41,27,51,32,51,54,35,54,35,24,26,65,55,26,28,24,54,46,62,43,26,27,24,41,47,35,30,36,47,38,44,29,48,63,46,29,28,50,47,35,68,28,59,57,33,43,35,32,45,33,28,26,27,28,32,25,42,37,46,26,29,36,28,27,36,38,48,36,43,34,23,34,40,43,46,38,34,29,31,42,43,44,42,40,36,20,24,27,28,31,32,68,33,39,37,30,55,46,39,58,43,24,30,42,30,30,42,46,45,31,31,42,30,38,43,31,40,24,49,37,45,30,30,47,29,35,22,23,29,40,22,43,36,42,47,25,49,33,26,30,33,29,48,37,34,23,30,50,40,38,23,27],\"yaxis\":\"y\",\"type\":\"scatter\"},{\"hovertemplate\":\"Sex=female<br>Credit amount=%{x}<br>Age=%{y}<extra></extra>\",\"legendgroup\":\"female\",\"marker\":{\"color\":\"#EF553B\",\"symbol\":\"circle\"},\"mode\":\"markers\",\"name\":\"female\",\"orientation\":\"v\",\"showlegend\":true,\"x\":[5951,1295,4308,1567,1403,1282,12579,409,1474,6143,1393,1352,2073,9566,1961,6229,3181,2171,2394,8133,5954,5943,1568,1755,1412,1295,797,2012,932,7721,392,7855,7174,2132,4281,1835,3868,1924,3499,8487,10144,1240,1881,4795,2288,860,682,7758,1282,1055,1131,1577,3972,763,2064,7485,5129,3244,1501,1382,951,3835,932,1364,1200,1291,915,1185,3447,433,666,2251,2150,3812,1154,1603,2748,1533,1402,2404,4611,10722,1092,6419,9960,4675,672,3804,4811,1237,3749,4351,3643,1028,1525,1864,7408,11590,2101,1275,5743,3599,1459,3758,1236,959,2406,2247,3650,3001,2146,14782,7685,362,12976,1283,2238,1126,1449,983,1957,2578,1516,1967,1381,8471,2782,1042,3186,2762,1190,1287,609,1620,5096,1244,1842,1424,518,2679,343,3017,1659,2764,448,3114,3573,3622,960,3757,8318,1237,3123,1207,609,7127,3190,3488,1113,1532,2631,1374,3612,3049,2022,626,996,1199,2278,5003,683,1553,6758,3234,5433,806,2788,2930,1927,1388,2133,2039,385,1965,1572,2718,931,1442,2329,918,1837,3349,1275,2671,741,1240,3357,3632,1808,3441,1858,3660,1980,1355,1376,1493,750,1386,4221,1047,3609,4530,1453,1538,2631,926,1123,1377,2528,5324,2969,1206,1198,433,1228,790,2570,250,1882,6416,760,2603,3380,3990,11560,4280,2511,1274,428,976,841,5771,1285,5045,2124,2901,2812,8065,1371,3509,3872,836,1188,2301,1258,1795,4272,7472,1778,7432,1554,3966,1216,5084,2327,886,601,1943,894,3959,2439,2221,2389,652,7678,874,1322,1098,795,2606,1592,2186,3594,3195,4454,4736,2991,18424,1817,1366,1049,1670,1498,745,1845,8358,4113,10974,1893,1231,1715,3568,1193,2831,1258,753,2923,1433,1409,1736],\"xaxis\":\"x\",\"y\":[22,25,24,22,28,32,44,42,33,58,35,23,28,31,23,23,26,29,25,30,41,44,24,58,29,27,33,61,24,30,23,25,30,27,23,25,41,27,29,24,21,38,44,30,23,39,51,29,20,30,33,20,25,26,34,53,74,33,34,28,27,45,39,64,23,35,29,27,35,22,39,46,24,23,57,55,57,38,37,26,32,35,49,44,26,20,54,42,24,24,26,48,27,36,34,30,24,24,23,24,24,26,43,23,23,29,23,36,22,40,23,60,37,52,38,25,25,21,27,19,31,55,43,20,35,23,31,33,20,25,55,37,26,30,30,41,34,55,29,29,27,34,29,26,23,26,23,57,30,62,42,27,27,24,37,23,24,23,26,31,28,75,37,45,37,24,23,67,28,29,29,23,31,23,26,22,24,27,33,26,52,20,58,42,36,20,32,23,45,30,34,28,23,50,22,48,29,22,22,21,22,28,19,25,28,34,27,26,28,50,27,26,26,56,25,38,29,47,32,35,25,25,35,24,24,66,21,41,25,59,44,28,37,29,23,26,23,37,49,23,23,25,32,59,24,31,26,25,25,25,67,23,39,22,22,48,24,24,26,54,24,33,23,42,25,21,23,23,40,29,35,20,27,24,40,24,40,65,53,28,35,33,46,33,34,25,25,32,28,22,21,22,23,28,46,30,28,26,29,57,26,54,29,33,57,64,28,25,64,31],\"yaxis\":\"y\",\"type\":\"scatter\"}],                        {\"template\":{\"data\":{\"bar\":[{\"error_x\":{\"color\":\"#f2f5fa\"},\"error_y\":{\"color\":\"#f2f5fa\"},\"marker\":{\"line\":{\"color\":\"rgb(17,17,17)\",\"width\":0.5},\"pattern\":{\"fillmode\":\"overlay\",\"size\":10,\"solidity\":0.2}},\"type\":\"bar\"}],\"barpolar\":[{\"marker\":{\"line\":{\"color\":\"rgb(17,17,17)\",\"width\":0.5},\"pattern\":{\"fillmode\":\"overlay\",\"size\":10,\"solidity\":0.2}},\"type\":\"barpolar\"}],\"carpet\":[{\"aaxis\":{\"endlinecolor\":\"#A2B1C6\",\"gridcolor\":\"#506784\",\"linecolor\":\"#506784\",\"minorgridcolor\":\"#506784\",\"startlinecolor\":\"#A2B1C6\"},\"baxis\":{\"endlinecolor\":\"#A2B1C6\",\"gridcolor\":\"#506784\",\"linecolor\":\"#506784\",\"minorgridcolor\":\"#506784\",\"startlinecolor\":\"#A2B1C6\"},\"type\":\"carpet\"}],\"choropleth\":[{\"colorbar\":{\"outlinewidth\":0,\"ticks\":\"\"},\"type\":\"choropleth\"}],\"contour\":[{\"colorbar\":{\"outlinewidth\":0,\"ticks\":\"\"},\"colorscale\":[[0.0,\"#0d0887\"],[0.1111111111111111,\"#46039f\"],[0.2222222222222222,\"#7201a8\"],[0.3333333333333333,\"#9c179e\"],[0.4444444444444444,\"#bd3786\"],[0.5555555555555556,\"#d8576b\"],[0.6666666666666666,\"#ed7953\"],[0.7777777777777778,\"#fb9f3a\"],[0.8888888888888888,\"#fdca26\"],[1.0,\"#f0f921\"]],\"type\":\"contour\"}],\"contourcarpet\":[{\"colorbar\":{\"outlinewidth\":0,\"ticks\":\"\"},\"type\":\"contourcarpet\"}],\"heatmap\":[{\"colorbar\":{\"outlinewidth\":0,\"ticks\":\"\"},\"colorscale\":[[0.0,\"#0d0887\"],[0.1111111111111111,\"#46039f\"],[0.2222222222222222,\"#7201a8\"],[0.3333333333333333,\"#9c179e\"],[0.4444444444444444,\"#bd3786\"],[0.5555555555555556,\"#d8576b\"],[0.6666666666666666,\"#ed7953\"],[0.7777777777777778,\"#fb9f3a\"],[0.8888888888888888,\"#fdca26\"],[1.0,\"#f0f921\"]],\"type\":\"heatmap\"}],\"heatmapgl\":[{\"colorbar\":{\"outlinewidth\":0,\"ticks\":\"\"},\"colorscale\":[[0.0,\"#0d0887\"],[0.1111111111111111,\"#46039f\"],[0.2222222222222222,\"#7201a8\"],[0.3333333333333333,\"#9c179e\"],[0.4444444444444444,\"#bd3786\"],[0.5555555555555556,\"#d8576b\"],[0.6666666666666666,\"#ed7953\"],[0.7777777777777778,\"#fb9f3a\"],[0.8888888888888888,\"#fdca26\"],[1.0,\"#f0f921\"]],\"type\":\"heatmapgl\"}],\"histogram\":[{\"marker\":{\"pattern\":{\"fillmode\":\"overlay\",\"size\":10,\"solidity\":0.2}},\"type\":\"histogram\"}],\"histogram2d\":[{\"colorbar\":{\"outlinewidth\":0,\"ticks\":\"\"},\"colorscale\":[[0.0,\"#0d0887\"],[0.1111111111111111,\"#46039f\"],[0.2222222222222222,\"#7201a8\"],[0.3333333333333333,\"#9c179e\"],[0.4444444444444444,\"#bd3786\"],[0.5555555555555556,\"#d8576b\"],[0.6666666666666666,\"#ed7953\"],[0.7777777777777778,\"#fb9f3a\"],[0.8888888888888888,\"#fdca26\"],[1.0,\"#f0f921\"]],\"type\":\"histogram2d\"}],\"histogram2dcontour\":[{\"colorbar\":{\"outlinewidth\":0,\"ticks\":\"\"},\"colorscale\":[[0.0,\"#0d0887\"],[0.1111111111111111,\"#46039f\"],[0.2222222222222222,\"#7201a8\"],[0.3333333333333333,\"#9c179e\"],[0.4444444444444444,\"#bd3786\"],[0.5555555555555556,\"#d8576b\"],[0.6666666666666666,\"#ed7953\"],[0.7777777777777778,\"#fb9f3a\"],[0.8888888888888888,\"#fdca26\"],[1.0,\"#f0f921\"]],\"type\":\"histogram2dcontour\"}],\"mesh3d\":[{\"colorbar\":{\"outlinewidth\":0,\"ticks\":\"\"},\"type\":\"mesh3d\"}],\"parcoords\":[{\"line\":{\"colorbar\":{\"outlinewidth\":0,\"ticks\":\"\"}},\"type\":\"parcoords\"}],\"pie\":[{\"automargin\":true,\"type\":\"pie\"}],\"scatter\":[{\"marker\":{\"line\":{\"color\":\"#283442\"}},\"type\":\"scatter\"}],\"scatter3d\":[{\"line\":{\"colorbar\":{\"outlinewidth\":0,\"ticks\":\"\"}},\"marker\":{\"colorbar\":{\"outlinewidth\":0,\"ticks\":\"\"}},\"type\":\"scatter3d\"}],\"scattercarpet\":[{\"marker\":{\"colorbar\":{\"outlinewidth\":0,\"ticks\":\"\"}},\"type\":\"scattercarpet\"}],\"scattergeo\":[{\"marker\":{\"colorbar\":{\"outlinewidth\":0,\"ticks\":\"\"}},\"type\":\"scattergeo\"}],\"scattergl\":[{\"marker\":{\"line\":{\"color\":\"#283442\"}},\"type\":\"scattergl\"}],\"scattermapbox\":[{\"marker\":{\"colorbar\":{\"outlinewidth\":0,\"ticks\":\"\"}},\"type\":\"scattermapbox\"}],\"scatterpolar\":[{\"marker\":{\"colorbar\":{\"outlinewidth\":0,\"ticks\":\"\"}},\"type\":\"scatterpolar\"}],\"scatterpolargl\":[{\"marker\":{\"colorbar\":{\"outlinewidth\":0,\"ticks\":\"\"}},\"type\":\"scatterpolargl\"}],\"scatterternary\":[{\"marker\":{\"colorbar\":{\"outlinewidth\":0,\"ticks\":\"\"}},\"type\":\"scatterternary\"}],\"surface\":[{\"colorbar\":{\"outlinewidth\":0,\"ticks\":\"\"},\"colorscale\":[[0.0,\"#0d0887\"],[0.1111111111111111,\"#46039f\"],[0.2222222222222222,\"#7201a8\"],[0.3333333333333333,\"#9c179e\"],[0.4444444444444444,\"#bd3786\"],[0.5555555555555556,\"#d8576b\"],[0.6666666666666666,\"#ed7953\"],[0.7777777777777778,\"#fb9f3a\"],[0.8888888888888888,\"#fdca26\"],[1.0,\"#f0f921\"]],\"type\":\"surface\"}],\"table\":[{\"cells\":{\"fill\":{\"color\":\"#506784\"},\"line\":{\"color\":\"rgb(17,17,17)\"}},\"header\":{\"fill\":{\"color\":\"#2a3f5f\"},\"line\":{\"color\":\"rgb(17,17,17)\"}},\"type\":\"table\"}]},\"layout\":{\"annotationdefaults\":{\"arrowcolor\":\"#f2f5fa\",\"arrowhead\":0,\"arrowwidth\":1},\"autotypenumbers\":\"strict\",\"coloraxis\":{\"colorbar\":{\"outlinewidth\":0,\"ticks\":\"\"}},\"colorscale\":{\"diverging\":[[0,\"#8e0152\"],[0.1,\"#c51b7d\"],[0.2,\"#de77ae\"],[0.3,\"#f1b6da\"],[0.4,\"#fde0ef\"],[0.5,\"#f7f7f7\"],[0.6,\"#e6f5d0\"],[0.7,\"#b8e186\"],[0.8,\"#7fbc41\"],[0.9,\"#4d9221\"],[1,\"#276419\"]],\"sequential\":[[0.0,\"#0d0887\"],[0.1111111111111111,\"#46039f\"],[0.2222222222222222,\"#7201a8\"],[0.3333333333333333,\"#9c179e\"],[0.4444444444444444,\"#bd3786\"],[0.5555555555555556,\"#d8576b\"],[0.6666666666666666,\"#ed7953\"],[0.7777777777777778,\"#fb9f3a\"],[0.8888888888888888,\"#fdca26\"],[1.0,\"#f0f921\"]],\"sequentialminus\":[[0.0,\"#0d0887\"],[0.1111111111111111,\"#46039f\"],[0.2222222222222222,\"#7201a8\"],[0.3333333333333333,\"#9c179e\"],[0.4444444444444444,\"#bd3786\"],[0.5555555555555556,\"#d8576b\"],[0.6666666666666666,\"#ed7953\"],[0.7777777777777778,\"#fb9f3a\"],[0.8888888888888888,\"#fdca26\"],[1.0,\"#f0f921\"]]},\"colorway\":[\"#636efa\",\"#EF553B\",\"#00cc96\",\"#ab63fa\",\"#FFA15A\",\"#19d3f3\",\"#FF6692\",\"#B6E880\",\"#FF97FF\",\"#FECB52\"],\"font\":{\"color\":\"#f2f5fa\"},\"geo\":{\"bgcolor\":\"rgb(17,17,17)\",\"lakecolor\":\"rgb(17,17,17)\",\"landcolor\":\"rgb(17,17,17)\",\"showlakes\":true,\"showland\":true,\"subunitcolor\":\"#506784\"},\"hoverlabel\":{\"align\":\"left\"},\"hovermode\":\"closest\",\"mapbox\":{\"style\":\"dark\"},\"paper_bgcolor\":\"rgb(17,17,17)\",\"plot_bgcolor\":\"rgb(17,17,17)\",\"polar\":{\"angularaxis\":{\"gridcolor\":\"#506784\",\"linecolor\":\"#506784\",\"ticks\":\"\"},\"bgcolor\":\"rgb(17,17,17)\",\"radialaxis\":{\"gridcolor\":\"#506784\",\"linecolor\":\"#506784\",\"ticks\":\"\"}},\"scene\":{\"xaxis\":{\"backgroundcolor\":\"rgb(17,17,17)\",\"gridcolor\":\"#506784\",\"gridwidth\":2,\"linecolor\":\"#506784\",\"showbackground\":true,\"ticks\":\"\",\"zerolinecolor\":\"#C8D4E3\"},\"yaxis\":{\"backgroundcolor\":\"rgb(17,17,17)\",\"gridcolor\":\"#506784\",\"gridwidth\":2,\"linecolor\":\"#506784\",\"showbackground\":true,\"ticks\":\"\",\"zerolinecolor\":\"#C8D4E3\"},\"zaxis\":{\"backgroundcolor\":\"rgb(17,17,17)\",\"gridcolor\":\"#506784\",\"gridwidth\":2,\"linecolor\":\"#506784\",\"showbackground\":true,\"ticks\":\"\",\"zerolinecolor\":\"#C8D4E3\"}},\"shapedefaults\":{\"line\":{\"color\":\"#f2f5fa\"}},\"sliderdefaults\":{\"bgcolor\":\"#C8D4E3\",\"bordercolor\":\"rgb(17,17,17)\",\"borderwidth\":1,\"tickwidth\":0},\"ternary\":{\"aaxis\":{\"gridcolor\":\"#506784\",\"linecolor\":\"#506784\",\"ticks\":\"\"},\"baxis\":{\"gridcolor\":\"#506784\",\"linecolor\":\"#506784\",\"ticks\":\"\"},\"bgcolor\":\"rgb(17,17,17)\",\"caxis\":{\"gridcolor\":\"#506784\",\"linecolor\":\"#506784\",\"ticks\":\"\"}},\"title\":{\"x\":0.05},\"updatemenudefaults\":{\"bgcolor\":\"#506784\",\"borderwidth\":0},\"xaxis\":{\"automargin\":true,\"gridcolor\":\"#283442\",\"linecolor\":\"#506784\",\"ticks\":\"\",\"title\":{\"standoff\":15},\"zerolinecolor\":\"#283442\",\"zerolinewidth\":2},\"yaxis\":{\"automargin\":true,\"gridcolor\":\"#283442\",\"linecolor\":\"#506784\",\"ticks\":\"\",\"title\":{\"standoff\":15},\"zerolinecolor\":\"#283442\",\"zerolinewidth\":2}}},\"xaxis\":{\"anchor\":\"y\",\"domain\":[0.0,1.0],\"title\":{\"text\":\"Credit amount\"}},\"yaxis\":{\"anchor\":\"x\",\"domain\":[0.0,1.0],\"title\":{\"text\":\"Age\"}},\"legend\":{\"title\":{\"text\":\"Sex\"},\"tracegroupgap\":0},\"title\":{\"text\":\"Credit amount vs Age\"}},                        {\"responsive\": true}                    ).then(function(){\n",
       "                            \n",
       "var gd = document.getElementById('0e6a81d0-b8b3-46ce-9c1f-0f25190c29c7');\n",
       "var x = new MutationObserver(function (mutations, observer) {{\n",
       "        var display = window.getComputedStyle(gd).display;\n",
       "        if (!display || display === 'none') {{\n",
       "            console.log([gd, 'removed!']);\n",
       "            Plotly.purge(gd);\n",
       "            observer.disconnect();\n",
       "        }}\n",
       "}});\n",
       "\n",
       "// Listen for the removal of the full notebook cells\n",
       "var notebookContainer = gd.closest('#notebook-container');\n",
       "if (notebookContainer) {{\n",
       "    x.observe(notebookContainer, {childList: true});\n",
       "}}\n",
       "\n",
       "// Listen for the clearing of the current output cell\n",
       "var outputEl = gd.closest('.output');\n",
       "if (outputEl) {{\n",
       "    x.observe(outputEl, {childList: true});\n",
       "}}\n",
       "\n",
       "                        })                };                            </script>        </div>\n",
       "</body>\n",
       "</html>"
      ]
     },
     "metadata": {},
     "output_type": "display_data"
    },
    {
     "data": {
      "text/plain": [
       "<Figure size 960x480 with 0 Axes>"
      ]
     },
     "metadata": {},
     "output_type": "display_data"
    }
   ],
   "source": [
    "plt.figure(figsize = (8, 4), dpi=120)\n",
    "px.scatter(df, x='Credit amount', y='Age', color='Sex',\n",
    "           title='Credit amount vs Age')"
   ]
  },
  {
   "cell_type": "markdown",
   "metadata": {
    "id": "mnnsfDCmm2Ib"
   },
   "source": [
    "The impression in the plot above is that women tend to be younger than men, besides women usually take lower credits"
   ]
  },
  {
   "cell_type": "code",
   "execution_count": 231,
   "metadata": {
    "colab": {
     "base_uri": "https://localhost:8080/",
     "height": 559
    },
    "id": "jImwlxOO_r1W",
    "outputId": "d1d4f1a7-484d-4fcb-9ee0-e98ab71b7b43"
   },
   "outputs": [
    {
     "data": {
      "text/html": [
       "<html>\n",
       "<head><meta charset=\"utf-8\" /></head>\n",
       "<body>\n",
       "    <div>            <script src=\"https://cdnjs.cloudflare.com/ajax/libs/mathjax/2.7.5/MathJax.js?config=TeX-AMS-MML_SVG\"></script><script type=\"text/javascript\">if (window.MathJax) {MathJax.Hub.Config({SVG: {font: \"STIX-Web\"}});}</script>                <script type=\"text/javascript\">window.PlotlyConfig = {MathJaxConfig: 'local'};</script>\n",
       "        <script src=\"https://cdn.plot.ly/plotly-2.8.3.min.js\"></script>                <div id=\"94f9ab20-b96e-4cd7-8b08-fb6ed7668fd9\" class=\"plotly-graph-div\" style=\"height:525px; width:100%;\"></div>            <script type=\"text/javascript\">                                    window.PLOTLYENV=window.PLOTLYENV || {};                                    if (document.getElementById(\"94f9ab20-b96e-4cd7-8b08-fb6ed7668fd9\")) {                    Plotly.newPlot(                        \"94f9ab20-b96e-4cd7-8b08-fb6ed7668fd9\",                        [{\"alignmentgroup\":\"True\",\"bingroup\":\"x\",\"histfunc\":\"sum\",\"hovertemplate\":\"Sex=male<br>Age Cohorte=%{x}<br>sum of Credit amount=%{y}<extra></extra>\",\"legendgroup\":\"male\",\"marker\":{\"color\":\"#636efa\",\"pattern\":{\"shape\":\"\"}},\"name\":\"male\",\"offsetgroup\":\"male\",\"orientation\":\"v\",\"showlegend\":true,\"x\":[\"51-75\",\"26-50\",\"26-50\",\"51-75\",\"26-50\",\"51-75\",\"26-50\",\"51-75\",\"26-50\",\"51-75\",\"51-75\",\"0-25\",\"26-50\",\"26-50\",\"26-50\",\"26-50\",\"26-50\",\"26-50\",\"26-50\",\"26-50\",\"26-50\",\"51-75\",\"26-50\",\"26-50\",\"26-50\",\"51-75\",\"0-25\",\"26-50\",\"26-50\",\"26-50\",\"0-25\",\"26-50\",\"26-50\",\"26-50\",\"0-25\",\"26-50\",\"26-50\",\"26-50\",\"26-50\",\"0-25\",\"26-50\",\"51-75\",\"26-50\",\"51-75\",\"26-50\",\"26-50\",\"51-75\",\"0-25\",\"26-50\",\"0-25\",\"26-50\",\"26-50\",\"51-75\",\"26-50\",\"51-75\",\"26-50\",\"51-75\",\"26-50\",\"0-25\",\"26-50\",\"51-75\",\"26-50\",\"26-50\",\"26-50\",\"51-75\",\"51-75\",\"0-25\",\"51-75\",\"51-75\",\"26-50\",\"26-50\",\"26-50\",\"26-50\",\"0-25\",\"26-50\",\"26-50\",\"26-50\",\"26-50\",\"26-50\",\"26-50\",\"26-50\",\"26-50\",\"26-50\",\"26-50\",\"26-50\",\"0-25\",\"51-75\",\"26-50\",\"26-50\",\"26-50\",\"26-50\",\"26-50\",\"26-50\",\"26-50\",\"26-50\",\"51-75\",\"26-50\",\"26-50\",\"26-50\",\"0-25\",\"26-50\",\"26-50\",\"26-50\",\"26-50\",\"26-50\",\"0-25\",\"26-50\",\"26-50\",\"26-50\",\"26-50\",\"26-50\",\"26-50\",\"26-50\",\"51-75\",\"26-50\",\"26-50\",\"26-50\",\"26-50\",\"26-50\",\"26-50\",\"26-50\",\"51-75\",\"26-50\",\"51-75\",\"26-50\",\"26-50\",\"26-50\",\"26-50\",\"26-50\",\"26-50\",\"51-75\",\"0-25\",\"51-75\",\"26-50\",\"26-50\",\"26-50\",\"0-25\",\"26-50\",\"26-50\",\"51-75\",\"26-50\",\"26-50\",\"0-25\",\"26-50\",\"26-50\",\"26-50\",\"26-50\",\"0-25\",\"51-75\",\"26-50\",\"26-50\",\"51-75\",\"51-75\",\"26-50\",\"0-25\",\"0-25\",\"26-50\",\"26-50\",\"26-50\",\"26-50\",\"26-50\",\"26-50\",\"51-75\",\"0-25\",\"0-25\",\"26-50\",\"51-75\",\"26-50\",\"0-25\",\"26-50\",\"26-50\",\"0-25\",\"51-75\",\"26-50\",\"51-75\",\"0-25\",\"0-25\",\"51-75\",\"26-50\",\"26-50\",\"26-50\",\"0-25\",\"26-50\",\"26-50\",\"26-50\",\"26-50\",\"26-50\",\"26-50\",\"26-50\",\"26-50\",\"26-50\",\"0-25\",\"26-50\",\"26-50\",\"26-50\",\"26-50\",\"26-50\",\"26-50\",\"26-50\",\"0-25\",\"26-50\",\"26-50\",\"51-75\",\"26-50\",\"26-50\",\"26-50\",\"26-50\",\"26-50\",\"26-50\",\"51-75\",\"26-50\",\"26-50\",\"26-50\",\"26-50\",\"26-50\",\"26-50\",\"26-50\",\"26-50\",\"26-50\",\"0-25\",\"26-50\",\"0-25\",\"0-25\",\"26-50\",\"26-50\",\"26-50\",\"26-50\",\"26-50\",\"26-50\",\"26-50\",\"26-50\",\"26-50\",\"26-50\",\"26-50\",\"26-50\",\"51-75\",\"0-25\",\"26-50\",\"26-50\",\"26-50\",\"0-25\",\"26-50\",\"26-50\",\"0-25\",\"26-50\",\"26-50\",\"26-50\",\"26-50\",\"26-50\",\"0-25\",\"26-50\",\"26-50\",\"26-50\",\"51-75\",\"26-50\",\"0-25\",\"0-25\",\"26-50\",\"26-50\",\"26-50\",\"26-50\",\"26-50\",\"51-75\",\"26-50\",\"26-50\",\"51-75\",\"26-50\",\"26-50\",\"26-50\",\"26-50\",\"26-50\",\"26-50\",\"26-50\",\"26-50\",\"26-50\",\"26-50\",\"26-50\",\"26-50\",\"26-50\",\"26-50\",\"26-50\",\"26-50\",\"0-25\",\"26-50\",\"26-50\",\"26-50\",\"26-50\",\"26-50\",\"26-50\",\"26-50\",\"26-50\",\"26-50\",\"26-50\",\"26-50\",\"26-50\",\"0-25\",\"26-50\",\"26-50\",\"0-25\",\"51-75\",\"26-50\",\"26-50\",\"26-50\",\"0-25\",\"0-25\",\"0-25\",\"51-75\",\"26-50\",\"26-50\",\"26-50\",\"26-50\",\"51-75\",\"26-50\",\"26-50\",\"26-50\",\"26-50\",\"26-50\",\"26-50\",\"26-50\",\"26-50\",\"26-50\",\"26-50\",\"26-50\",\"51-75\",\"26-50\",\"26-50\",\"0-25\",\"26-50\",\"26-50\",\"26-50\",\"0-25\",\"0-25\",\"26-50\",\"26-50\",\"26-50\",\"26-50\",\"26-50\",\"51-75\",\"26-50\",\"26-50\",\"26-50\",\"26-50\",\"26-50\",\"0-25\",\"26-50\",\"26-50\",\"26-50\",\"26-50\",\"26-50\",\"26-50\",\"26-50\",\"26-50\",\"26-50\",\"26-50\",\"26-50\",\"26-50\",\"26-50\",\"26-50\",\"26-50\",\"0-25\",\"51-75\",\"26-50\",\"26-50\",\"26-50\",\"26-50\",\"51-75\",\"26-50\",\"26-50\",\"26-50\",\"26-50\",\"26-50\",\"26-50\",\"26-50\",\"0-25\",\"26-50\",\"26-50\",\"0-25\",\"51-75\",\"26-50\",\"26-50\",\"51-75\",\"26-50\",\"26-50\",\"26-50\",\"26-50\",\"26-50\",\"26-50\",\"0-25\",\"26-50\",\"26-50\",\"26-50\",\"0-25\",\"26-50\",\"26-50\",\"26-50\",\"26-50\",\"26-50\",\"26-50\",\"26-50\",\"26-50\",\"26-50\",\"26-50\",\"26-50\",\"26-50\",\"26-50\",\"0-25\",\"26-50\",\"51-75\",\"26-50\",\"26-50\",\"26-50\",\"26-50\",\"0-25\",\"51-75\",\"26-50\",\"26-50\",\"26-50\",\"26-50\",\"26-50\",\"26-50\",\"26-50\",\"26-50\",\"26-50\",\"51-75\",\"26-50\",\"26-50\",\"26-50\",\"26-50\",\"51-75\",\"26-50\",\"0-25\",\"26-50\",\"0-25\",\"26-50\",\"26-50\",\"26-50\",\"26-50\",\"26-50\",\"26-50\",\"26-50\",\"26-50\",\"26-50\",\"26-50\",\"26-50\",\"26-50\",\"26-50\",\"26-50\",\"0-25\",\"26-50\",\"26-50\",\"26-50\",\"0-25\",\"0-25\",\"26-50\",\"26-50\",\"26-50\",\"26-50\",\"26-50\",\"26-50\",\"26-50\",\"26-50\",\"26-50\",\"0-25\",\"26-50\",\"26-50\",\"0-25\",\"51-75\",\"26-50\",\"26-50\",\"26-50\",\"26-50\",\"26-50\",\"26-50\",\"26-50\",\"26-50\",\"26-50\",\"0-25\",\"26-50\",\"26-50\",\"26-50\",\"26-50\",\"26-50\",\"0-25\",\"26-50\",\"26-50\",\"26-50\",\"0-25\",\"26-50\",\"26-50\",\"26-50\",\"0-25\",\"26-50\",\"51-75\",\"26-50\",\"26-50\",\"26-50\",\"26-50\",\"26-50\",\"26-50\",\"26-50\",\"26-50\",\"0-25\",\"26-50\",\"26-50\",\"26-50\",\"0-25\",\"26-50\",\"0-25\",\"26-50\",\"26-50\",\"26-50\",\"26-50\",\"51-75\",\"51-75\",\"26-50\",\"26-50\",\"26-50\",\"0-25\",\"26-50\",\"26-50\",\"26-50\",\"26-50\",\"26-50\",\"51-75\",\"26-50\",\"51-75\",\"51-75\",\"26-50\",\"26-50\",\"0-25\",\"51-75\",\"26-50\",\"51-75\",\"26-50\",\"26-50\",\"26-50\",\"26-50\",\"26-50\",\"26-50\",\"26-50\",\"51-75\",\"26-50\",\"51-75\",\"51-75\",\"26-50\",\"51-75\",\"26-50\",\"0-25\",\"26-50\",\"51-75\",\"51-75\",\"26-50\",\"26-50\",\"0-25\",\"51-75\",\"26-50\",\"51-75\",\"26-50\",\"26-50\",\"26-50\",\"0-25\",\"26-50\",\"26-50\",\"26-50\",\"26-50\",\"26-50\",\"26-50\",\"26-50\",\"26-50\",\"26-50\",\"26-50\",\"51-75\",\"26-50\",\"26-50\",\"26-50\",\"26-50\",\"26-50\",\"26-50\",\"51-75\",\"26-50\",\"51-75\",\"51-75\",\"26-50\",\"26-50\",\"26-50\",\"26-50\",\"26-50\",\"26-50\",\"26-50\",\"26-50\",\"26-50\",\"26-50\",\"26-50\",\"0-25\",\"26-50\",\"26-50\",\"26-50\",\"26-50\",\"26-50\",\"26-50\",\"26-50\",\"26-50\",\"26-50\",\"26-50\",\"26-50\",\"26-50\",\"26-50\",\"26-50\",\"0-25\",\"26-50\",\"26-50\",\"26-50\",\"26-50\",\"26-50\",\"26-50\",\"26-50\",\"26-50\",\"26-50\",\"26-50\",\"26-50\",\"26-50\",\"26-50\",\"26-50\",\"0-25\",\"0-25\",\"26-50\",\"26-50\",\"26-50\",\"26-50\",\"51-75\",\"26-50\",\"26-50\",\"26-50\",\"26-50\",\"51-75\",\"26-50\",\"26-50\",\"51-75\",\"26-50\",\"0-25\",\"26-50\",\"26-50\",\"26-50\",\"26-50\",\"26-50\",\"26-50\",\"26-50\",\"26-50\",\"26-50\",\"26-50\",\"26-50\",\"26-50\",\"26-50\",\"26-50\",\"26-50\",\"0-25\",\"26-50\",\"26-50\",\"26-50\",\"26-50\",\"26-50\",\"26-50\",\"26-50\",\"26-50\",\"0-25\",\"0-25\",\"26-50\",\"26-50\",\"0-25\",\"26-50\",\"26-50\",\"26-50\",\"26-50\",\"0-25\",\"26-50\",\"26-50\",\"26-50\",\"26-50\",\"26-50\",\"26-50\",\"26-50\",\"26-50\",\"26-50\",\"0-25\",\"26-50\",\"26-50\",\"26-50\",\"26-50\",\"0-25\",\"26-50\"],\"xaxis\":\"x\",\"y\":[1169,2096,7882,4870,9055,2835,6948,3059,5234,1199,2424,8072,3430,2134,2647,2241,1804,2069,1374,426,2415,6836,1913,4020,5866,1264,4746,6110,2100,1225,458,2333,1158,6204,6187,2299,7228,2333,5965,1262,3378,2225,783,6468,1391,1537,1953,14421,5190,1007,1819,730,1164,1977,1526,3965,4771,9436,3832,1213,2315,12612,2249,1108,618,1409,3617,1318,15945,2622,2337,7057,1469,2323,1919,2445,11938,6458,6078,1410,1449,6260,1680,3578,2366,1768,781,2121,701,639,1860,6887,2708,1984,8613,766,2728,709,3416,2462,3566,5371,1582,1346,1924,5848,6967,1288,339,3512,1898,2872,1262,7308,909,2978,1935,950,1414,3414,2577,338,1963,571,9572,4455,1647,3777,884,1360,1175,674,4591,3844,3915,2108,3031,2760,4297,936,1168,5117,902,1495,10623,1935,1424,6568,1413,3074,5293,1908,3342,3104,3913,3021,625,707,2978,4657,2613,10961,7865,1478,3149,4210,2507,2141,866,1544,1823,14555,2767,2522,1595,4605,1258,717,1204,1925,4151,2030,7418,2684,2149,1657,5302,1231,802,6304,8978,999,2662,12169,3060,11998,2697,1262,1901,3368,1574,1445,1520,3878,4788,7582,1024,1076,9398,4796,7629,1287,2515,2745,1344,1038,10127,1543,727,276,5381,5511,685,1494,2746,708,701,4249,1938,2910,2659,3398,5801,4473,1068,6615,4110,3384,4169,1521,3213,4439,3949,882,1743,1136,3229,6199,727,1246,2331,4463,776,1239,3399,1766,2473,1542,3850,3446,3079,6070,13756,2320,846,14318,2212,1330,4272,7374,2326,1820,3249,2406,11760,2348,1223,1473,1887,8648,802,2899,2039,2197,1053,3235,939,7253,2292,1597,5842,2579,2028,958,1591,2779,2743,1149,1313,3448,11328,1872,2058,2136,1484,660,3394,1884,2629,719,2576,1512,11054,2759,2670,4817,3905,3386,4594,3620,1721,754,1950,2924,7238,4679,3092,654,1238,1245,2569,5152,1037,1478,1201,1163,1209,3077,1418,3518,1934,368,2122,2996,9034,1585,1301,1323,5493,1126,1216,1309,2360,6850,1413,8588,759,4686,2687,585,2255,1361,1203,700,5507,7119,7966,1503,2302,662,2273,1503,1311,3105,2319,7763,1534,2032,6350,2864,1255,1333,1552,8858,1750,6999,1995,1331,3552,1928,2964,1546,12389,4712,1372,2578,3979,5954,1082,2820,937,1056,3124,2384,2799,1289,1217,2246,1358,4241,2775,3863,2828,4526,2051,1300,12204,9157,3676,640,3652,1530,3914,2600,1979,2116,1437,4042,3832,1553,1444,1393,15653,4370,1308,4623,1851,1880,7980,4583,947,684,7476,1922,2303,8086,2346,3973,888,10222,6361,1297,900,2241,1050,6314,3496,4843,3017,4139,5742,10366,2080,2580,5150,5595,2384,2279,1478,5103,9857,6527,1347,2862,2753,3651,975,2896,4716,2284,1236,1103,1800,1905,6331,2503,6560,2118,629,2476,1138,14027,7596,3077,1505,3148,6148,1337,1316,1275,6403,1987,4380,6761,2325,1048,3160,2483,14179,1797,5248,3029,1555,1299,1271,1393,691,2214,12680,2463,1155,3108,3617,1655,3275,2223,1480,3535,5711,4933,1940,1410,6468,1941,2675,2751,6224,5998,6313,1221,2892,3062,7511,717,1549,1597,976,9271,590,930,9283,907,484,9629,3051,3931,1338,15857,1345,1101,3016,2712,731,3780,1602,4165,8335,6681,2375,11816,1082,2957,2611,5179,2993,1559,3422,3976,6761,1249,1364,709,2235,4042,1471,1442,10875,1474,3343,3577,5804,2169,4526,2210,3331,7409,1343,1382,3590,1940,3595,1422,6742,7814,9277,2181,4057,2825,15672,6614,7824,2442,1829,2171,5800,1169,8947,4153,2625,3485,10477,1386,1278,1107,3763,3711,2142,3161,2848,14896,2359,3345,12749,2002,6872,697,10297,1867,1344,1747,1224,522,1919,2063,6288,6842,3527,1546,929,1455,3349,2859,1533,3621,3590,2145,3656,1154,4006,3069,1740,2353,3556,2397,454,2520,7166,3939,1514,7393,7297,2427,2538,1264,8386,4844,8229,2028,6289,6579,1743,3565,1569,1936,3959,2390,3857,804,1845,4576],\"yaxis\":\"y\",\"type\":\"histogram\"},{\"alignmentgroup\":\"True\",\"bingroup\":\"x\",\"histfunc\":\"sum\",\"hovertemplate\":\"Sex=female<br>Age Cohorte=%{x}<br>sum of Credit amount=%{y}<extra></extra>\",\"legendgroup\":\"female\",\"marker\":{\"color\":\"#EF553B\",\"pattern\":{\"shape\":\"\"}},\"name\":\"female\",\"offsetgroup\":\"female\",\"orientation\":\"v\",\"showlegend\":true,\"x\":[\"0-25\",\"0-25\",\"0-25\",\"0-25\",\"26-50\",\"26-50\",\"26-50\",\"26-50\",\"26-50\",\"51-75\",\"26-50\",\"0-25\",\"26-50\",\"26-50\",\"0-25\",\"0-25\",\"26-50\",\"26-50\",\"0-25\",\"26-50\",\"26-50\",\"26-50\",\"0-25\",\"51-75\",\"26-50\",\"26-50\",\"26-50\",\"51-75\",\"0-25\",\"26-50\",\"0-25\",\"0-25\",\"26-50\",\"26-50\",\"0-25\",\"0-25\",\"26-50\",\"26-50\",\"26-50\",\"0-25\",\"0-25\",\"26-50\",\"26-50\",\"26-50\",\"0-25\",\"26-50\",\"51-75\",\"26-50\",\"0-25\",\"26-50\",\"26-50\",\"0-25\",\"0-25\",\"26-50\",\"26-50\",\"51-75\",\"51-75\",\"26-50\",\"26-50\",\"26-50\",\"26-50\",\"26-50\",\"26-50\",\"51-75\",\"0-25\",\"26-50\",\"26-50\",\"26-50\",\"26-50\",\"0-25\",\"26-50\",\"26-50\",\"0-25\",\"0-25\",\"51-75\",\"51-75\",\"51-75\",\"26-50\",\"26-50\",\"26-50\",\"26-50\",\"26-50\",\"26-50\",\"26-50\",\"26-50\",\"0-25\",\"51-75\",\"26-50\",\"0-25\",\"0-25\",\"26-50\",\"26-50\",\"26-50\",\"26-50\",\"26-50\",\"26-50\",\"0-25\",\"0-25\",\"0-25\",\"0-25\",\"0-25\",\"26-50\",\"26-50\",\"0-25\",\"0-25\",\"26-50\",\"0-25\",\"26-50\",\"0-25\",\"26-50\",\"0-25\",\"51-75\",\"26-50\",\"51-75\",\"26-50\",\"0-25\",\"0-25\",\"0-25\",\"26-50\",\"0-25\",\"26-50\",\"51-75\",\"26-50\",\"0-25\",\"26-50\",\"0-25\",\"26-50\",\"26-50\",\"0-25\",\"0-25\",\"51-75\",\"26-50\",\"26-50\",\"26-50\",\"26-50\",\"26-50\",\"26-50\",\"51-75\",\"26-50\",\"26-50\",\"26-50\",\"26-50\",\"26-50\",\"26-50\",\"0-25\",\"26-50\",\"0-25\",\"51-75\",\"26-50\",\"51-75\",\"26-50\",\"26-50\",\"26-50\",\"0-25\",\"26-50\",\"0-25\",\"0-25\",\"0-25\",\"26-50\",\"26-50\",\"26-50\",\"51-75\",\"26-50\",\"26-50\",\"26-50\",\"0-25\",\"0-25\",\"51-75\",\"26-50\",\"26-50\",\"26-50\",\"0-25\",\"26-50\",\"0-25\",\"26-50\",\"0-25\",\"0-25\",\"26-50\",\"26-50\",\"26-50\",\"51-75\",\"0-25\",\"51-75\",\"26-50\",\"26-50\",\"0-25\",\"26-50\",\"0-25\",\"26-50\",\"26-50\",\"26-50\",\"26-50\",\"0-25\",\"26-50\",\"0-25\",\"26-50\",\"26-50\",\"0-25\",\"0-25\",\"0-25\",\"0-25\",\"26-50\",\"0-25\",\"0-25\",\"26-50\",\"26-50\",\"26-50\",\"26-50\",\"26-50\",\"26-50\",\"26-50\",\"26-50\",\"26-50\",\"51-75\",\"0-25\",\"26-50\",\"26-50\",\"26-50\",\"26-50\",\"26-50\",\"0-25\",\"0-25\",\"26-50\",\"0-25\",\"0-25\",\"51-75\",\"0-25\",\"26-50\",\"0-25\",\"51-75\",\"26-50\",\"26-50\",\"26-50\",\"26-50\",\"0-25\",\"26-50\",\"0-25\",\"26-50\",\"26-50\",\"0-25\",\"0-25\",\"0-25\",\"26-50\",\"51-75\",\"0-25\",\"26-50\",\"26-50\",\"0-25\",\"0-25\",\"0-25\",\"51-75\",\"0-25\",\"26-50\",\"0-25\",\"0-25\",\"26-50\",\"0-25\",\"0-25\",\"26-50\",\"51-75\",\"0-25\",\"26-50\",\"0-25\",\"26-50\",\"0-25\",\"0-25\",\"0-25\",\"0-25\",\"26-50\",\"26-50\",\"26-50\",\"0-25\",\"26-50\",\"0-25\",\"26-50\",\"0-25\",\"26-50\",\"51-75\",\"51-75\",\"26-50\",\"26-50\",\"26-50\",\"26-50\",\"26-50\",\"26-50\",\"0-25\",\"0-25\",\"26-50\",\"26-50\",\"0-25\",\"0-25\",\"0-25\",\"0-25\",\"26-50\",\"26-50\",\"26-50\",\"26-50\",\"26-50\",\"26-50\",\"51-75\",\"26-50\",\"51-75\",\"26-50\",\"26-50\",\"51-75\",\"51-75\",\"26-50\",\"0-25\",\"51-75\",\"26-50\"],\"xaxis\":\"x\",\"y\":[5951,1295,4308,1567,1403,1282,12579,409,1474,6143,1393,1352,2073,9566,1961,6229,3181,2171,2394,8133,5954,5943,1568,1755,1412,1295,797,2012,932,7721,392,7855,7174,2132,4281,1835,3868,1924,3499,8487,10144,1240,1881,4795,2288,860,682,7758,1282,1055,1131,1577,3972,763,2064,7485,5129,3244,1501,1382,951,3835,932,1364,1200,1291,915,1185,3447,433,666,2251,2150,3812,1154,1603,2748,1533,1402,2404,4611,10722,1092,6419,9960,4675,672,3804,4811,1237,3749,4351,3643,1028,1525,1864,7408,11590,2101,1275,5743,3599,1459,3758,1236,959,2406,2247,3650,3001,2146,14782,7685,362,12976,1283,2238,1126,1449,983,1957,2578,1516,1967,1381,8471,2782,1042,3186,2762,1190,1287,609,1620,5096,1244,1842,1424,518,2679,343,3017,1659,2764,448,3114,3573,3622,960,3757,8318,1237,3123,1207,609,7127,3190,3488,1113,1532,2631,1374,3612,3049,2022,626,996,1199,2278,5003,683,1553,6758,3234,5433,806,2788,2930,1927,1388,2133,2039,385,1965,1572,2718,931,1442,2329,918,1837,3349,1275,2671,741,1240,3357,3632,1808,3441,1858,3660,1980,1355,1376,1493,750,1386,4221,1047,3609,4530,1453,1538,2631,926,1123,1377,2528,5324,2969,1206,1198,433,1228,790,2570,250,1882,6416,760,2603,3380,3990,11560,4280,2511,1274,428,976,841,5771,1285,5045,2124,2901,2812,8065,1371,3509,3872,836,1188,2301,1258,1795,4272,7472,1778,7432,1554,3966,1216,5084,2327,886,601,1943,894,3959,2439,2221,2389,652,7678,874,1322,1098,795,2606,1592,2186,3594,3195,4454,4736,2991,18424,1817,1366,1049,1670,1498,745,1845,8358,4113,10974,1893,1231,1715,3568,1193,2831,1258,753,2923,1433,1409,1736],\"yaxis\":\"y\",\"type\":\"histogram\"}],                        {\"template\":{\"data\":{\"bar\":[{\"error_x\":{\"color\":\"#f2f5fa\"},\"error_y\":{\"color\":\"#f2f5fa\"},\"marker\":{\"line\":{\"color\":\"rgb(17,17,17)\",\"width\":0.5},\"pattern\":{\"fillmode\":\"overlay\",\"size\":10,\"solidity\":0.2}},\"type\":\"bar\"}],\"barpolar\":[{\"marker\":{\"line\":{\"color\":\"rgb(17,17,17)\",\"width\":0.5},\"pattern\":{\"fillmode\":\"overlay\",\"size\":10,\"solidity\":0.2}},\"type\":\"barpolar\"}],\"carpet\":[{\"aaxis\":{\"endlinecolor\":\"#A2B1C6\",\"gridcolor\":\"#506784\",\"linecolor\":\"#506784\",\"minorgridcolor\":\"#506784\",\"startlinecolor\":\"#A2B1C6\"},\"baxis\":{\"endlinecolor\":\"#A2B1C6\",\"gridcolor\":\"#506784\",\"linecolor\":\"#506784\",\"minorgridcolor\":\"#506784\",\"startlinecolor\":\"#A2B1C6\"},\"type\":\"carpet\"}],\"choropleth\":[{\"colorbar\":{\"outlinewidth\":0,\"ticks\":\"\"},\"type\":\"choropleth\"}],\"contour\":[{\"colorbar\":{\"outlinewidth\":0,\"ticks\":\"\"},\"colorscale\":[[0.0,\"#0d0887\"],[0.1111111111111111,\"#46039f\"],[0.2222222222222222,\"#7201a8\"],[0.3333333333333333,\"#9c179e\"],[0.4444444444444444,\"#bd3786\"],[0.5555555555555556,\"#d8576b\"],[0.6666666666666666,\"#ed7953\"],[0.7777777777777778,\"#fb9f3a\"],[0.8888888888888888,\"#fdca26\"],[1.0,\"#f0f921\"]],\"type\":\"contour\"}],\"contourcarpet\":[{\"colorbar\":{\"outlinewidth\":0,\"ticks\":\"\"},\"type\":\"contourcarpet\"}],\"heatmap\":[{\"colorbar\":{\"outlinewidth\":0,\"ticks\":\"\"},\"colorscale\":[[0.0,\"#0d0887\"],[0.1111111111111111,\"#46039f\"],[0.2222222222222222,\"#7201a8\"],[0.3333333333333333,\"#9c179e\"],[0.4444444444444444,\"#bd3786\"],[0.5555555555555556,\"#d8576b\"],[0.6666666666666666,\"#ed7953\"],[0.7777777777777778,\"#fb9f3a\"],[0.8888888888888888,\"#fdca26\"],[1.0,\"#f0f921\"]],\"type\":\"heatmap\"}],\"heatmapgl\":[{\"colorbar\":{\"outlinewidth\":0,\"ticks\":\"\"},\"colorscale\":[[0.0,\"#0d0887\"],[0.1111111111111111,\"#46039f\"],[0.2222222222222222,\"#7201a8\"],[0.3333333333333333,\"#9c179e\"],[0.4444444444444444,\"#bd3786\"],[0.5555555555555556,\"#d8576b\"],[0.6666666666666666,\"#ed7953\"],[0.7777777777777778,\"#fb9f3a\"],[0.8888888888888888,\"#fdca26\"],[1.0,\"#f0f921\"]],\"type\":\"heatmapgl\"}],\"histogram\":[{\"marker\":{\"pattern\":{\"fillmode\":\"overlay\",\"size\":10,\"solidity\":0.2}},\"type\":\"histogram\"}],\"histogram2d\":[{\"colorbar\":{\"outlinewidth\":0,\"ticks\":\"\"},\"colorscale\":[[0.0,\"#0d0887\"],[0.1111111111111111,\"#46039f\"],[0.2222222222222222,\"#7201a8\"],[0.3333333333333333,\"#9c179e\"],[0.4444444444444444,\"#bd3786\"],[0.5555555555555556,\"#d8576b\"],[0.6666666666666666,\"#ed7953\"],[0.7777777777777778,\"#fb9f3a\"],[0.8888888888888888,\"#fdca26\"],[1.0,\"#f0f921\"]],\"type\":\"histogram2d\"}],\"histogram2dcontour\":[{\"colorbar\":{\"outlinewidth\":0,\"ticks\":\"\"},\"colorscale\":[[0.0,\"#0d0887\"],[0.1111111111111111,\"#46039f\"],[0.2222222222222222,\"#7201a8\"],[0.3333333333333333,\"#9c179e\"],[0.4444444444444444,\"#bd3786\"],[0.5555555555555556,\"#d8576b\"],[0.6666666666666666,\"#ed7953\"],[0.7777777777777778,\"#fb9f3a\"],[0.8888888888888888,\"#fdca26\"],[1.0,\"#f0f921\"]],\"type\":\"histogram2dcontour\"}],\"mesh3d\":[{\"colorbar\":{\"outlinewidth\":0,\"ticks\":\"\"},\"type\":\"mesh3d\"}],\"parcoords\":[{\"line\":{\"colorbar\":{\"outlinewidth\":0,\"ticks\":\"\"}},\"type\":\"parcoords\"}],\"pie\":[{\"automargin\":true,\"type\":\"pie\"}],\"scatter\":[{\"marker\":{\"line\":{\"color\":\"#283442\"}},\"type\":\"scatter\"}],\"scatter3d\":[{\"line\":{\"colorbar\":{\"outlinewidth\":0,\"ticks\":\"\"}},\"marker\":{\"colorbar\":{\"outlinewidth\":0,\"ticks\":\"\"}},\"type\":\"scatter3d\"}],\"scattercarpet\":[{\"marker\":{\"colorbar\":{\"outlinewidth\":0,\"ticks\":\"\"}},\"type\":\"scattercarpet\"}],\"scattergeo\":[{\"marker\":{\"colorbar\":{\"outlinewidth\":0,\"ticks\":\"\"}},\"type\":\"scattergeo\"}],\"scattergl\":[{\"marker\":{\"line\":{\"color\":\"#283442\"}},\"type\":\"scattergl\"}],\"scattermapbox\":[{\"marker\":{\"colorbar\":{\"outlinewidth\":0,\"ticks\":\"\"}},\"type\":\"scattermapbox\"}],\"scatterpolar\":[{\"marker\":{\"colorbar\":{\"outlinewidth\":0,\"ticks\":\"\"}},\"type\":\"scatterpolar\"}],\"scatterpolargl\":[{\"marker\":{\"colorbar\":{\"outlinewidth\":0,\"ticks\":\"\"}},\"type\":\"scatterpolargl\"}],\"scatterternary\":[{\"marker\":{\"colorbar\":{\"outlinewidth\":0,\"ticks\":\"\"}},\"type\":\"scatterternary\"}],\"surface\":[{\"colorbar\":{\"outlinewidth\":0,\"ticks\":\"\"},\"colorscale\":[[0.0,\"#0d0887\"],[0.1111111111111111,\"#46039f\"],[0.2222222222222222,\"#7201a8\"],[0.3333333333333333,\"#9c179e\"],[0.4444444444444444,\"#bd3786\"],[0.5555555555555556,\"#d8576b\"],[0.6666666666666666,\"#ed7953\"],[0.7777777777777778,\"#fb9f3a\"],[0.8888888888888888,\"#fdca26\"],[1.0,\"#f0f921\"]],\"type\":\"surface\"}],\"table\":[{\"cells\":{\"fill\":{\"color\":\"#506784\"},\"line\":{\"color\":\"rgb(17,17,17)\"}},\"header\":{\"fill\":{\"color\":\"#2a3f5f\"},\"line\":{\"color\":\"rgb(17,17,17)\"}},\"type\":\"table\"}]},\"layout\":{\"annotationdefaults\":{\"arrowcolor\":\"#f2f5fa\",\"arrowhead\":0,\"arrowwidth\":1},\"autotypenumbers\":\"strict\",\"coloraxis\":{\"colorbar\":{\"outlinewidth\":0,\"ticks\":\"\"}},\"colorscale\":{\"diverging\":[[0,\"#8e0152\"],[0.1,\"#c51b7d\"],[0.2,\"#de77ae\"],[0.3,\"#f1b6da\"],[0.4,\"#fde0ef\"],[0.5,\"#f7f7f7\"],[0.6,\"#e6f5d0\"],[0.7,\"#b8e186\"],[0.8,\"#7fbc41\"],[0.9,\"#4d9221\"],[1,\"#276419\"]],\"sequential\":[[0.0,\"#0d0887\"],[0.1111111111111111,\"#46039f\"],[0.2222222222222222,\"#7201a8\"],[0.3333333333333333,\"#9c179e\"],[0.4444444444444444,\"#bd3786\"],[0.5555555555555556,\"#d8576b\"],[0.6666666666666666,\"#ed7953\"],[0.7777777777777778,\"#fb9f3a\"],[0.8888888888888888,\"#fdca26\"],[1.0,\"#f0f921\"]],\"sequentialminus\":[[0.0,\"#0d0887\"],[0.1111111111111111,\"#46039f\"],[0.2222222222222222,\"#7201a8\"],[0.3333333333333333,\"#9c179e\"],[0.4444444444444444,\"#bd3786\"],[0.5555555555555556,\"#d8576b\"],[0.6666666666666666,\"#ed7953\"],[0.7777777777777778,\"#fb9f3a\"],[0.8888888888888888,\"#fdca26\"],[1.0,\"#f0f921\"]]},\"colorway\":[\"#636efa\",\"#EF553B\",\"#00cc96\",\"#ab63fa\",\"#FFA15A\",\"#19d3f3\",\"#FF6692\",\"#B6E880\",\"#FF97FF\",\"#FECB52\"],\"font\":{\"color\":\"#f2f5fa\"},\"geo\":{\"bgcolor\":\"rgb(17,17,17)\",\"lakecolor\":\"rgb(17,17,17)\",\"landcolor\":\"rgb(17,17,17)\",\"showlakes\":true,\"showland\":true,\"subunitcolor\":\"#506784\"},\"hoverlabel\":{\"align\":\"left\"},\"hovermode\":\"closest\",\"mapbox\":{\"style\":\"dark\"},\"paper_bgcolor\":\"rgb(17,17,17)\",\"plot_bgcolor\":\"rgb(17,17,17)\",\"polar\":{\"angularaxis\":{\"gridcolor\":\"#506784\",\"linecolor\":\"#506784\",\"ticks\":\"\"},\"bgcolor\":\"rgb(17,17,17)\",\"radialaxis\":{\"gridcolor\":\"#506784\",\"linecolor\":\"#506784\",\"ticks\":\"\"}},\"scene\":{\"xaxis\":{\"backgroundcolor\":\"rgb(17,17,17)\",\"gridcolor\":\"#506784\",\"gridwidth\":2,\"linecolor\":\"#506784\",\"showbackground\":true,\"ticks\":\"\",\"zerolinecolor\":\"#C8D4E3\"},\"yaxis\":{\"backgroundcolor\":\"rgb(17,17,17)\",\"gridcolor\":\"#506784\",\"gridwidth\":2,\"linecolor\":\"#506784\",\"showbackground\":true,\"ticks\":\"\",\"zerolinecolor\":\"#C8D4E3\"},\"zaxis\":{\"backgroundcolor\":\"rgb(17,17,17)\",\"gridcolor\":\"#506784\",\"gridwidth\":2,\"linecolor\":\"#506784\",\"showbackground\":true,\"ticks\":\"\",\"zerolinecolor\":\"#C8D4E3\"}},\"shapedefaults\":{\"line\":{\"color\":\"#f2f5fa\"}},\"sliderdefaults\":{\"bgcolor\":\"#C8D4E3\",\"bordercolor\":\"rgb(17,17,17)\",\"borderwidth\":1,\"tickwidth\":0},\"ternary\":{\"aaxis\":{\"gridcolor\":\"#506784\",\"linecolor\":\"#506784\",\"ticks\":\"\"},\"baxis\":{\"gridcolor\":\"#506784\",\"linecolor\":\"#506784\",\"ticks\":\"\"},\"bgcolor\":\"rgb(17,17,17)\",\"caxis\":{\"gridcolor\":\"#506784\",\"linecolor\":\"#506784\",\"ticks\":\"\"}},\"title\":{\"x\":0.05},\"updatemenudefaults\":{\"bgcolor\":\"#506784\",\"borderwidth\":0},\"xaxis\":{\"automargin\":true,\"gridcolor\":\"#283442\",\"linecolor\":\"#506784\",\"ticks\":\"\",\"title\":{\"standoff\":15},\"zerolinecolor\":\"#283442\",\"zerolinewidth\":2},\"yaxis\":{\"automargin\":true,\"gridcolor\":\"#283442\",\"linecolor\":\"#506784\",\"ticks\":\"\",\"title\":{\"standoff\":15},\"zerolinecolor\":\"#283442\",\"zerolinewidth\":2}}},\"xaxis\":{\"anchor\":\"y\",\"domain\":[0.0,1.0],\"title\":{\"text\":\"Age Cohorte\"}},\"yaxis\":{\"anchor\":\"x\",\"domain\":[0.0,1.0],\"title\":{\"text\":\"sum of Credit amount\"}},\"legend\":{\"title\":{\"text\":\"Sex\"},\"tracegroupgap\":0},\"title\":{\"text\":\"Sum of Credit amount per age cohorte\"},\"barmode\":\"relative\"},                        {\"responsive\": true}                    ).then(function(){\n",
       "                            \n",
       "var gd = document.getElementById('94f9ab20-b96e-4cd7-8b08-fb6ed7668fd9');\n",
       "var x = new MutationObserver(function (mutations, observer) {{\n",
       "        var display = window.getComputedStyle(gd).display;\n",
       "        if (!display || display === 'none') {{\n",
       "            console.log([gd, 'removed!']);\n",
       "            Plotly.purge(gd);\n",
       "            observer.disconnect();\n",
       "        }}\n",
       "}});\n",
       "\n",
       "// Listen for the removal of the full notebook cells\n",
       "var notebookContainer = gd.closest('#notebook-container');\n",
       "if (notebookContainer) {{\n",
       "    x.observe(notebookContainer, {childList: true});\n",
       "}}\n",
       "\n",
       "// Listen for the clearing of the current output cell\n",
       "var outputEl = gd.closest('.output');\n",
       "if (outputEl) {{\n",
       "    x.observe(outputEl, {childList: true});\n",
       "}}\n",
       "\n",
       "                        })                };                            </script>        </div>\n",
       "</body>\n",
       "</html>"
      ]
     },
     "metadata": {},
     "output_type": "display_data"
    },
    {
     "data": {
      "text/plain": [
       "<Figure size 960x480 with 0 Axes>"
      ]
     },
     "metadata": {},
     "output_type": "display_data"
    }
   ],
   "source": [
    "plt.figure(figsize = (8, 4), dpi=120)\n",
    "px.histogram(df, x='Age Cohorte', y='Credit amount', color='Sex',\n",
    "           title='Sum of Credit amount per age cohorte' )"
   ]
  },
  {
   "cell_type": "code",
   "execution_count": 232,
   "metadata": {
    "colab": {
     "base_uri": "https://localhost:8080/",
     "height": 559
    },
    "id": "IV0Drhl8l5w0",
    "outputId": "47b8f1f6-dc01-48e6-eb21-b7ec09d7dbf0"
   },
   "outputs": [
    {
     "data": {
      "text/html": [
       "<html>\n",
       "<head><meta charset=\"utf-8\" /></head>\n",
       "<body>\n",
       "    <div>            <script src=\"https://cdnjs.cloudflare.com/ajax/libs/mathjax/2.7.5/MathJax.js?config=TeX-AMS-MML_SVG\"></script><script type=\"text/javascript\">if (window.MathJax) {MathJax.Hub.Config({SVG: {font: \"STIX-Web\"}});}</script>                <script type=\"text/javascript\">window.PlotlyConfig = {MathJaxConfig: 'local'};</script>\n",
       "        <script src=\"https://cdn.plot.ly/plotly-2.8.3.min.js\"></script>                <div id=\"f8738c81-9127-4458-baa4-87deeb8b80cb\" class=\"plotly-graph-div\" style=\"height:525px; width:100%;\"></div>            <script type=\"text/javascript\">                                    window.PLOTLYENV=window.PLOTLYENV || {};                                    if (document.getElementById(\"f8738c81-9127-4458-baa4-87deeb8b80cb\")) {                    Plotly.newPlot(                        \"f8738c81-9127-4458-baa4-87deeb8b80cb\",                        [{\"hovertemplate\":\"Sex=male<br>Age=%{x}<br>Duration=%{y}<extra></extra>\",\"legendgroup\":\"male\",\"marker\":{\"color\":\"#636efa\",\"symbol\":\"circle\"},\"mode\":\"markers\",\"name\":\"male\",\"orientation\":\"v\",\"showlegend\":true,\"x\":[67,49,45,53,35,53,35,61,28,60,53,25,31,48,44,48,44,26,36,39,34,63,36,27,30,57,25,31,37,37,24,30,26,44,24,39,39,29,30,25,31,57,26,52,27,50,61,25,48,22,37,46,51,40,66,34,51,39,22,47,52,47,30,28,56,54,20,54,58,34,36,36,41,24,35,26,39,39,32,35,31,28,35,47,36,24,63,30,40,30,34,29,27,47,27,66,35,27,27,22,30,28,46,42,38,24,36,48,45,38,34,36,36,70,36,32,31,33,33,26,42,52,31,65,28,30,40,50,36,31,68,20,54,34,36,29,21,36,40,52,27,26,21,38,38,43,26,21,55,33,50,66,51,31,23,24,26,30,32,30,27,27,53,22,22,26,51,35,25,42,30,23,61,39,51,24,25,52,35,26,35,24,27,35,29,27,36,32,37,36,45,25,32,36,28,34,32,49,29,23,50,49,63,37,26,31,48,26,28,56,46,45,43,32,37,49,44,33,33,22,40,25,25,29,31,38,32,28,32,34,28,39,49,31,28,75,23,44,28,31,25,33,37,23,34,32,38,28,46,23,49,26,28,61,37,21,25,36,27,42,36,33,63,34,36,57,39,26,26,40,27,30,39,31,32,46,46,39,28,27,27,43,22,43,27,26,28,35,42,40,35,33,30,47,34,21,29,46,20,74,29,36,33,25,25,23,65,39,29,41,35,61,30,34,35,31,36,35,32,37,36,38,34,63,32,35,22,28,36,33,24,25,39,44,26,44,47,52,35,26,26,38,39,20,29,40,32,28,42,49,38,27,36,34,28,45,26,32,26,20,54,40,43,36,44,53,30,42,31,41,32,41,26,25,33,42,23,60,31,34,61,43,32,35,45,34,27,22,27,31,49,24,37,37,36,34,41,38,27,27,27,30,49,33,36,21,47,60,40,36,31,32,22,74,33,45,48,27,37,49,27,32,38,65,35,41,29,36,64,44,23,47,21,26,38,40,33,32,27,32,38,40,50,37,45,42,35,22,41,37,41,23,23,50,35,27,34,43,47,27,31,42,24,41,33,24,64,37,33,47,31,34,27,30,35,31,25,29,44,28,50,29,24,40,46,41,24,37,32,46,25,27,63,40,32,31,31,34,47,36,33,21,35,45,32,23,41,22,30,28,26,33,55,74,39,31,35,24,30,27,40,31,28,63,36,52,66,37,38,25,60,31,60,35,40,38,50,27,41,27,51,32,51,54,35,54,35,24,26,65,55,26,28,24,54,46,62,43,26,27,24,41,47,35,30,36,47,38,44,29,48,63,46,29,28,50,47,35,68,28,59,57,33,43,35,32,45,33,28,26,27,28,32,25,42,37,46,26,29,36,28,27,36,38,48,36,43,34,23,34,40,43,46,38,34,29,31,42,43,44,42,40,36,20,24,27,28,31,32,68,33,39,37,30,55,46,39,58,43,24,30,42,30,30,42,46,45,31,31,42,30,38,43,31,40,24,49,37,45,30,30,47,29,35,22,23,29,40,22,43,36,42,47,25,49,33,26,30,33,29,48,37,34,23,30,50,40,38,23,27],\"xaxis\":\"x\",\"y\":[6,12,42,24,36,24,36,12,30,24,24,30,24,9,6,10,12,10,6,6,7,60,18,24,18,12,45,48,18,10,9,30,12,18,30,36,11,24,27,12,18,36,6,12,9,15,36,48,27,12,36,7,8,36,12,42,11,54,30,15,10,36,18,12,12,12,24,12,54,18,36,20,24,36,9,12,24,18,12,14,6,18,12,48,12,12,10,12,12,12,12,36,15,18,27,12,15,6,27,18,48,36,18,6,10,36,24,9,12,24,6,24,15,10,36,6,24,15,8,21,12,6,12,21,36,36,21,24,18,15,16,12,24,48,27,6,45,24,18,9,12,27,12,12,30,12,12,24,12,9,27,30,36,18,36,24,12,12,24,15,36,48,12,9,24,36,9,12,18,4,24,6,21,30,6,48,24,12,6,24,24,9,60,24,12,12,18,10,15,36,14,24,18,48,48,30,9,12,24,15,12,18,15,24,48,48,24,12,36,42,48,10,18,21,24,10,48,6,12,9,48,24,12,4,36,12,12,30,24,24,18,8,12,36,6,24,24,6,24,10,18,18,10,13,6,9,18,12,10,24,12,36,12,18,12,6,18,12,18,36,36,18,60,18,7,36,20,12,30,18,15,18,36,9,39,36,12,18,18,24,14,18,24,24,15,24,12,33,12,10,36,12,12,12,21,18,28,18,9,5,24,6,24,9,12,6,42,12,20,12,7,15,36,12,24,24,11,12,18,36,15,12,18,24,48,24,24,9,6,18,39,24,12,15,24,12,6,12,10,6,12,6,12,24,36,24,18,6,36,9,24,10,15,15,24,39,12,36,15,12,24,6,6,6,24,48,26,4,36,6,36,12,24,24,21,48,12,24,30,18,12,24,24,48,6,48,12,12,24,18,24,24,36,24,12,24,48,30,9,36,24,18,12,36,9,12,18,12,24,24,18,24,24,24,18,15,48,60,6,12,21,18,48,18,15,6,9,42,9,18,15,12,60,42,15,15,24,18,36,30,24,12,48,12,24,36,24,14,12,48,18,12,12,21,6,24,30,12,30,24,36,60,6,21,24,72,24,12,15,24,36,60,10,36,9,12,15,24,6,24,6,12,18,15,48,30,48,9,18,21,9,60,30,30,18,24,20,9,15,24,24,24,18,6,24,10,21,24,39,13,21,15,12,6,15,24,12,12,21,24,12,30,12,12,21,24,12,36,36,39,24,12,20,18,22,48,48,40,24,6,24,24,18,24,9,24,12,36,6,12,42,8,6,36,48,48,6,36,18,12,12,36,8,18,21,18,36,48,24,45,12,24,24,36,21,24,18,21,18,24,9,12,20,24,15,18,36,24,15,9,24,18,27,10,12,36,6,24,12,18,36,9,30,24,24,30,24,24,48,36,28,27,15,12,36,18,36,18,16,20,36,15,24,12,21,36,11,24,10,6,24,24,48,12,24,12,48,30,12,24,9,12,30,6,60,24,12,10,24,4,24,12,18,24,18,36,30,9,28,24,6,21,15,24,6,27,42,11,15,24,60,18,24,15,30,48,36,24,42,24,24,12,15,18,36,12,30,12,45,45],\"yaxis\":\"y\",\"type\":\"scatter\"},{\"hovertemplate\":\"Sex=female<br>Age=%{x}<br>Duration=%{y}<extra></extra>\",\"legendgroup\":\"female\",\"marker\":{\"color\":\"#EF553B\",\"symbol\":\"circle\"},\"mode\":\"markers\",\"name\":\"female\",\"orientation\":\"v\",\"showlegend\":true,\"x\":[22,25,24,22,28,32,44,42,33,58,35,23,28,31,23,23,26,29,25,30,41,44,24,58,29,27,33,61,24,30,23,25,30,27,23,25,41,27,29,24,21,38,44,30,23,39,51,29,20,30,33,20,25,26,34,53,74,33,34,28,27,45,39,64,23,35,29,27,35,22,39,46,24,23,57,55,57,38,37,26,32,35,49,44,26,20,54,42,24,24,26,48,27,36,34,30,24,24,23,24,24,26,43,23,23,29,23,36,22,40,23,60,37,52,38,25,25,21,27,19,31,55,43,20,35,23,31,33,20,25,55,37,26,30,30,41,34,55,29,29,27,34,29,26,23,26,23,57,30,62,42,27,27,24,37,23,24,23,26,31,28,75,37,45,37,24,23,67,28,29,29,23,31,23,26,22,24,27,33,26,52,20,58,42,36,20,32,23,45,30,34,28,23,50,22,48,29,22,22,21,22,28,19,25,28,34,27,26,28,50,27,26,26,56,25,38,29,47,32,35,25,25,35,24,24,66,21,41,25,59,44,28,37,29,23,26,23,37,49,23,23,25,32,59,24,31,26,25,25,25,67,23,39,22,22,48,24,24,26,54,24,33,23,42,25,21,23,23,40,29,35,20,27,24,40,24,40,65,53,28,35,33,46,33,34,25,25,32,28,22,21,22,23,28,46,30,28,26,29,57,26,54,29,33,57,64,28,25,64,31],\"xaxis\":\"x\",\"y\":[48,12,48,12,15,24,24,12,12,48,11,6,12,36,18,36,24,12,36,36,42,24,18,24,12,18,12,12,6,24,15,36,42,10,33,21,24,18,12,48,60,12,12,36,21,6,12,24,12,18,18,11,24,12,24,30,9,18,9,6,12,36,6,10,12,12,24,12,12,18,6,12,30,15,11,24,12,24,12,18,6,47,12,24,48,12,6,36,30,8,24,24,15,18,24,18,60,48,13,15,24,21,15,24,9,9,30,12,18,18,10,60,48,6,18,22,18,18,9,12,6,12,24,24,24,18,21,18,15,12,18,24,12,12,48,9,36,12,6,24,6,12,24,33,6,18,12,30,15,24,27,6,24,24,6,36,18,24,18,15,15,6,18,18,24,12,12,9,18,21,6,24,48,24,24,15,15,12,24,9,12,18,12,24,21,24,6,24,7,9,24,36,10,36,12,10,21,24,18,30,12,24,9,24,24,12,18,12,30,6,48,30,18,6,15,12,12,24,27,15,12,9,6,6,12,9,27,6,18,48,8,24,4,36,24,30,15,12,6,18,12,30,24,15,18,10,24,36,24,18,18,12,21,9,12,18,20,12,15,36,6,18,18,24,15,12,4,18,10,15,24,15,18,12,36,15,11,18,12,21,12,15,15,9,36,24,30,48,18,9,18,9,12,9,15,48,24,36,12,24,30,15,24,30,24,6,21,15,13,12],\"yaxis\":\"y\",\"type\":\"scatter\"}],                        {\"template\":{\"data\":{\"bar\":[{\"error_x\":{\"color\":\"#f2f5fa\"},\"error_y\":{\"color\":\"#f2f5fa\"},\"marker\":{\"line\":{\"color\":\"rgb(17,17,17)\",\"width\":0.5},\"pattern\":{\"fillmode\":\"overlay\",\"size\":10,\"solidity\":0.2}},\"type\":\"bar\"}],\"barpolar\":[{\"marker\":{\"line\":{\"color\":\"rgb(17,17,17)\",\"width\":0.5},\"pattern\":{\"fillmode\":\"overlay\",\"size\":10,\"solidity\":0.2}},\"type\":\"barpolar\"}],\"carpet\":[{\"aaxis\":{\"endlinecolor\":\"#A2B1C6\",\"gridcolor\":\"#506784\",\"linecolor\":\"#506784\",\"minorgridcolor\":\"#506784\",\"startlinecolor\":\"#A2B1C6\"},\"baxis\":{\"endlinecolor\":\"#A2B1C6\",\"gridcolor\":\"#506784\",\"linecolor\":\"#506784\",\"minorgridcolor\":\"#506784\",\"startlinecolor\":\"#A2B1C6\"},\"type\":\"carpet\"}],\"choropleth\":[{\"colorbar\":{\"outlinewidth\":0,\"ticks\":\"\"},\"type\":\"choropleth\"}],\"contour\":[{\"colorbar\":{\"outlinewidth\":0,\"ticks\":\"\"},\"colorscale\":[[0.0,\"#0d0887\"],[0.1111111111111111,\"#46039f\"],[0.2222222222222222,\"#7201a8\"],[0.3333333333333333,\"#9c179e\"],[0.4444444444444444,\"#bd3786\"],[0.5555555555555556,\"#d8576b\"],[0.6666666666666666,\"#ed7953\"],[0.7777777777777778,\"#fb9f3a\"],[0.8888888888888888,\"#fdca26\"],[1.0,\"#f0f921\"]],\"type\":\"contour\"}],\"contourcarpet\":[{\"colorbar\":{\"outlinewidth\":0,\"ticks\":\"\"},\"type\":\"contourcarpet\"}],\"heatmap\":[{\"colorbar\":{\"outlinewidth\":0,\"ticks\":\"\"},\"colorscale\":[[0.0,\"#0d0887\"],[0.1111111111111111,\"#46039f\"],[0.2222222222222222,\"#7201a8\"],[0.3333333333333333,\"#9c179e\"],[0.4444444444444444,\"#bd3786\"],[0.5555555555555556,\"#d8576b\"],[0.6666666666666666,\"#ed7953\"],[0.7777777777777778,\"#fb9f3a\"],[0.8888888888888888,\"#fdca26\"],[1.0,\"#f0f921\"]],\"type\":\"heatmap\"}],\"heatmapgl\":[{\"colorbar\":{\"outlinewidth\":0,\"ticks\":\"\"},\"colorscale\":[[0.0,\"#0d0887\"],[0.1111111111111111,\"#46039f\"],[0.2222222222222222,\"#7201a8\"],[0.3333333333333333,\"#9c179e\"],[0.4444444444444444,\"#bd3786\"],[0.5555555555555556,\"#d8576b\"],[0.6666666666666666,\"#ed7953\"],[0.7777777777777778,\"#fb9f3a\"],[0.8888888888888888,\"#fdca26\"],[1.0,\"#f0f921\"]],\"type\":\"heatmapgl\"}],\"histogram\":[{\"marker\":{\"pattern\":{\"fillmode\":\"overlay\",\"size\":10,\"solidity\":0.2}},\"type\":\"histogram\"}],\"histogram2d\":[{\"colorbar\":{\"outlinewidth\":0,\"ticks\":\"\"},\"colorscale\":[[0.0,\"#0d0887\"],[0.1111111111111111,\"#46039f\"],[0.2222222222222222,\"#7201a8\"],[0.3333333333333333,\"#9c179e\"],[0.4444444444444444,\"#bd3786\"],[0.5555555555555556,\"#d8576b\"],[0.6666666666666666,\"#ed7953\"],[0.7777777777777778,\"#fb9f3a\"],[0.8888888888888888,\"#fdca26\"],[1.0,\"#f0f921\"]],\"type\":\"histogram2d\"}],\"histogram2dcontour\":[{\"colorbar\":{\"outlinewidth\":0,\"ticks\":\"\"},\"colorscale\":[[0.0,\"#0d0887\"],[0.1111111111111111,\"#46039f\"],[0.2222222222222222,\"#7201a8\"],[0.3333333333333333,\"#9c179e\"],[0.4444444444444444,\"#bd3786\"],[0.5555555555555556,\"#d8576b\"],[0.6666666666666666,\"#ed7953\"],[0.7777777777777778,\"#fb9f3a\"],[0.8888888888888888,\"#fdca26\"],[1.0,\"#f0f921\"]],\"type\":\"histogram2dcontour\"}],\"mesh3d\":[{\"colorbar\":{\"outlinewidth\":0,\"ticks\":\"\"},\"type\":\"mesh3d\"}],\"parcoords\":[{\"line\":{\"colorbar\":{\"outlinewidth\":0,\"ticks\":\"\"}},\"type\":\"parcoords\"}],\"pie\":[{\"automargin\":true,\"type\":\"pie\"}],\"scatter\":[{\"marker\":{\"line\":{\"color\":\"#283442\"}},\"type\":\"scatter\"}],\"scatter3d\":[{\"line\":{\"colorbar\":{\"outlinewidth\":0,\"ticks\":\"\"}},\"marker\":{\"colorbar\":{\"outlinewidth\":0,\"ticks\":\"\"}},\"type\":\"scatter3d\"}],\"scattercarpet\":[{\"marker\":{\"colorbar\":{\"outlinewidth\":0,\"ticks\":\"\"}},\"type\":\"scattercarpet\"}],\"scattergeo\":[{\"marker\":{\"colorbar\":{\"outlinewidth\":0,\"ticks\":\"\"}},\"type\":\"scattergeo\"}],\"scattergl\":[{\"marker\":{\"line\":{\"color\":\"#283442\"}},\"type\":\"scattergl\"}],\"scattermapbox\":[{\"marker\":{\"colorbar\":{\"outlinewidth\":0,\"ticks\":\"\"}},\"type\":\"scattermapbox\"}],\"scatterpolar\":[{\"marker\":{\"colorbar\":{\"outlinewidth\":0,\"ticks\":\"\"}},\"type\":\"scatterpolar\"}],\"scatterpolargl\":[{\"marker\":{\"colorbar\":{\"outlinewidth\":0,\"ticks\":\"\"}},\"type\":\"scatterpolargl\"}],\"scatterternary\":[{\"marker\":{\"colorbar\":{\"outlinewidth\":0,\"ticks\":\"\"}},\"type\":\"scatterternary\"}],\"surface\":[{\"colorbar\":{\"outlinewidth\":0,\"ticks\":\"\"},\"colorscale\":[[0.0,\"#0d0887\"],[0.1111111111111111,\"#46039f\"],[0.2222222222222222,\"#7201a8\"],[0.3333333333333333,\"#9c179e\"],[0.4444444444444444,\"#bd3786\"],[0.5555555555555556,\"#d8576b\"],[0.6666666666666666,\"#ed7953\"],[0.7777777777777778,\"#fb9f3a\"],[0.8888888888888888,\"#fdca26\"],[1.0,\"#f0f921\"]],\"type\":\"surface\"}],\"table\":[{\"cells\":{\"fill\":{\"color\":\"#506784\"},\"line\":{\"color\":\"rgb(17,17,17)\"}},\"header\":{\"fill\":{\"color\":\"#2a3f5f\"},\"line\":{\"color\":\"rgb(17,17,17)\"}},\"type\":\"table\"}]},\"layout\":{\"annotationdefaults\":{\"arrowcolor\":\"#f2f5fa\",\"arrowhead\":0,\"arrowwidth\":1},\"autotypenumbers\":\"strict\",\"coloraxis\":{\"colorbar\":{\"outlinewidth\":0,\"ticks\":\"\"}},\"colorscale\":{\"diverging\":[[0,\"#8e0152\"],[0.1,\"#c51b7d\"],[0.2,\"#de77ae\"],[0.3,\"#f1b6da\"],[0.4,\"#fde0ef\"],[0.5,\"#f7f7f7\"],[0.6,\"#e6f5d0\"],[0.7,\"#b8e186\"],[0.8,\"#7fbc41\"],[0.9,\"#4d9221\"],[1,\"#276419\"]],\"sequential\":[[0.0,\"#0d0887\"],[0.1111111111111111,\"#46039f\"],[0.2222222222222222,\"#7201a8\"],[0.3333333333333333,\"#9c179e\"],[0.4444444444444444,\"#bd3786\"],[0.5555555555555556,\"#d8576b\"],[0.6666666666666666,\"#ed7953\"],[0.7777777777777778,\"#fb9f3a\"],[0.8888888888888888,\"#fdca26\"],[1.0,\"#f0f921\"]],\"sequentialminus\":[[0.0,\"#0d0887\"],[0.1111111111111111,\"#46039f\"],[0.2222222222222222,\"#7201a8\"],[0.3333333333333333,\"#9c179e\"],[0.4444444444444444,\"#bd3786\"],[0.5555555555555556,\"#d8576b\"],[0.6666666666666666,\"#ed7953\"],[0.7777777777777778,\"#fb9f3a\"],[0.8888888888888888,\"#fdca26\"],[1.0,\"#f0f921\"]]},\"colorway\":[\"#636efa\",\"#EF553B\",\"#00cc96\",\"#ab63fa\",\"#FFA15A\",\"#19d3f3\",\"#FF6692\",\"#B6E880\",\"#FF97FF\",\"#FECB52\"],\"font\":{\"color\":\"#f2f5fa\"},\"geo\":{\"bgcolor\":\"rgb(17,17,17)\",\"lakecolor\":\"rgb(17,17,17)\",\"landcolor\":\"rgb(17,17,17)\",\"showlakes\":true,\"showland\":true,\"subunitcolor\":\"#506784\"},\"hoverlabel\":{\"align\":\"left\"},\"hovermode\":\"closest\",\"mapbox\":{\"style\":\"dark\"},\"paper_bgcolor\":\"rgb(17,17,17)\",\"plot_bgcolor\":\"rgb(17,17,17)\",\"polar\":{\"angularaxis\":{\"gridcolor\":\"#506784\",\"linecolor\":\"#506784\",\"ticks\":\"\"},\"bgcolor\":\"rgb(17,17,17)\",\"radialaxis\":{\"gridcolor\":\"#506784\",\"linecolor\":\"#506784\",\"ticks\":\"\"}},\"scene\":{\"xaxis\":{\"backgroundcolor\":\"rgb(17,17,17)\",\"gridcolor\":\"#506784\",\"gridwidth\":2,\"linecolor\":\"#506784\",\"showbackground\":true,\"ticks\":\"\",\"zerolinecolor\":\"#C8D4E3\"},\"yaxis\":{\"backgroundcolor\":\"rgb(17,17,17)\",\"gridcolor\":\"#506784\",\"gridwidth\":2,\"linecolor\":\"#506784\",\"showbackground\":true,\"ticks\":\"\",\"zerolinecolor\":\"#C8D4E3\"},\"zaxis\":{\"backgroundcolor\":\"rgb(17,17,17)\",\"gridcolor\":\"#506784\",\"gridwidth\":2,\"linecolor\":\"#506784\",\"showbackground\":true,\"ticks\":\"\",\"zerolinecolor\":\"#C8D4E3\"}},\"shapedefaults\":{\"line\":{\"color\":\"#f2f5fa\"}},\"sliderdefaults\":{\"bgcolor\":\"#C8D4E3\",\"bordercolor\":\"rgb(17,17,17)\",\"borderwidth\":1,\"tickwidth\":0},\"ternary\":{\"aaxis\":{\"gridcolor\":\"#506784\",\"linecolor\":\"#506784\",\"ticks\":\"\"},\"baxis\":{\"gridcolor\":\"#506784\",\"linecolor\":\"#506784\",\"ticks\":\"\"},\"bgcolor\":\"rgb(17,17,17)\",\"caxis\":{\"gridcolor\":\"#506784\",\"linecolor\":\"#506784\",\"ticks\":\"\"}},\"title\":{\"x\":0.05},\"updatemenudefaults\":{\"bgcolor\":\"#506784\",\"borderwidth\":0},\"xaxis\":{\"automargin\":true,\"gridcolor\":\"#283442\",\"linecolor\":\"#506784\",\"ticks\":\"\",\"title\":{\"standoff\":15},\"zerolinecolor\":\"#283442\",\"zerolinewidth\":2},\"yaxis\":{\"automargin\":true,\"gridcolor\":\"#283442\",\"linecolor\":\"#506784\",\"ticks\":\"\",\"title\":{\"standoff\":15},\"zerolinecolor\":\"#283442\",\"zerolinewidth\":2}}},\"xaxis\":{\"anchor\":\"y\",\"domain\":[0.0,1.0],\"title\":{\"text\":\"Age\"}},\"yaxis\":{\"anchor\":\"x\",\"domain\":[0.0,1.0],\"title\":{\"text\":\"Duration\"}},\"legend\":{\"title\":{\"text\":\"Sex\"},\"tracegroupgap\":0},\"title\":{\"text\":\"Duration vs Age\"}},                        {\"responsive\": true}                    ).then(function(){\n",
       "                            \n",
       "var gd = document.getElementById('f8738c81-9127-4458-baa4-87deeb8b80cb');\n",
       "var x = new MutationObserver(function (mutations, observer) {{\n",
       "        var display = window.getComputedStyle(gd).display;\n",
       "        if (!display || display === 'none') {{\n",
       "            console.log([gd, 'removed!']);\n",
       "            Plotly.purge(gd);\n",
       "            observer.disconnect();\n",
       "        }}\n",
       "}});\n",
       "\n",
       "// Listen for the removal of the full notebook cells\n",
       "var notebookContainer = gd.closest('#notebook-container');\n",
       "if (notebookContainer) {{\n",
       "    x.observe(notebookContainer, {childList: true});\n",
       "}}\n",
       "\n",
       "// Listen for the clearing of the current output cell\n",
       "var outputEl = gd.closest('.output');\n",
       "if (outputEl) {{\n",
       "    x.observe(outputEl, {childList: true});\n",
       "}}\n",
       "\n",
       "                        })                };                            </script>        </div>\n",
       "</body>\n",
       "</html>"
      ]
     },
     "metadata": {},
     "output_type": "display_data"
    },
    {
     "data": {
      "text/plain": [
       "<Figure size 960x480 with 0 Axes>"
      ]
     },
     "metadata": {},
     "output_type": "display_data"
    }
   ],
   "source": [
    "plt.figure(figsize = (8, 4), dpi=120)\n",
    "px.scatter(df, x='Age', y='Duration', color='Sex',\n",
    "           title='Duration vs Age')"
   ]
  },
  {
   "cell_type": "markdown",
   "metadata": {
    "id": "qZHrt6FHpLpF"
   },
   "source": [
    "We continue seeing the trend that the women are younger than men and most of women have credits with a duration under 30 months"
   ]
  },
  {
   "cell_type": "code",
   "execution_count": 233,
   "metadata": {
    "colab": {
     "base_uri": "https://localhost:8080/",
     "height": 559
    },
    "id": "3rRSjy8EmoFR",
    "outputId": "c6eb07d4-6f1e-4ae6-b3b0-ec9a2665fc4b"
   },
   "outputs": [
    {
     "data": {
      "text/html": [
       "<html>\n",
       "<head><meta charset=\"utf-8\" /></head>\n",
       "<body>\n",
       "    <div>            <script src=\"https://cdnjs.cloudflare.com/ajax/libs/mathjax/2.7.5/MathJax.js?config=TeX-AMS-MML_SVG\"></script><script type=\"text/javascript\">if (window.MathJax) {MathJax.Hub.Config({SVG: {font: \"STIX-Web\"}});}</script>                <script type=\"text/javascript\">window.PlotlyConfig = {MathJaxConfig: 'local'};</script>\n",
       "        <script src=\"https://cdn.plot.ly/plotly-2.8.3.min.js\"></script>                <div id=\"4321fa4a-f232-4ba0-81b9-3af03d592810\" class=\"plotly-graph-div\" style=\"height:525px; width:100%;\"></div>            <script type=\"text/javascript\">                                    window.PLOTLYENV=window.PLOTLYENV || {};                                    if (document.getElementById(\"4321fa4a-f232-4ba0-81b9-3af03d592810\")) {                    Plotly.newPlot(                        \"4321fa4a-f232-4ba0-81b9-3af03d592810\",                        [{\"alignmentgroup\":\"True\",\"hovertemplate\":\"Sex=male<br>Purpose=%{x}<br>Duration=%{y}<extra></extra>\",\"legendgroup\":\"male\",\"marker\":{\"color\":\"#636efa\"},\"name\":\"male\",\"notched\":false,\"offsetgroup\":\"male\",\"orientation\":\"v\",\"showlegend\":true,\"x\":[\"radio/TV\",\"education\",\"furniture/equipment\",\"car\",\"education\",\"furniture/equipment\",\"car\",\"radio/TV\",\"car\",\"car\",\"radio/TV\",\"business\",\"radio/TV\",\"car\",\"radio/TV\",\"car\",\"car\",\"furniture/equipment\",\"furniture/equipment\",\"radio/TV\",\"radio/TV\",\"business\",\"business\",\"furniture/equipment\",\"car\",\"business\",\"radio/TV\",\"education\",\"radio/TV\",\"domestic appliances\",\"radio/TV\",\"radio/TV\",\"radio/TV\",\"repairs\",\"car\",\"radio/TV\",\"car\",\"furniture/equipment\",\"car\",\"radio/TV\",\"car\",\"car\",\"car\",\"radio/TV\",\"business\",\"radio/TV\",\"business\",\"business\",\"repairs\",\"car\",\"education\",\"radio/TV\",\"vacation/others\",\"education\",\"car\",\"radio/TV\",\"radio/TV\",\"car\",\"furniture/equipment\",\"radio/TV\",\"radio/TV\",\"education\",\"car\",\"repairs\",\"radio/TV\",\"car\",\"furniture/equipment\",\"car\",\"business\",\"business\",\"radio/TV\",\"car\",\"car\",\"radio/TV\",\"furniture/equipment\",\"car\",\"vacation/others\",\"car\",\"car\",\"business\",\"business\",\"car\",\"radio/TV\",\"radio/TV\",\"car\",\"furniture/equipment\",\"car\",\"car\",\"radio/TV\",\"repairs\",\"car\",\"education\",\"furniture/equipment\",\"furniture/equipment\",\"car\",\"radio/TV\",\"radio/TV\",\"car\",\"radio/TV\",\"furniture/equipment\",\"business\",\"furniture/equipment\",\"radio/TV\",\"radio/TV\",\"radio/TV\",\"radio/TV\",\"business\",\"repairs\",\"education\",\"car\",\"radio/TV\",\"radio/TV\",\"domestic appliances\",\"car\",\"car\",\"furniture/equipment\",\"business\",\"car\",\"radio/TV\",\"education\",\"furniture/equipment\",\"radio/TV\",\"radio/TV\",\"car\",\"business\",\"business\",\"car\",\"furniture/equipment\",\"car\",\"radio/TV\",\"car\",\"radio/TV\",\"business\",\"business\",\"business\",\"radio/TV\",\"radio/TV\",\"car\",\"furniture/equipment\",\"education\",\"car\",\"business\",\"education\",\"car\",\"car\",\"furniture/equipment\",\"domestic appliances\",\"business\",\"car\",\"radio/TV\",\"business\",\"business\",\"radio/TV\",\"business\",\"radio/TV\",\"furniture/equipment\",\"radio/TV\",\"radio/TV\",\"business\",\"car\",\"repairs\",\"radio/TV\",\"furniture/equipment\",\"radio/TV\",\"furniture/equipment\",\"radio/TV\",\"car\",\"radio/TV\",\"radio/TV\",\"radio/TV\",\"radio/TV\",\"car\",\"business\",\"radio/TV\",\"radio/TV\",\"car\",\"business\",\"radio/TV\",\"car\",\"furniture/equipment\",\"furniture/equipment\",\"furniture/equipment\",\"radio/TV\",\"radio/TV\",\"radio/TV\",\"furniture/equipment\",\"car\",\"car\",\"radio/TV\",\"business\",\"car\",\"radio/TV\",\"car\",\"car\",\"radio/TV\",\"repairs\",\"radio/TV\",\"furniture/equipment\",\"radio/TV\",\"car\",\"furniture/equipment\",\"radio/TV\",\"furniture/equipment\",\"car\",\"car\",\"vacation/others\",\"radio/TV\",\"business\",\"car\",\"car\",\"business\",\"car\",\"furniture/equipment\",\"furniture/equipment\",\"car\",\"car\",\"car\",\"furniture/equipment\",\"radio/TV\",\"car\",\"vacation/others\",\"furniture/equipment\",\"car\",\"car\",\"furniture/equipment\",\"furniture/equipment\",\"education\",\"car\",\"radio/TV\",\"car\",\"furniture/equipment\",\"car\",\"furniture/equipment\",\"radio/TV\",\"radio/TV\",\"car\",\"furniture/equipment\",\"furniture/equipment\",\"furniture/equipment\",\"furniture/equipment\",\"radio/TV\",\"business\",\"car\",\"radio/TV\",\"business\",\"education\",\"car\",\"radio/TV\",\"education\",\"car\",\"radio/TV\",\"radio/TV\",\"radio/TV\",\"education\",\"radio/TV\",\"furniture/equipment\",\"furniture/equipment\",\"business\",\"car\",\"furniture/equipment\",\"car\",\"radio/TV\",\"car\",\"radio/TV\",\"radio/TV\",\"car\",\"furniture/equipment\",\"car\",\"business\",\"furniture/equipment\",\"business\",\"car\",\"car\",\"furniture/equipment\",\"education\",\"furniture/equipment\",\"car\",\"radio/TV\",\"business\",\"business\",\"car\",\"car\",\"radio/TV\",\"car\",\"radio/TV\",\"radio/TV\",\"car\",\"car\",\"business\",\"car\",\"car\",\"car\",\"car\",\"car\",\"furniture/equipment\",\"car\",\"radio/TV\",\"radio/TV\",\"furniture/equipment\",\"business\",\"vacation/others\",\"furniture/equipment\",\"repairs\",\"furniture/equipment\",\"radio/TV\",\"repairs\",\"repairs\",\"car\",\"vacation/others\",\"education\",\"radio/TV\",\"repairs\",\"car\",\"furniture/equipment\",\"car\",\"car\",\"car\",\"car\",\"radio/TV\",\"furniture/equipment\",\"car\",\"education\",\"business\",\"car\",\"radio/TV\",\"car\",\"radio/TV\",\"car\",\"education\",\"radio/TV\",\"car\",\"radio/TV\",\"business\",\"furniture/equipment\",\"car\",\"car\",\"car\",\"radio/TV\",\"car\",\"car\",\"radio/TV\",\"radio/TV\",\"car\",\"furniture/equipment\",\"furniture/equipment\",\"furniture/equipment\",\"radio/TV\",\"car\",\"car\",\"radio/TV\",\"radio/TV\",\"car\",\"car\",\"car\",\"radio/TV\",\"car\",\"car\",\"car\",\"business\",\"radio/TV\",\"car\",\"car\",\"car\",\"radio/TV\",\"repairs\",\"furniture/equipment\",\"car\",\"radio/TV\",\"radio/TV\",\"car\",\"education\",\"car\",\"radio/TV\",\"radio/TV\",\"education\",\"car\",\"radio/TV\",\"car\",\"furniture/equipment\",\"furniture/equipment\",\"car\",\"car\",\"radio/TV\",\"car\",\"radio/TV\",\"radio/TV\",\"car\",\"radio/TV\",\"furniture/equipment\",\"furniture/equipment\",\"car\",\"radio/TV\",\"car\",\"business\",\"car\",\"radio/TV\",\"radio/TV\",\"radio/TV\",\"radio/TV\",\"car\",\"education\",\"car\",\"car\",\"repairs\",\"car\",\"furniture/equipment\",\"domestic appliances\",\"furniture/equipment\",\"vacation/others\",\"business\",\"car\",\"business\",\"furniture/equipment\",\"business\",\"radio/TV\",\"car\",\"business\",\"radio/TV\",\"car\",\"car\",\"business\",\"car\",\"business\",\"radio/TV\",\"radio/TV\",\"furniture/equipment\",\"car\",\"furniture/equipment\",\"education\",\"furniture/equipment\",\"radio/TV\",\"education\",\"radio/TV\",\"radio/TV\",\"repairs\",\"education\",\"radio/TV\",\"radio/TV\",\"business\",\"furniture/equipment\",\"car\",\"education\",\"education\",\"furniture/equipment\",\"car\",\"car\",\"car\",\"car\",\"car\",\"radio/TV\",\"furniture/equipment\",\"radio/TV\",\"car\",\"furniture/equipment\",\"furniture/equipment\",\"vacation/others\",\"furniture/equipment\",\"car\",\"radio/TV\",\"business\",\"business\",\"car\",\"car\",\"business\",\"furniture/equipment\",\"radio/TV\",\"radio/TV\",\"radio/TV\",\"radio/TV\",\"radio/TV\",\"business\",\"car\",\"radio/TV\",\"car\",\"radio/TV\",\"car\",\"furniture/equipment\",\"radio/TV\",\"car\",\"radio/TV\",\"car\",\"radio/TV\",\"radio/TV\",\"education\",\"car\",\"business\",\"car\",\"radio/TV\",\"radio/TV\",\"car\",\"radio/TV\",\"car\",\"car\",\"radio/TV\",\"radio/TV\",\"radio/TV\",\"car\",\"radio/TV\",\"radio/TV\",\"business\",\"radio/TV\",\"radio/TV\",\"car\",\"car\",\"car\",\"radio/TV\",\"radio/TV\",\"furniture/equipment\",\"furniture/equipment\",\"business\",\"car\",\"car\",\"repairs\",\"car\",\"radio/TV\",\"car\",\"car\",\"radio/TV\",\"car\",\"car\",\"radio/TV\",\"furniture/equipment\",\"furniture/equipment\",\"radio/TV\",\"car\",\"radio/TV\",\"car\",\"car\",\"car\",\"radio/TV\",\"car\",\"education\",\"car\",\"business\",\"radio/TV\",\"car\",\"education\",\"education\",\"car\",\"furniture/equipment\",\"furniture/equipment\",\"furniture/equipment\",\"car\",\"car\",\"car\",\"education\",\"radio/TV\",\"car\",\"radio/TV\",\"radio/TV\",\"car\",\"business\",\"radio/TV\",\"car\",\"domestic appliances\",\"car\",\"domestic appliances\",\"vacation/others\",\"radio/TV\",\"car\",\"radio/TV\",\"furniture/equipment\",\"car\",\"furniture/equipment\",\"car\",\"business\",\"car\",\"business\",\"business\",\"business\",\"car\",\"car\",\"radio/TV\",\"furniture/equipment\",\"car\",\"business\",\"furniture/equipment\",\"furniture/equipment\",\"car\",\"car\",\"radio/TV\",\"radio/TV\",\"car\",\"car\",\"radio/TV\",\"car\",\"car\",\"car\",\"furniture/equipment\",\"car\",\"car\",\"business\",\"furniture/equipment\",\"furniture/equipment\",\"furniture/equipment\",\"business\",\"car\",\"business\",\"furniture/equipment\",\"radio/TV\",\"radio/TV\",\"car\",\"radio/TV\",\"car\",\"car\",\"car\",\"furniture/equipment\",\"business\",\"business\",\"car\",\"car\",\"business\",\"radio/TV\",\"car\",\"car\",\"radio/TV\",\"car\",\"furniture/equipment\",\"car\",\"car\",\"car\",\"radio/TV\",\"radio/TV\",\"radio/TV\",\"car\",\"education\",\"business\",\"business\",\"car\",\"car\",\"furniture/equipment\",\"furniture/equipment\",\"radio/TV\",\"car\",\"furniture/equipment\",\"car\",\"car\",\"radio/TV\",\"car\",\"furniture/equipment\",\"car\",\"radio/TV\",\"radio/TV\",\"radio/TV\",\"education\",\"car\",\"car\",\"car\",\"furniture/equipment\",\"car\",\"furniture/equipment\",\"car\",\"furniture/equipment\",\"radio/TV\",\"business\",\"business\",\"radio/TV\",\"radio/TV\",\"car\",\"furniture/equipment\",\"radio/TV\",\"car\",\"car\",\"radio/TV\",\"repairs\",\"radio/TV\",\"radio/TV\",\"car\",\"repairs\",\"car\",\"business\",\"business\",\"car\",\"car\",\"furniture/equipment\",\"business\",\"car\",\"furniture/equipment\",\"business\",\"car\",\"radio/TV\",\"education\",\"radio/TV\",\"radio/TV\",\"furniture/equipment\",\"car\",\"car\",\"radio/TV\",\"radio/TV\",\"car\"],\"x0\":\" \",\"xaxis\":\"x\",\"y\":[6,12,42,24,36,24,36,12,30,24,24,30,24,9,6,10,12,10,6,6,7,60,18,24,18,12,45,48,18,10,9,30,12,18,30,36,11,24,27,12,18,36,6,12,9,15,36,48,27,12,36,7,8,36,12,42,11,54,30,15,10,36,18,12,12,12,24,12,54,18,36,20,24,36,9,12,24,18,12,14,6,18,12,48,12,12,10,12,12,12,12,36,15,18,27,12,15,6,27,18,48,36,18,6,10,36,24,9,12,24,6,24,15,10,36,6,24,15,8,21,12,6,12,21,36,36,21,24,18,15,16,12,24,48,27,6,45,24,18,9,12,27,12,12,30,12,12,24,12,9,27,30,36,18,36,24,12,12,24,15,36,48,12,9,24,36,9,12,18,4,24,6,21,30,6,48,24,12,6,24,24,9,60,24,12,12,18,10,15,36,14,24,18,48,48,30,9,12,24,15,12,18,15,24,48,48,24,12,36,42,48,10,18,21,24,10,48,6,12,9,48,24,12,4,36,12,12,30,24,24,18,8,12,36,6,24,24,6,24,10,18,18,10,13,6,9,18,12,10,24,12,36,12,18,12,6,18,12,18,36,36,18,60,18,7,36,20,12,30,18,15,18,36,9,39,36,12,18,18,24,14,18,24,24,15,24,12,33,12,10,36,12,12,12,21,18,28,18,9,5,24,6,24,9,12,6,42,12,20,12,7,15,36,12,24,24,11,12,18,36,15,12,18,24,48,24,24,9,6,18,39,24,12,15,24,12,6,12,10,6,12,6,12,24,36,24,18,6,36,9,24,10,15,15,24,39,12,36,15,12,24,6,6,6,24,48,26,4,36,6,36,12,24,24,21,48,12,24,30,18,12,24,24,48,6,48,12,12,24,18,24,24,36,24,12,24,48,30,9,36,24,18,12,36,9,12,18,12,24,24,18,24,24,24,18,15,48,60,6,12,21,18,48,18,15,6,9,42,9,18,15,12,60,42,15,15,24,18,36,30,24,12,48,12,24,36,24,14,12,48,18,12,12,21,6,24,30,12,30,24,36,60,6,21,24,72,24,12,15,24,36,60,10,36,9,12,15,24,6,24,6,12,18,15,48,30,48,9,18,21,9,60,30,30,18,24,20,9,15,24,24,24,18,6,24,10,21,24,39,13,21,15,12,6,15,24,12,12,21,24,12,30,12,12,21,24,12,36,36,39,24,12,20,18,22,48,48,40,24,6,24,24,18,24,9,24,12,36,6,12,42,8,6,36,48,48,6,36,18,12,12,36,8,18,21,18,36,48,24,45,12,24,24,36,21,24,18,21,18,24,9,12,20,24,15,18,36,24,15,9,24,18,27,10,12,36,6,24,12,18,36,9,30,24,24,30,24,24,48,36,28,27,15,12,36,18,36,18,16,20,36,15,24,12,21,36,11,24,10,6,24,24,48,12,24,12,48,30,12,24,9,12,30,6,60,24,12,10,24,4,24,12,18,24,18,36,30,9,28,24,6,21,15,24,6,27,42,11,15,24,60,18,24,15,30,48,36,24,42,24,24,12,15,18,36,12,30,12,45,45],\"y0\":\" \",\"yaxis\":\"y\",\"type\":\"box\"},{\"alignmentgroup\":\"True\",\"hovertemplate\":\"Sex=female<br>Purpose=%{x}<br>Duration=%{y}<extra></extra>\",\"legendgroup\":\"female\",\"marker\":{\"color\":\"#EF553B\"},\"name\":\"female\",\"notched\":false,\"offsetgroup\":\"female\",\"orientation\":\"v\",\"showlegend\":true,\"x\":[\"radio/TV\",\"car\",\"business\",\"radio/TV\",\"car\",\"radio/TV\",\"car\",\"radio/TV\",\"furniture/equipment\",\"car\",\"car\",\"car\",\"radio/TV\",\"radio/TV\",\"car\",\"furniture/equipment\",\"radio/TV\",\"radio/TV\",\"radio/TV\",\"car\",\"business\",\"radio/TV\",\"business\",\"vacation/others\",\"business\",\"furniture/equipment\",\"radio/TV\",\"education\",\"radio/TV\",\"furniture/equipment\",\"education\",\"car\",\"radio/TV\",\"furniture/equipment\",\"furniture/equipment\",\"radio/TV\",\"car\",\"furniture/equipment\",\"car\",\"car\",\"radio/TV\",\"radio/TV\",\"radio/TV\",\"radio/TV\",\"furniture/equipment\",\"car\",\"car\",\"car\",\"furniture/equipment\",\"car\",\"furniture/equipment\",\"furniture/equipment\",\"furniture/equipment\",\"furniture/equipment\",\"furniture/equipment\",\"car\",\"car\",\"furniture/equipment\",\"education\",\"radio/TV\",\"furniture/equipment\",\"radio/TV\",\"education\",\"car\",\"education\",\"radio/TV\",\"car\",\"business\",\"education\",\"radio/TV\",\"car\",\"furniture/equipment\",\"car\",\"car\",\"radio/TV\",\"radio/TV\",\"education\",\"radio/TV\",\"furniture/equipment\",\"radio/TV\",\"furniture/equipment\",\"car\",\"radio/TV\",\"car\",\"furniture/equipment\",\"car\",\"car\",\"radio/TV\",\"car\",\"furniture/equipment\",\"furniture/equipment\",\"furniture/equipment\",\"furniture/equipment\",\"car\",\"car\",\"education\",\"car\",\"car\",\"radio/TV\",\"domestic appliances\",\"education\",\"furniture/equipment\",\"radio/TV\",\"radio/TV\",\"domestic appliances\",\"furniture/equipment\",\"furniture/equipment\",\"car\",\"furniture/equipment\",\"furniture/equipment\",\"furniture/equipment\",\"vacation/others\",\"business\",\"car\",\"car\",\"car\",\"radio/TV\",\"radio/TV\",\"business\",\"furniture/equipment\",\"radio/TV\",\"furniture/equipment\",\"radio/TV\",\"radio/TV\",\"car\",\"education\",\"car\",\"car\",\"car\",\"furniture/equipment\",\"repairs\",\"car\",\"business\",\"furniture/equipment\",\"furniture/equipment\",\"education\",\"car\",\"furniture/equipment\",\"radio/TV\",\"car\",\"domestic appliances\",\"furniture/equipment\",\"radio/TV\",\"business\",\"education\",\"furniture/equipment\",\"radio/TV\",\"furniture/equipment\",\"furniture/equipment\",\"car\",\"business\",\"radio/TV\",\"car\",\"car\",\"car\",\"furniture/equipment\",\"radio/TV\",\"car\",\"radio/TV\",\"education\",\"car\",\"car\",\"furniture/equipment\",\"furniture/equipment\",\"car\",\"radio/TV\",\"repairs\",\"education\",\"car\",\"car\",\"radio/TV\",\"radio/TV\",\"radio/TV\",\"furniture/equipment\",\"car\",\"business\",\"furniture/equipment\",\"radio/TV\",\"education\",\"furniture/equipment\",\"car\",\"furniture/equipment\",\"radio/TV\",\"car\",\"business\",\"car\",\"car\",\"car\",\"radio/TV\",\"furniture/equipment\",\"education\",\"furniture/equipment\",\"furniture/equipment\",\"radio/TV\",\"domestic appliances\",\"car\",\"radio/TV\",\"car\",\"furniture/equipment\",\"furniture/equipment\",\"furniture/equipment\",\"radio/TV\",\"furniture/equipment\",\"car\",\"radio/TV\",\"radio/TV\",\"education\",\"car\",\"business\",\"education\",\"business\",\"radio/TV\",\"radio/TV\",\"education\",\"repairs\",\"car\",\"furniture/equipment\",\"radio/TV\",\"business\",\"car\",\"furniture/equipment\",\"radio/TV\",\"education\",\"education\",\"car\",\"radio/TV\",\"car\",\"car\",\"radio/TV\",\"business\",\"radio/TV\",\"car\",\"car\",\"domestic appliances\",\"car\",\"business\",\"car\",\"car\",\"furniture/equipment\",\"car\",\"business\",\"radio/TV\",\"car\",\"car\",\"furniture/equipment\",\"car\",\"car\",\"education\",\"car\",\"radio/TV\",\"repairs\",\"car\",\"business\",\"furniture/equipment\",\"furniture/equipment\",\"radio/TV\",\"furniture/equipment\",\"car\",\"car\",\"car\",\"radio/TV\",\"car\",\"car\",\"radio/TV\",\"radio/TV\",\"radio/TV\",\"furniture/equipment\",\"repairs\",\"education\",\"car\",\"radio/TV\",\"furniture/equipment\",\"radio/TV\",\"furniture/equipment\",\"furniture/equipment\",\"domestic appliances\",\"car\",\"radio/TV\",\"education\",\"radio/TV\",\"furniture/equipment\",\"furniture/equipment\",\"car\",\"car\",\"radio/TV\",\"furniture/equipment\",\"radio/TV\",\"vacation/others\",\"furniture/equipment\",\"radio/TV\",\"furniture/equipment\",\"radio/TV\",\"radio/TV\",\"radio/TV\",\"furniture/equipment\",\"car\",\"car\",\"furniture/equipment\",\"car\",\"radio/TV\",\"radio/TV\",\"radio/TV\",\"car\",\"radio/TV\",\"radio/TV\",\"radio/TV\",\"car\",\"furniture/equipment\",\"radio/TV\",\"furniture/equipment\"],\"x0\":\" \",\"xaxis\":\"x\",\"y\":[48,12,48,12,15,24,24,12,12,48,11,6,12,36,18,36,24,12,36,36,42,24,18,24,12,18,12,12,6,24,15,36,42,10,33,21,24,18,12,48,60,12,12,36,21,6,12,24,12,18,18,11,24,12,24,30,9,18,9,6,12,36,6,10,12,12,24,12,12,18,6,12,30,15,11,24,12,24,12,18,6,47,12,24,48,12,6,36,30,8,24,24,15,18,24,18,60,48,13,15,24,21,15,24,9,9,30,12,18,18,10,60,48,6,18,22,18,18,9,12,6,12,24,24,24,18,21,18,15,12,18,24,12,12,48,9,36,12,6,24,6,12,24,33,6,18,12,30,15,24,27,6,24,24,6,36,18,24,18,15,15,6,18,18,24,12,12,9,18,21,6,24,48,24,24,15,15,12,24,9,12,18,12,24,21,24,6,24,7,9,24,36,10,36,12,10,21,24,18,30,12,24,9,24,24,12,18,12,30,6,48,30,18,6,15,12,12,24,27,15,12,9,6,6,12,9,27,6,18,48,8,24,4,36,24,30,15,12,6,18,12,30,24,15,18,10,24,36,24,18,18,12,21,9,12,18,20,12,15,36,6,18,18,24,15,12,4,18,10,15,24,15,18,12,36,15,11,18,12,21,12,15,15,9,36,24,30,48,18,9,18,9,12,9,15,48,24,36,12,24,30,15,24,30,24,6,21,15,13,12],\"y0\":\" \",\"yaxis\":\"y\",\"type\":\"box\"}],                        {\"template\":{\"data\":{\"bar\":[{\"error_x\":{\"color\":\"#f2f5fa\"},\"error_y\":{\"color\":\"#f2f5fa\"},\"marker\":{\"line\":{\"color\":\"rgb(17,17,17)\",\"width\":0.5},\"pattern\":{\"fillmode\":\"overlay\",\"size\":10,\"solidity\":0.2}},\"type\":\"bar\"}],\"barpolar\":[{\"marker\":{\"line\":{\"color\":\"rgb(17,17,17)\",\"width\":0.5},\"pattern\":{\"fillmode\":\"overlay\",\"size\":10,\"solidity\":0.2}},\"type\":\"barpolar\"}],\"carpet\":[{\"aaxis\":{\"endlinecolor\":\"#A2B1C6\",\"gridcolor\":\"#506784\",\"linecolor\":\"#506784\",\"minorgridcolor\":\"#506784\",\"startlinecolor\":\"#A2B1C6\"},\"baxis\":{\"endlinecolor\":\"#A2B1C6\",\"gridcolor\":\"#506784\",\"linecolor\":\"#506784\",\"minorgridcolor\":\"#506784\",\"startlinecolor\":\"#A2B1C6\"},\"type\":\"carpet\"}],\"choropleth\":[{\"colorbar\":{\"outlinewidth\":0,\"ticks\":\"\"},\"type\":\"choropleth\"}],\"contour\":[{\"colorbar\":{\"outlinewidth\":0,\"ticks\":\"\"},\"colorscale\":[[0.0,\"#0d0887\"],[0.1111111111111111,\"#46039f\"],[0.2222222222222222,\"#7201a8\"],[0.3333333333333333,\"#9c179e\"],[0.4444444444444444,\"#bd3786\"],[0.5555555555555556,\"#d8576b\"],[0.6666666666666666,\"#ed7953\"],[0.7777777777777778,\"#fb9f3a\"],[0.8888888888888888,\"#fdca26\"],[1.0,\"#f0f921\"]],\"type\":\"contour\"}],\"contourcarpet\":[{\"colorbar\":{\"outlinewidth\":0,\"ticks\":\"\"},\"type\":\"contourcarpet\"}],\"heatmap\":[{\"colorbar\":{\"outlinewidth\":0,\"ticks\":\"\"},\"colorscale\":[[0.0,\"#0d0887\"],[0.1111111111111111,\"#46039f\"],[0.2222222222222222,\"#7201a8\"],[0.3333333333333333,\"#9c179e\"],[0.4444444444444444,\"#bd3786\"],[0.5555555555555556,\"#d8576b\"],[0.6666666666666666,\"#ed7953\"],[0.7777777777777778,\"#fb9f3a\"],[0.8888888888888888,\"#fdca26\"],[1.0,\"#f0f921\"]],\"type\":\"heatmap\"}],\"heatmapgl\":[{\"colorbar\":{\"outlinewidth\":0,\"ticks\":\"\"},\"colorscale\":[[0.0,\"#0d0887\"],[0.1111111111111111,\"#46039f\"],[0.2222222222222222,\"#7201a8\"],[0.3333333333333333,\"#9c179e\"],[0.4444444444444444,\"#bd3786\"],[0.5555555555555556,\"#d8576b\"],[0.6666666666666666,\"#ed7953\"],[0.7777777777777778,\"#fb9f3a\"],[0.8888888888888888,\"#fdca26\"],[1.0,\"#f0f921\"]],\"type\":\"heatmapgl\"}],\"histogram\":[{\"marker\":{\"pattern\":{\"fillmode\":\"overlay\",\"size\":10,\"solidity\":0.2}},\"type\":\"histogram\"}],\"histogram2d\":[{\"colorbar\":{\"outlinewidth\":0,\"ticks\":\"\"},\"colorscale\":[[0.0,\"#0d0887\"],[0.1111111111111111,\"#46039f\"],[0.2222222222222222,\"#7201a8\"],[0.3333333333333333,\"#9c179e\"],[0.4444444444444444,\"#bd3786\"],[0.5555555555555556,\"#d8576b\"],[0.6666666666666666,\"#ed7953\"],[0.7777777777777778,\"#fb9f3a\"],[0.8888888888888888,\"#fdca26\"],[1.0,\"#f0f921\"]],\"type\":\"histogram2d\"}],\"histogram2dcontour\":[{\"colorbar\":{\"outlinewidth\":0,\"ticks\":\"\"},\"colorscale\":[[0.0,\"#0d0887\"],[0.1111111111111111,\"#46039f\"],[0.2222222222222222,\"#7201a8\"],[0.3333333333333333,\"#9c179e\"],[0.4444444444444444,\"#bd3786\"],[0.5555555555555556,\"#d8576b\"],[0.6666666666666666,\"#ed7953\"],[0.7777777777777778,\"#fb9f3a\"],[0.8888888888888888,\"#fdca26\"],[1.0,\"#f0f921\"]],\"type\":\"histogram2dcontour\"}],\"mesh3d\":[{\"colorbar\":{\"outlinewidth\":0,\"ticks\":\"\"},\"type\":\"mesh3d\"}],\"parcoords\":[{\"line\":{\"colorbar\":{\"outlinewidth\":0,\"ticks\":\"\"}},\"type\":\"parcoords\"}],\"pie\":[{\"automargin\":true,\"type\":\"pie\"}],\"scatter\":[{\"marker\":{\"line\":{\"color\":\"#283442\"}},\"type\":\"scatter\"}],\"scatter3d\":[{\"line\":{\"colorbar\":{\"outlinewidth\":0,\"ticks\":\"\"}},\"marker\":{\"colorbar\":{\"outlinewidth\":0,\"ticks\":\"\"}},\"type\":\"scatter3d\"}],\"scattercarpet\":[{\"marker\":{\"colorbar\":{\"outlinewidth\":0,\"ticks\":\"\"}},\"type\":\"scattercarpet\"}],\"scattergeo\":[{\"marker\":{\"colorbar\":{\"outlinewidth\":0,\"ticks\":\"\"}},\"type\":\"scattergeo\"}],\"scattergl\":[{\"marker\":{\"line\":{\"color\":\"#283442\"}},\"type\":\"scattergl\"}],\"scattermapbox\":[{\"marker\":{\"colorbar\":{\"outlinewidth\":0,\"ticks\":\"\"}},\"type\":\"scattermapbox\"}],\"scatterpolar\":[{\"marker\":{\"colorbar\":{\"outlinewidth\":0,\"ticks\":\"\"}},\"type\":\"scatterpolar\"}],\"scatterpolargl\":[{\"marker\":{\"colorbar\":{\"outlinewidth\":0,\"ticks\":\"\"}},\"type\":\"scatterpolargl\"}],\"scatterternary\":[{\"marker\":{\"colorbar\":{\"outlinewidth\":0,\"ticks\":\"\"}},\"type\":\"scatterternary\"}],\"surface\":[{\"colorbar\":{\"outlinewidth\":0,\"ticks\":\"\"},\"colorscale\":[[0.0,\"#0d0887\"],[0.1111111111111111,\"#46039f\"],[0.2222222222222222,\"#7201a8\"],[0.3333333333333333,\"#9c179e\"],[0.4444444444444444,\"#bd3786\"],[0.5555555555555556,\"#d8576b\"],[0.6666666666666666,\"#ed7953\"],[0.7777777777777778,\"#fb9f3a\"],[0.8888888888888888,\"#fdca26\"],[1.0,\"#f0f921\"]],\"type\":\"surface\"}],\"table\":[{\"cells\":{\"fill\":{\"color\":\"#506784\"},\"line\":{\"color\":\"rgb(17,17,17)\"}},\"header\":{\"fill\":{\"color\":\"#2a3f5f\"},\"line\":{\"color\":\"rgb(17,17,17)\"}},\"type\":\"table\"}]},\"layout\":{\"annotationdefaults\":{\"arrowcolor\":\"#f2f5fa\",\"arrowhead\":0,\"arrowwidth\":1},\"autotypenumbers\":\"strict\",\"coloraxis\":{\"colorbar\":{\"outlinewidth\":0,\"ticks\":\"\"}},\"colorscale\":{\"diverging\":[[0,\"#8e0152\"],[0.1,\"#c51b7d\"],[0.2,\"#de77ae\"],[0.3,\"#f1b6da\"],[0.4,\"#fde0ef\"],[0.5,\"#f7f7f7\"],[0.6,\"#e6f5d0\"],[0.7,\"#b8e186\"],[0.8,\"#7fbc41\"],[0.9,\"#4d9221\"],[1,\"#276419\"]],\"sequential\":[[0.0,\"#0d0887\"],[0.1111111111111111,\"#46039f\"],[0.2222222222222222,\"#7201a8\"],[0.3333333333333333,\"#9c179e\"],[0.4444444444444444,\"#bd3786\"],[0.5555555555555556,\"#d8576b\"],[0.6666666666666666,\"#ed7953\"],[0.7777777777777778,\"#fb9f3a\"],[0.8888888888888888,\"#fdca26\"],[1.0,\"#f0f921\"]],\"sequentialminus\":[[0.0,\"#0d0887\"],[0.1111111111111111,\"#46039f\"],[0.2222222222222222,\"#7201a8\"],[0.3333333333333333,\"#9c179e\"],[0.4444444444444444,\"#bd3786\"],[0.5555555555555556,\"#d8576b\"],[0.6666666666666666,\"#ed7953\"],[0.7777777777777778,\"#fb9f3a\"],[0.8888888888888888,\"#fdca26\"],[1.0,\"#f0f921\"]]},\"colorway\":[\"#636efa\",\"#EF553B\",\"#00cc96\",\"#ab63fa\",\"#FFA15A\",\"#19d3f3\",\"#FF6692\",\"#B6E880\",\"#FF97FF\",\"#FECB52\"],\"font\":{\"color\":\"#f2f5fa\"},\"geo\":{\"bgcolor\":\"rgb(17,17,17)\",\"lakecolor\":\"rgb(17,17,17)\",\"landcolor\":\"rgb(17,17,17)\",\"showlakes\":true,\"showland\":true,\"subunitcolor\":\"#506784\"},\"hoverlabel\":{\"align\":\"left\"},\"hovermode\":\"closest\",\"mapbox\":{\"style\":\"dark\"},\"paper_bgcolor\":\"rgb(17,17,17)\",\"plot_bgcolor\":\"rgb(17,17,17)\",\"polar\":{\"angularaxis\":{\"gridcolor\":\"#506784\",\"linecolor\":\"#506784\",\"ticks\":\"\"},\"bgcolor\":\"rgb(17,17,17)\",\"radialaxis\":{\"gridcolor\":\"#506784\",\"linecolor\":\"#506784\",\"ticks\":\"\"}},\"scene\":{\"xaxis\":{\"backgroundcolor\":\"rgb(17,17,17)\",\"gridcolor\":\"#506784\",\"gridwidth\":2,\"linecolor\":\"#506784\",\"showbackground\":true,\"ticks\":\"\",\"zerolinecolor\":\"#C8D4E3\"},\"yaxis\":{\"backgroundcolor\":\"rgb(17,17,17)\",\"gridcolor\":\"#506784\",\"gridwidth\":2,\"linecolor\":\"#506784\",\"showbackground\":true,\"ticks\":\"\",\"zerolinecolor\":\"#C8D4E3\"},\"zaxis\":{\"backgroundcolor\":\"rgb(17,17,17)\",\"gridcolor\":\"#506784\",\"gridwidth\":2,\"linecolor\":\"#506784\",\"showbackground\":true,\"ticks\":\"\",\"zerolinecolor\":\"#C8D4E3\"}},\"shapedefaults\":{\"line\":{\"color\":\"#f2f5fa\"}},\"sliderdefaults\":{\"bgcolor\":\"#C8D4E3\",\"bordercolor\":\"rgb(17,17,17)\",\"borderwidth\":1,\"tickwidth\":0},\"ternary\":{\"aaxis\":{\"gridcolor\":\"#506784\",\"linecolor\":\"#506784\",\"ticks\":\"\"},\"baxis\":{\"gridcolor\":\"#506784\",\"linecolor\":\"#506784\",\"ticks\":\"\"},\"bgcolor\":\"rgb(17,17,17)\",\"caxis\":{\"gridcolor\":\"#506784\",\"linecolor\":\"#506784\",\"ticks\":\"\"}},\"title\":{\"x\":0.05},\"updatemenudefaults\":{\"bgcolor\":\"#506784\",\"borderwidth\":0},\"xaxis\":{\"automargin\":true,\"gridcolor\":\"#283442\",\"linecolor\":\"#506784\",\"ticks\":\"\",\"title\":{\"standoff\":15},\"zerolinecolor\":\"#283442\",\"zerolinewidth\":2},\"yaxis\":{\"automargin\":true,\"gridcolor\":\"#283442\",\"linecolor\":\"#506784\",\"ticks\":\"\",\"title\":{\"standoff\":15},\"zerolinecolor\":\"#283442\",\"zerolinewidth\":2}}},\"xaxis\":{\"anchor\":\"y\",\"domain\":[0.0,1.0],\"title\":{\"text\":\"Purpose\"}},\"yaxis\":{\"anchor\":\"x\",\"domain\":[0.0,1.0],\"title\":{\"text\":\"Duration\"}},\"legend\":{\"title\":{\"text\":\"Sex\"},\"tracegroupgap\":0},\"title\":{\"text\":\"Duration vs Age\"},\"boxmode\":\"group\"},                        {\"responsive\": true}                    ).then(function(){\n",
       "                            \n",
       "var gd = document.getElementById('4321fa4a-f232-4ba0-81b9-3af03d592810');\n",
       "var x = new MutationObserver(function (mutations, observer) {{\n",
       "        var display = window.getComputedStyle(gd).display;\n",
       "        if (!display || display === 'none') {{\n",
       "            console.log([gd, 'removed!']);\n",
       "            Plotly.purge(gd);\n",
       "            observer.disconnect();\n",
       "        }}\n",
       "}});\n",
       "\n",
       "// Listen for the removal of the full notebook cells\n",
       "var notebookContainer = gd.closest('#notebook-container');\n",
       "if (notebookContainer) {{\n",
       "    x.observe(notebookContainer, {childList: true});\n",
       "}}\n",
       "\n",
       "// Listen for the clearing of the current output cell\n",
       "var outputEl = gd.closest('.output');\n",
       "if (outputEl) {{\n",
       "    x.observe(outputEl, {childList: true});\n",
       "}}\n",
       "\n",
       "                        })                };                            </script>        </div>\n",
       "</body>\n",
       "</html>"
      ]
     },
     "metadata": {},
     "output_type": "display_data"
    },
    {
     "data": {
      "text/plain": [
       "<Figure size 960x480 with 0 Axes>"
      ]
     },
     "metadata": {},
     "output_type": "display_data"
    }
   ],
   "source": [
    "plt.figure(figsize = (8, 4), dpi=120)\n",
    "px.box(df, x='Purpose', y='Duration', color='Sex',\n",
    "           title='Duration vs Age')"
   ]
  },
  {
   "cell_type": "markdown",
   "metadata": {
    "id": "PPPHGbPXrPfW"
   },
   "source": [
    "In this plot we can see that there is no many difference between men and women in duration with exception in education category  and vacation/other category, besides the shortest duration is for domestic applieces category and this have sense, since in the Credit amoung plot we saw that this category has the lowest amount of credits"
   ]
  },
  {
   "cell_type": "code",
   "execution_count": 233,
   "metadata": {
    "id": "yfaiykrNGfit"
   },
   "outputs": [],
   "source": []
  },
  {
   "cell_type": "markdown",
   "metadata": {
    "id": "67GZoJJMGLQJ"
   },
   "source": [
    "## Modeling Clusters"
   ]
  },
  {
   "cell_type": "code",
   "execution_count": 234,
   "metadata": {
    "colab": {
     "base_uri": "https://localhost:8080/",
     "height": 268
    },
    "id": "z7ipEWiDG-jZ",
    "outputId": "6d9f7610-6fe6-45f2-91df-3dea469b0dfa"
   },
   "outputs": [
    {
     "data": {
      "text/html": [
       "\n",
       "  <div id=\"df-15342977-223b-406e-9254-f8a5dfd778bb\">\n",
       "    <div class=\"colab-df-container\">\n",
       "      <div>\n",
       "<style scoped>\n",
       "    .dataframe tbody tr th:only-of-type {\n",
       "        vertical-align: middle;\n",
       "    }\n",
       "\n",
       "    .dataframe tbody tr th {\n",
       "        vertical-align: top;\n",
       "    }\n",
       "\n",
       "    .dataframe thead th {\n",
       "        text-align: right;\n",
       "    }\n",
       "</style>\n",
       "<table border=\"1\" class=\"dataframe\">\n",
       "  <thead>\n",
       "    <tr style=\"text-align: right;\">\n",
       "      <th></th>\n",
       "      <th>Age</th>\n",
       "      <th>Sex</th>\n",
       "      <th>Job</th>\n",
       "      <th>Housing</th>\n",
       "      <th>Saving accounts</th>\n",
       "      <th>Checking account</th>\n",
       "      <th>Credit amount</th>\n",
       "      <th>Duration</th>\n",
       "      <th>Purpose</th>\n",
       "      <th>Age Cohorte</th>\n",
       "    </tr>\n",
       "  </thead>\n",
       "  <tbody>\n",
       "    <tr>\n",
       "      <th>0</th>\n",
       "      <td>67</td>\n",
       "      <td>male</td>\n",
       "      <td>2</td>\n",
       "      <td>own</td>\n",
       "      <td>unknown</td>\n",
       "      <td>little</td>\n",
       "      <td>1169</td>\n",
       "      <td>6</td>\n",
       "      <td>radio/TV</td>\n",
       "      <td>51-75</td>\n",
       "    </tr>\n",
       "    <tr>\n",
       "      <th>1</th>\n",
       "      <td>22</td>\n",
       "      <td>female</td>\n",
       "      <td>2</td>\n",
       "      <td>own</td>\n",
       "      <td>little</td>\n",
       "      <td>moderate</td>\n",
       "      <td>5951</td>\n",
       "      <td>48</td>\n",
       "      <td>radio/TV</td>\n",
       "      <td>0-25</td>\n",
       "    </tr>\n",
       "    <tr>\n",
       "      <th>2</th>\n",
       "      <td>49</td>\n",
       "      <td>male</td>\n",
       "      <td>1</td>\n",
       "      <td>own</td>\n",
       "      <td>little</td>\n",
       "      <td>unknown</td>\n",
       "      <td>2096</td>\n",
       "      <td>12</td>\n",
       "      <td>education</td>\n",
       "      <td>26-50</td>\n",
       "    </tr>\n",
       "    <tr>\n",
       "      <th>3</th>\n",
       "      <td>45</td>\n",
       "      <td>male</td>\n",
       "      <td>2</td>\n",
       "      <td>free</td>\n",
       "      <td>little</td>\n",
       "      <td>little</td>\n",
       "      <td>7882</td>\n",
       "      <td>42</td>\n",
       "      <td>furniture/equipment</td>\n",
       "      <td>26-50</td>\n",
       "    </tr>\n",
       "    <tr>\n",
       "      <th>4</th>\n",
       "      <td>53</td>\n",
       "      <td>male</td>\n",
       "      <td>2</td>\n",
       "      <td>free</td>\n",
       "      <td>little</td>\n",
       "      <td>little</td>\n",
       "      <td>4870</td>\n",
       "      <td>24</td>\n",
       "      <td>car</td>\n",
       "      <td>51-75</td>\n",
       "    </tr>\n",
       "  </tbody>\n",
       "</table>\n",
       "</div>\n",
       "      <button class=\"colab-df-convert\" onclick=\"convertToInteractive('df-15342977-223b-406e-9254-f8a5dfd778bb')\"\n",
       "              title=\"Convert this dataframe to an interactive table.\"\n",
       "              style=\"display:none;\">\n",
       "        \n",
       "  <svg xmlns=\"http://www.w3.org/2000/svg\" height=\"24px\"viewBox=\"0 0 24 24\"\n",
       "       width=\"24px\">\n",
       "    <path d=\"M0 0h24v24H0V0z\" fill=\"none\"/>\n",
       "    <path d=\"M18.56 5.44l.94 2.06.94-2.06 2.06-.94-2.06-.94-.94-2.06-.94 2.06-2.06.94zm-11 1L8.5 8.5l.94-2.06 2.06-.94-2.06-.94L8.5 2.5l-.94 2.06-2.06.94zm10 10l.94 2.06.94-2.06 2.06-.94-2.06-.94-.94-2.06-.94 2.06-2.06.94z\"/><path d=\"M17.41 7.96l-1.37-1.37c-.4-.4-.92-.59-1.43-.59-.52 0-1.04.2-1.43.59L10.3 9.45l-7.72 7.72c-.78.78-.78 2.05 0 2.83L4 21.41c.39.39.9.59 1.41.59.51 0 1.02-.2 1.41-.59l7.78-7.78 2.81-2.81c.8-.78.8-2.07 0-2.86zM5.41 20L4 18.59l7.72-7.72 1.47 1.35L5.41 20z\"/>\n",
       "  </svg>\n",
       "      </button>\n",
       "      \n",
       "  <style>\n",
       "    .colab-df-container {\n",
       "      display:flex;\n",
       "      flex-wrap:wrap;\n",
       "      gap: 12px;\n",
       "    }\n",
       "\n",
       "    .colab-df-convert {\n",
       "      background-color: #E8F0FE;\n",
       "      border: none;\n",
       "      border-radius: 50%;\n",
       "      cursor: pointer;\n",
       "      display: none;\n",
       "      fill: #1967D2;\n",
       "      height: 32px;\n",
       "      padding: 0 0 0 0;\n",
       "      width: 32px;\n",
       "    }\n",
       "\n",
       "    .colab-df-convert:hover {\n",
       "      background-color: #E2EBFA;\n",
       "      box-shadow: 0px 1px 2px rgba(60, 64, 67, 0.3), 0px 1px 3px 1px rgba(60, 64, 67, 0.15);\n",
       "      fill: #174EA6;\n",
       "    }\n",
       "\n",
       "    [theme=dark] .colab-df-convert {\n",
       "      background-color: #3B4455;\n",
       "      fill: #D2E3FC;\n",
       "    }\n",
       "\n",
       "    [theme=dark] .colab-df-convert:hover {\n",
       "      background-color: #434B5C;\n",
       "      box-shadow: 0px 1px 3px 1px rgba(0, 0, 0, 0.15);\n",
       "      filter: drop-shadow(0px 1px 2px rgba(0, 0, 0, 0.3));\n",
       "      fill: #FFFFFF;\n",
       "    }\n",
       "  </style>\n",
       "\n",
       "      <script>\n",
       "        const buttonEl =\n",
       "          document.querySelector('#df-15342977-223b-406e-9254-f8a5dfd778bb button.colab-df-convert');\n",
       "        buttonEl.style.display =\n",
       "          google.colab.kernel.accessAllowed ? 'block' : 'none';\n",
       "\n",
       "        async function convertToInteractive(key) {\n",
       "          const element = document.querySelector('#df-15342977-223b-406e-9254-f8a5dfd778bb');\n",
       "          const dataTable =\n",
       "            await google.colab.kernel.invokeFunction('convertToInteractive',\n",
       "                                                     [key], {});\n",
       "          if (!dataTable) return;\n",
       "\n",
       "          const docLinkHtml = 'Like what you see? Visit the ' +\n",
       "            '<a target=\"_blank\" href=https://colab.research.google.com/notebooks/data_table.ipynb>data table notebook</a>'\n",
       "            + ' to learn more about interactive tables.';\n",
       "          element.innerHTML = '';\n",
       "          dataTable['output_type'] = 'display_data';\n",
       "          await google.colab.output.renderOutput(dataTable, element);\n",
       "          const docLink = document.createElement('div');\n",
       "          docLink.innerHTML = docLinkHtml;\n",
       "          element.appendChild(docLink);\n",
       "        }\n",
       "      </script>\n",
       "    </div>\n",
       "  </div>\n",
       "  "
      ],
      "text/plain": [
       "   Age     Sex  Job Housing Saving accounts Checking account  Credit amount  \\\n",
       "0   67    male    2     own         unknown           little           1169   \n",
       "1   22  female    2     own          little         moderate           5951   \n",
       "2   49    male    1     own          little          unknown           2096   \n",
       "3   45    male    2    free          little           little           7882   \n",
       "4   53    male    2    free          little           little           4870   \n",
       "\n",
       "   Duration              Purpose Age Cohorte  \n",
       "0         6             radio/TV       51-75  \n",
       "1        48             radio/TV        0-25  \n",
       "2        12            education       26-50  \n",
       "3        42  furniture/equipment       26-50  \n",
       "4        24                  car       51-75  "
      ]
     },
     "execution_count": 234,
     "metadata": {},
     "output_type": "execute_result"
    }
   ],
   "source": [
    "df.head()"
   ]
  },
  {
   "cell_type": "code",
   "execution_count": 235,
   "metadata": {
    "colab": {
     "base_uri": "https://localhost:8080/"
    },
    "id": "0ACGrOzIHN-L",
    "outputId": "10f20047-9773-4c64-f225-f3aeca3e5963"
   },
   "outputs": [
    {
     "data": {
      "text/plain": [
       "array(['unknown', 'little', 'quite rich', 'rich', 'moderate'],\n",
       "      dtype=object)"
      ]
     },
     "execution_count": 235,
     "metadata": {},
     "output_type": "execute_result"
    }
   ],
   "source": [
    "df['Saving accounts'].unique()"
   ]
  },
  {
   "cell_type": "code",
   "execution_count": 236,
   "metadata": {
    "id": "lJBljNObGPlo"
   },
   "outputs": [],
   "source": [
    "# first I am going to choose the columns to clusterization\n",
    "clustering_data = df.drop(['Sex', 'Purpose', \n",
    "                           'Checking account', 'Job'], axis=1)"
   ]
  },
  {
   "cell_type": "code",
   "execution_count": 237,
   "metadata": {
    "colab": {
     "base_uri": "https://localhost:8080/",
     "height": 206
    },
    "id": "O4PEBkPHH5k0",
    "outputId": "7d765eaf-3651-497f-eeb7-7133b05d0e7d"
   },
   "outputs": [
    {
     "data": {
      "text/html": [
       "\n",
       "  <div id=\"df-7623e8a7-9c11-4bf5-8f5f-da1cb4aa9324\">\n",
       "    <div class=\"colab-df-container\">\n",
       "      <div>\n",
       "<style scoped>\n",
       "    .dataframe tbody tr th:only-of-type {\n",
       "        vertical-align: middle;\n",
       "    }\n",
       "\n",
       "    .dataframe tbody tr th {\n",
       "        vertical-align: top;\n",
       "    }\n",
       "\n",
       "    .dataframe thead th {\n",
       "        text-align: right;\n",
       "    }\n",
       "</style>\n",
       "<table border=\"1\" class=\"dataframe\">\n",
       "  <thead>\n",
       "    <tr style=\"text-align: right;\">\n",
       "      <th></th>\n",
       "      <th>Age</th>\n",
       "      <th>Housing</th>\n",
       "      <th>Saving accounts</th>\n",
       "      <th>Credit amount</th>\n",
       "      <th>Duration</th>\n",
       "      <th>Age Cohorte</th>\n",
       "    </tr>\n",
       "  </thead>\n",
       "  <tbody>\n",
       "    <tr>\n",
       "      <th>0</th>\n",
       "      <td>67</td>\n",
       "      <td>own</td>\n",
       "      <td>unknown</td>\n",
       "      <td>1169</td>\n",
       "      <td>6</td>\n",
       "      <td>51-75</td>\n",
       "    </tr>\n",
       "    <tr>\n",
       "      <th>1</th>\n",
       "      <td>22</td>\n",
       "      <td>own</td>\n",
       "      <td>little</td>\n",
       "      <td>5951</td>\n",
       "      <td>48</td>\n",
       "      <td>0-25</td>\n",
       "    </tr>\n",
       "    <tr>\n",
       "      <th>2</th>\n",
       "      <td>49</td>\n",
       "      <td>own</td>\n",
       "      <td>little</td>\n",
       "      <td>2096</td>\n",
       "      <td>12</td>\n",
       "      <td>26-50</td>\n",
       "    </tr>\n",
       "    <tr>\n",
       "      <th>3</th>\n",
       "      <td>45</td>\n",
       "      <td>free</td>\n",
       "      <td>little</td>\n",
       "      <td>7882</td>\n",
       "      <td>42</td>\n",
       "      <td>26-50</td>\n",
       "    </tr>\n",
       "    <tr>\n",
       "      <th>4</th>\n",
       "      <td>53</td>\n",
       "      <td>free</td>\n",
       "      <td>little</td>\n",
       "      <td>4870</td>\n",
       "      <td>24</td>\n",
       "      <td>51-75</td>\n",
       "    </tr>\n",
       "  </tbody>\n",
       "</table>\n",
       "</div>\n",
       "      <button class=\"colab-df-convert\" onclick=\"convertToInteractive('df-7623e8a7-9c11-4bf5-8f5f-da1cb4aa9324')\"\n",
       "              title=\"Convert this dataframe to an interactive table.\"\n",
       "              style=\"display:none;\">\n",
       "        \n",
       "  <svg xmlns=\"http://www.w3.org/2000/svg\" height=\"24px\"viewBox=\"0 0 24 24\"\n",
       "       width=\"24px\">\n",
       "    <path d=\"M0 0h24v24H0V0z\" fill=\"none\"/>\n",
       "    <path d=\"M18.56 5.44l.94 2.06.94-2.06 2.06-.94-2.06-.94-.94-2.06-.94 2.06-2.06.94zm-11 1L8.5 8.5l.94-2.06 2.06-.94-2.06-.94L8.5 2.5l-.94 2.06-2.06.94zm10 10l.94 2.06.94-2.06 2.06-.94-2.06-.94-.94-2.06-.94 2.06-2.06.94z\"/><path d=\"M17.41 7.96l-1.37-1.37c-.4-.4-.92-.59-1.43-.59-.52 0-1.04.2-1.43.59L10.3 9.45l-7.72 7.72c-.78.78-.78 2.05 0 2.83L4 21.41c.39.39.9.59 1.41.59.51 0 1.02-.2 1.41-.59l7.78-7.78 2.81-2.81c.8-.78.8-2.07 0-2.86zM5.41 20L4 18.59l7.72-7.72 1.47 1.35L5.41 20z\"/>\n",
       "  </svg>\n",
       "      </button>\n",
       "      \n",
       "  <style>\n",
       "    .colab-df-container {\n",
       "      display:flex;\n",
       "      flex-wrap:wrap;\n",
       "      gap: 12px;\n",
       "    }\n",
       "\n",
       "    .colab-df-convert {\n",
       "      background-color: #E8F0FE;\n",
       "      border: none;\n",
       "      border-radius: 50%;\n",
       "      cursor: pointer;\n",
       "      display: none;\n",
       "      fill: #1967D2;\n",
       "      height: 32px;\n",
       "      padding: 0 0 0 0;\n",
       "      width: 32px;\n",
       "    }\n",
       "\n",
       "    .colab-df-convert:hover {\n",
       "      background-color: #E2EBFA;\n",
       "      box-shadow: 0px 1px 2px rgba(60, 64, 67, 0.3), 0px 1px 3px 1px rgba(60, 64, 67, 0.15);\n",
       "      fill: #174EA6;\n",
       "    }\n",
       "\n",
       "    [theme=dark] .colab-df-convert {\n",
       "      background-color: #3B4455;\n",
       "      fill: #D2E3FC;\n",
       "    }\n",
       "\n",
       "    [theme=dark] .colab-df-convert:hover {\n",
       "      background-color: #434B5C;\n",
       "      box-shadow: 0px 1px 3px 1px rgba(0, 0, 0, 0.15);\n",
       "      filter: drop-shadow(0px 1px 2px rgba(0, 0, 0, 0.3));\n",
       "      fill: #FFFFFF;\n",
       "    }\n",
       "  </style>\n",
       "\n",
       "      <script>\n",
       "        const buttonEl =\n",
       "          document.querySelector('#df-7623e8a7-9c11-4bf5-8f5f-da1cb4aa9324 button.colab-df-convert');\n",
       "        buttonEl.style.display =\n",
       "          google.colab.kernel.accessAllowed ? 'block' : 'none';\n",
       "\n",
       "        async function convertToInteractive(key) {\n",
       "          const element = document.querySelector('#df-7623e8a7-9c11-4bf5-8f5f-da1cb4aa9324');\n",
       "          const dataTable =\n",
       "            await google.colab.kernel.invokeFunction('convertToInteractive',\n",
       "                                                     [key], {});\n",
       "          if (!dataTable) return;\n",
       "\n",
       "          const docLinkHtml = 'Like what you see? Visit the ' +\n",
       "            '<a target=\"_blank\" href=https://colab.research.google.com/notebooks/data_table.ipynb>data table notebook</a>'\n",
       "            + ' to learn more about interactive tables.';\n",
       "          element.innerHTML = '';\n",
       "          dataTable['output_type'] = 'display_data';\n",
       "          await google.colab.output.renderOutput(dataTable, element);\n",
       "          const docLink = document.createElement('div');\n",
       "          docLink.innerHTML = docLinkHtml;\n",
       "          element.appendChild(docLink);\n",
       "        }\n",
       "      </script>\n",
       "    </div>\n",
       "  </div>\n",
       "  "
      ],
      "text/plain": [
       "   Age Housing Saving accounts  Credit amount  Duration Age Cohorte\n",
       "0   67     own         unknown           1169         6       51-75\n",
       "1   22     own          little           5951        48        0-25\n",
       "2   49     own          little           2096        12       26-50\n",
       "3   45    free          little           7882        42       26-50\n",
       "4   53    free          little           4870        24       51-75"
      ]
     },
     "execution_count": 237,
     "metadata": {},
     "output_type": "execute_result"
    }
   ],
   "source": [
    "clustering_data.head()"
   ]
  },
  {
   "cell_type": "code",
   "execution_count": 238,
   "metadata": {
    "id": "2tRV9zPM-tdN"
   },
   "outputs": [],
   "source": [
    "def show_distributions(dataframe):\n",
    "  fig = make_subplots(rows=3, cols=1,\n",
    "                      subplot_titles=['Age Distribution', 'Duration Distribution',\n",
    "                                      'Credit Amount Distribution'])\n",
    "  graph1 = go.Histogram(x=dataframe['Age'].tolist())\n",
    "  graph2 = go.Histogram(x=dataframe['Duration'].tolist())\n",
    "  graph3 = go.Histogram(x=dataframe['Credit amount'].tolist())\n",
    "\n",
    "  fig.append_trace(graph1, 1, 1)\n",
    "  fig.append_trace(graph2, 2, 1)\n",
    "  fig.append_trace(graph3, 3, 1)\n",
    "\n",
    "  fig.show()"
   ]
  },
  {
   "cell_type": "code",
   "execution_count": 239,
   "metadata": {
    "colab": {
     "base_uri": "https://localhost:8080/",
     "height": 542
    },
    "id": "TrhRLIkM_dMF",
    "outputId": "fff56eda-74d2-43c5-a395-a8dc9d448cc1"
   },
   "outputs": [
    {
     "data": {
      "text/html": [
       "<html>\n",
       "<head><meta charset=\"utf-8\" /></head>\n",
       "<body>\n",
       "    <div>            <script src=\"https://cdnjs.cloudflare.com/ajax/libs/mathjax/2.7.5/MathJax.js?config=TeX-AMS-MML_SVG\"></script><script type=\"text/javascript\">if (window.MathJax) {MathJax.Hub.Config({SVG: {font: \"STIX-Web\"}});}</script>                <script type=\"text/javascript\">window.PlotlyConfig = {MathJaxConfig: 'local'};</script>\n",
       "        <script src=\"https://cdn.plot.ly/plotly-2.8.3.min.js\"></script>                <div id=\"ec199099-0d5e-459b-9898-837223430dc5\" class=\"plotly-graph-div\" style=\"height:525px; width:100%;\"></div>            <script type=\"text/javascript\">                                    window.PLOTLYENV=window.PLOTLYENV || {};                                    if (document.getElementById(\"ec199099-0d5e-459b-9898-837223430dc5\")) {                    Plotly.newPlot(                        \"ec199099-0d5e-459b-9898-837223430dc5\",                        [{\"x\":[67,22,49,45,53,35,53,35,61,28,25,24,22,60,28,32,53,25,44,31,48,44,48,44,26,36,39,42,34,63,36,27,30,57,33,25,31,37,37,24,30,26,44,24,58,35,39,23,39,28,29,30,25,31,57,26,52,31,23,23,27,50,61,25,26,48,29,22,37,25,30,46,51,41,40,66,34,51,39,22,44,47,24,58,52,29,27,47,30,28,56,54,33,20,54,58,61,34,36,36,41,24,24,35,26,39,39,32,30,35,31,23,28,25,35,47,30,27,23,36,25,41,24,63,27,30,40,30,34,29,24,29,27,47,21,38,27,66,35,44,27,30,27,22,23,30,39,51,28,46,42,38,24,29,36,20,48,45,38,34,36,30,36,70,36,32,33,20,25,31,33,26,34,33,26,53,42,52,31,65,28,30,40,50,36,31,74,68,20,33,54,34,36,29,21,34,28,27,36,40,52,27,26,21,38,38,43,26,21,55,33,45,50,66,51,39,31,23,24,64,26,23,30,32,30,27,27,53,22,22,26,51,35,25,42,30,23,61,35,39,29,51,24,27,35,25,52,35,26,22,39,46,24,35,24,27,35,29,23,57,27,55,36,57,32,37,36,38,45,25,32,37,36,28,34,32,26,49,32,29,23,50,49,63,37,35,26,31,49,48,26,28,44,56,46,26,20,45,43,32,54,42,37,49,44,33,24,33,24,22,40,25,26,25,29,31,38,48,32,27,28,32,34,28,36,39,49,34,31,28,75,30,24,24,23,44,23,24,28,31,24,26,25,33,37,43,23,23,34,32,23,29,38,28,46,23,49,26,28,23,61,37,36,21,25,36,27,22,42,40,36,33,23,63,60,37,34,36,57,52,39,38,25,26,26,25,21,40,27,27,30,19,39,31,31,32,55,46,46,43,39,28,27,27,43,22,43,27,26,28,20,35,42,40,35,35,33,23,31,33,20,30,47,34,25,21,29,46,20,55,74,29,36,33,25,25,23,37,65,26,39,30,29,41,30,41,34,35,55,61,30,29,34,35,31,29,36,35,27,32,37,36,34,38,34,63,29,32,26,35,22,23,28,36,33,26,24,25,39,44,23,26,57,30,44,47,52,62,35,26,26,42,27,38,39,20,29,40,32,28,27,42,49,38,24,27,36,34,28,45,26,32,26,20,54,37,40,23,43,36,44,24,53,23,26,30,31,42,31,41,32,28,41,26,25,33,75,37,42,45,23,60,31,34,61,43,37,32,24,35,23,45,34,27,67,22,28,29,27,31,49,24,29,37,37,23,36,34,41,31,23,38,26,22,27,24,27,33,27,27,30,49,26,33,52,20,36,21,47,60,58,42,36,20,40,32,23,36,31,32,45,30,34,28,23,22,74,50,33,45,22,48,29,22,22,48,27,37,21,49,27,32,38,22,65,35,41,29,36,64,28,44,23,19,25,47,28,21,34,26,27,38,40,33,32,27,32,26,38,40,50,37,45,42,35,22,41,37,28,41,23,23,50,35,50,27,34,27,43,47,27,31,42,24,41,26,33,24,64,26,56,37,33,47,31,34,27,30,35,31,25,25,29,44,28,50,29,38,24,40,29,46,47,41,32,35,24,25,25,37,32,35,46,25,27,63,40,32,31,31,34,24,24,66,21,41,47,25,59,36,33,21,44,28,37,29,23,35,45,26,32,23,41,22,30,28,23,37,26,33,49,23,23,25,55,32,74,39,31,35,59,24,24,30,27,40,31,31,28,63,26,25,36,52,66,25,37,25,38,67,25,60,31,23,60,35,40,38,50,27,39,41,27,51,32,22,51,22,54,35,54,48,24,35,24,24,26,65,55,26,26,28,24,54,46,54,62,24,43,26,27,24,41,47,35,30,33,36,47,38,44,23,29,42,25,48,21,23,63,46,29,28,23,50,47,35,68,28,59,57,33,43,35,32,45,33,40,28,29,26,27,28,35,32,25,20,27,42,37,24,40,46,26,24,29,40,36,28,27,36,38,48,36,65,43,53,34,23,34,40,43,46,38,34,29,31,28,35,33,42,43,44,42,40,36,20,24,27,46,33,34,25,25,28,31,32,32,68,33,39,28,37,22,30,55,46,21,39,58,43,24,22,30,42,23,30,28,30,42,46,45,31,31,42,46,30,30,38,43,31,40,24,28,26,29,57,49,37,45,30,30,47,29,35,22,26,23,54,29,40,22,43,29,36,33,57,64,42,47,25,49,33,28,26,30,25,33,64,29,48,37,34,23,30,50,31,40,38,23,27],\"type\":\"histogram\",\"xaxis\":\"x\",\"yaxis\":\"y\"},{\"x\":[6,48,12,42,24,36,24,36,12,30,12,48,12,24,15,24,24,30,24,24,9,6,10,12,10,6,6,12,7,60,18,24,18,12,12,45,48,18,10,9,30,12,18,30,48,11,36,6,11,12,24,27,12,18,36,6,12,36,18,36,9,15,36,48,24,27,12,12,36,36,36,7,8,42,36,12,42,11,54,30,24,15,18,24,10,12,18,36,18,12,12,12,12,24,12,54,12,18,36,20,24,36,6,9,12,24,18,12,24,14,6,15,18,36,12,48,42,10,33,12,21,24,12,10,18,12,12,12,12,12,48,36,15,18,60,12,27,12,15,12,6,36,27,18,21,48,6,12,36,18,6,10,36,24,24,12,9,12,24,6,24,18,15,10,36,6,18,11,24,24,15,12,24,8,21,30,12,6,12,21,36,36,21,24,18,15,9,16,12,18,24,48,27,6,45,9,6,12,24,18,9,12,27,12,12,30,12,12,24,12,9,36,27,30,36,6,18,36,24,10,12,12,12,24,15,36,48,12,9,24,36,9,12,18,4,24,6,21,12,30,24,6,48,12,12,24,12,6,24,18,6,12,30,24,9,60,24,12,15,11,12,24,18,12,10,15,36,24,14,24,18,12,48,48,30,9,18,12,6,24,15,12,18,15,24,47,48,48,12,24,12,36,24,42,48,48,12,10,18,21,6,36,24,10,48,6,30,12,8,9,48,24,24,12,4,36,12,24,12,15,30,24,24,18,18,8,12,24,36,6,24,18,60,48,24,6,13,15,24,10,24,21,18,18,10,15,13,24,6,9,9,9,18,12,10,24,12,36,12,30,18,12,12,6,18,12,18,18,36,18,36,18,10,60,60,48,18,7,36,6,20,18,22,12,30,18,18,18,15,9,18,12,36,6,9,39,12,36,12,24,18,18,24,14,18,24,24,15,24,12,24,33,12,10,24,36,12,18,21,18,15,12,12,21,12,18,28,18,9,18,5,24,6,24,9,12,6,24,42,12,12,12,20,12,48,9,36,7,12,15,36,6,12,24,24,24,11,12,6,18,36,15,12,12,18,24,24,48,33,24,24,6,9,6,18,18,39,24,12,15,12,24,30,15,12,6,12,24,10,6,12,27,6,6,12,24,36,24,18,6,24,36,9,24,24,10,15,15,24,39,12,36,15,12,24,6,6,36,6,6,24,18,48,24,18,26,15,4,36,6,36,15,12,24,24,21,6,18,48,18,12,24,30,18,12,24,24,24,12,48,12,6,48,12,9,12,18,21,24,18,24,24,6,36,24,24,12,24,48,48,24,30,24,15,9,15,12,24,36,24,18,12,9,36,12,18,9,12,18,12,12,24,21,24,24,6,24,24,18,24,7,9,24,36,10,24,24,36,18,15,12,10,21,24,18,48,60,6,30,12,21,18,48,12,18,15,6,9,42,9,24,18,15,9,24,12,24,60,12,42,18,15,15,24,18,36,30,12,24,12,48,12,24,36,24,14,12,48,30,18,12,12,21,6,6,24,30,48,12,30,24,36,60,6,21,30,24,72,24,18,6,12,15,24,36,60,10,36,9,12,15,15,24,6,24,6,12,12,18,15,12,48,24,30,27,15,48,12,9,9,18,6,21,9,60,30,30,18,24,20,9,6,12,9,27,6,15,18,48,24,24,24,8,24,4,36,24,18,6,30,24,10,21,24,39,13,15,12,21,15,6,18,12,30,12,24,6,15,24,12,15,18,12,21,24,12,30,10,12,12,24,36,21,24,12,24,36,18,36,18,39,24,12,12,20,18,22,48,48,40,21,24,6,24,24,9,18,12,24,9,24,18,20,12,12,36,6,12,42,15,8,6,36,48,48,36,6,6,36,18,12,12,36,8,18,21,18,18,36,48,24,18,45,24,15,12,12,4,24,24,36,21,18,24,18,21,18,24,9,12,20,24,15,18,36,24,10,15,15,9,24,18,24,27,10,15,18,12,36,12,36,6,24,15,12,11,18,36,9,30,24,24,30,18,24,12,24,48,36,28,27,15,12,36,18,36,21,12,15,18,16,20,36,15,24,12,21,36,15,9,36,24,30,11,24,48,10,6,24,24,18,48,9,12,24,12,18,48,30,12,24,9,9,12,12,30,9,6,60,24,12,10,24,4,15,48,24,12,18,24,18,36,24,36,12,24,30,9,28,24,6,21,15,24,6,30,27,15,42,11,15,24,24,60,30,24,6,18,24,15,30,48,21,36,24,15,42,13,24,24,12,15,18,36,12,12,30,12,45,45],\"type\":\"histogram\",\"xaxis\":\"x2\",\"yaxis\":\"y2\"},{\"x\":[1169,5951,2096,7882,4870,9055,2835,6948,3059,5234,1295,4308,1567,1199,1403,1282,2424,8072,12579,3430,2134,2647,2241,1804,2069,1374,426,409,2415,6836,1913,4020,5866,1264,1474,4746,6110,2100,1225,458,2333,1158,6204,6187,6143,1393,2299,1352,7228,2073,2333,5965,1262,3378,2225,783,6468,9566,1961,6229,1391,1537,1953,14421,3181,5190,2171,1007,1819,2394,8133,730,1164,5954,1977,1526,3965,4771,9436,3832,5943,1213,1568,1755,2315,1412,1295,12612,2249,1108,618,1409,797,3617,1318,15945,2012,2622,2337,7057,1469,2323,932,1919,2445,11938,6458,6078,7721,1410,1449,392,6260,7855,1680,3578,7174,2132,4281,2366,1835,3868,1768,781,1924,2121,701,639,1860,3499,8487,6887,2708,1984,10144,1240,8613,766,2728,1881,709,4795,3416,2462,2288,3566,860,682,5371,1582,1346,1924,5848,7758,6967,1282,1288,339,3512,1898,2872,1055,1262,7308,909,2978,1131,1577,3972,1935,950,763,2064,1414,3414,7485,2577,338,1963,571,9572,4455,1647,3777,884,1360,5129,1175,674,3244,4591,3844,3915,2108,3031,1501,1382,951,2760,4297,936,1168,5117,902,1495,10623,1935,1424,6568,1413,3074,3835,5293,1908,3342,932,3104,3913,3021,1364,625,1200,707,2978,4657,2613,10961,7865,1478,3149,4210,2507,2141,866,1544,1823,14555,2767,1291,2522,915,1595,4605,1185,3447,1258,717,1204,1925,433,666,2251,2150,4151,2030,7418,2684,2149,3812,1154,1657,1603,5302,2748,1231,802,6304,1533,8978,999,2662,1402,12169,3060,11998,2697,2404,1262,4611,1901,3368,1574,1445,1520,3878,10722,4788,7582,1092,1024,1076,9398,6419,4796,7629,9960,4675,1287,2515,2745,672,3804,1344,1038,10127,1543,4811,727,1237,276,5381,5511,3749,685,1494,2746,708,4351,701,3643,4249,1938,2910,2659,1028,3398,5801,1525,4473,1068,6615,1864,7408,11590,4110,3384,2101,1275,4169,1521,5743,3599,3213,4439,3949,1459,882,3758,1743,1136,1236,959,3229,6199,727,1246,2331,4463,776,2406,1239,3399,2247,1766,2473,1542,3850,3650,3446,3001,3079,6070,2146,13756,14782,7685,2320,846,14318,362,2212,12976,1283,1330,4272,2238,1126,7374,2326,1449,1820,983,3249,1957,2406,11760,2578,2348,1223,1516,1473,1887,8648,802,2899,2039,2197,1053,3235,939,1967,7253,2292,1597,1381,5842,2579,8471,2782,1042,3186,2028,958,1591,2762,2779,2743,1149,1313,1190,3448,11328,1872,2058,2136,1484,660,1287,3394,609,1884,1620,2629,719,5096,1244,1842,2576,1424,1512,11054,518,2759,2670,4817,2679,3905,3386,343,4594,3620,1721,3017,754,1950,2924,1659,7238,2764,4679,3092,448,654,1238,1245,3114,2569,5152,1037,1478,3573,1201,3622,960,1163,1209,3077,3757,1418,3518,1934,8318,1237,368,2122,2996,9034,1585,1301,1323,3123,5493,1126,1216,1207,1309,2360,6850,1413,8588,759,4686,2687,585,2255,609,1361,7127,1203,700,5507,3190,7119,3488,1113,7966,1532,1503,2302,662,2273,2631,1503,1311,3105,2319,1374,3612,7763,3049,1534,2032,6350,2864,1255,1333,2022,1552,626,8858,996,1750,6999,1995,1199,1331,2278,5003,3552,1928,2964,1546,683,12389,4712,1553,1372,2578,3979,6758,3234,5954,5433,806,1082,2788,2930,1927,2820,937,1056,3124,1388,2384,2133,2039,2799,1289,1217,2246,385,1965,1572,2718,1358,931,1442,4241,2775,3863,2329,918,1837,3349,1275,2828,4526,2671,2051,1300,741,1240,3357,3632,1808,12204,9157,3676,3441,640,3652,1530,3914,1858,2600,1979,2116,1437,4042,3832,3660,1553,1444,1980,1355,1393,1376,15653,1493,4370,750,1308,4623,1851,1880,7980,4583,1386,947,684,7476,1922,2303,8086,2346,3973,888,10222,4221,6361,1297,900,2241,1050,1047,6314,3496,3609,4843,3017,4139,5742,10366,2080,2580,4530,5150,5595,2384,1453,1538,2279,1478,5103,9857,6527,1347,2862,2753,3651,975,2631,2896,4716,2284,1236,1103,926,1800,1905,1123,6331,1377,2503,2528,5324,6560,2969,1206,2118,629,1198,2476,1138,14027,7596,3077,1505,3148,6148,1337,433,1228,790,2570,250,1316,1882,6416,1275,6403,1987,760,2603,3380,3990,11560,4380,6761,4280,2325,1048,3160,2483,14179,1797,2511,1274,5248,3029,428,976,841,5771,1555,1285,1299,1271,1393,691,5045,2124,2214,12680,2463,1155,3108,2901,3617,1655,2812,8065,3275,2223,1480,1371,3535,3509,5711,3872,4933,1940,1410,836,6468,1941,2675,2751,6224,5998,1188,6313,1221,2892,3062,2301,7511,1258,717,1549,1597,1795,4272,976,7472,9271,590,930,9283,1778,907,484,9629,3051,3931,7432,1338,1554,15857,1345,1101,3016,2712,731,3780,1602,3966,4165,8335,6681,2375,1216,11816,5084,2327,1082,886,601,2957,2611,5179,2993,1943,1559,3422,3976,6761,1249,1364,709,2235,4042,1471,1442,10875,1474,894,3343,3959,3577,5804,2169,2439,4526,2210,2221,2389,3331,7409,652,7678,1343,1382,874,3590,1322,1940,3595,1422,6742,7814,9277,2181,1098,4057,795,2825,15672,6614,7824,2442,1829,2171,5800,1169,8947,2606,1592,2186,4153,2625,3485,10477,1386,1278,1107,3763,3711,3594,3195,4454,4736,2991,2142,3161,18424,2848,14896,2359,3345,1817,12749,1366,2002,6872,697,1049,10297,1867,1344,1747,1670,1224,522,1498,1919,745,2063,6288,6842,3527,1546,929,1455,1845,8358,3349,2859,1533,3621,3590,2145,4113,10974,1893,1231,3656,1154,4006,3069,1740,2353,3556,2397,454,1715,2520,3568,7166,3939,1514,7393,1193,7297,2831,1258,753,2427,2538,1264,8386,4844,2923,8229,2028,1433,6289,1409,6579,1743,3565,1569,1936,3959,2390,1736,3857,804,1845,4576],\"type\":\"histogram\",\"xaxis\":\"x3\",\"yaxis\":\"y3\"}],                        {\"template\":{\"data\":{\"bar\":[{\"error_x\":{\"color\":\"#f2f5fa\"},\"error_y\":{\"color\":\"#f2f5fa\"},\"marker\":{\"line\":{\"color\":\"rgb(17,17,17)\",\"width\":0.5},\"pattern\":{\"fillmode\":\"overlay\",\"size\":10,\"solidity\":0.2}},\"type\":\"bar\"}],\"barpolar\":[{\"marker\":{\"line\":{\"color\":\"rgb(17,17,17)\",\"width\":0.5},\"pattern\":{\"fillmode\":\"overlay\",\"size\":10,\"solidity\":0.2}},\"type\":\"barpolar\"}],\"carpet\":[{\"aaxis\":{\"endlinecolor\":\"#A2B1C6\",\"gridcolor\":\"#506784\",\"linecolor\":\"#506784\",\"minorgridcolor\":\"#506784\",\"startlinecolor\":\"#A2B1C6\"},\"baxis\":{\"endlinecolor\":\"#A2B1C6\",\"gridcolor\":\"#506784\",\"linecolor\":\"#506784\",\"minorgridcolor\":\"#506784\",\"startlinecolor\":\"#A2B1C6\"},\"type\":\"carpet\"}],\"choropleth\":[{\"colorbar\":{\"outlinewidth\":0,\"ticks\":\"\"},\"type\":\"choropleth\"}],\"contour\":[{\"colorbar\":{\"outlinewidth\":0,\"ticks\":\"\"},\"colorscale\":[[0.0,\"#0d0887\"],[0.1111111111111111,\"#46039f\"],[0.2222222222222222,\"#7201a8\"],[0.3333333333333333,\"#9c179e\"],[0.4444444444444444,\"#bd3786\"],[0.5555555555555556,\"#d8576b\"],[0.6666666666666666,\"#ed7953\"],[0.7777777777777778,\"#fb9f3a\"],[0.8888888888888888,\"#fdca26\"],[1.0,\"#f0f921\"]],\"type\":\"contour\"}],\"contourcarpet\":[{\"colorbar\":{\"outlinewidth\":0,\"ticks\":\"\"},\"type\":\"contourcarpet\"}],\"heatmap\":[{\"colorbar\":{\"outlinewidth\":0,\"ticks\":\"\"},\"colorscale\":[[0.0,\"#0d0887\"],[0.1111111111111111,\"#46039f\"],[0.2222222222222222,\"#7201a8\"],[0.3333333333333333,\"#9c179e\"],[0.4444444444444444,\"#bd3786\"],[0.5555555555555556,\"#d8576b\"],[0.6666666666666666,\"#ed7953\"],[0.7777777777777778,\"#fb9f3a\"],[0.8888888888888888,\"#fdca26\"],[1.0,\"#f0f921\"]],\"type\":\"heatmap\"}],\"heatmapgl\":[{\"colorbar\":{\"outlinewidth\":0,\"ticks\":\"\"},\"colorscale\":[[0.0,\"#0d0887\"],[0.1111111111111111,\"#46039f\"],[0.2222222222222222,\"#7201a8\"],[0.3333333333333333,\"#9c179e\"],[0.4444444444444444,\"#bd3786\"],[0.5555555555555556,\"#d8576b\"],[0.6666666666666666,\"#ed7953\"],[0.7777777777777778,\"#fb9f3a\"],[0.8888888888888888,\"#fdca26\"],[1.0,\"#f0f921\"]],\"type\":\"heatmapgl\"}],\"histogram\":[{\"marker\":{\"pattern\":{\"fillmode\":\"overlay\",\"size\":10,\"solidity\":0.2}},\"type\":\"histogram\"}],\"histogram2d\":[{\"colorbar\":{\"outlinewidth\":0,\"ticks\":\"\"},\"colorscale\":[[0.0,\"#0d0887\"],[0.1111111111111111,\"#46039f\"],[0.2222222222222222,\"#7201a8\"],[0.3333333333333333,\"#9c179e\"],[0.4444444444444444,\"#bd3786\"],[0.5555555555555556,\"#d8576b\"],[0.6666666666666666,\"#ed7953\"],[0.7777777777777778,\"#fb9f3a\"],[0.8888888888888888,\"#fdca26\"],[1.0,\"#f0f921\"]],\"type\":\"histogram2d\"}],\"histogram2dcontour\":[{\"colorbar\":{\"outlinewidth\":0,\"ticks\":\"\"},\"colorscale\":[[0.0,\"#0d0887\"],[0.1111111111111111,\"#46039f\"],[0.2222222222222222,\"#7201a8\"],[0.3333333333333333,\"#9c179e\"],[0.4444444444444444,\"#bd3786\"],[0.5555555555555556,\"#d8576b\"],[0.6666666666666666,\"#ed7953\"],[0.7777777777777778,\"#fb9f3a\"],[0.8888888888888888,\"#fdca26\"],[1.0,\"#f0f921\"]],\"type\":\"histogram2dcontour\"}],\"mesh3d\":[{\"colorbar\":{\"outlinewidth\":0,\"ticks\":\"\"},\"type\":\"mesh3d\"}],\"parcoords\":[{\"line\":{\"colorbar\":{\"outlinewidth\":0,\"ticks\":\"\"}},\"type\":\"parcoords\"}],\"pie\":[{\"automargin\":true,\"type\":\"pie\"}],\"scatter\":[{\"marker\":{\"line\":{\"color\":\"#283442\"}},\"type\":\"scatter\"}],\"scatter3d\":[{\"line\":{\"colorbar\":{\"outlinewidth\":0,\"ticks\":\"\"}},\"marker\":{\"colorbar\":{\"outlinewidth\":0,\"ticks\":\"\"}},\"type\":\"scatter3d\"}],\"scattercarpet\":[{\"marker\":{\"colorbar\":{\"outlinewidth\":0,\"ticks\":\"\"}},\"type\":\"scattercarpet\"}],\"scattergeo\":[{\"marker\":{\"colorbar\":{\"outlinewidth\":0,\"ticks\":\"\"}},\"type\":\"scattergeo\"}],\"scattergl\":[{\"marker\":{\"line\":{\"color\":\"#283442\"}},\"type\":\"scattergl\"}],\"scattermapbox\":[{\"marker\":{\"colorbar\":{\"outlinewidth\":0,\"ticks\":\"\"}},\"type\":\"scattermapbox\"}],\"scatterpolar\":[{\"marker\":{\"colorbar\":{\"outlinewidth\":0,\"ticks\":\"\"}},\"type\":\"scatterpolar\"}],\"scatterpolargl\":[{\"marker\":{\"colorbar\":{\"outlinewidth\":0,\"ticks\":\"\"}},\"type\":\"scatterpolargl\"}],\"scatterternary\":[{\"marker\":{\"colorbar\":{\"outlinewidth\":0,\"ticks\":\"\"}},\"type\":\"scatterternary\"}],\"surface\":[{\"colorbar\":{\"outlinewidth\":0,\"ticks\":\"\"},\"colorscale\":[[0.0,\"#0d0887\"],[0.1111111111111111,\"#46039f\"],[0.2222222222222222,\"#7201a8\"],[0.3333333333333333,\"#9c179e\"],[0.4444444444444444,\"#bd3786\"],[0.5555555555555556,\"#d8576b\"],[0.6666666666666666,\"#ed7953\"],[0.7777777777777778,\"#fb9f3a\"],[0.8888888888888888,\"#fdca26\"],[1.0,\"#f0f921\"]],\"type\":\"surface\"}],\"table\":[{\"cells\":{\"fill\":{\"color\":\"#506784\"},\"line\":{\"color\":\"rgb(17,17,17)\"}},\"header\":{\"fill\":{\"color\":\"#2a3f5f\"},\"line\":{\"color\":\"rgb(17,17,17)\"}},\"type\":\"table\"}]},\"layout\":{\"annotationdefaults\":{\"arrowcolor\":\"#f2f5fa\",\"arrowhead\":0,\"arrowwidth\":1},\"autotypenumbers\":\"strict\",\"coloraxis\":{\"colorbar\":{\"outlinewidth\":0,\"ticks\":\"\"}},\"colorscale\":{\"diverging\":[[0,\"#8e0152\"],[0.1,\"#c51b7d\"],[0.2,\"#de77ae\"],[0.3,\"#f1b6da\"],[0.4,\"#fde0ef\"],[0.5,\"#f7f7f7\"],[0.6,\"#e6f5d0\"],[0.7,\"#b8e186\"],[0.8,\"#7fbc41\"],[0.9,\"#4d9221\"],[1,\"#276419\"]],\"sequential\":[[0.0,\"#0d0887\"],[0.1111111111111111,\"#46039f\"],[0.2222222222222222,\"#7201a8\"],[0.3333333333333333,\"#9c179e\"],[0.4444444444444444,\"#bd3786\"],[0.5555555555555556,\"#d8576b\"],[0.6666666666666666,\"#ed7953\"],[0.7777777777777778,\"#fb9f3a\"],[0.8888888888888888,\"#fdca26\"],[1.0,\"#f0f921\"]],\"sequentialminus\":[[0.0,\"#0d0887\"],[0.1111111111111111,\"#46039f\"],[0.2222222222222222,\"#7201a8\"],[0.3333333333333333,\"#9c179e\"],[0.4444444444444444,\"#bd3786\"],[0.5555555555555556,\"#d8576b\"],[0.6666666666666666,\"#ed7953\"],[0.7777777777777778,\"#fb9f3a\"],[0.8888888888888888,\"#fdca26\"],[1.0,\"#f0f921\"]]},\"colorway\":[\"#636efa\",\"#EF553B\",\"#00cc96\",\"#ab63fa\",\"#FFA15A\",\"#19d3f3\",\"#FF6692\",\"#B6E880\",\"#FF97FF\",\"#FECB52\"],\"font\":{\"color\":\"#f2f5fa\"},\"geo\":{\"bgcolor\":\"rgb(17,17,17)\",\"lakecolor\":\"rgb(17,17,17)\",\"landcolor\":\"rgb(17,17,17)\",\"showlakes\":true,\"showland\":true,\"subunitcolor\":\"#506784\"},\"hoverlabel\":{\"align\":\"left\"},\"hovermode\":\"closest\",\"mapbox\":{\"style\":\"dark\"},\"paper_bgcolor\":\"rgb(17,17,17)\",\"plot_bgcolor\":\"rgb(17,17,17)\",\"polar\":{\"angularaxis\":{\"gridcolor\":\"#506784\",\"linecolor\":\"#506784\",\"ticks\":\"\"},\"bgcolor\":\"rgb(17,17,17)\",\"radialaxis\":{\"gridcolor\":\"#506784\",\"linecolor\":\"#506784\",\"ticks\":\"\"}},\"scene\":{\"xaxis\":{\"backgroundcolor\":\"rgb(17,17,17)\",\"gridcolor\":\"#506784\",\"gridwidth\":2,\"linecolor\":\"#506784\",\"showbackground\":true,\"ticks\":\"\",\"zerolinecolor\":\"#C8D4E3\"},\"yaxis\":{\"backgroundcolor\":\"rgb(17,17,17)\",\"gridcolor\":\"#506784\",\"gridwidth\":2,\"linecolor\":\"#506784\",\"showbackground\":true,\"ticks\":\"\",\"zerolinecolor\":\"#C8D4E3\"},\"zaxis\":{\"backgroundcolor\":\"rgb(17,17,17)\",\"gridcolor\":\"#506784\",\"gridwidth\":2,\"linecolor\":\"#506784\",\"showbackground\":true,\"ticks\":\"\",\"zerolinecolor\":\"#C8D4E3\"}},\"shapedefaults\":{\"line\":{\"color\":\"#f2f5fa\"}},\"sliderdefaults\":{\"bgcolor\":\"#C8D4E3\",\"bordercolor\":\"rgb(17,17,17)\",\"borderwidth\":1,\"tickwidth\":0},\"ternary\":{\"aaxis\":{\"gridcolor\":\"#506784\",\"linecolor\":\"#506784\",\"ticks\":\"\"},\"baxis\":{\"gridcolor\":\"#506784\",\"linecolor\":\"#506784\",\"ticks\":\"\"},\"bgcolor\":\"rgb(17,17,17)\",\"caxis\":{\"gridcolor\":\"#506784\",\"linecolor\":\"#506784\",\"ticks\":\"\"}},\"title\":{\"x\":0.05},\"updatemenudefaults\":{\"bgcolor\":\"#506784\",\"borderwidth\":0},\"xaxis\":{\"automargin\":true,\"gridcolor\":\"#283442\",\"linecolor\":\"#506784\",\"ticks\":\"\",\"title\":{\"standoff\":15},\"zerolinecolor\":\"#283442\",\"zerolinewidth\":2},\"yaxis\":{\"automargin\":true,\"gridcolor\":\"#283442\",\"linecolor\":\"#506784\",\"ticks\":\"\",\"title\":{\"standoff\":15},\"zerolinecolor\":\"#283442\",\"zerolinewidth\":2}}},\"xaxis\":{\"anchor\":\"y\",\"domain\":[0.0,1.0]},\"yaxis\":{\"anchor\":\"x\",\"domain\":[0.7777777777777778,1.0]},\"xaxis2\":{\"anchor\":\"y2\",\"domain\":[0.0,1.0]},\"yaxis2\":{\"anchor\":\"x2\",\"domain\":[0.3888888888888889,0.6111111111111112]},\"xaxis3\":{\"anchor\":\"y3\",\"domain\":[0.0,1.0]},\"yaxis3\":{\"anchor\":\"x3\",\"domain\":[0.0,0.22222222222222224]},\"annotations\":[{\"font\":{\"size\":16},\"showarrow\":false,\"text\":\"Age Distribution\",\"x\":0.5,\"xanchor\":\"center\",\"xref\":\"paper\",\"y\":1.0,\"yanchor\":\"bottom\",\"yref\":\"paper\"},{\"font\":{\"size\":16},\"showarrow\":false,\"text\":\"Duration Distribution\",\"x\":0.5,\"xanchor\":\"center\",\"xref\":\"paper\",\"y\":0.6111111111111112,\"yanchor\":\"bottom\",\"yref\":\"paper\"},{\"font\":{\"size\":16},\"showarrow\":false,\"text\":\"Credit Amount Distribution\",\"x\":0.5,\"xanchor\":\"center\",\"xref\":\"paper\",\"y\":0.22222222222222224,\"yanchor\":\"bottom\",\"yref\":\"paper\"}]},                        {\"responsive\": true}                    ).then(function(){\n",
       "                            \n",
       "var gd = document.getElementById('ec199099-0d5e-459b-9898-837223430dc5');\n",
       "var x = new MutationObserver(function (mutations, observer) {{\n",
       "        var display = window.getComputedStyle(gd).display;\n",
       "        if (!display || display === 'none') {{\n",
       "            console.log([gd, 'removed!']);\n",
       "            Plotly.purge(gd);\n",
       "            observer.disconnect();\n",
       "        }}\n",
       "}});\n",
       "\n",
       "// Listen for the removal of the full notebook cells\n",
       "var notebookContainer = gd.closest('#notebook-container');\n",
       "if (notebookContainer) {{\n",
       "    x.observe(notebookContainer, {childList: true});\n",
       "}}\n",
       "\n",
       "// Listen for the clearing of the current output cell\n",
       "var outputEl = gd.closest('.output');\n",
       "if (outputEl) {{\n",
       "    x.observe(outputEl, {childList: true});\n",
       "}}\n",
       "\n",
       "                        })                };                            </script>        </div>\n",
       "</body>\n",
       "</html>"
      ]
     },
     "metadata": {},
     "output_type": "display_data"
    }
   ],
   "source": [
    "show_distributions(df)"
   ]
  },
  {
   "cell_type": "markdown",
   "metadata": {
    "id": "dMs2pdCdE0_B"
   },
   "source": [
    "In the 3 plot we can see that the data is skewed to the left, so I am going to use logarithmic transformation to fix it and get better results in clustering process"
   ]
  },
  {
   "cell_type": "code",
   "execution_count": 240,
   "metadata": {
    "id": "SIB1rtcnqBAi"
   },
   "outputs": [],
   "source": [
    "clustering_data['Age'] = np.log(clustering_data['Age'])\n",
    "clustering_data['Duration'] = np.log(clustering_data['Duration'])\n",
    "clustering_data['Credit amount'] = np.log(clustering_data['Credit amount'])"
   ]
  },
  {
   "cell_type": "code",
   "execution_count": 241,
   "metadata": {
    "colab": {
     "base_uri": "https://localhost:8080/",
     "height": 542
    },
    "id": "nJenjTWQ0_gT",
    "outputId": "bc9bafe0-be12-47d6-f144-ad68d3556351"
   },
   "outputs": [
    {
     "data": {
      "text/html": [
       "<html>\n",
       "<head><meta charset=\"utf-8\" /></head>\n",
       "<body>\n",
       "    <div>            <script src=\"https://cdnjs.cloudflare.com/ajax/libs/mathjax/2.7.5/MathJax.js?config=TeX-AMS-MML_SVG\"></script><script type=\"text/javascript\">if (window.MathJax) {MathJax.Hub.Config({SVG: {font: \"STIX-Web\"}});}</script>                <script type=\"text/javascript\">window.PlotlyConfig = {MathJaxConfig: 'local'};</script>\n",
       "        <script src=\"https://cdn.plot.ly/plotly-2.8.3.min.js\"></script>                <div id=\"0538d59e-da60-4f93-8fdd-9f68a32c9eb1\" class=\"plotly-graph-div\" style=\"height:525px; width:100%;\"></div>            <script type=\"text/javascript\">                                    window.PLOTLYENV=window.PLOTLYENV || {};                                    if (document.getElementById(\"0538d59e-da60-4f93-8fdd-9f68a32c9eb1\")) {                    Plotly.newPlot(                        \"0538d59e-da60-4f93-8fdd-9f68a32c9eb1\",                        [{\"x\":[4.204692619390966,3.091042453358316,3.8918202981106265,3.8066624897703196,3.970291913552122,3.5553480614894135,3.970291913552122,3.5553480614894135,4.110873864173311,3.332204510175204,3.2188758248682006,3.1780538303479458,3.091042453358316,4.0943445622221,3.332204510175204,3.4657359027997265,3.970291913552122,3.2188758248682006,3.784189633918261,3.4339872044851463,3.871201010907891,3.784189633918261,3.871201010907891,3.784189633918261,3.258096538021482,3.58351893845611,3.6635616461296463,3.7376696182833684,3.5263605246161616,4.143134726391533,3.58351893845611,3.295836866004329,3.4011973816621555,4.04305126783455,3.4965075614664802,3.2188758248682006,3.4339872044851463,3.6109179126442243,3.6109179126442243,3.1780538303479458,3.4011973816621555,3.258096538021482,3.784189633918261,3.1780538303479458,4.060443010546419,3.5553480614894135,3.6635616461296463,3.1354942159291497,3.6635616461296463,3.332204510175204,3.367295829986474,3.4011973816621555,3.2188758248682006,3.4339872044851463,4.04305126783455,3.258096538021482,3.9512437185814275,3.4339872044851463,3.1354942159291497,3.1354942159291497,3.295836866004329,3.912023005428146,4.110873864173311,3.2188758248682006,3.258096538021482,3.871201010907891,3.367295829986474,3.091042453358316,3.6109179126442243,3.2188758248682006,3.4011973816621555,3.828641396489095,3.9318256327243257,3.713572066704308,3.6888794541139363,4.189654742026425,3.5263605246161616,3.9318256327243257,3.6635616461296463,3.091042453358316,3.784189633918261,3.8501476017100584,3.1780538303479458,4.060443010546419,3.9512437185814275,3.367295829986474,3.295836866004329,3.8501476017100584,3.4011973816621555,3.332204510175204,4.02535169073515,3.9889840465642745,3.4965075614664802,2.995732273553991,3.9889840465642745,4.060443010546419,4.110873864173311,3.5263605246161616,3.58351893845611,3.58351893845611,3.713572066704308,3.1780538303479458,3.1780538303479458,3.5553480614894135,3.258096538021482,3.6635616461296463,3.6635616461296463,3.4657359027997265,3.4011973816621555,3.5553480614894135,3.4339872044851463,3.1354942159291497,3.332204510175204,3.2188758248682006,3.5553480614894135,3.8501476017100584,3.4011973816621555,3.295836866004329,3.1354942159291497,3.58351893845611,3.2188758248682006,3.713572066704308,3.1780538303479458,4.143134726391533,3.295836866004329,3.4011973816621555,3.6888794541139363,3.4011973816621555,3.5263605246161616,3.367295829986474,3.1780538303479458,3.367295829986474,3.295836866004329,3.8501476017100584,3.044522437723423,3.6375861597263857,3.295836866004329,4.189654742026425,3.5553480614894135,3.784189633918261,3.295836866004329,3.4011973816621555,3.295836866004329,3.091042453358316,3.1354942159291497,3.4011973816621555,3.6635616461296463,3.9318256327243257,3.332204510175204,3.828641396489095,3.7376696182833684,3.6375861597263857,3.1780538303479458,3.367295829986474,3.58351893845611,2.995732273553991,3.871201010907891,3.8066624897703196,3.6375861597263857,3.5263605246161616,3.58351893845611,3.4011973816621555,3.58351893845611,4.248495242049359,3.58351893845611,3.4657359027997265,3.4965075614664802,2.995732273553991,3.2188758248682006,3.4339872044851463,3.4965075614664802,3.258096538021482,3.5263605246161616,3.4965075614664802,3.258096538021482,3.970291913552122,3.7376696182833684,3.9512437185814275,3.4339872044851463,4.174387269895637,3.332204510175204,3.4011973816621555,3.6888794541139363,3.912023005428146,3.58351893845611,3.4339872044851463,4.30406509320417,4.219507705176107,2.995732273553991,3.4965075614664802,3.9889840465642745,3.5263605246161616,3.58351893845611,3.367295829986474,3.044522437723423,3.5263605246161616,3.332204510175204,3.295836866004329,3.58351893845611,3.6888794541139363,3.9512437185814275,3.295836866004329,3.258096538021482,3.044522437723423,3.6375861597263857,3.6375861597263857,3.7612001156935624,3.258096538021482,3.044522437723423,4.007333185232471,3.4965075614664802,3.8066624897703196,3.912023005428146,4.189654742026425,3.9318256327243257,3.6635616461296463,3.4339872044851463,3.1354942159291497,3.1780538303479458,4.1588830833596715,3.258096538021482,3.1354942159291497,3.4011973816621555,3.4657359027997265,3.4011973816621555,3.295836866004329,3.295836866004329,3.970291913552122,3.091042453358316,3.091042453358316,3.258096538021482,3.9318256327243257,3.5553480614894135,3.2188758248682006,3.7376696182833684,3.4011973816621555,3.1354942159291497,4.110873864173311,3.5553480614894135,3.6635616461296463,3.367295829986474,3.9318256327243257,3.1780538303479458,3.295836866004329,3.5553480614894135,3.2188758248682006,3.9512437185814275,3.5553480614894135,3.258096538021482,3.091042453358316,3.6635616461296463,3.828641396489095,3.1780538303479458,3.5553480614894135,3.1780538303479458,3.295836866004329,3.5553480614894135,3.367295829986474,3.1354942159291497,4.04305126783455,3.295836866004329,4.007333185232471,3.58351893845611,4.04305126783455,3.4657359027997265,3.6109179126442243,3.58351893845611,3.6375861597263857,3.8066624897703196,3.2188758248682006,3.4657359027997265,3.6109179126442243,3.58351893845611,3.332204510175204,3.5263605246161616,3.4657359027997265,3.258096538021482,3.8918202981106265,3.4657359027997265,3.367295829986474,3.1354942159291497,3.912023005428146,3.8918202981106265,4.143134726391533,3.6109179126442243,3.5553480614894135,3.258096538021482,3.4339872044851463,3.8918202981106265,3.871201010907891,3.258096538021482,3.332204510175204,3.784189633918261,4.02535169073515,3.828641396489095,3.258096538021482,2.995732273553991,3.8066624897703196,3.7612001156935624,3.4657359027997265,3.9889840465642745,3.7376696182833684,3.6109179126442243,3.8918202981106265,3.784189633918261,3.4965075614664802,3.1780538303479458,3.4965075614664802,3.1780538303479458,3.091042453358316,3.6888794541139363,3.2188758248682006,3.258096538021482,3.2188758248682006,3.367295829986474,3.4339872044851463,3.6375861597263857,3.871201010907891,3.4657359027997265,3.295836866004329,3.332204510175204,3.4657359027997265,3.5263605246161616,3.332204510175204,3.58351893845611,3.6635616461296463,3.8918202981106265,3.5263605246161616,3.4339872044851463,3.332204510175204,4.31748811353631,3.4011973816621555,3.1780538303479458,3.1780538303479458,3.1354942159291497,3.784189633918261,3.1354942159291497,3.1780538303479458,3.332204510175204,3.4339872044851463,3.1780538303479458,3.258096538021482,3.2188758248682006,3.4965075614664802,3.6109179126442243,3.7612001156935624,3.1354942159291497,3.1354942159291497,3.5263605246161616,3.4657359027997265,3.1354942159291497,3.367295829986474,3.6375861597263857,3.332204510175204,3.828641396489095,3.1354942159291497,3.8918202981106265,3.258096538021482,3.332204510175204,3.1354942159291497,4.110873864173311,3.6109179126442243,3.58351893845611,3.044522437723423,3.2188758248682006,3.58351893845611,3.295836866004329,3.091042453358316,3.7376696182833684,3.6888794541139363,3.58351893845611,3.4965075614664802,3.1354942159291497,4.143134726391533,4.0943445622221,3.6109179126442243,3.5263605246161616,3.58351893845611,4.04305126783455,3.9512437185814275,3.6635616461296463,3.6375861597263857,3.2188758248682006,3.258096538021482,3.258096538021482,3.2188758248682006,3.044522437723423,3.6888794541139363,3.295836866004329,3.295836866004329,3.4011973816621555,2.9444389791664403,3.6635616461296463,3.4339872044851463,3.4339872044851463,3.4657359027997265,4.007333185232471,3.828641396489095,3.828641396489095,3.7612001156935624,3.6635616461296463,3.332204510175204,3.295836866004329,3.295836866004329,3.7612001156935624,3.091042453358316,3.7612001156935624,3.295836866004329,3.258096538021482,3.332204510175204,2.995732273553991,3.5553480614894135,3.7376696182833684,3.6888794541139363,3.5553480614894135,3.5553480614894135,3.4965075614664802,3.1354942159291497,3.4339872044851463,3.4965075614664802,2.995732273553991,3.4011973816621555,3.8501476017100584,3.5263605246161616,3.2188758248682006,3.044522437723423,3.367295829986474,3.828641396489095,2.995732273553991,4.007333185232471,4.30406509320417,3.367295829986474,3.58351893845611,3.4965075614664802,3.2188758248682006,3.2188758248682006,3.1354942159291497,3.6109179126442243,4.174387269895637,3.258096538021482,3.6635616461296463,3.4011973816621555,3.367295829986474,3.713572066704308,3.4011973816621555,3.713572066704308,3.5263605246161616,3.5553480614894135,4.007333185232471,4.110873864173311,3.4011973816621555,3.367295829986474,3.5263605246161616,3.5553480614894135,3.4339872044851463,3.367295829986474,3.58351893845611,3.5553480614894135,3.295836866004329,3.4657359027997265,3.6109179126442243,3.58351893845611,3.5263605246161616,3.6375861597263857,3.5263605246161616,4.143134726391533,3.367295829986474,3.4657359027997265,3.258096538021482,3.5553480614894135,3.091042453358316,3.1354942159291497,3.332204510175204,3.58351893845611,3.4965075614664802,3.258096538021482,3.1780538303479458,3.2188758248682006,3.6635616461296463,3.784189633918261,3.1354942159291497,3.258096538021482,4.04305126783455,3.4011973816621555,3.784189633918261,3.8501476017100584,3.9512437185814275,4.127134385045092,3.5553480614894135,3.258096538021482,3.258096538021482,3.7376696182833684,3.295836866004329,3.6375861597263857,3.6635616461296463,2.995732273553991,3.367295829986474,3.6888794541139363,3.4657359027997265,3.332204510175204,3.295836866004329,3.7376696182833684,3.8918202981106265,3.6375861597263857,3.1780538303479458,3.295836866004329,3.58351893845611,3.5263605246161616,3.332204510175204,3.8066624897703196,3.258096538021482,3.4657359027997265,3.258096538021482,2.995732273553991,3.9889840465642745,3.6109179126442243,3.6888794541139363,3.1354942159291497,3.7612001156935624,3.58351893845611,3.784189633918261,3.1780538303479458,3.970291913552122,3.1354942159291497,3.258096538021482,3.4011973816621555,3.4339872044851463,3.7376696182833684,3.4339872044851463,3.713572066704308,3.4657359027997265,3.332204510175204,3.713572066704308,3.258096538021482,3.2188758248682006,3.4965075614664802,4.31748811353631,3.6109179126442243,3.7376696182833684,3.8066624897703196,3.1354942159291497,4.0943445622221,3.4339872044851463,3.5263605246161616,4.110873864173311,3.7612001156935624,3.6109179126442243,3.4657359027997265,3.1780538303479458,3.5553480614894135,3.1354942159291497,3.8066624897703196,3.5263605246161616,3.295836866004329,4.204692619390966,3.091042453358316,3.332204510175204,3.367295829986474,3.295836866004329,3.4339872044851463,3.8918202981106265,3.1780538303479458,3.367295829986474,3.6109179126442243,3.6109179126442243,3.1354942159291497,3.58351893845611,3.5263605246161616,3.713572066704308,3.4339872044851463,3.1354942159291497,3.6375861597263857,3.258096538021482,3.091042453358316,3.295836866004329,3.1780538303479458,3.295836866004329,3.4965075614664802,3.295836866004329,3.295836866004329,3.4011973816621555,3.8918202981106265,3.258096538021482,3.4965075614664802,3.9512437185814275,2.995732273553991,3.58351893845611,3.044522437723423,3.8501476017100584,4.0943445622221,4.060443010546419,3.7376696182833684,3.58351893845611,2.995732273553991,3.6888794541139363,3.4657359027997265,3.1354942159291497,3.58351893845611,3.4339872044851463,3.4657359027997265,3.8066624897703196,3.4011973816621555,3.5263605246161616,3.332204510175204,3.1354942159291497,3.091042453358316,4.30406509320417,3.912023005428146,3.4965075614664802,3.8066624897703196,3.091042453358316,3.871201010907891,3.367295829986474,3.091042453358316,3.091042453358316,3.871201010907891,3.295836866004329,3.6109179126442243,3.044522437723423,3.8918202981106265,3.295836866004329,3.4657359027997265,3.6375861597263857,3.091042453358316,4.174387269895637,3.5553480614894135,3.713572066704308,3.367295829986474,3.58351893845611,4.1588830833596715,3.332204510175204,3.784189633918261,3.1354942159291497,2.9444389791664403,3.2188758248682006,3.8501476017100584,3.332204510175204,3.044522437723423,3.5263605246161616,3.258096538021482,3.295836866004329,3.6375861597263857,3.6888794541139363,3.4965075614664802,3.4657359027997265,3.295836866004329,3.4657359027997265,3.258096538021482,3.6375861597263857,3.6888794541139363,3.912023005428146,3.6109179126442243,3.8066624897703196,3.7376696182833684,3.5553480614894135,3.091042453358316,3.713572066704308,3.6109179126442243,3.332204510175204,3.713572066704308,3.1354942159291497,3.1354942159291497,3.912023005428146,3.5553480614894135,3.912023005428146,3.295836866004329,3.5263605246161616,3.295836866004329,3.7612001156935624,3.8501476017100584,3.295836866004329,3.4339872044851463,3.7376696182833684,3.1780538303479458,3.713572066704308,3.258096538021482,3.4965075614664802,3.1780538303479458,4.1588830833596715,3.258096538021482,4.02535169073515,3.6109179126442243,3.4965075614664802,3.8501476017100584,3.4339872044851463,3.5263605246161616,3.295836866004329,3.4011973816621555,3.5553480614894135,3.4339872044851463,3.2188758248682006,3.2188758248682006,3.367295829986474,3.784189633918261,3.332204510175204,3.912023005428146,3.367295829986474,3.6375861597263857,3.1780538303479458,3.6888794541139363,3.367295829986474,3.828641396489095,3.8501476017100584,3.713572066704308,3.4657359027997265,3.5553480614894135,3.1780538303479458,3.2188758248682006,3.2188758248682006,3.6109179126442243,3.4657359027997265,3.5553480614894135,3.828641396489095,3.2188758248682006,3.295836866004329,4.143134726391533,3.6888794541139363,3.4657359027997265,3.4339872044851463,3.4339872044851463,3.5263605246161616,3.1780538303479458,3.1780538303479458,4.189654742026425,3.044522437723423,3.713572066704308,3.8501476017100584,3.2188758248682006,4.07753744390572,3.58351893845611,3.4965075614664802,3.044522437723423,3.784189633918261,3.332204510175204,3.6109179126442243,3.367295829986474,3.1354942159291497,3.5553480614894135,3.8066624897703196,3.258096538021482,3.4657359027997265,3.1354942159291497,3.713572066704308,3.091042453358316,3.4011973816621555,3.332204510175204,3.1354942159291497,3.6109179126442243,3.258096538021482,3.4965075614664802,3.8918202981106265,3.1354942159291497,3.1354942159291497,3.2188758248682006,4.007333185232471,3.4657359027997265,4.30406509320417,3.6635616461296463,3.4339872044851463,3.5553480614894135,4.07753744390572,3.1780538303479458,3.1780538303479458,3.4011973816621555,3.295836866004329,3.6888794541139363,3.4339872044851463,3.4339872044851463,3.332204510175204,4.143134726391533,3.258096538021482,3.2188758248682006,3.58351893845611,3.9512437185814275,4.189654742026425,3.2188758248682006,3.6109179126442243,3.2188758248682006,3.6375861597263857,4.204692619390966,3.2188758248682006,4.0943445622221,3.4339872044851463,3.1354942159291497,4.0943445622221,3.5553480614894135,3.6888794541139363,3.6375861597263857,3.912023005428146,3.295836866004329,3.6635616461296463,3.713572066704308,3.295836866004329,3.9318256327243257,3.4657359027997265,3.091042453358316,3.9318256327243257,3.091042453358316,3.9889840465642745,3.5553480614894135,3.9889840465642745,3.871201010907891,3.1780538303479458,3.5553480614894135,3.1780538303479458,3.1780538303479458,3.258096538021482,4.174387269895637,4.007333185232471,3.258096538021482,3.258096538021482,3.332204510175204,3.1780538303479458,3.9889840465642745,3.828641396489095,3.9889840465642745,4.127134385045092,3.1780538303479458,3.7612001156935624,3.258096538021482,3.295836866004329,3.1780538303479458,3.713572066704308,3.8501476017100584,3.5553480614894135,3.4011973816621555,3.4965075614664802,3.58351893845611,3.8501476017100584,3.6375861597263857,3.784189633918261,3.1354942159291497,3.367295829986474,3.7376696182833684,3.2188758248682006,3.871201010907891,3.044522437723423,3.1354942159291497,4.143134726391533,3.828641396489095,3.367295829986474,3.332204510175204,3.1354942159291497,3.912023005428146,3.8501476017100584,3.5553480614894135,4.219507705176107,3.332204510175204,4.07753744390572,4.04305126783455,3.4965075614664802,3.7612001156935624,3.5553480614894135,3.4657359027997265,3.8066624897703196,3.4965075614664802,3.6888794541139363,3.332204510175204,3.367295829986474,3.258096538021482,3.295836866004329,3.332204510175204,3.5553480614894135,3.4657359027997265,3.2188758248682006,2.995732273553991,3.295836866004329,3.7376696182833684,3.6109179126442243,3.1780538303479458,3.6888794541139363,3.828641396489095,3.258096538021482,3.1780538303479458,3.367295829986474,3.6888794541139363,3.58351893845611,3.332204510175204,3.295836866004329,3.58351893845611,3.6375861597263857,3.871201010907891,3.58351893845611,4.174387269895637,3.7612001156935624,3.970291913552122,3.5263605246161616,3.1354942159291497,3.5263605246161616,3.6888794541139363,3.7612001156935624,3.828641396489095,3.6375861597263857,3.5263605246161616,3.367295829986474,3.4339872044851463,3.332204510175204,3.5553480614894135,3.4965075614664802,3.7376696182833684,3.7612001156935624,3.784189633918261,3.7376696182833684,3.6888794541139363,3.58351893845611,2.995732273553991,3.1780538303479458,3.295836866004329,3.828641396489095,3.4965075614664802,3.5263605246161616,3.2188758248682006,3.2188758248682006,3.332204510175204,3.4339872044851463,3.4657359027997265,3.4657359027997265,4.219507705176107,3.4965075614664802,3.6635616461296463,3.332204510175204,3.6109179126442243,3.091042453358316,3.4011973816621555,4.007333185232471,3.828641396489095,3.044522437723423,3.6635616461296463,4.060443010546419,3.7612001156935624,3.1780538303479458,3.091042453358316,3.4011973816621555,3.7376696182833684,3.1354942159291497,3.4011973816621555,3.332204510175204,3.4011973816621555,3.7376696182833684,3.828641396489095,3.8066624897703196,3.4339872044851463,3.4339872044851463,3.7376696182833684,3.828641396489095,3.4011973816621555,3.4011973816621555,3.6375861597263857,3.7612001156935624,3.4339872044851463,3.6888794541139363,3.1780538303479458,3.332204510175204,3.258096538021482,3.367295829986474,4.04305126783455,3.8918202981106265,3.6109179126442243,3.8066624897703196,3.4011973816621555,3.4011973816621555,3.8501476017100584,3.367295829986474,3.5553480614894135,3.091042453358316,3.258096538021482,3.1354942159291497,3.9889840465642745,3.367295829986474,3.6888794541139363,3.091042453358316,3.7612001156935624,3.367295829986474,3.58351893845611,3.4965075614664802,4.04305126783455,4.1588830833596715,3.7376696182833684,3.8501476017100584,3.2188758248682006,3.8918202981106265,3.4965075614664802,3.332204510175204,3.258096538021482,3.4011973816621555,3.2188758248682006,3.4965075614664802,4.1588830833596715,3.367295829986474,3.871201010907891,3.6109179126442243,3.5263605246161616,3.1354942159291497,3.4011973816621555,3.912023005428146,3.4339872044851463,3.6888794541139363,3.6375861597263857,3.1354942159291497,3.295836866004329],\"type\":\"histogram\",\"xaxis\":\"x\",\"yaxis\":\"y\"},{\"x\":[1.791759469228055,3.871201010907891,2.4849066497880004,3.7376696182833684,3.1780538303479458,3.58351893845611,3.1780538303479458,3.58351893845611,2.4849066497880004,3.4011973816621555,2.4849066497880004,3.871201010907891,2.4849066497880004,3.1780538303479458,2.70805020110221,3.1780538303479458,3.1780538303479458,3.4011973816621555,3.1780538303479458,3.1780538303479458,2.1972245773362196,1.791759469228055,2.302585092994046,2.4849066497880004,2.302585092994046,1.791759469228055,1.791759469228055,2.4849066497880004,1.9459101490553132,4.0943445622221,2.8903717578961645,3.1780538303479458,2.8903717578961645,2.4849066497880004,2.4849066497880004,3.8066624897703196,3.871201010907891,2.8903717578961645,2.302585092994046,2.1972245773362196,3.4011973816621555,2.4849066497880004,2.8903717578961645,3.4011973816621555,3.871201010907891,2.3978952727983707,3.58351893845611,1.791759469228055,2.3978952727983707,2.4849066497880004,3.1780538303479458,3.295836866004329,2.4849066497880004,2.8903717578961645,3.58351893845611,1.791759469228055,2.4849066497880004,3.58351893845611,2.8903717578961645,3.58351893845611,2.1972245773362196,2.70805020110221,3.58351893845611,3.871201010907891,3.1780538303479458,3.295836866004329,2.4849066497880004,2.4849066497880004,3.58351893845611,3.58351893845611,3.58351893845611,1.9459101490553132,2.0794415416798357,3.7376696182833684,3.58351893845611,2.4849066497880004,3.7376696182833684,2.3978952727983707,3.9889840465642745,3.4011973816621555,3.1780538303479458,2.70805020110221,2.8903717578961645,3.1780538303479458,2.302585092994046,2.4849066497880004,2.8903717578961645,3.58351893845611,2.8903717578961645,2.4849066497880004,2.4849066497880004,2.4849066497880004,2.4849066497880004,3.1780538303479458,2.4849066497880004,3.9889840465642745,2.4849066497880004,2.8903717578961645,3.58351893845611,2.995732273553991,3.1780538303479458,3.58351893845611,1.791759469228055,2.1972245773362196,2.4849066497880004,3.1780538303479458,2.8903717578961645,2.4849066497880004,3.1780538303479458,2.6390573296152584,1.791759469228055,2.70805020110221,2.8903717578961645,3.58351893845611,2.4849066497880004,3.871201010907891,3.7376696182833684,2.302585092994046,3.4965075614664802,2.4849066497880004,3.044522437723423,3.1780538303479458,2.4849066497880004,2.302585092994046,2.8903717578961645,2.4849066497880004,2.4849066497880004,2.4849066497880004,2.4849066497880004,2.4849066497880004,3.871201010907891,3.58351893845611,2.70805020110221,2.8903717578961645,4.0943445622221,2.4849066497880004,3.295836866004329,2.4849066497880004,2.70805020110221,2.4849066497880004,1.791759469228055,3.58351893845611,3.295836866004329,2.8903717578961645,3.044522437723423,3.871201010907891,1.791759469228055,2.4849066497880004,3.58351893845611,2.8903717578961645,1.791759469228055,2.302585092994046,3.58351893845611,3.1780538303479458,3.1780538303479458,2.4849066497880004,2.1972245773362196,2.4849066497880004,3.1780538303479458,1.791759469228055,3.1780538303479458,2.8903717578961645,2.70805020110221,2.302585092994046,3.58351893845611,1.791759469228055,2.8903717578961645,2.3978952727983707,3.1780538303479458,3.1780538303479458,2.70805020110221,2.4849066497880004,3.1780538303479458,2.0794415416798357,3.044522437723423,3.4011973816621555,2.4849066497880004,1.791759469228055,2.4849066497880004,3.044522437723423,3.58351893845611,3.58351893845611,3.044522437723423,3.1780538303479458,2.8903717578961645,2.70805020110221,2.1972245773362196,2.772588722239781,2.4849066497880004,2.8903717578961645,3.1780538303479458,3.871201010907891,3.295836866004329,1.791759469228055,3.8066624897703196,2.1972245773362196,1.791759469228055,2.4849066497880004,3.1780538303479458,2.8903717578961645,2.1972245773362196,2.4849066497880004,3.295836866004329,2.4849066497880004,2.4849066497880004,3.4011973816621555,2.4849066497880004,2.4849066497880004,3.1780538303479458,2.4849066497880004,2.1972245773362196,3.58351893845611,3.295836866004329,3.4011973816621555,3.58351893845611,1.791759469228055,2.8903717578961645,3.58351893845611,3.1780538303479458,2.302585092994046,2.4849066497880004,2.4849066497880004,2.4849066497880004,3.1780538303479458,2.70805020110221,3.58351893845611,3.871201010907891,2.4849066497880004,2.1972245773362196,3.1780538303479458,3.58351893845611,2.1972245773362196,2.4849066497880004,2.8903717578961645,1.3862943611198906,3.1780538303479458,1.791759469228055,3.044522437723423,2.4849066497880004,3.4011973816621555,3.1780538303479458,1.791759469228055,3.871201010907891,2.4849066497880004,2.4849066497880004,3.1780538303479458,2.4849066497880004,1.791759469228055,3.1780538303479458,2.8903717578961645,1.791759469228055,2.4849066497880004,3.4011973816621555,3.1780538303479458,2.1972245773362196,4.0943445622221,3.1780538303479458,2.4849066497880004,2.70805020110221,2.3978952727983707,2.4849066497880004,3.1780538303479458,2.8903717578961645,2.4849066497880004,2.302585092994046,2.70805020110221,3.58351893845611,3.1780538303479458,2.6390573296152584,3.1780538303479458,2.8903717578961645,2.4849066497880004,3.871201010907891,3.871201010907891,3.4011973816621555,2.1972245773362196,2.8903717578961645,2.4849066497880004,1.791759469228055,3.1780538303479458,2.70805020110221,2.4849066497880004,2.8903717578961645,2.70805020110221,3.1780538303479458,3.8501476017100584,3.871201010907891,3.871201010907891,2.4849066497880004,3.1780538303479458,2.4849066497880004,3.58351893845611,3.1780538303479458,3.7376696182833684,3.871201010907891,3.871201010907891,2.4849066497880004,2.302585092994046,2.8903717578961645,3.044522437723423,1.791759469228055,3.58351893845611,3.1780538303479458,2.302585092994046,3.871201010907891,1.791759469228055,3.4011973816621555,2.4849066497880004,2.0794415416798357,2.1972245773362196,3.871201010907891,3.1780538303479458,3.1780538303479458,2.4849066497880004,1.3862943611198906,3.58351893845611,2.4849066497880004,3.1780538303479458,2.4849066497880004,2.70805020110221,3.4011973816621555,3.1780538303479458,3.1780538303479458,2.8903717578961645,2.8903717578961645,2.0794415416798357,2.4849066497880004,3.1780538303479458,3.58351893845611,1.791759469228055,3.1780538303479458,2.8903717578961645,4.0943445622221,3.871201010907891,3.1780538303479458,1.791759469228055,2.5649493574615367,2.70805020110221,3.1780538303479458,2.302585092994046,3.1780538303479458,3.044522437723423,2.8903717578961645,2.8903717578961645,2.302585092994046,2.70805020110221,2.5649493574615367,3.1780538303479458,1.791759469228055,2.1972245773362196,2.1972245773362196,2.1972245773362196,2.8903717578961645,2.4849066497880004,2.302585092994046,3.1780538303479458,2.4849066497880004,3.58351893845611,2.4849066497880004,3.4011973816621555,2.8903717578961645,2.4849066497880004,2.4849066497880004,1.791759469228055,2.8903717578961645,2.4849066497880004,2.8903717578961645,2.8903717578961645,3.58351893845611,2.8903717578961645,3.58351893845611,2.8903717578961645,2.302585092994046,4.0943445622221,4.0943445622221,3.871201010907891,2.8903717578961645,1.9459101490553132,3.58351893845611,1.791759469228055,2.995732273553991,2.8903717578961645,3.091042453358316,2.4849066497880004,3.4011973816621555,2.8903717578961645,2.8903717578961645,2.8903717578961645,2.70805020110221,2.1972245773362196,2.8903717578961645,2.4849066497880004,3.58351893845611,1.791759469228055,2.1972245773362196,3.6635616461296463,2.4849066497880004,3.58351893845611,2.4849066497880004,3.1780538303479458,2.8903717578961645,2.8903717578961645,3.1780538303479458,2.6390573296152584,2.8903717578961645,3.1780538303479458,3.1780538303479458,2.70805020110221,3.1780538303479458,2.4849066497880004,3.1780538303479458,3.4965075614664802,2.4849066497880004,2.302585092994046,3.1780538303479458,3.58351893845611,2.4849066497880004,2.8903717578961645,3.044522437723423,2.8903717578961645,2.70805020110221,2.4849066497880004,2.4849066497880004,3.044522437723423,2.4849066497880004,2.8903717578961645,3.332204510175204,2.8903717578961645,2.1972245773362196,2.8903717578961645,1.6094379124341003,3.1780538303479458,1.791759469228055,3.1780538303479458,2.1972245773362196,2.4849066497880004,1.791759469228055,3.1780538303479458,3.7376696182833684,2.4849066497880004,2.4849066497880004,2.4849066497880004,2.995732273553991,2.4849066497880004,3.871201010907891,2.1972245773362196,3.58351893845611,1.9459101490553132,2.4849066497880004,2.70805020110221,3.58351893845611,1.791759469228055,2.4849066497880004,3.1780538303479458,3.1780538303479458,3.1780538303479458,2.3978952727983707,2.4849066497880004,1.791759469228055,2.8903717578961645,3.58351893845611,2.70805020110221,2.4849066497880004,2.4849066497880004,2.8903717578961645,3.1780538303479458,3.1780538303479458,3.871201010907891,3.4965075614664802,3.1780538303479458,3.1780538303479458,1.791759469228055,2.1972245773362196,1.791759469228055,2.8903717578961645,2.8903717578961645,3.6635616461296463,3.1780538303479458,2.4849066497880004,2.70805020110221,2.4849066497880004,3.1780538303479458,3.4011973816621555,2.70805020110221,2.4849066497880004,1.791759469228055,2.4849066497880004,3.1780538303479458,2.302585092994046,1.791759469228055,2.4849066497880004,3.295836866004329,1.791759469228055,1.791759469228055,2.4849066497880004,3.1780538303479458,3.58351893845611,3.1780538303479458,2.8903717578961645,1.791759469228055,3.1780538303479458,3.58351893845611,2.1972245773362196,3.1780538303479458,3.1780538303479458,2.302585092994046,2.70805020110221,2.70805020110221,3.1780538303479458,3.6635616461296463,2.4849066497880004,3.58351893845611,2.70805020110221,2.4849066497880004,3.1780538303479458,1.791759469228055,1.791759469228055,3.58351893845611,1.791759469228055,1.791759469228055,3.1780538303479458,2.8903717578961645,3.871201010907891,3.1780538303479458,2.8903717578961645,3.258096538021482,2.70805020110221,1.3862943611198906,3.58351893845611,1.791759469228055,3.58351893845611,2.70805020110221,2.4849066497880004,3.1780538303479458,3.1780538303479458,3.044522437723423,1.791759469228055,2.8903717578961645,3.871201010907891,2.8903717578961645,2.4849066497880004,3.1780538303479458,3.4011973816621555,2.8903717578961645,2.4849066497880004,3.1780538303479458,3.1780538303479458,3.1780538303479458,2.4849066497880004,3.871201010907891,2.4849066497880004,1.791759469228055,3.871201010907891,2.4849066497880004,2.1972245773362196,2.4849066497880004,2.8903717578961645,3.044522437723423,3.1780538303479458,2.8903717578961645,3.1780538303479458,3.1780538303479458,1.791759469228055,3.58351893845611,3.1780538303479458,3.1780538303479458,2.4849066497880004,3.1780538303479458,3.871201010907891,3.871201010907891,3.1780538303479458,3.4011973816621555,3.1780538303479458,2.70805020110221,2.1972245773362196,2.70805020110221,2.4849066497880004,3.1780538303479458,3.58351893845611,3.1780538303479458,2.8903717578961645,2.4849066497880004,2.1972245773362196,3.58351893845611,2.4849066497880004,2.8903717578961645,2.1972245773362196,2.4849066497880004,2.8903717578961645,2.4849066497880004,2.4849066497880004,3.1780538303479458,3.044522437723423,3.1780538303479458,3.1780538303479458,1.791759469228055,3.1780538303479458,3.1780538303479458,2.8903717578961645,3.1780538303479458,1.9459101490553132,2.1972245773362196,3.1780538303479458,3.58351893845611,2.302585092994046,3.1780538303479458,3.1780538303479458,3.58351893845611,2.8903717578961645,2.70805020110221,2.4849066497880004,2.302585092994046,3.044522437723423,3.1780538303479458,2.8903717578961645,3.871201010907891,4.0943445622221,1.791759469228055,3.4011973816621555,2.4849066497880004,3.044522437723423,2.8903717578961645,3.871201010907891,2.4849066497880004,2.8903717578961645,2.70805020110221,1.791759469228055,2.1972245773362196,3.7376696182833684,2.1972245773362196,3.1780538303479458,2.8903717578961645,2.70805020110221,2.1972245773362196,3.1780538303479458,2.4849066497880004,3.1780538303479458,4.0943445622221,2.4849066497880004,3.7376696182833684,2.8903717578961645,2.70805020110221,2.70805020110221,3.1780538303479458,2.8903717578961645,3.58351893845611,3.4011973816621555,2.4849066497880004,3.1780538303479458,2.4849066497880004,3.871201010907891,2.4849066497880004,3.1780538303479458,3.58351893845611,3.1780538303479458,2.6390573296152584,2.4849066497880004,3.871201010907891,3.4011973816621555,2.8903717578961645,2.4849066497880004,2.4849066497880004,3.044522437723423,1.791759469228055,1.791759469228055,3.1780538303479458,3.4011973816621555,3.871201010907891,2.4849066497880004,3.4011973816621555,3.1780538303479458,3.58351893845611,4.0943445622221,1.791759469228055,3.044522437723423,3.4011973816621555,3.1780538303479458,4.276666119016055,3.1780538303479458,2.8903717578961645,1.791759469228055,2.4849066497880004,2.70805020110221,3.1780538303479458,3.58351893845611,4.0943445622221,2.302585092994046,3.58351893845611,2.1972245773362196,2.4849066497880004,2.70805020110221,2.70805020110221,3.1780538303479458,1.791759469228055,3.1780538303479458,1.791759469228055,2.4849066497880004,2.4849066497880004,2.8903717578961645,2.70805020110221,2.4849066497880004,3.871201010907891,3.1780538303479458,3.4011973816621555,3.295836866004329,2.70805020110221,3.871201010907891,2.4849066497880004,2.1972245773362196,2.1972245773362196,2.8903717578961645,1.791759469228055,3.044522437723423,2.1972245773362196,4.0943445622221,3.4011973816621555,3.4011973816621555,2.8903717578961645,3.1780538303479458,2.995732273553991,2.1972245773362196,1.791759469228055,2.4849066497880004,2.1972245773362196,3.295836866004329,1.791759469228055,2.70805020110221,2.8903717578961645,3.871201010907891,3.1780538303479458,3.1780538303479458,3.1780538303479458,2.0794415416798357,3.1780538303479458,1.3862943611198906,3.58351893845611,3.1780538303479458,2.8903717578961645,1.791759469228055,3.4011973816621555,3.1780538303479458,2.302585092994046,3.044522437723423,3.1780538303479458,3.6635616461296463,2.5649493574615367,2.70805020110221,2.4849066497880004,3.044522437723423,2.70805020110221,1.791759469228055,2.8903717578961645,2.4849066497880004,3.4011973816621555,2.4849066497880004,3.1780538303479458,1.791759469228055,2.70805020110221,3.1780538303479458,2.4849066497880004,2.70805020110221,2.8903717578961645,2.4849066497880004,3.044522437723423,3.1780538303479458,2.4849066497880004,3.4011973816621555,2.302585092994046,2.4849066497880004,2.4849066497880004,3.1780538303479458,3.58351893845611,3.044522437723423,3.1780538303479458,2.4849066497880004,3.1780538303479458,3.58351893845611,2.8903717578961645,3.58351893845611,2.8903717578961645,3.6635616461296463,3.1780538303479458,2.4849066497880004,2.4849066497880004,2.995732273553991,2.8903717578961645,3.091042453358316,3.871201010907891,3.871201010907891,3.6888794541139363,3.044522437723423,3.1780538303479458,1.791759469228055,3.1780538303479458,3.1780538303479458,2.1972245773362196,2.8903717578961645,2.4849066497880004,3.1780538303479458,2.1972245773362196,3.1780538303479458,2.8903717578961645,2.995732273553991,2.4849066497880004,2.4849066497880004,3.58351893845611,1.791759469228055,2.4849066497880004,3.7376696182833684,2.70805020110221,2.0794415416798357,1.791759469228055,3.58351893845611,3.871201010907891,3.871201010907891,3.58351893845611,1.791759469228055,1.791759469228055,3.58351893845611,2.8903717578961645,2.4849066497880004,2.4849066497880004,3.58351893845611,2.0794415416798357,2.8903717578961645,3.044522437723423,2.8903717578961645,2.8903717578961645,3.58351893845611,3.871201010907891,3.1780538303479458,2.8903717578961645,3.8066624897703196,3.1780538303479458,2.70805020110221,2.4849066497880004,2.4849066497880004,1.3862943611198906,3.1780538303479458,3.1780538303479458,3.58351893845611,3.044522437723423,2.8903717578961645,3.1780538303479458,2.8903717578961645,3.044522437723423,2.8903717578961645,3.1780538303479458,2.1972245773362196,2.4849066497880004,2.995732273553991,3.1780538303479458,2.70805020110221,2.8903717578961645,3.58351893845611,3.1780538303479458,2.302585092994046,2.70805020110221,2.70805020110221,2.1972245773362196,3.1780538303479458,2.8903717578961645,3.1780538303479458,3.295836866004329,2.302585092994046,2.70805020110221,2.8903717578961645,2.4849066497880004,3.58351893845611,2.4849066497880004,3.58351893845611,1.791759469228055,3.1780538303479458,2.70805020110221,2.4849066497880004,2.3978952727983707,2.8903717578961645,3.58351893845611,2.1972245773362196,3.4011973816621555,3.1780538303479458,3.1780538303479458,3.4011973816621555,2.8903717578961645,3.1780538303479458,2.4849066497880004,3.1780538303479458,3.871201010907891,3.58351893845611,3.332204510175204,3.295836866004329,2.70805020110221,2.4849066497880004,3.58351893845611,2.8903717578961645,3.58351893845611,3.044522437723423,2.4849066497880004,2.70805020110221,2.8903717578961645,2.772588722239781,2.995732273553991,3.58351893845611,2.70805020110221,3.1780538303479458,2.4849066497880004,3.044522437723423,3.58351893845611,2.70805020110221,2.1972245773362196,3.58351893845611,3.1780538303479458,3.4011973816621555,2.3978952727983707,3.1780538303479458,3.871201010907891,2.302585092994046,1.791759469228055,3.1780538303479458,3.1780538303479458,2.8903717578961645,3.871201010907891,2.1972245773362196,2.4849066497880004,3.1780538303479458,2.4849066497880004,2.8903717578961645,3.871201010907891,3.4011973816621555,2.4849066497880004,3.1780538303479458,2.1972245773362196,2.1972245773362196,2.4849066497880004,2.4849066497880004,3.4011973816621555,2.1972245773362196,1.791759469228055,4.0943445622221,3.1780538303479458,2.4849066497880004,2.302585092994046,3.1780538303479458,1.3862943611198906,2.70805020110221,3.871201010907891,3.1780538303479458,2.4849066497880004,2.8903717578961645,3.1780538303479458,2.8903717578961645,3.58351893845611,3.1780538303479458,3.58351893845611,2.4849066497880004,3.1780538303479458,3.4011973816621555,2.1972245773362196,3.332204510175204,3.1780538303479458,1.791759469228055,3.044522437723423,2.70805020110221,3.1780538303479458,1.791759469228055,3.4011973816621555,3.295836866004329,2.70805020110221,3.7376696182833684,2.3978952727983707,2.70805020110221,3.1780538303479458,3.1780538303479458,4.0943445622221,3.4011973816621555,3.1780538303479458,1.791759469228055,2.8903717578961645,3.1780538303479458,2.70805020110221,3.4011973816621555,3.871201010907891,3.044522437723423,3.58351893845611,3.1780538303479458,2.70805020110221,3.7376696182833684,2.5649493574615367,3.1780538303479458,3.1780538303479458,2.4849066497880004,2.70805020110221,2.8903717578961645,3.58351893845611,2.4849066497880004,2.4849066497880004,3.4011973816621555,2.4849066497880004,3.8066624897703196,3.8066624897703196],\"type\":\"histogram\",\"xaxis\":\"x2\",\"yaxis\":\"y2\"},{\"x\":[7.063903961472068,8.691314551644853,7.647786045440933,8.97233695775495,8.490849216076635,9.111072370317514,7.949797216161852,8.846209127360996,8.025843344150903,8.562931083090092,7.166265974133638,8.36822903827628,7.356918242356021,7.089243155027514,7.246368080102461,7.156176637480615,7.793174347189205,8.996156562033445,9.439784035838873,8.140315540159985,7.665753431861699,7.881182202227102,7.714677473800927,7.4977617006225685,7.634820677745543,7.2254814727822945,6.054439346269371,6.013715156042802,7.789454566086673,8.829958044235482,7.556427969440253,8.299037181613066,8.676928249537397,7.142036574706803,7.295735072749282,8.465057436995709,8.71768205216564,7.649692623711514,7.110696122978827,6.126869184114185,7.75491027202143,7.05444965813294,8.73294952429643,8.73020559553099,8.723068501163928,7.239214973779806,7.740229524763182,7.20934025660291,8.885717651712119,7.636752112435779,7.75491027202143,8.693664334532016,7.140453043101158,8.125039097367745,7.707512194600341,6.663132695990803,8.774622220696997,9.165970424240243,7.581209826196346,8.736971085254146,7.237778191923443,7.337587743538596,7.577121930876679,9.57644075656207,8.064950891749143,8.554488976159934,7.682943169878292,6.914730892718563,7.506042178518122,7.780720886117918,9.003685138166775,6.593044534142437,7.059617628291383,8.691818541575723,7.589335823170617,7.330405211844402,8.285261134068948,8.470311205516108,9.152287440527566,8.251142139090751,8.68996933536666,7.10085190894405,7.357556200910353,7.470224135899966,7.747164966520335,7.252762418053187,7.166265974133638,9.442404020664952,7.718240951959316,7.010311867307229,6.42648845745769,7.25063551189868,6.680854678790215,8.193400231952097,7.183870715062453,9.676900579444158,7.60688453121963,7.871692664323645,7.756623334538858,8.86177531100083,7.292337176173877,7.750614732770409,6.837332814685591,7.5595594960077,7.801800401908973,9.387481868728596,8.77307495131822,8.712430973476739,8.951699168308815,7.251344983372214,7.278628942320682,5.971261839790462,8.741935464094144,8.96890555068972,7.426549072397305,8.182559264068665,8.878218658092228,7.664815785285735,8.361941906144946,7.768956044538332,7.51479976048867,8.260492856573185,7.477604243197589,6.660575149839686,7.562161631225652,7.659642954564682,6.55250788703459,6.459904454377535,7.528331766707247,8.160232492367689,9.046290859969677,8.837390855544697,7.903965634032166,7.592870287844818,9.224637676677007,7.122866658599083,9.061027968789174,6.641182169740591,7.911324018963353,7.53955882930103,6.5638555265321274,8.475328987317539,8.13622555490846,7.808729306744399,7.7354333524996886,8.179199798423086,6.756932389247553,6.525029657843462,8.58876938990546,7.366445148327599,7.204892510204673,7.562161631225652,8.673855001429615,8.956479847999912,8.848939995030118,7.156176637480615,7.160845906664299,5.82600010738045,8.163940954755008,7.5485559791698735,7.962763930168115,6.961296045910167,7.140453043101158,8.896724917497897,6.812345094177479,7.999007213243955,7.030857476116121,7.3632795869630385,8.287025025165063,7.5678626054638825,6.856461984594587,6.637258031284457,7.6324011266014535,7.254177846456518,8.135639903354386,8.920656296853728,7.854381210652365,5.823045895483019,7.5822291942764615,6.3473892096560105,9.166597449028265,8.40178233990491,7.4067107301776405,8.236685322712457,6.784457062637643,7.215239978730097,8.542665987389269,7.069023426578259,6.513230110912307,8.084562415235304,8.431853144249223,8.254268770090183,8.272570608424903,7.653494909661253,8.016647877057803,7.313886831633462,7.231287004327616,6.85751406254539,7.9229859587111955,8.365672383774996,6.841615476477592,7.0630481633881725,8.540323608805092,6.804614520062624,7.3098814858247865,9.270776740780013,7.5678626054638825,7.261225091971921,8.789964651132264,7.253470382684528,8.03073492409854,8.251924713801357,8.574140471857987,7.553810852008231,8.114324709155339,6.837332814685591,8.04044688130311,8.272059622210412,8.013343181386672,7.218176838403408,6.437751649736401,7.090076835776092,6.561030665896573,7.999007213243955,8.446126742982377,7.868254265520613,9.302098797215724,8.970177815492379,7.298445101508147,8.054840221101024,8.345217926676428,7.826842098158293,7.669028288589683,6.763884908562435,7.342131730584722,7.508238774678663,9.585689856179723,7.925518979786926,7.1631723908466425,7.8328075165248645,6.818924065275521,7.374629015218945,8.434897948689407,7.077498053569231,8.145259566516865,7.1372784372603855,6.57507584059962,7.093404625868766,7.562681246721884,6.07073772800249,6.501289670540389,7.719129840906732,7.673223121121708,8.33110454805304,7.615791072035833,8.911664758049536,7.895063498091573,7.67275789664251,8.245909264774093,7.050989447068045,7.4127640174265625,7.3796321526095525,8.57583938684897,7.91862865334224,7.115582126184454,6.687108607866515,8.748939631537715,7.334981878871814,9.102532419341877,6.906754778648554,7.8868329989550565,7.2456550675945355,9.4066470133368,8.026170194946426,9.392495248213038,7.89989532313973,7.784889295655098,7.140453043101158,8.436200032206706,7.550135342488429,8.122074375362217,7.3613754289773485,7.275864600546533,7.326465613840322,8.263074835802596,9.280052984387483,8.473868066677865,8.93353229607628,6.9957661563048505,6.931471805599453,6.98100574072173,9.14825217966276,8.767017621311778,8.475537516147405,8.93971205409023,9.206332350578643,8.449984441722787,7.160069207596127,7.83002808253384,7.917536353943631,6.51025834052315,8.24380842366528,7.203405521083095,6.945051063725834,9.222960403332285,7.341483852363161,8.478660241699453,6.588926477533519,7.1204443723924875,5.62040086571715,8.59062950948942,8.614501373883236,8.229244416735913,6.529418838262226,7.309212365692763,7.917900586327916,6.56244409369372,8.37816098272068,6.55250788703459,8.200562797008564,8.354438940114811,7.569411792450712,7.975908360165538,7.88570539124302,6.93537044601511,8.130942302231878,8.665785595466064,7.329749689041512,8.405814603432848,6.97354301952014,8.797095076549056,7.530479995245536,8.910315776326016,9.357897936333798,8.32117830749028,8.126813720726114,7.650168700845001,7.150701457592526,8.335431477880796,7.327123292259293,8.655737000864297,8.188411308079031,8.074960359115858,8.398184404834035,8.28121766128665,7.285506548522785,6.782192056006791,8.231642179973411,7.463363045520021,7.035268599281097,7.119635638017636,6.8658910748834385,8.079927770758275,8.73214326770192,6.588926477533519,7.1276936993473985,7.754052639035757,8.40357646462927,6.654152520183219,7.785720896534624,7.122059881629142,8.131236549696116,7.717351272185329,7.476472381163905,7.813187267521416,7.340835554123275,8.25582842728183,8.202482446576537,8.144969417087875,8.006700845440367,8.0323601479245,8.711113884053544,7.671360923190644,9.529230371552156,9.601165503344832,8.947025655972697,7.749322464660356,6.740519359606223,9.56927276595613,5.8916442118257715,7.701652362642226,9.470856776355195,7.1569563646156364,7.1929342212158,8.35983738064003,7.71333788887187,7.026426808699636,8.90571557879409,7.75190533307861,7.278628942320682,7.506591780070841,6.890609120147166,8.0861025356691,7.579167967396076,7.785720896534624,9.372459221452617,7.8547691834991324,7.761319180947987,7.109062135687172,7.323830566202317,7.29505641646263,7.54274354536855,9.065083359319043,6.687108607866515,7.972121128921655,7.620214770574455,7.69484807238461,6.959398512133975,8.081784206935001,6.844815479208263,7.584264818389059,8.889170455363413,7.73718007783463,7.3758821482150125,7.2305631534092925,8.672828482947686,7.8551570058813445,9.044403844431551,7.930925372483388,6.948897222313312,8.066521490469993,7.614805364711073,6.86484777797086,7.372118028337787,7.923710333969238,7.929846429742503,7.916807490937603,7.046647277848756,7.180069874302796,7.081708586105575,8.145549631783584,9.3350328159335,7.534762657037537,7.629489916393995,7.666690200080086,7.302496423727326,6.492239835020471,7.160069207596127,8.129764445794171,6.411818267709897,7.5411524551363085,7.3901814282264295,7.874358824729881,6.577861357721047,8.536211197252,7.126087273299125,7.518607216815252,7.853993087224244,7.261225091971921,7.321188556739478,9.310547632393208,6.249975242259483,7.922623574217286,7.8898337513942955,8.479906606630221,7.893198869544609,8.270013062273787,8.12740456269308,5.8377304471659395,8.432506383249043,8.194229304819817,7.450660796211539,8.012018239159062,6.625392368007956,7.575584651557793,7.980707820869669,7.413970290190444,8.887100204123687,7.92443418488756,8.450839690866216,8.036573409707312,6.104793232414985,6.483107351457199,7.121252453244542,7.126890808898808,8.043663352393944,7.851271997109883,8.54714026778419,6.9440872082295275,7.298445101508147,8.181160858023409,7.0909098220799835,8.19478163844336,6.866933284461882,7.0587581525186645,7.097548850614793,8.031710375322042,8.231376045573969,7.257002707092073,8.165647925297504,7.56734567601324,9.026177120302856,7.1204443723924875,5.908082938168931,7.660114319173928,8.005033344637111,9.108750516214549,7.368339686311381,7.170888478512505,7.187657164114956,8.046549357283078,8.61122983334262,7.026426808699636,7.103322062526113,7.095893221097532,7.1770187659099,7.7664168980196555,8.83200393125627,7.253470382684528,9.058121158998672,6.63200177739563,8.452334619067742,7.8961806086154915,6.371611847231857,7.720905251936779,6.411818267709897,7.215975002651466,8.871645667501872,7.0925737159746784,6.551080335043404,8.613775289262481,8.06777619577889,8.870522545103873,8.15708378502887,7.014814351275545,8.982937763741589,7.3343293503005365,7.315218389752975,7.741533589281828,6.495265555937008,7.728855823852543,7.875119281040293,7.315218389752975,7.1785454837637,8.040768994367578,7.7488913372555315,7.2254814727822945,8.192016914536875,8.95712413640568,8.022568946988255,7.335633981927201,7.616775808698373,8.756210091886738,7.9599745280805365,7.134890851565884,7.195187320178709,7.611842399580417,7.347299700743164,6.439350371100098,9.089076284483143,6.903747257584598,7.4673710669175595,8.85352256068954,7.598399329323964,7.089243155027514,7.193685818395112,7.731053144007127,8.517793011488205,8.17526610411206,7.564238475170491,7.994294986415977,7.343426229147367,6.52649485957079,9.424564261115739,8.457867725331422,7.347943823148687,7.22402480828583,7.8547691834991324,8.288785810426928,8.818482267274236,8.081475040137052,8.691818541575723,8.600246746551523,6.692083742506628,6.9865664594064265,7.933079771880415,7.982757702011113,7.563719668414366,7.944492163932159,6.842683282238422,6.962243464266207,8.046869510959576,7.23561914106675,7.776535028185241,7.665284718471351,7.620214770574455,7.937017489515454,7.161622002939187,7.104144092987527,7.716906135298388,5.953243334287785,7.583247524303362,7.360103972989152,7.907651594711089,7.213768308118642,6.836259277277067,7.273786317844895,8.352554369474591,7.928406026180535,8.259199362666282,7.753194269884341,6.822197390620491,7.515889085215125,8.116417072794205,7.150701457592526,7.947325027016463,8.417593826193484,7.890208213109961,7.62608275807238,7.170119543449628,6.608000625296087,7.122866658599083,8.118802996980035,8.197538739721184,7.4999765409521215,9.40951904583656,9.122273893107732,8.209580483475577,8.14351740579748,6.461468176353717,8.20303024171486,7.333023014386481,8.272315147956022,7.527255919373784,7.8632667240095735,7.590346945602565,7.65728279297819,7.270312886079025,8.304494897963567,8.251142139090751,8.205218426395412,7.347943823148687,7.275172319452771,7.590852123688581,7.2115567333138015,7.239214973779806,7.226936018493289,9.658417870888224,7.30854279753919,8.382518288089635,6.620073206530356,7.176254532017144,8.438799123988225,7.523481312573497,7.539027055823995,8.984693690443855,8.430109084509125,7.234177179749849,6.853299093186078,6.52795791762255,8.919453168575453,7.561121589530238,7.741967899820685,8.997889450200717,7.76046702921342,8.287276755814599,6.78897174299217,9.232297539328226,8.347827345782498,8.757940876678804,7.167809184316444,6.802394763324311,7.714677473800927,6.956545443151569,6.953684210870537,8.750524669117937,8.159374736775426,8.19118600464279,8.48528964240323,8.012018239159062,8.328209491748732,8.655562860681009,9.246286498749653,7.640123172695364,7.855544677915663,8.41847721847708,8.546751993657782,8.629628620746026,7.776535028185241,7.2813856635702825,7.338238150065589,7.731492029245684,7.298445101508147,8.537583881063972,9.19593714166544,8.783702698635217,7.205635176410364,7.959275960116396,7.920446505142607,8.202756381655638,6.882437470997847,7.875119281040293,7.971085753505607,8.458716261657262,7.7336835707759,7.119635638017636,7.005789019253503,6.8308742346461795,7.495541943884256,7.552237287560802,7.023758954738443,8.753213480544126,7.227662498728654,7.8252452914317745,7.8351837552667485,8.579980179515003,8.788745881938135,7.99598047476376,7.095064377287131,7.658227526161352,6.444131256700441,7.088408778675395,7.814399633804487,7.037027614686276,9.54873932271967,8.935377071932177,8.031710375322042,7.316548177182976,8.054522609537294,8.723882104658486,7.198183577101943,6.07073772800249,7.113142108707088,6.672032945461067,7.851661177889265,5.521460917862246,7.182352111885263,7.540090320145325,8.766550149546351,7.150701457592526,8.764521909518802,7.594381242551817,6.633318433280377,7.864419904994565,8.125630988477065,8.29154650988391,9.355306142226368,8.384804003370492,8.818926087090677,8.361708288575842,7.751475318021456,6.954638864880987,8.058327306580958,7.817222785508166,9.559517275737559,7.493873886783559,7.828436359157585,7.149916836132109,8.565602330623925,8.015987811027237,6.059123195581797,6.883462586413092,6.734591659972948,8.660600654710967,7.349230824613334,7.158513997329321,7.1693500166706,7.147559271189454,7.239214973779806,6.53813982376767,8.52615293278771,7.66105638236183,7.7025561132685825,9.447781227991216,7.809135398120538,7.051855622955894,8.041734711487537,7.972810784121404,8.193400231952097,7.411556287811163,7.941651252930556,8.99528899055931,8.094073148069352,7.706612913964197,7.299797366758161,7.223295679562314,8.170468578330674,8.163086375583216,8.650149418664864,8.261526448396468,8.503702601233739,7.570443252057374,7.251344983372214,6.728628613084702,8.774622220696997,7.57095858316901,7.891704659330107,7.919719760924575,8.736168065858228,8.699181359308954,7.080026499922591,8.750366278367625,7.107425474110705,7.969703583278656,8.026823576217629,7.741099090035366,8.924123891686012,7.1372784372603855,6.57507584059962,7.3453648404168685,7.3758821482150125,7.492760300922379,8.35983738064003,6.883462586413092,8.918917979908679,9.134646527606982,6.380122536899765,6.835184586147301,9.135940049399933,7.48324441607385,6.810142450115136,6.182084906716632,9.172534657240284,8.02322468471667,8.27664912542186,8.913550280493675,7.198931240688173,7.348587530927593,9.671366322189568,7.20414929203594,7.00397413672268,8.011686729127847,7.905441649060286,6.594413459749778,8.237479288613633,7.379008127628304,8.285513309079741,8.334471554600944,9.028218795184895,8.807022955925477,7.772752716468742,7.103322062526113,9.377209824211215,8.533853632309345,7.752335163302292,6.9865664594064265,6.786716950605081,6.398594934535208,7.9919305198524775,7.8674885686991285,8.552367266423891,8.0040315078527,7.57198844937744,7.351799869057777,8.137980454452139,8.288031567776464,8.818926087090677,7.130098510125578,7.218176838403408,6.5638555265321274,7.711996507047669,8.304494897963567,7.293697720601438,7.273786317844895,9.294221855956884,7.295735072749282,6.795705775173514,8.114623886420098,8.28374674710613,8.182279739259018,8.666302614004078,7.682021510826875,7.79934339821592,8.417593826193484,7.700747794511798,7.7057128238944275,7.77863014732581,8.11102783819368,8.910450756416656,6.480044561926653,8.946114375560743,7.202661196523238,7.231287004327616,6.773080375655535,8.185907481482324,7.186901020411631,7.570443252057374,8.187299270155147,7.259819610363186,8.816111895794005,8.963672275615016,9.135293497653272,7.687538766201629,7.001245622069476,8.308199063206446,6.678342114654332,7.946263643580541,9.659630959624376,8.796943893541737,8.964951211714654,7.80057265467065,7.511524648390866,7.682943169878292,8.66561319653451,7.063903961472068,9.099073559547596,7.8655717576847906,7.3727463664043285,7.689828668736484,8.331586243630754,7.872836175025724,8.156223323194624,9.256937657352966,7.234177179749849,7.15305163493748,7.009408932708637,8.232971790593437,8.219056661060598,8.187021067343505,8.069342366811636,8.401557847817314,8.462948176563842,8.003363058629947,7.669495251007694,8.058643712215618,9.82140944150052,7.954372272531867,9.608847999516849,7.765993079407675,8.11522197256233,7.504942068396171,9.453208116138121,7.2196420401307355,7.601901959875166,8.835210463664092,6.546785410760524,6.955592608396297,9.239607869656751,7.532088143541722,7.203405521083095,7.465655310134056,7.4205789054108005,7.1098794630722715,6.257667587882639,7.311886164077165,7.5595594960077,6.61338421837956,7.631916513071252,8.746398334109042,8.830835365537549,8.168202930236053,7.343426229147367,6.834108738813838,7.282761179605593,7.520234556474628,9.03097444300786,8.116417072794205,7.958227192322312,7.334981878871814,8.19450550976564,8.185907481482324,7.6708948313621175,8.321907968230423,9.30328411761892,7.545918151209323,7.115582126184454,8.204124932574041,7.050989447068045,8.295548516225763,8.029107054619736,7.461640392208575,7.763446388727362,8.176391596633795,7.781973234434385,6.118097198041348,7.44716835960004,7.832014180505469,8.1797604936999,8.8771028978649,8.278682162970906,7.322510433997394,8.9082888855571,7.084226422097916,8.89521858376562,7.9483852851118995,7.1372784372603855,6.6240652277998935,7.794411205726601,7.839131648274333,7.142036574706803,9.034318927730707,8.485496104672983,7.980365765111246,9.015419779605713,7.614805364711073,7.267525427828172,8.746557354543503,7.25063551189868,8.791638037085997,7.463363045520021,8.178919332848396,7.358193752733032,7.568379267836522,8.28374674710613,7.779048644925556,7.459338895220296,8.257644958208228,6.6895992691789665,7.520234556474628,8.428580533059634],\"type\":\"histogram\",\"xaxis\":\"x3\",\"yaxis\":\"y3\"}],                        {\"template\":{\"data\":{\"bar\":[{\"error_x\":{\"color\":\"#f2f5fa\"},\"error_y\":{\"color\":\"#f2f5fa\"},\"marker\":{\"line\":{\"color\":\"rgb(17,17,17)\",\"width\":0.5},\"pattern\":{\"fillmode\":\"overlay\",\"size\":10,\"solidity\":0.2}},\"type\":\"bar\"}],\"barpolar\":[{\"marker\":{\"line\":{\"color\":\"rgb(17,17,17)\",\"width\":0.5},\"pattern\":{\"fillmode\":\"overlay\",\"size\":10,\"solidity\":0.2}},\"type\":\"barpolar\"}],\"carpet\":[{\"aaxis\":{\"endlinecolor\":\"#A2B1C6\",\"gridcolor\":\"#506784\",\"linecolor\":\"#506784\",\"minorgridcolor\":\"#506784\",\"startlinecolor\":\"#A2B1C6\"},\"baxis\":{\"endlinecolor\":\"#A2B1C6\",\"gridcolor\":\"#506784\",\"linecolor\":\"#506784\",\"minorgridcolor\":\"#506784\",\"startlinecolor\":\"#A2B1C6\"},\"type\":\"carpet\"}],\"choropleth\":[{\"colorbar\":{\"outlinewidth\":0,\"ticks\":\"\"},\"type\":\"choropleth\"}],\"contour\":[{\"colorbar\":{\"outlinewidth\":0,\"ticks\":\"\"},\"colorscale\":[[0.0,\"#0d0887\"],[0.1111111111111111,\"#46039f\"],[0.2222222222222222,\"#7201a8\"],[0.3333333333333333,\"#9c179e\"],[0.4444444444444444,\"#bd3786\"],[0.5555555555555556,\"#d8576b\"],[0.6666666666666666,\"#ed7953\"],[0.7777777777777778,\"#fb9f3a\"],[0.8888888888888888,\"#fdca26\"],[1.0,\"#f0f921\"]],\"type\":\"contour\"}],\"contourcarpet\":[{\"colorbar\":{\"outlinewidth\":0,\"ticks\":\"\"},\"type\":\"contourcarpet\"}],\"heatmap\":[{\"colorbar\":{\"outlinewidth\":0,\"ticks\":\"\"},\"colorscale\":[[0.0,\"#0d0887\"],[0.1111111111111111,\"#46039f\"],[0.2222222222222222,\"#7201a8\"],[0.3333333333333333,\"#9c179e\"],[0.4444444444444444,\"#bd3786\"],[0.5555555555555556,\"#d8576b\"],[0.6666666666666666,\"#ed7953\"],[0.7777777777777778,\"#fb9f3a\"],[0.8888888888888888,\"#fdca26\"],[1.0,\"#f0f921\"]],\"type\":\"heatmap\"}],\"heatmapgl\":[{\"colorbar\":{\"outlinewidth\":0,\"ticks\":\"\"},\"colorscale\":[[0.0,\"#0d0887\"],[0.1111111111111111,\"#46039f\"],[0.2222222222222222,\"#7201a8\"],[0.3333333333333333,\"#9c179e\"],[0.4444444444444444,\"#bd3786\"],[0.5555555555555556,\"#d8576b\"],[0.6666666666666666,\"#ed7953\"],[0.7777777777777778,\"#fb9f3a\"],[0.8888888888888888,\"#fdca26\"],[1.0,\"#f0f921\"]],\"type\":\"heatmapgl\"}],\"histogram\":[{\"marker\":{\"pattern\":{\"fillmode\":\"overlay\",\"size\":10,\"solidity\":0.2}},\"type\":\"histogram\"}],\"histogram2d\":[{\"colorbar\":{\"outlinewidth\":0,\"ticks\":\"\"},\"colorscale\":[[0.0,\"#0d0887\"],[0.1111111111111111,\"#46039f\"],[0.2222222222222222,\"#7201a8\"],[0.3333333333333333,\"#9c179e\"],[0.4444444444444444,\"#bd3786\"],[0.5555555555555556,\"#d8576b\"],[0.6666666666666666,\"#ed7953\"],[0.7777777777777778,\"#fb9f3a\"],[0.8888888888888888,\"#fdca26\"],[1.0,\"#f0f921\"]],\"type\":\"histogram2d\"}],\"histogram2dcontour\":[{\"colorbar\":{\"outlinewidth\":0,\"ticks\":\"\"},\"colorscale\":[[0.0,\"#0d0887\"],[0.1111111111111111,\"#46039f\"],[0.2222222222222222,\"#7201a8\"],[0.3333333333333333,\"#9c179e\"],[0.4444444444444444,\"#bd3786\"],[0.5555555555555556,\"#d8576b\"],[0.6666666666666666,\"#ed7953\"],[0.7777777777777778,\"#fb9f3a\"],[0.8888888888888888,\"#fdca26\"],[1.0,\"#f0f921\"]],\"type\":\"histogram2dcontour\"}],\"mesh3d\":[{\"colorbar\":{\"outlinewidth\":0,\"ticks\":\"\"},\"type\":\"mesh3d\"}],\"parcoords\":[{\"line\":{\"colorbar\":{\"outlinewidth\":0,\"ticks\":\"\"}},\"type\":\"parcoords\"}],\"pie\":[{\"automargin\":true,\"type\":\"pie\"}],\"scatter\":[{\"marker\":{\"line\":{\"color\":\"#283442\"}},\"type\":\"scatter\"}],\"scatter3d\":[{\"line\":{\"colorbar\":{\"outlinewidth\":0,\"ticks\":\"\"}},\"marker\":{\"colorbar\":{\"outlinewidth\":0,\"ticks\":\"\"}},\"type\":\"scatter3d\"}],\"scattercarpet\":[{\"marker\":{\"colorbar\":{\"outlinewidth\":0,\"ticks\":\"\"}},\"type\":\"scattercarpet\"}],\"scattergeo\":[{\"marker\":{\"colorbar\":{\"outlinewidth\":0,\"ticks\":\"\"}},\"type\":\"scattergeo\"}],\"scattergl\":[{\"marker\":{\"line\":{\"color\":\"#283442\"}},\"type\":\"scattergl\"}],\"scattermapbox\":[{\"marker\":{\"colorbar\":{\"outlinewidth\":0,\"ticks\":\"\"}},\"type\":\"scattermapbox\"}],\"scatterpolar\":[{\"marker\":{\"colorbar\":{\"outlinewidth\":0,\"ticks\":\"\"}},\"type\":\"scatterpolar\"}],\"scatterpolargl\":[{\"marker\":{\"colorbar\":{\"outlinewidth\":0,\"ticks\":\"\"}},\"type\":\"scatterpolargl\"}],\"scatterternary\":[{\"marker\":{\"colorbar\":{\"outlinewidth\":0,\"ticks\":\"\"}},\"type\":\"scatterternary\"}],\"surface\":[{\"colorbar\":{\"outlinewidth\":0,\"ticks\":\"\"},\"colorscale\":[[0.0,\"#0d0887\"],[0.1111111111111111,\"#46039f\"],[0.2222222222222222,\"#7201a8\"],[0.3333333333333333,\"#9c179e\"],[0.4444444444444444,\"#bd3786\"],[0.5555555555555556,\"#d8576b\"],[0.6666666666666666,\"#ed7953\"],[0.7777777777777778,\"#fb9f3a\"],[0.8888888888888888,\"#fdca26\"],[1.0,\"#f0f921\"]],\"type\":\"surface\"}],\"table\":[{\"cells\":{\"fill\":{\"color\":\"#506784\"},\"line\":{\"color\":\"rgb(17,17,17)\"}},\"header\":{\"fill\":{\"color\":\"#2a3f5f\"},\"line\":{\"color\":\"rgb(17,17,17)\"}},\"type\":\"table\"}]},\"layout\":{\"annotationdefaults\":{\"arrowcolor\":\"#f2f5fa\",\"arrowhead\":0,\"arrowwidth\":1},\"autotypenumbers\":\"strict\",\"coloraxis\":{\"colorbar\":{\"outlinewidth\":0,\"ticks\":\"\"}},\"colorscale\":{\"diverging\":[[0,\"#8e0152\"],[0.1,\"#c51b7d\"],[0.2,\"#de77ae\"],[0.3,\"#f1b6da\"],[0.4,\"#fde0ef\"],[0.5,\"#f7f7f7\"],[0.6,\"#e6f5d0\"],[0.7,\"#b8e186\"],[0.8,\"#7fbc41\"],[0.9,\"#4d9221\"],[1,\"#276419\"]],\"sequential\":[[0.0,\"#0d0887\"],[0.1111111111111111,\"#46039f\"],[0.2222222222222222,\"#7201a8\"],[0.3333333333333333,\"#9c179e\"],[0.4444444444444444,\"#bd3786\"],[0.5555555555555556,\"#d8576b\"],[0.6666666666666666,\"#ed7953\"],[0.7777777777777778,\"#fb9f3a\"],[0.8888888888888888,\"#fdca26\"],[1.0,\"#f0f921\"]],\"sequentialminus\":[[0.0,\"#0d0887\"],[0.1111111111111111,\"#46039f\"],[0.2222222222222222,\"#7201a8\"],[0.3333333333333333,\"#9c179e\"],[0.4444444444444444,\"#bd3786\"],[0.5555555555555556,\"#d8576b\"],[0.6666666666666666,\"#ed7953\"],[0.7777777777777778,\"#fb9f3a\"],[0.8888888888888888,\"#fdca26\"],[1.0,\"#f0f921\"]]},\"colorway\":[\"#636efa\",\"#EF553B\",\"#00cc96\",\"#ab63fa\",\"#FFA15A\",\"#19d3f3\",\"#FF6692\",\"#B6E880\",\"#FF97FF\",\"#FECB52\"],\"font\":{\"color\":\"#f2f5fa\"},\"geo\":{\"bgcolor\":\"rgb(17,17,17)\",\"lakecolor\":\"rgb(17,17,17)\",\"landcolor\":\"rgb(17,17,17)\",\"showlakes\":true,\"showland\":true,\"subunitcolor\":\"#506784\"},\"hoverlabel\":{\"align\":\"left\"},\"hovermode\":\"closest\",\"mapbox\":{\"style\":\"dark\"},\"paper_bgcolor\":\"rgb(17,17,17)\",\"plot_bgcolor\":\"rgb(17,17,17)\",\"polar\":{\"angularaxis\":{\"gridcolor\":\"#506784\",\"linecolor\":\"#506784\",\"ticks\":\"\"},\"bgcolor\":\"rgb(17,17,17)\",\"radialaxis\":{\"gridcolor\":\"#506784\",\"linecolor\":\"#506784\",\"ticks\":\"\"}},\"scene\":{\"xaxis\":{\"backgroundcolor\":\"rgb(17,17,17)\",\"gridcolor\":\"#506784\",\"gridwidth\":2,\"linecolor\":\"#506784\",\"showbackground\":true,\"ticks\":\"\",\"zerolinecolor\":\"#C8D4E3\"},\"yaxis\":{\"backgroundcolor\":\"rgb(17,17,17)\",\"gridcolor\":\"#506784\",\"gridwidth\":2,\"linecolor\":\"#506784\",\"showbackground\":true,\"ticks\":\"\",\"zerolinecolor\":\"#C8D4E3\"},\"zaxis\":{\"backgroundcolor\":\"rgb(17,17,17)\",\"gridcolor\":\"#506784\",\"gridwidth\":2,\"linecolor\":\"#506784\",\"showbackground\":true,\"ticks\":\"\",\"zerolinecolor\":\"#C8D4E3\"}},\"shapedefaults\":{\"line\":{\"color\":\"#f2f5fa\"}},\"sliderdefaults\":{\"bgcolor\":\"#C8D4E3\",\"bordercolor\":\"rgb(17,17,17)\",\"borderwidth\":1,\"tickwidth\":0},\"ternary\":{\"aaxis\":{\"gridcolor\":\"#506784\",\"linecolor\":\"#506784\",\"ticks\":\"\"},\"baxis\":{\"gridcolor\":\"#506784\",\"linecolor\":\"#506784\",\"ticks\":\"\"},\"bgcolor\":\"rgb(17,17,17)\",\"caxis\":{\"gridcolor\":\"#506784\",\"linecolor\":\"#506784\",\"ticks\":\"\"}},\"title\":{\"x\":0.05},\"updatemenudefaults\":{\"bgcolor\":\"#506784\",\"borderwidth\":0},\"xaxis\":{\"automargin\":true,\"gridcolor\":\"#283442\",\"linecolor\":\"#506784\",\"ticks\":\"\",\"title\":{\"standoff\":15},\"zerolinecolor\":\"#283442\",\"zerolinewidth\":2},\"yaxis\":{\"automargin\":true,\"gridcolor\":\"#283442\",\"linecolor\":\"#506784\",\"ticks\":\"\",\"title\":{\"standoff\":15},\"zerolinecolor\":\"#283442\",\"zerolinewidth\":2}}},\"xaxis\":{\"anchor\":\"y\",\"domain\":[0.0,1.0]},\"yaxis\":{\"anchor\":\"x\",\"domain\":[0.7777777777777778,1.0]},\"xaxis2\":{\"anchor\":\"y2\",\"domain\":[0.0,1.0]},\"yaxis2\":{\"anchor\":\"x2\",\"domain\":[0.3888888888888889,0.6111111111111112]},\"xaxis3\":{\"anchor\":\"y3\",\"domain\":[0.0,1.0]},\"yaxis3\":{\"anchor\":\"x3\",\"domain\":[0.0,0.22222222222222224]},\"annotations\":[{\"font\":{\"size\":16},\"showarrow\":false,\"text\":\"Age Distribution\",\"x\":0.5,\"xanchor\":\"center\",\"xref\":\"paper\",\"y\":1.0,\"yanchor\":\"bottom\",\"yref\":\"paper\"},{\"font\":{\"size\":16},\"showarrow\":false,\"text\":\"Duration Distribution\",\"x\":0.5,\"xanchor\":\"center\",\"xref\":\"paper\",\"y\":0.6111111111111112,\"yanchor\":\"bottom\",\"yref\":\"paper\"},{\"font\":{\"size\":16},\"showarrow\":false,\"text\":\"Credit Amount Distribution\",\"x\":0.5,\"xanchor\":\"center\",\"xref\":\"paper\",\"y\":0.22222222222222224,\"yanchor\":\"bottom\",\"yref\":\"paper\"}]},                        {\"responsive\": true}                    ).then(function(){\n",
       "                            \n",
       "var gd = document.getElementById('0538d59e-da60-4f93-8fdd-9f68a32c9eb1');\n",
       "var x = new MutationObserver(function (mutations, observer) {{\n",
       "        var display = window.getComputedStyle(gd).display;\n",
       "        if (!display || display === 'none') {{\n",
       "            console.log([gd, 'removed!']);\n",
       "            Plotly.purge(gd);\n",
       "            observer.disconnect();\n",
       "        }}\n",
       "}});\n",
       "\n",
       "// Listen for the removal of the full notebook cells\n",
       "var notebookContainer = gd.closest('#notebook-container');\n",
       "if (notebookContainer) {{\n",
       "    x.observe(notebookContainer, {childList: true});\n",
       "}}\n",
       "\n",
       "// Listen for the clearing of the current output cell\n",
       "var outputEl = gd.closest('.output');\n",
       "if (outputEl) {{\n",
       "    x.observe(outputEl, {childList: true});\n",
       "}}\n",
       "\n",
       "                        })                };                            </script>        </div>\n",
       "</body>\n",
       "</html>"
      ]
     },
     "metadata": {},
     "output_type": "display_data"
    }
   ],
   "source": [
    "show_distributions(clustering_data)"
   ]
  },
  {
   "cell_type": "markdown",
   "metadata": {
    "id": "hQEI9UL0TDKJ"
   },
   "source": [
    "### K-Means Clustering"
   ]
  },
  {
   "cell_type": "code",
   "execution_count": 242,
   "metadata": {
    "id": "ljN4_Of46hfW"
   },
   "outputs": [],
   "source": [
    "# encoding data\n",
    "kmeans_data = pd.get_dummies(clustering_data,\n",
    "                             columns= ['Housing', 'Saving accounts'])"
   ]
  },
  {
   "cell_type": "code",
   "execution_count": 248,
   "metadata": {
    "id": "9VD3D5cWcxvc"
   },
   "outputs": [],
   "source": [
    "kmeans_data = kmeans_data.drop('Age Cohorte', axis=1)"
   ]
  },
  {
   "cell_type": "code",
   "execution_count": 244,
   "metadata": {
    "id": "PG6R318Y7C__"
   },
   "outputs": [],
   "source": [
    "from sklearn.preprocessing import StandardScaler"
   ]
  },
  {
   "cell_type": "code",
   "execution_count": 249,
   "metadata": {
    "id": "3NWky6ddciHe"
   },
   "outputs": [],
   "source": [
    "# Scaling data\n",
    "scaler = StandardScaler()\n",
    "kmeans_data[['Age', 'Duration','Credit amount']] = scaler.fit_transform(kmeans_data[['Age', 'Duration', \n",
    "                                                                      'Credit amount']])"
   ]
  },
  {
   "cell_type": "code",
   "execution_count": 250,
   "metadata": {
    "id": "8QfBmVEETBIQ"
   },
   "outputs": [],
   "source": [
    "from sklearn.cluster import KMeans\n",
    "from sklearn.metrics import silhouette_score"
   ]
  },
  {
   "cell_type": "code",
   "execution_count": 251,
   "metadata": {
    "id": "9jUfUnGEdb4n"
   },
   "outputs": [],
   "source": [
    "# choosing number of clusters\n",
    "inertias = []\n",
    "for k in range(2, 11):\n",
    "  model = KMeans( n_clusters= k )\n",
    "  model.fit(kmeans_data)\n",
    "  inertias.append( model.inertia_ )"
   ]
  },
  {
   "cell_type": "code",
   "execution_count": 252,
   "metadata": {
    "colab": {
     "base_uri": "https://localhost:8080/",
     "height": 480
    },
    "id": "PBga2hPBdsXe",
    "outputId": "8ec491c6-b768-4eb3-8967-ff8923db454c"
   },
   "outputs": [
    {
     "data": {
      "text/plain": [
       "Text(0, 0.5, 'Inertia')"
      ]
     },
     "execution_count": 252,
     "metadata": {},
     "output_type": "execute_result"
    },
    {
     "data": {
      "image/png": "[encoded data removed]",
      "text/plain": [
       "<Figure size 960x480 with 1 Axes>"
      ]
     },
     "metadata": {
      "needs_background": "light"
     },
     "output_type": "display_data"
    }
   ],
   "source": [
    "plt.figure(figsize = (8, 4), dpi=120)\n",
    "plt.plot(range(2, 11), inertias, '-o')\n",
    "plt.xlabel('n of Clusters')\n",
    "plt.ylabel('Inertia')"
   ]
  },
  {
   "cell_type": "code",
   "execution_count": 345,
   "metadata": {
    "id": "_AJhVfw4dvMb"
   },
   "outputs": [],
   "source": [
    "silhoutte_score = []\n",
    "for k in range(2, 11):\n",
    "  model = KMeans( n_clusters= k, random_state= 1 )\n",
    "  labels = model.fit_predict(kmeans_data)\n",
    "  silhoutte_score.append(silhouette_score(kmeans_data, \n",
    "                                      labels, metric='euclidean'))\n",
    "   "
   ]
  },
  {
   "cell_type": "code",
   "execution_count": 346,
   "metadata": {
    "colab": {
     "base_uri": "https://localhost:8080/",
     "height": 353
    },
    "id": "6MD_MUnHZ6DW",
    "outputId": "57ca899b-c4d7-407b-d6a1-cf17f119f5f4"
   },
   "outputs": [
    {
     "data": {
      "text/plain": [
       "Text(0.5, 1.0, 'Silhoutte Score K-Means Clustering')"
      ]
     },
     "execution_count": 346,
     "metadata": {},
     "output_type": "execute_result"
    },
    {
     "data": {
      "image/png": "[encoded data removed]",
      "text/plain": [
       "<Figure size 864x360 with 1 Axes>"
      ]
     },
     "metadata": {
      "needs_background": "light"
     },
     "output_type": "display_data"
    }
   ],
   "source": [
    "plt.figure(figsize=(12, 5))\n",
    "plt.plot(range(2, 11), silhoutte_score , '-o')\n",
    "plt.title('Silhoutte Score K-Means Clustering')"
   ]
  },
  {
   "cell_type": "markdown",
   "metadata": {
    "id": "rEF7OHkVwSR6"
   },
   "source": [
    "In the plot above we can see the number of clesters can be 4 or 6, I will choose 6"
   ]
  },
  {
   "cell_type": "code",
   "execution_count": 338,
   "metadata": {
    "id": "KKprD0v1aHX8"
   },
   "outputs": [],
   "source": [
    "model = KMeans(n_clusters=6, random_state=1).fit(kmeans_data)"
   ]
  },
  {
   "cell_type": "code",
   "execution_count": 339,
   "metadata": {
    "id": "vJNSK9AnzW3v"
   },
   "outputs": [],
   "source": [
    "labels = pd.DataFrame(model.labels_)"
   ]
  },
  {
   "cell_type": "code",
   "execution_count": 340,
   "metadata": {
    "id": "NT_OeaRFzfPt"
   },
   "outputs": [],
   "source": [
    "clustered_data = df.assign(Cluster=labels)"
   ]
  },
  {
   "cell_type": "code",
   "execution_count": 341,
   "metadata": {
    "colab": {
     "base_uri": "https://localhost:8080/",
     "height": 485
    },
    "id": "bJEhu5gHvOBA",
    "outputId": "deb14a15-ca14-4081-a22d-6d9c6b0fcd0f"
   },
   "outputs": [
    {
     "data": {
      "text/html": [
       "\n",
       "  <div id=\"df-de6b204d-c3f1-4844-a806-138444ebd48b\">\n",
       "    <div class=\"colab-df-container\">\n",
       "      <div>\n",
       "<style scoped>\n",
       "    .dataframe tbody tr th:only-of-type {\n",
       "        vertical-align: middle;\n",
       "    }\n",
       "\n",
       "    .dataframe tbody tr th {\n",
       "        vertical-align: top;\n",
       "    }\n",
       "\n",
       "    .dataframe thead th {\n",
       "        text-align: right;\n",
       "    }\n",
       "</style>\n",
       "<table border=\"1\" class=\"dataframe\">\n",
       "  <thead>\n",
       "    <tr style=\"text-align: right;\">\n",
       "      <th></th>\n",
       "      <th>Age</th>\n",
       "      <th>Sex</th>\n",
       "      <th>Job</th>\n",
       "      <th>Housing</th>\n",
       "      <th>Saving accounts</th>\n",
       "      <th>Checking account</th>\n",
       "      <th>Credit amount</th>\n",
       "      <th>Duration</th>\n",
       "      <th>Purpose</th>\n",
       "      <th>Age Cohorte</th>\n",
       "      <th>Cluster</th>\n",
       "    </tr>\n",
       "  </thead>\n",
       "  <tbody>\n",
       "    <tr>\n",
       "      <th>0</th>\n",
       "      <td>67</td>\n",
       "      <td>male</td>\n",
       "      <td>2</td>\n",
       "      <td>own</td>\n",
       "      <td>unknown</td>\n",
       "      <td>little</td>\n",
       "      <td>1169</td>\n",
       "      <td>6</td>\n",
       "      <td>radio/TV</td>\n",
       "      <td>51-75</td>\n",
       "      <td>2</td>\n",
       "    </tr>\n",
       "    <tr>\n",
       "      <th>1</th>\n",
       "      <td>22</td>\n",
       "      <td>female</td>\n",
       "      <td>2</td>\n",
       "      <td>own</td>\n",
       "      <td>little</td>\n",
       "      <td>moderate</td>\n",
       "      <td>5951</td>\n",
       "      <td>48</td>\n",
       "      <td>radio/TV</td>\n",
       "      <td>0-25</td>\n",
       "      <td>4</td>\n",
       "    </tr>\n",
       "    <tr>\n",
       "      <th>2</th>\n",
       "      <td>49</td>\n",
       "      <td>male</td>\n",
       "      <td>1</td>\n",
       "      <td>own</td>\n",
       "      <td>little</td>\n",
       "      <td>unknown</td>\n",
       "      <td>2096</td>\n",
       "      <td>12</td>\n",
       "      <td>education</td>\n",
       "      <td>26-50</td>\n",
       "      <td>2</td>\n",
       "    </tr>\n",
       "    <tr>\n",
       "      <th>3</th>\n",
       "      <td>45</td>\n",
       "      <td>male</td>\n",
       "      <td>2</td>\n",
       "      <td>free</td>\n",
       "      <td>little</td>\n",
       "      <td>little</td>\n",
       "      <td>7882</td>\n",
       "      <td>42</td>\n",
       "      <td>furniture/equipment</td>\n",
       "      <td>26-50</td>\n",
       "      <td>1</td>\n",
       "    </tr>\n",
       "    <tr>\n",
       "      <th>4</th>\n",
       "      <td>53</td>\n",
       "      <td>male</td>\n",
       "      <td>2</td>\n",
       "      <td>free</td>\n",
       "      <td>little</td>\n",
       "      <td>little</td>\n",
       "      <td>4870</td>\n",
       "      <td>24</td>\n",
       "      <td>car</td>\n",
       "      <td>51-75</td>\n",
       "      <td>1</td>\n",
       "    </tr>\n",
       "    <tr>\n",
       "      <th>...</th>\n",
       "      <td>...</td>\n",
       "      <td>...</td>\n",
       "      <td>...</td>\n",
       "      <td>...</td>\n",
       "      <td>...</td>\n",
       "      <td>...</td>\n",
       "      <td>...</td>\n",
       "      <td>...</td>\n",
       "      <td>...</td>\n",
       "      <td>...</td>\n",
       "      <td>...</td>\n",
       "    </tr>\n",
       "    <tr>\n",
       "      <th>995</th>\n",
       "      <td>31</td>\n",
       "      <td>female</td>\n",
       "      <td>1</td>\n",
       "      <td>own</td>\n",
       "      <td>little</td>\n",
       "      <td>unknown</td>\n",
       "      <td>1736</td>\n",
       "      <td>12</td>\n",
       "      <td>furniture/equipment</td>\n",
       "      <td>26-50</td>\n",
       "      <td>5</td>\n",
       "    </tr>\n",
       "    <tr>\n",
       "      <th>996</th>\n",
       "      <td>40</td>\n",
       "      <td>male</td>\n",
       "      <td>3</td>\n",
       "      <td>own</td>\n",
       "      <td>little</td>\n",
       "      <td>little</td>\n",
       "      <td>3857</td>\n",
       "      <td>30</td>\n",
       "      <td>car</td>\n",
       "      <td>26-50</td>\n",
       "      <td>1</td>\n",
       "    </tr>\n",
       "    <tr>\n",
       "      <th>997</th>\n",
       "      <td>38</td>\n",
       "      <td>male</td>\n",
       "      <td>2</td>\n",
       "      <td>own</td>\n",
       "      <td>little</td>\n",
       "      <td>unknown</td>\n",
       "      <td>804</td>\n",
       "      <td>12</td>\n",
       "      <td>radio/TV</td>\n",
       "      <td>26-50</td>\n",
       "      <td>2</td>\n",
       "    </tr>\n",
       "    <tr>\n",
       "      <th>998</th>\n",
       "      <td>23</td>\n",
       "      <td>male</td>\n",
       "      <td>2</td>\n",
       "      <td>free</td>\n",
       "      <td>little</td>\n",
       "      <td>little</td>\n",
       "      <td>1845</td>\n",
       "      <td>45</td>\n",
       "      <td>radio/TV</td>\n",
       "      <td>0-25</td>\n",
       "      <td>0</td>\n",
       "    </tr>\n",
       "    <tr>\n",
       "      <th>999</th>\n",
       "      <td>27</td>\n",
       "      <td>male</td>\n",
       "      <td>2</td>\n",
       "      <td>own</td>\n",
       "      <td>moderate</td>\n",
       "      <td>moderate</td>\n",
       "      <td>4576</td>\n",
       "      <td>45</td>\n",
       "      <td>car</td>\n",
       "      <td>26-50</td>\n",
       "      <td>4</td>\n",
       "    </tr>\n",
       "  </tbody>\n",
       "</table>\n",
       "<p>1000 rows × 11 columns</p>\n",
       "</div>\n",
       "      <button class=\"colab-df-convert\" onclick=\"convertToInteractive('df-de6b204d-c3f1-4844-a806-138444ebd48b')\"\n",
       "              title=\"Convert this dataframe to an interactive table.\"\n",
       "              style=\"display:none;\">\n",
       "        \n",
       "  <svg xmlns=\"http://www.w3.org/2000/svg\" height=\"24px\"viewBox=\"0 0 24 24\"\n",
       "       width=\"24px\">\n",
       "    <path d=\"M0 0h24v24H0V0z\" fill=\"none\"/>\n",
       "    <path d=\"M18.56 5.44l.94 2.06.94-2.06 2.06-.94-2.06-.94-.94-2.06-.94 2.06-2.06.94zm-11 1L8.5 8.5l.94-2.06 2.06-.94-2.06-.94L8.5 2.5l-.94 2.06-2.06.94zm10 10l.94 2.06.94-2.06 2.06-.94-2.06-.94-.94-2.06-.94 2.06-2.06.94z\"/><path d=\"M17.41 7.96l-1.37-1.37c-.4-.4-.92-.59-1.43-.59-.52 0-1.04.2-1.43.59L10.3 9.45l-7.72 7.72c-.78.78-.78 2.05 0 2.83L4 21.41c.39.39.9.59 1.41.59.51 0 1.02-.2 1.41-.59l7.78-7.78 2.81-2.81c.8-.78.8-2.07 0-2.86zM5.41 20L4 18.59l7.72-7.72 1.47 1.35L5.41 20z\"/>\n",
       "  </svg>\n",
       "      </button>\n",
       "      \n",
       "  <style>\n",
       "    .colab-df-container {\n",
       "      display:flex;\n",
       "      flex-wrap:wrap;\n",
       "      gap: 12px;\n",
       "    }\n",
       "\n",
       "    .colab-df-convert {\n",
       "      background-color: #E8F0FE;\n",
       "      border: none;\n",
       "      border-radius: 50%;\n",
       "      cursor: pointer;\n",
       "      display: none;\n",
       "      fill: #1967D2;\n",
       "      height: 32px;\n",
       "      padding: 0 0 0 0;\n",
       "      width: 32px;\n",
       "    }\n",
       "\n",
       "    .colab-df-convert:hover {\n",
       "      background-color: #E2EBFA;\n",
       "      box-shadow: 0px 1px 2px rgba(60, 64, 67, 0.3), 0px 1px 3px 1px rgba(60, 64, 67, 0.15);\n",
       "      fill: #174EA6;\n",
       "    }\n",
       "\n",
       "    [theme=dark] .colab-df-convert {\n",
       "      background-color: #3B4455;\n",
       "      fill: #D2E3FC;\n",
       "    }\n",
       "\n",
       "    [theme=dark] .colab-df-convert:hover {\n",
       "      background-color: #434B5C;\n",
       "      box-shadow: 0px 1px 3px 1px rgba(0, 0, 0, 0.15);\n",
       "      filter: drop-shadow(0px 1px 2px rgba(0, 0, 0, 0.3));\n",
       "      fill: #FFFFFF;\n",
       "    }\n",
       "  </style>\n",
       "\n",
       "      <script>\n",
       "        const buttonEl =\n",
       "          document.querySelector('#df-de6b204d-c3f1-4844-a806-138444ebd48b button.colab-df-convert');\n",
       "        buttonEl.style.display =\n",
       "          google.colab.kernel.accessAllowed ? 'block' : 'none';\n",
       "\n",
       "        async function convertToInteractive(key) {\n",
       "          const element = document.querySelector('#df-de6b204d-c3f1-4844-a806-138444ebd48b');\n",
       "          const dataTable =\n",
       "            await google.colab.kernel.invokeFunction('convertToInteractive',\n",
       "                                                     [key], {});\n",
       "          if (!dataTable) return;\n",
       "\n",
       "          const docLinkHtml = 'Like what you see? Visit the ' +\n",
       "            '<a target=\"_blank\" href=https://colab.research.google.com/notebooks/data_table.ipynb>data table notebook</a>'\n",
       "            + ' to learn more about interactive tables.';\n",
       "          element.innerHTML = '';\n",
       "          dataTable['output_type'] = 'display_data';\n",
       "          await google.colab.output.renderOutput(dataTable, element);\n",
       "          const docLink = document.createElement('div');\n",
       "          docLink.innerHTML = docLinkHtml;\n",
       "          element.appendChild(docLink);\n",
       "        }\n",
       "      </script>\n",
       "    </div>\n",
       "  </div>\n",
       "  "
      ],
      "text/plain": [
       "     Age     Sex  Job Housing Saving accounts Checking account  Credit amount  \\\n",
       "0     67    male    2     own         unknown           little           1169   \n",
       "1     22  female    2     own          little         moderate           5951   \n",
       "2     49    male    1     own          little          unknown           2096   \n",
       "3     45    male    2    free          little           little           7882   \n",
       "4     53    male    2    free          little           little           4870   \n",
       "..   ...     ...  ...     ...             ...              ...            ...   \n",
       "995   31  female    1     own          little          unknown           1736   \n",
       "996   40    male    3     own          little           little           3857   \n",
       "997   38    male    2     own          little          unknown            804   \n",
       "998   23    male    2    free          little           little           1845   \n",
       "999   27    male    2     own        moderate         moderate           4576   \n",
       "\n",
       "     Duration              Purpose Age Cohorte  Cluster  \n",
       "0           6             radio/TV       51-75        2  \n",
       "1          48             radio/TV        0-25        4  \n",
       "2          12            education       26-50        2  \n",
       "3          42  furniture/equipment       26-50        1  \n",
       "4          24                  car       51-75        1  \n",
       "..        ...                  ...         ...      ...  \n",
       "995        12  furniture/equipment       26-50        5  \n",
       "996        30                  car       26-50        1  \n",
       "997        12             radio/TV       26-50        2  \n",
       "998        45             radio/TV        0-25        0  \n",
       "999        45                  car       26-50        4  \n",
       "\n",
       "[1000 rows x 11 columns]"
      ]
     },
     "execution_count": 341,
     "metadata": {},
     "output_type": "execute_result"
    }
   ],
   "source": [
    "clustered_data "
   ]
  },
  {
   "cell_type": "code",
   "execution_count": 342,
   "metadata": {
    "id": "VPBZGH_Qw36Q"
   },
   "outputs": [],
   "source": [
    "group_table = clustered_data.groupby('Cluster').mean().round(1)"
   ]
  },
  {
   "cell_type": "code",
   "execution_count": 343,
   "metadata": {
    "colab": {
     "base_uri": "https://localhost:8080/",
     "height": 269
    },
    "id": "CuxF7ORwxoSJ",
    "outputId": "bf8e1f0a-87f0-4069-ea7c-ef7bbc984b70"
   },
   "outputs": [
    {
     "data": {
      "text/html": [
       "\n",
       "  <div id=\"df-257daf65-8edc-4a7b-9e6c-4fcfcb079483\">\n",
       "    <div class=\"colab-df-container\">\n",
       "      <div>\n",
       "<style scoped>\n",
       "    .dataframe tbody tr th:only-of-type {\n",
       "        vertical-align: middle;\n",
       "    }\n",
       "\n",
       "    .dataframe tbody tr th {\n",
       "        vertical-align: top;\n",
       "    }\n",
       "\n",
       "    .dataframe thead th {\n",
       "        text-align: right;\n",
       "    }\n",
       "</style>\n",
       "<table border=\"1\" class=\"dataframe\">\n",
       "  <thead>\n",
       "    <tr style=\"text-align: right;\">\n",
       "      <th></th>\n",
       "      <th>Age</th>\n",
       "      <th>Job</th>\n",
       "      <th>Credit amount</th>\n",
       "      <th>Duration</th>\n",
       "    </tr>\n",
       "    <tr>\n",
       "      <th>Cluster</th>\n",
       "      <th></th>\n",
       "      <th></th>\n",
       "      <th></th>\n",
       "      <th></th>\n",
       "    </tr>\n",
       "  </thead>\n",
       "  <tbody>\n",
       "    <tr>\n",
       "      <th>0</th>\n",
       "      <td>31.2</td>\n",
       "      <td>1.9</td>\n",
       "      <td>2516.6</td>\n",
       "      <td>21.6</td>\n",
       "    </tr>\n",
       "    <tr>\n",
       "      <th>1</th>\n",
       "      <td>49.5</td>\n",
       "      <td>2.2</td>\n",
       "      <td>5244.5</td>\n",
       "      <td>28.1</td>\n",
       "    </tr>\n",
       "    <tr>\n",
       "      <th>2</th>\n",
       "      <td>49.5</td>\n",
       "      <td>1.6</td>\n",
       "      <td>1484.6</td>\n",
       "      <td>11.4</td>\n",
       "    </tr>\n",
       "    <tr>\n",
       "      <th>3</th>\n",
       "      <td>25.8</td>\n",
       "      <td>1.8</td>\n",
       "      <td>2420.4</td>\n",
       "      <td>16.3</td>\n",
       "    </tr>\n",
       "    <tr>\n",
       "      <th>4</th>\n",
       "      <td>29.8</td>\n",
       "      <td>2.2</td>\n",
       "      <td>7174.0</td>\n",
       "      <td>38.0</td>\n",
       "    </tr>\n",
       "    <tr>\n",
       "      <th>5</th>\n",
       "      <td>28.7</td>\n",
       "      <td>1.8</td>\n",
       "      <td>1320.5</td>\n",
       "      <td>10.1</td>\n",
       "    </tr>\n",
       "  </tbody>\n",
       "</table>\n",
       "</div>\n",
       "      <button class=\"colab-df-convert\" onclick=\"convertToInteractive('df-257daf65-8edc-4a7b-9e6c-4fcfcb079483')\"\n",
       "              title=\"Convert this dataframe to an interactive table.\"\n",
       "              style=\"display:none;\">\n",
       "        \n",
       "  <svg xmlns=\"http://www.w3.org/2000/svg\" height=\"24px\"viewBox=\"0 0 24 24\"\n",
       "       width=\"24px\">\n",
       "    <path d=\"M0 0h24v24H0V0z\" fill=\"none\"/>\n",
       "    <path d=\"M18.56 5.44l.94 2.06.94-2.06 2.06-.94-2.06-.94-.94-2.06-.94 2.06-2.06.94zm-11 1L8.5 8.5l.94-2.06 2.06-.94-2.06-.94L8.5 2.5l-.94 2.06-2.06.94zm10 10l.94 2.06.94-2.06 2.06-.94-2.06-.94-.94-2.06-.94 2.06-2.06.94z\"/><path d=\"M17.41 7.96l-1.37-1.37c-.4-.4-.92-.59-1.43-.59-.52 0-1.04.2-1.43.59L10.3 9.45l-7.72 7.72c-.78.78-.78 2.05 0 2.83L4 21.41c.39.39.9.59 1.41.59.51 0 1.02-.2 1.41-.59l7.78-7.78 2.81-2.81c.8-.78.8-2.07 0-2.86zM5.41 20L4 18.59l7.72-7.72 1.47 1.35L5.41 20z\"/>\n",
       "  </svg>\n",
       "      </button>\n",
       "      \n",
       "  <style>\n",
       "    .colab-df-container {\n",
       "      display:flex;\n",
       "      flex-wrap:wrap;\n",
       "      gap: 12px;\n",
       "    }\n",
       "\n",
       "    .colab-df-convert {\n",
       "      background-color: #E8F0FE;\n",
       "      border: none;\n",
       "      border-radius: 50%;\n",
       "      cursor: pointer;\n",
       "      display: none;\n",
       "      fill: #1967D2;\n",
       "      height: 32px;\n",
       "      padding: 0 0 0 0;\n",
       "      width: 32px;\n",
       "    }\n",
       "\n",
       "    .colab-df-convert:hover {\n",
       "      background-color: #E2EBFA;\n",
       "      box-shadow: 0px 1px 2px rgba(60, 64, 67, 0.3), 0px 1px 3px 1px rgba(60, 64, 67, 0.15);\n",
       "      fill: #174EA6;\n",
       "    }\n",
       "\n",
       "    [theme=dark] .colab-df-convert {\n",
       "      background-color: #3B4455;\n",
       "      fill: #D2E3FC;\n",
       "    }\n",
       "\n",
       "    [theme=dark] .colab-df-convert:hover {\n",
       "      background-color: #434B5C;\n",
       "      box-shadow: 0px 1px 3px 1px rgba(0, 0, 0, 0.15);\n",
       "      filter: drop-shadow(0px 1px 2px rgba(0, 0, 0, 0.3));\n",
       "      fill: #FFFFFF;\n",
       "    }\n",
       "  </style>\n",
       "\n",
       "      <script>\n",
       "        const buttonEl =\n",
       "          document.querySelector('#df-257daf65-8edc-4a7b-9e6c-4fcfcb079483 button.colab-df-convert');\n",
       "        buttonEl.style.display =\n",
       "          google.colab.kernel.accessAllowed ? 'block' : 'none';\n",
       "\n",
       "        async function convertToInteractive(key) {\n",
       "          const element = document.querySelector('#df-257daf65-8edc-4a7b-9e6c-4fcfcb079483');\n",
       "          const dataTable =\n",
       "            await google.colab.kernel.invokeFunction('convertToInteractive',\n",
       "                                                     [key], {});\n",
       "          if (!dataTable) return;\n",
       "\n",
       "          const docLinkHtml = 'Like what you see? Visit the ' +\n",
       "            '<a target=\"_blank\" href=https://colab.research.google.com/notebooks/data_table.ipynb>data table notebook</a>'\n",
       "            + ' to learn more about interactive tables.';\n",
       "          element.innerHTML = '';\n",
       "          dataTable['output_type'] = 'display_data';\n",
       "          await google.colab.output.renderOutput(dataTable, element);\n",
       "          const docLink = document.createElement('div');\n",
       "          docLink.innerHTML = docLinkHtml;\n",
       "          element.appendChild(docLink);\n",
       "        }\n",
       "      </script>\n",
       "    </div>\n",
       "  </div>\n",
       "  "
      ],
      "text/plain": [
       "          Age  Job  Credit amount  Duration\n",
       "Cluster                                    \n",
       "0        31.2  1.9         2516.6      21.6\n",
       "1        49.5  2.2         5244.5      28.1\n",
       "2        49.5  1.6         1484.6      11.4\n",
       "3        25.8  1.8         2420.4      16.3\n",
       "4        29.8  2.2         7174.0      38.0\n",
       "5        28.7  1.8         1320.5      10.1"
      ]
     },
     "execution_count": 343,
     "metadata": {},
     "output_type": "execute_result"
    }
   ],
   "source": [
    "group_table"
   ]
  },
  {
   "cell_type": "markdown",
   "metadata": {
    "id": "eUlEzY3pL3mu"
   },
   "source": [
    "#### Insights\n",
    "\n",
    "- Cluster 0 - Fourth lowest average age, fourth average credit amount and fourth average duration\n",
    "- Cluste 1 - high average age, high credit amount and fith average duration\n",
    "- Cluster 2 - high average age, low credit amount and short duration\n",
    "- Cluster 3 - lowest average age with a low credit amount and short duration\n",
    "- Cluster 4 - low average age whit the highest credit amount in dataset and long duration\n",
    "- Cluster 5 - second average age with low credit amont and shortest duration"
   ]
  },
  {
   "cell_type": "markdown",
   "metadata": {
    "id": "JeqpuuRAXrBC"
   },
   "source": [
    "### Visualizing Clusters with PCA"
   ]
  },
  {
   "cell_type": "code",
   "execution_count": 347,
   "metadata": {
    "id": "b8UKjPUoXvwf"
   },
   "outputs": [],
   "source": [
    "from sklearn.decomposition import PCA"
   ]
  },
  {
   "cell_type": "code",
   "execution_count": 348,
   "metadata": {
    "id": "Isf80EyZXy4R"
   },
   "outputs": [],
   "source": [
    "pca = PCA(n_components=2)\n",
    "pca_kmeans = pca.fit_transform(kmeans_data)"
   ]
  },
  {
   "cell_type": "code",
   "execution_count": 350,
   "metadata": {
    "colab": {
     "base_uri": "https://localhost:8080/",
     "height": 112
    },
    "id": "qZgndxLDYENl",
    "outputId": "d2842391-77e7-400f-a3aa-c7e175f65825"
   },
   "outputs": [
    {
     "data": {
      "text/html": [
       "\n",
       "  <div id=\"df-898e8dd3-cbec-4efe-a0e8-d25614ea8711\">\n",
       "    <div class=\"colab-df-container\">\n",
       "      <div>\n",
       "<style scoped>\n",
       "    .dataframe tbody tr th:only-of-type {\n",
       "        vertical-align: middle;\n",
       "    }\n",
       "\n",
       "    .dataframe tbody tr th {\n",
       "        vertical-align: top;\n",
       "    }\n",
       "\n",
       "    .dataframe thead th {\n",
       "        text-align: right;\n",
       "    }\n",
       "</style>\n",
       "<table border=\"1\" class=\"dataframe\">\n",
       "  <thead>\n",
       "    <tr style=\"text-align: right;\">\n",
       "      <th></th>\n",
       "      <th>Component1</th>\n",
       "      <th>Component2</th>\n",
       "    </tr>\n",
       "  </thead>\n",
       "  <tbody>\n",
       "    <tr>\n",
       "      <th>0</th>\n",
       "      <td>1.987714</td>\n",
       "      <td>2.342082</td>\n",
       "    </tr>\n",
       "    <tr>\n",
       "      <th>1</th>\n",
       "      <td>-2.017741</td>\n",
       "      <td>-1.433298</td>\n",
       "    </tr>\n",
       "  </tbody>\n",
       "</table>\n",
       "</div>\n",
       "      <button class=\"colab-df-convert\" onclick=\"convertToInteractive('df-898e8dd3-cbec-4efe-a0e8-d25614ea8711')\"\n",
       "              title=\"Convert this dataframe to an interactive table.\"\n",
       "              style=\"display:none;\">\n",
       "        \n",
       "  <svg xmlns=\"http://www.w3.org/2000/svg\" height=\"24px\"viewBox=\"0 0 24 24\"\n",
       "       width=\"24px\">\n",
       "    <path d=\"M0 0h24v24H0V0z\" fill=\"none\"/>\n",
       "    <path d=\"M18.56 5.44l.94 2.06.94-2.06 2.06-.94-2.06-.94-.94-2.06-.94 2.06-2.06.94zm-11 1L8.5 8.5l.94-2.06 2.06-.94-2.06-.94L8.5 2.5l-.94 2.06-2.06.94zm10 10l.94 2.06.94-2.06 2.06-.94-2.06-.94-.94-2.06-.94 2.06-2.06.94z\"/><path d=\"M17.41 7.96l-1.37-1.37c-.4-.4-.92-.59-1.43-.59-.52 0-1.04.2-1.43.59L10.3 9.45l-7.72 7.72c-.78.78-.78 2.05 0 2.83L4 21.41c.39.39.9.59 1.41.59.51 0 1.02-.2 1.41-.59l7.78-7.78 2.81-2.81c.8-.78.8-2.07 0-2.86zM5.41 20L4 18.59l7.72-7.72 1.47 1.35L5.41 20z\"/>\n",
       "  </svg>\n",
       "      </button>\n",
       "      \n",
       "  <style>\n",
       "    .colab-df-container {\n",
       "      display:flex;\n",
       "      flex-wrap:wrap;\n",
       "      gap: 12px;\n",
       "    }\n",
       "\n",
       "    .colab-df-convert {\n",
       "      background-color: #E8F0FE;\n",
       "      border: none;\n",
       "      border-radius: 50%;\n",
       "      cursor: pointer;\n",
       "      display: none;\n",
       "      fill: #1967D2;\n",
       "      height: 32px;\n",
       "      padding: 0 0 0 0;\n",
       "      width: 32px;\n",
       "    }\n",
       "\n",
       "    .colab-df-convert:hover {\n",
       "      background-color: #E2EBFA;\n",
       "      box-shadow: 0px 1px 2px rgba(60, 64, 67, 0.3), 0px 1px 3px 1px rgba(60, 64, 67, 0.15);\n",
       "      fill: #174EA6;\n",
       "    }\n",
       "\n",
       "    [theme=dark] .colab-df-convert {\n",
       "      background-color: #3B4455;\n",
       "      fill: #D2E3FC;\n",
       "    }\n",
       "\n",
       "    [theme=dark] .colab-df-convert:hover {\n",
       "      background-color: #434B5C;\n",
       "      box-shadow: 0px 1px 3px 1px rgba(0, 0, 0, 0.15);\n",
       "      filter: drop-shadow(0px 1px 2px rgba(0, 0, 0, 0.3));\n",
       "      fill: #FFFFFF;\n",
       "    }\n",
       "  </style>\n",
       "\n",
       "      <script>\n",
       "        const buttonEl =\n",
       "          document.querySelector('#df-898e8dd3-cbec-4efe-a0e8-d25614ea8711 button.colab-df-convert');\n",
       "        buttonEl.style.display =\n",
       "          google.colab.kernel.accessAllowed ? 'block' : 'none';\n",
       "\n",
       "        async function convertToInteractive(key) {\n",
       "          const element = document.querySelector('#df-898e8dd3-cbec-4efe-a0e8-d25614ea8711');\n",
       "          const dataTable =\n",
       "            await google.colab.kernel.invokeFunction('convertToInteractive',\n",
       "                                                     [key], {});\n",
       "          if (!dataTable) return;\n",
       "\n",
       "          const docLinkHtml = 'Like what you see? Visit the ' +\n",
       "            '<a target=\"_blank\" href=https://colab.research.google.com/notebooks/data_table.ipynb>data table notebook</a>'\n",
       "            + ' to learn more about interactive tables.';\n",
       "          element.innerHTML = '';\n",
       "          dataTable['output_type'] = 'display_data';\n",
       "          await google.colab.output.renderOutput(dataTable, element);\n",
       "          const docLink = document.createElement('div');\n",
       "          docLink.innerHTML = docLinkHtml;\n",
       "          element.appendChild(docLink);\n",
       "        }\n",
       "      </script>\n",
       "    </div>\n",
       "  </div>\n",
       "  "
      ],
      "text/plain": [
       "   Component1  Component2\n",
       "0    1.987714    2.342082\n",
       "1   -2.017741   -1.433298"
      ]
     },
     "execution_count": 350,
     "metadata": {},
     "output_type": "execute_result"
    }
   ],
   "source": [
    "pca_kmeans_df = pd.DataFrame(data=pca_kmeans, columns=['Component1', 'Component2'])\n",
    "pca_kmeans_df.head(2)"
   ]
  },
  {
   "cell_type": "code",
   "execution_count": 353,
   "metadata": {
    "colab": {
     "base_uri": "https://localhost:8080/",
     "height": 112
    },
    "id": "YBsKqt5TYfgi",
    "outputId": "84a3c54b-2c90-4a03-e907-c0e080e3e9b3"
   },
   "outputs": [
    {
     "data": {
      "text/html": [
       "\n",
       "  <div id=\"df-d0a2d7d5-76a8-4bc4-aa49-cfd739dd3d36\">\n",
       "    <div class=\"colab-df-container\">\n",
       "      <div>\n",
       "<style scoped>\n",
       "    .dataframe tbody tr th:only-of-type {\n",
       "        vertical-align: middle;\n",
       "    }\n",
       "\n",
       "    .dataframe tbody tr th {\n",
       "        vertical-align: top;\n",
       "    }\n",
       "\n",
       "    .dataframe thead th {\n",
       "        text-align: right;\n",
       "    }\n",
       "</style>\n",
       "<table border=\"1\" class=\"dataframe\">\n",
       "  <thead>\n",
       "    <tr style=\"text-align: right;\">\n",
       "      <th></th>\n",
       "      <th>Component1</th>\n",
       "      <th>Component2</th>\n",
       "      <th>Cluster</th>\n",
       "    </tr>\n",
       "  </thead>\n",
       "  <tbody>\n",
       "    <tr>\n",
       "      <th>0</th>\n",
       "      <td>1.987714</td>\n",
       "      <td>2.342082</td>\n",
       "      <td>2</td>\n",
       "    </tr>\n",
       "    <tr>\n",
       "      <th>1</th>\n",
       "      <td>-2.017741</td>\n",
       "      <td>-1.433298</td>\n",
       "      <td>4</td>\n",
       "    </tr>\n",
       "  </tbody>\n",
       "</table>\n",
       "</div>\n",
       "      <button class=\"colab-df-convert\" onclick=\"convertToInteractive('df-d0a2d7d5-76a8-4bc4-aa49-cfd739dd3d36')\"\n",
       "              title=\"Convert this dataframe to an interactive table.\"\n",
       "              style=\"display:none;\">\n",
       "        \n",
       "  <svg xmlns=\"http://www.w3.org/2000/svg\" height=\"24px\"viewBox=\"0 0 24 24\"\n",
       "       width=\"24px\">\n",
       "    <path d=\"M0 0h24v24H0V0z\" fill=\"none\"/>\n",
       "    <path d=\"M18.56 5.44l.94 2.06.94-2.06 2.06-.94-2.06-.94-.94-2.06-.94 2.06-2.06.94zm-11 1L8.5 8.5l.94-2.06 2.06-.94-2.06-.94L8.5 2.5l-.94 2.06-2.06.94zm10 10l.94 2.06.94-2.06 2.06-.94-2.06-.94-.94-2.06-.94 2.06-2.06.94z\"/><path d=\"M17.41 7.96l-1.37-1.37c-.4-.4-.92-.59-1.43-.59-.52 0-1.04.2-1.43.59L10.3 9.45l-7.72 7.72c-.78.78-.78 2.05 0 2.83L4 21.41c.39.39.9.59 1.41.59.51 0 1.02-.2 1.41-.59l7.78-7.78 2.81-2.81c.8-.78.8-2.07 0-2.86zM5.41 20L4 18.59l7.72-7.72 1.47 1.35L5.41 20z\"/>\n",
       "  </svg>\n",
       "      </button>\n",
       "      \n",
       "  <style>\n",
       "    .colab-df-container {\n",
       "      display:flex;\n",
       "      flex-wrap:wrap;\n",
       "      gap: 12px;\n",
       "    }\n",
       "\n",
       "    .colab-df-convert {\n",
       "      background-color: #E8F0FE;\n",
       "      border: none;\n",
       "      border-radius: 50%;\n",
       "      cursor: pointer;\n",
       "      display: none;\n",
       "      fill: #1967D2;\n",
       "      height: 32px;\n",
       "      padding: 0 0 0 0;\n",
       "      width: 32px;\n",
       "    }\n",
       "\n",
       "    .colab-df-convert:hover {\n",
       "      background-color: #E2EBFA;\n",
       "      box-shadow: 0px 1px 2px rgba(60, 64, 67, 0.3), 0px 1px 3px 1px rgba(60, 64, 67, 0.15);\n",
       "      fill: #174EA6;\n",
       "    }\n",
       "\n",
       "    [theme=dark] .colab-df-convert {\n",
       "      background-color: #3B4455;\n",
       "      fill: #D2E3FC;\n",
       "    }\n",
       "\n",
       "    [theme=dark] .colab-df-convert:hover {\n",
       "      background-color: #434B5C;\n",
       "      box-shadow: 0px 1px 3px 1px rgba(0, 0, 0, 0.15);\n",
       "      filter: drop-shadow(0px 1px 2px rgba(0, 0, 0, 0.3));\n",
       "      fill: #FFFFFF;\n",
       "    }\n",
       "  </style>\n",
       "\n",
       "      <script>\n",
       "        const buttonEl =\n",
       "          document.querySelector('#df-d0a2d7d5-76a8-4bc4-aa49-cfd739dd3d36 button.colab-df-convert');\n",
       "        buttonEl.style.display =\n",
       "          google.colab.kernel.accessAllowed ? 'block' : 'none';\n",
       "\n",
       "        async function convertToInteractive(key) {\n",
       "          const element = document.querySelector('#df-d0a2d7d5-76a8-4bc4-aa49-cfd739dd3d36');\n",
       "          const dataTable =\n",
       "            await google.colab.kernel.invokeFunction('convertToInteractive',\n",
       "                                                     [key], {});\n",
       "          if (!dataTable) return;\n",
       "\n",
       "          const docLinkHtml = 'Like what you see? Visit the ' +\n",
       "            '<a target=\"_blank\" href=https://colab.research.google.com/notebooks/data_table.ipynb>data table notebook</a>'\n",
       "            + ' to learn more about interactive tables.';\n",
       "          element.innerHTML = '';\n",
       "          dataTable['output_type'] = 'display_data';\n",
       "          await google.colab.output.renderOutput(dataTable, element);\n",
       "          const docLink = document.createElement('div');\n",
       "          docLink.innerHTML = docLinkHtml;\n",
       "          element.appendChild(docLink);\n",
       "        }\n",
       "      </script>\n",
       "    </div>\n",
       "  </div>\n",
       "  "
      ],
      "text/plain": [
       "   Component1  Component2  Cluster\n",
       "0    1.987714    2.342082        2\n",
       "1   -2.017741   -1.433298        4"
      ]
     },
     "execution_count": 353,
     "metadata": {},
     "output_type": "execute_result"
    }
   ],
   "source": [
    "pca_kmeans_df['Cluster'] = clustered_data['Cluster']\n",
    "pca_kmeans_df.head(2)"
   ]
  },
  {
   "cell_type": "code",
   "execution_count": 374,
   "metadata": {
    "colab": {
     "base_uri": "https://localhost:8080/",
     "height": 542
    },
    "id": "UGYHoTCeY8tF",
    "outputId": "a7053c02-7050-45b0-ee21-f9ebfe9270bc"
   },
   "outputs": [
    {
     "data": {
      "text/html": [
       "<html>\n",
       "<head><meta charset=\"utf-8\" /></head>\n",
       "<body>\n",
       "    <div>            <script src=\"https://cdnjs.cloudflare.com/ajax/libs/mathjax/2.7.5/MathJax.js?config=TeX-AMS-MML_SVG\"></script><script type=\"text/javascript\">if (window.MathJax) {MathJax.Hub.Config({SVG: {font: \"STIX-Web\"}});}</script>                <script type=\"text/javascript\">window.PlotlyConfig = {MathJaxConfig: 'local'};</script>\n",
       "        <script src=\"https://cdn.plot.ly/plotly-2.8.3.min.js\"></script>                <div id=\"038fba02-50e5-40b1-8522-d5d2df291747\" class=\"plotly-graph-div\" style=\"height:525px; width:100%;\"></div>            <script type=\"text/javascript\">                                    window.PLOTLYENV=window.PLOTLYENV || {};                                    if (document.getElementById(\"038fba02-50e5-40b1-8522-d5d2df291747\")) {                    Plotly.newPlot(                        \"038fba02-50e5-40b1-8522-d5d2df291747\",                        [{\"hovertemplate\":\"Component1=%{x}<br>Component2=%{y}<br>Cluster=%{marker.color}<extra></extra>\",\"legendgroup\":\"\",\"marker\":{\"color\":[2,4,2,1,1,4,1,4,2,4,3,4,5,2,3,0,1,4,1,0,2,2,2,2,5,5,5,2,5,1,0,0,0,2,5,4,4,0,5,5,0,5,1,4,1,5,0,3,1,5,0,4,5,0,1,5,1,4,0,4,5,2,1,4,0,1,5,5,0,0,4,2,2,4,0,2,4,1,4,4,1,2,3,1,2,5,0,1,0,5,2,2,5,3,2,1,2,0,0,1,0,3,5,3,3,4,1,0,4,0,5,3,3,4,5,1,4,3,4,0,0,1,3,2,3,5,2,5,5,0,4,4,0,1,4,2,4,2,0,2,5,4,0,0,0,4,2,2,4,2,2,2,4,4,4,3,2,2,0,5,0,0,0,1,0,5,0,5,3,0,3,5,0,5,0,1,2,2,3,2,4,4,0,1,0,5,1,2,5,0,1,4,0,3,4,5,5,3,1,1,2,5,4,3,2,4,2,5,4,2,5,1,1,1,1,2,0,4,3,2,5,3,5,0,0,0,4,1,5,3,4,2,0,5,2,0,3,1,5,0,0,2,4,5,0,0,2,5,0,3,2,2,0,0,5,4,0,3,0,2,5,1,1,2,5,5,4,0,1,0,0,3,4,4,4,5,0,2,5,3,3,2,2,2,0,4,4,4,2,2,5,4,1,1,1,4,3,2,0,0,2,1,0,2,1,5,4,5,5,5,1,4,0,5,5,0,2,1,5,0,4,0,0,0,0,2,1,0,4,5,1,0,4,4,3,2,5,3,0,5,4,3,3,0,0,2,5,3,5,5,3,5,0,3,2,0,2,4,5,3,2,0,0,3,0,5,0,3,1,1,0,0,3,1,1,4,0,5,1,2,0,1,3,5,4,0,3,1,0,5,0,3,1,5,5,4,2,1,2,0,0,0,4,5,1,0,1,5,0,5,0,4,2,2,0,4,0,4,0,0,3,5,2,0,0,3,0,2,5,2,2,4,5,0,5,5,5,0,1,5,2,5,0,2,4,2,0,5,2,2,4,5,0,0,4,0,3,0,5,0,4,0,3,2,0,1,3,4,0,0,3,5,5,5,0,3,0,4,2,2,0,0,1,5,2,2,2,1,3,3,5,1,5,5,3,0,4,0,0,5,0,1,2,0,3,5,0,0,0,1,5,4,3,3,1,5,2,4,2,5,1,0,1,0,5,4,0,2,3,2,0,3,2,0,0,3,2,0,1,1,3,1,4,0,2,1,0,0,5,4,5,2,4,5,2,5,0,0,0,0,1,3,5,4,1,3,5,0,1,4,3,4,4,5,5,0,0,0,0,0,0,2,3,0,2,3,3,5,2,2,2,1,0,3,0,5,3,0,0,0,2,5,0,4,5,0,1,1,0,2,5,2,0,3,0,1,4,3,3,2,0,0,4,3,1,0,2,5,4,2,0,2,5,3,0,2,0,4,5,4,5,2,1,0,0,4,4,5,0,2,1,2,1,4,0,3,2,4,4,1,3,5,1,5,2,4,0,4,1,1,0,4,4,5,0,4,4,4,1,0,2,2,0,1,4,4,5,4,5,0,5,0,0,2,0,2,5,2,0,3,3,1,1,0,0,1,4,3,5,5,5,5,1,5,4,1,1,0,0,4,5,5,5,2,3,2,2,3,1,0,4,3,2,3,5,4,4,0,2,4,0,5,1,0,4,5,3,5,4,0,2,5,3,4,2,3,2,2,0,5,1,3,5,4,0,2,0,3,3,2,3,4,0,1,2,3,4,0,4,1,4,1,5,5,1,0,0,4,1,4,0,1,5,1,3,3,1,3,2,5,1,2,0,5,3,4,5,2,1,3,5,5,4,1,1,1,2,3,4,0,5,0,1,2,0,0,3,0,1,4,1,3,4,1,0,2,5,5,1,1,4,0,0,2,1,0,1,0,2,2,3,1,0,0,1,0,2,3,0,3,4,0,0,4,3,3,0,2,4,3,4,2,0,5,0,2,0,4,5,4,4,1,0,2,1,2,0,4,4,1,1,2,2,4,0,4,3,5,3,1,1,1,1,2,0,3,0,4,1,5,4,4,0,5,3,4,5,1,0,1,0,4,3,3,1,2,3,4,1,2,0,5,5,2,5,0,5,3,1,1,2,5,0,2,2,4,0,0,2,0,0,0,3,4,5,2,1,5,1,0,5,1,0,0,5,0,0,1,4,0,5,1,3,4,0,2,2,0,1,3,1,4,0,4,0,3,4,2,4,1,0,0,3,4,2,5,1,2,0,4],\"coloraxis\":\"coloraxis\",\"symbol\":\"circle\"},\"mode\":\"markers\",\"name\":\"\",\"orientation\":\"v\",\"showlegend\":false,\"x\":[1.9877136190291909,-2.01774085779609,0.6560069064450958,-2.1620814482991357,-1.0375219186458788,-2.172818058188915,-0.46359023101846686,-1.8188806198498808,0.3124302113961582,-1.3177996378882233,1.0170759262203541,-1.7554046200191353,0.8726088944381114,0.3362789361860959,0.6809153531373809,0.20636432662671292,-0.3669037433505212,-1.774448256528706,-1.9105545764192573,-0.6685332512659296,0.9867278320177665,1.229605523023387,0.7784254720735034,0.7541405107867022,0.7944364034643742,1.8604023338389866,2.928881364300098,2.0816530141711285,1.1581025252016173,-2.3512652073479208,0.21661684307487414,-0.8101155606934174,-0.8305852250446296,1.0316956748515698,0.9522910393986131,-1.7264890582216523,-2.114574438783228,0.1467189757961767,1.3478921238435284,2.343368935424746,-0.5905357760591602,1.1464826652094866,-0.8269596828021645,-1.546964060173333,-2.082222437226246,1.1124653871211814,-0.7823203150205015,1.80130850042087,-0.37670746920551273,0.6010161199054282,-0.3679964819688328,-1.3049004951653569,1.0768359225528075,-0.35197174027401906,-0.8125047412446992,2.2954774431599003,-0.4204147631308452,-2.0802394803410853,0.18066010638656887,-1.7446155140563524,1.3412734080998843,0.6124514668290808,-0.6900320161749224,-2.8141482571732466,-0.5997262389707795,-1.206925827515713,0.5928871513997634,1.2610808762526766,-0.6551904535338554,-0.8911212263866517,-1.9347765296483805,2.1701356440300033,1.5902340092371727,-1.8195343499561527,-0.6893327120317365,0.8687363820417832,-1.461366823529303,0.0165775897127732,-2.601406075206889,-1.0489229093605559,-1.1925750016705576,0.8693950507568917,0.31829168952252346,-0.011802033804541695,0.7899868683801793,0.9836433507403378,0.5671086976426664,-2.431611124773552,0.040241754471183167,1.2017878702704339,1.773315735546147,1.0225366864386933,1.4544308305887097,-0.8247037512560415,1.0699922716410102,-3.0342681507451235,0.649794398076646,-0.09170529911790294,-0.791163953305014,-1.1761605662930956,0.06110434533530543,-0.8461249459658313,2.188872335368607,1.0280982695038432,0.38572881184824376,-1.7769457071108856,-0.8705794753180461,-0.33639913964352747,-1.4530883306534437,0.7986900430016399,1.771492953206961,1.8274675362886665,-0.8983067837755722,-1.9140239687313634,0.8261574070385528,-1.5668689512013474,-2.063812203632805,0.733121295602773,-1.2731143806548684,0.516805678014379,0.05932661187690071,-0.7865807232058015,0.7318437160483402,1.6951313537702124,0.11479377722959822,0.6160675396372134,1.6388411926319053,1.7058542270859562,0.7427858682898124,0.15933971616347065,-2.391400709504436,-1.7857380886729561,0.117734858374216,0.11928498317904948,-2.8068324044083877,1.0613152676067847,-1.6580510173177696,1.5772597571226044,0.07009063630441514,0.7116037621095785,2.4310985175059057,-1.4548423612130599,-0.8048130382296657,-0.02865081367468751,-0.14604399099424398,-1.5658624673051154,2.290769337267908,1.6465025163749076,-1.5619881968896348,0.4037617211915483,1.7632548600675426,0.939387353715524,-1.6484407624403343,-1.452560638185157,-1.3605733759248453,1.0129740127908724,1.4136198090264454,2.3057696684211337,-0.6988248889329762,1.5071492409472165,-0.5192995001321279,0.7595578727122677,0.8175712943543394,-0.32981913502510374,0.055767976898970874,1.1399583964397266,0.702037997909336,0.9533094577924818,-0.8400925858038856,-0.13773708258978756,1.0448562686615395,1.536246678676953,-0.1908689859707722,1.480895230361958,-0.5022839192262999,-1.661193235079904,0.45918071031942015,3.1453655072798217,0.6520233313765612,1.1765563045064573,-2.086860347252526,-1.38803600529111,0.1290639040673801,-0.7300342462656289,0.9310297850315815,0.7515547098866885,0.12264464986441077,0.759670753587186,1.601566931946803,-0.25509859058219614,-0.9027400435155997,-1.719882014147891,-0.9115589278788738,1.4224469376273219,-1.3975958028919233,1.2858452263197158,1.840187412218593,1.270364841574956,-0.6010851993949494,-0.4990086951396003,1.729288706692887,1.151722497421916,-1.1741207103602518,1.3352174302995912,0.9478286692341196,-2.035889546988542,0.7208398566801633,0.9694640039210388,-1.2709927013813813,1.0078620836831518,0.5765299075612417,-1.2841950836810927,-1.1659603567461383,-0.3501835668683279,-1.151764286173879,2.1613483500890323,-0.2187431253323216,-1.285998821377566,-0.5939197183144809,1.2828399199822267,1.7174690022401502,1.024936316857218,1.613995877080199,-0.58387022008692,-0.36847507265692186,-0.909667921579826,-2.5735636460635334,-0.6337986531786642,1.2739907244580542,-0.6937458069149236,-1.3451633244130103,0.7399284399208165,0.584964539618696,0.9280373741088762,2.254462951017001,-0.08552702598174833,-0.3665267353598558,-0.32877477877732403,1.0762030738079065,-0.6348890859358151,0.48220988182479757,1.7456315860198037,-1.872922561249038,1.1385968888397475,0.17331420120742655,0.24059650186292067,1.633939907336813,1.9106446742120338,-0.1434878398738689,1.5137472216925552,2.509792847293694,0.5874453310531931,-0.5187950315326726,-0.8555578449913337,0.9345125224751463,-2.5322473341395164,-0.4277358734003494,0.5088672486517425,-0.23414627484395767,1.2806936722723612,0.8340568710697109,0.06732996393700673,-0.7894503829580867,0.32570550405927473,1.3348223707771587,1.2418037951626455,-1.7489269306302222,0.08590555383013751,-0.8570945990164462,0.39360450029373,-0.13370883108090906,0.9574641884854872,-2.7878970231106286,-1.3992167856828572,-2.0597939696831165,0.74993802374053,0.002936243943056498,1.060455646094995,0.7536392927419835,-0.19365475587062786,-0.1394210500675145,0.9173701131023684,0.44659854323996256,0.6362946235155548,-0.7904590111359764,-2.499431800796649,-1.8102906785040105,-2.342385317043984,1.248271466615055,0.4663244986213686,1.2240022374697204,-2.106509086900368,-1.2994448369219564,-1.6978101552256564,-2.2559099644492493,-2.4756271876701574,-0.2186498358170107,1.2582925720761713,-0.008154614999217404,-0.30501442130531586,2.534183979854828,-1.2245354919975984,0.14744891086125891,1.5150569414839743,-2.5635316835944337,1.736667606672056,-1.3431183811120997,1.562580563667254,1.5834394090936583,2.7619353799549033,-2.040400632994674,-1.132986699462165,-0.7489628403940723,1.6318709921995878,2.205956487661594,-0.9465508522350465,1.6267660539381867,-0.9041696828936365,1.6255745947583236,-0.15168021807479623,-1.1284150663197698,-0.13725673037314476,-0.5961667215971592,-0.09742490806833425,0.7939470823118162,0.6944150520838122,-0.36139827373940936,0.07085505920645413,-1.3897492662041318,2.074310067588377,-1.2950594987781545,0.21079508006455014,-2.513378132002078,-2.686116395148022,-0.8760731433149762,1.0172918005342884,0.5119770093155664,0.7022607374012972,-0.8410122749754303,1.140780646683116,-1.234399406152712,-0.5865317399797216,-0.31000188501297876,-0.5399782281887004,0.28464476650615345,0.70718167820647,1.3004066482856866,-0.8055492183841869,1.6091809699997184,1.4288625657895901,1.4027429995416827,1.6833268431780914,-0.29889009892039636,-0.398556469475034,1.73070951142799,0.24434552891006833,0.5030902944211555,-1.3981735076738275,1.525306466235835,-0.659825816432884,0.506059304412983,0.1437734168893383,0.5744875860286267,1.5640560635769554,-0.02510011520540518,0.9164969631514125,-0.42259918986754835,-0.42263059312190326,-1.1347547326471958,-0.2092483650110027,-1.09801943568965,-0.824228821555915,0.7740320910159465,-3.1361123953780017,-3.179709228683264,-2.255421409716372,0.05119265207833914,1.9646440514004528,-2.5036415061013853,3.0621179669693066,-0.08128728010670751,-1.599228108235354,0.23535614087526677,1.031496256626686,-1.1694672645708637,0.06559841917131884,0.5864889414247061,-0.9895588312628385,0.24505283621270882,1.3041664852593995,0.2642365741808019,1.2379631981470107,-1.1789604813219048,1.5302398222735618,0.8517612041583545,-2.4308716224463276,0.3815889238967498,-0.7808561277313766,1.1052897477539234,0.09019368011002932,0.47198386063963116,0.17090716622093866,-1.5059563012420814,1.306593900585229,-0.1936143114588254,-0.2056805183473809,-0.2900199018944362,0.9757357266349651,-0.6258233715376795,1.3413105651370003,-0.1786917478530685,-1.7162561026204466,0.5656407716400796,1.0645252667639302,0.11947637459728108,-1.6250769719095162,0.44413815833406173,-1.2411390352365994,-0.31668002367335896,0.7200979049204937,-0.09726868615225712,0.6004069442487555,1.3647140610636037,0.1754704643460272,0.3089724289376293,-0.17774647179771225,-0.6452820271561038,0.6942512419228878,1.3758507834973583,0.5929456989883742,1.2882122004612542,-1.7469173758901486,1.4861939505130572,-0.18999943208395825,0.9470940964706581,0.8732542698004593,2.4526891911985,0.23001212866470355,-1.2815935968934438,1.741025681040237,0.7392971963768621,0.8608338650799988,-0.19939077507478598,1.617279333138136,-1.8584124776131576,1.3748622333319336,-0.5783594259354734,1.101202134259911,0.9576195412341428,0.6823685704356657,-2.2699051337281033,2.7336516948551726,0.3846295177788343,-0.4229854145890894,-0.9661954597140674,-0.43722243816730927,0.14149843611032797,0.10706765671840875,3.1038672408203913,-0.5729841915643341,-1.1870359192986841,0.5465995219701509,0.267114829762776,1.5131977896310829,0.20900800583759285,-0.4705853979759301,-0.0382262017519464,-2.22969569782918,-0.857607071152241,-0.932577133385148,-0.6519366324339955,2.8517469368653265,2.028943493818893,1.8986901525492954,0.6148057822210158,-0.26843481050603485,-1.0089507269683387,-1.0400564519326665,1.2499009641206245,0.6967956984758866,0.12654801419457123,0.28504739344011737,-0.9906308637010787,1.0528004082662767,1.173846946491257,1.992462308135064,0.3108008031312162,-0.7925037647591343,1.1436349386078262,0.9507386968743592,0.6913982944433286,-1.6802070347504316,1.9069669842998953,3.00389141886784,0.5949250390416386,-0.6172872968527946,-2.1002838705513427,0.05865442250449987,0.5730108707049736,1.8480761812489253,-0.5807673571850732,-1.651555753628998,1.53694575214004,0.2645920131897628,0.23944918079771732,1.2125261638895701,0.24897482453373784,-0.7432891748063624,0.14179089229679281,-2.0887596318413317,1.5410212153889116,-1.5233900559265547,0.08624990076846616,1.7256362001931593,-0.30014654933153967,2.601125125371514,1.8753015890895368,-1.8669476446401416,1.959950726815832,2.323336270517015,-1.160246625482653,-0.2587838620058239,-2.2215226078716346,-0.7224471267402703,0.7024365288732798,-1.5219746397773264,0.6116369104308785,2.278909778845426,-0.8226599996074989,2.5314286053431565,-0.7729438154952455,0.07804443793283335,0.9111857493773202,0.17370068201730662,-0.636481302133584,-0.17311793027925895,1.8476501710993123,-0.3459032017278136,-2.3140176075243897,-0.18034690304998466,0.8582725971307459,-0.2361789372146822,-1.5437029766400832,-0.14015389082506127,1.1349204953878054,0.12696594658050253,-0.167167186769588,0.06449956954264645,1.711258003068818,-2.5011053830530035,1.2305021743506768,1.6431411363907797,-2.1392020217297416,0.633691832602425,1.5302301130347504,1.0208816410115011,0.02450190785913711,-0.8993107701362818,-0.6976876670059662,0.21382245572851688,-0.6475295036175441,0.01460170208900437,2.4824741276459217,-2.454275714695152,-0.9920462456950897,-0.023774725345137974,1.0226024150851032,-0.4060482456568407,-1.6714800607090219,-2.1128649372780854,-0.6583378371138614,-1.4167190983820992,-1.1786658193983273,1.2063763551787678,1.5694624691204928,0.08428635062210844,0.3163011023807809,-0.1866457738203965,-0.978918884814741,0.5127686274067219,0.7586972819154438,0.2934980365244551,1.3046780767098167,-0.8507366445736536,0.4939841282549521,0.10060780380337943,0.6869078219080956,1.0472411568560773,0.6564928731913997,0.6052621449479081,2.2052758993087007,-0.22635884437493628,0.20833382125038932,-0.5087539934497552,0.14267089980867295,2.1752085564177515,0.07532905531242484,-0.8416244671780087,-0.11697042041044992,-0.8570994280468374,1.2077045412279879,1.7250317106819995,-0.1783065948007104,-1.1329253078574706,1.2832876779422284,-0.5136188020905765,-0.8578645128622351,-1.0179899115300983,0.1613630189804529,0.6650360443632357,1.521148296842786,1.2272973563844176,-0.4936882617838369,-0.7664075064236102,0.2518058473567932,-2.6801304930228995,-2.816826614438867,0.9318087623513713,-1.0219826474049873,1.7336029164190512,-0.5612543869472343,0.4257353946378324,-1.6610364817267802,0.6815693366369681,-0.10705348550567753,0.36165129012212627,1.4759061599803454,1.2842263183598364,-1.4862461615958908,0.41570258186158765,-0.7227327915557402,0.43111511842825107,0.6229796165371959,0.9633530020586265,0.17312555032409596,1.0246563016881527,0.1550869438640465,-3.1691156200824824,0.9424319516738722,-1.5656598536181192,1.0632448196575814,0.7990718866848325,-0.37645793459696825,-0.0937061438544105,0.238610898854608,-2.0164913084496603,-1.1892114397900837,0.9832265386488152,0.43017207529289725,1.6248285141001082,-2.2694331848121814,0.7180283245544747,-0.2737295014881449,-1.9412501952069792,-0.3054746973706238,-0.2523718805726552,1.4255164719690083,-2.5346253768369666,-1.1224094013477433,-0.8538591059093809,1.0107168424654192,1.322566069080534,-0.08102319521276166,2.1030164737555768,2.1268209504433755,-1.2202258083479998,-0.9528750677629664,-1.5512716497348484,-0.14882094954315073,-0.7865826444484687,-0.8683568810574571,-1.6483515241367321,-2.753544821291819,1.4488483578746887,-0.2315854902254019,-1.227303147366577,-1.023197666989085,-2.4791332088484843,-0.3205007628621204,0.46029553952499236,1.7842477797102771,0.41361102685834306,0.6796920790874769,-1.0871164796376367,-2.139202403361377,-2.495578909952917,1.1865323467359918,-1.11109805977284,0.7048554649138756,0.11148755436929735,1.041067979044376,0.10761941471424467,-0.5397138130484835,0.695730711553418,-0.2944124465455156,1.928959126647042,1.2079825064179133,1.3829365910391072,0.26100713388176766,0.42428344874240087,1.1445401911870472,-2.123386082696772,0.07101266662402354,-0.6567891825222155,-0.5212596192517276,-0.5849748246798173,-2.1328123945855633,0.26340184055181814,1.466332423643223,0.9780893522031426,1.2223568184483158,1.8899662174991148,-0.2329524513162941,1.5190503211310247,-3.054547278376393,-1.664288844832527,-0.870446950693926,0.34742863944722807,-0.636185387285192,-0.9988357693962678,1.3909446846294002,2.8357084968119026,1.0992169077447032,1.897503893276937,-0.5975821614707512,3.4027970213941834,0.7953640546891242,0.18665572811033931,-2.0637438248577644,0.23689240068322115,-1.2210097361984604,-0.2212930356281728,2.0619586819563467,-0.46267043818280085,1.535232849350502,-1.3463074348305375,-1.815426800165852,-0.5560683873329249,0.42625791040309735,-1.207479439992953,-0.33437732416469906,1.4613818238001721,-0.4613662507624795,-0.3954399733034145,-2.5929571840979917,0.6656430097208945,0.14049652789009015,1.0915476089643872,-0.9492307805639849,0.027909634506573886,2.9381974802682964,0.8144612663904217,1.3724889549856394,-1.4132558897168044,0.8276060178374274,0.14328201991438633,1.9542283131161897,0.6770209441626983,0.16079114986669846,1.6439536050431078,-0.45734554153753154,0.0743487817772559,0.5638206230820269,-1.8353250142310396,-0.3968541019541048,1.185256919950967,-0.8383177733811643,0.4615664343631986,0.0908126624018669,0.885528484485485,-0.580428285760868,-1.9379894591565667,-0.44517920822363793,-0.2647614090130516,0.8857325943109381,0.06976072970864095,-1.1654527797995846,-0.3429322009944813,-1.612777498982904,-0.373740625784381,-1.5883548318982506,-0.11401131775184453,0.9888958980527528,1.41421823922174,-1.0303118032235128,0.2017430602309982,-0.322216662439225,-1.3407552214498386,-2.102945516943101,-1.7919927752220506,0.48069242713728966,-1.25163521757669,1.894146318301845,-0.5664243930833937,-0.599867594492677,0.8038491372393207,-1.1414968690332794,1.0358067544956657,0.7406716276025832,1.2025864902099583,-0.023626352888355854,0.26843093642367893,-0.6516279714881961,1.2738894808378067,-0.6337676652587649,-2.0670023663556454,2.608939694704413,1.3545468332275241,-2.2987603774560017,0.46134194401576883,1.8700620468645992,2.793233828784691,-2.101418182202402,-1.3574935768867855,-1.6904971741189225,-1.854269146868384,1.906032476182139,1.6881595856068303,-2.519863768082227,0.5304534693337317,1.2053825973720331,0.2830207406128833,-0.9186115183958604,2.1012195636932454,-0.3905029145588817,0.19351301904051993,-0.4739457715883027,-0.4769313318540857,-2.0800309461165463,-2.2400119317776226,-0.3138356126532345,0.5784384081583053,-2.582534573770388,-1.0535325172959276,0.2508933498498574,1.2554021610810748,1.3313985022231447,3.0394139357608974,-0.48077957607957633,-0.38643992635227464,-1.526835908752697,-0.3783310141738107,0.18903637646177668,0.08694502156917523,-0.282596022887898,-0.6794258477487222,-0.9718774518359369,0.25385616677068357,1.4055529662365596,1.649590171553374,-0.08053907148361863,-0.843794740709474,0.5942309036451243,0.38627152481760435,-2.1745803817916354,0.08142540450355674,1.5822607995742652,-0.1647268650527333,-0.22299218781793725,0.41303304207116326,-1.156912861172762,0.10078251417787373,-0.3407881839251192,-1.0634843090460178,0.7522957264215421,0.23285705688657216,0.010865546563255356,0.2260548432829686,-1.894007172472836,1.6379805620486105,-1.8761848370033907,1.8957045262428271,0.12579273626296641,1.0815869053052125,0.13601774947393208,1.1547333662253667,0.1238047331671277,-1.1973114012011616,1.2279802765915762,-1.5892248510825318,-1.3935210979522978,-1.6851853980274967,-0.5640814783806607,0.7692381466453134,-0.7907704543642314,1.5412701001164646,-0.5323560853446709,-2.894671674152815,-1.7395410435602128,-1.6709495958202343,-0.4722542117301622,0.5058869418975929,0.6089567760546474,-1.6202463428987643,0.6079490780663679,-2.0758624558227,-0.2888733426096604,0.8726453629179178,0.2314757313760767,-0.46514569850071513,0.05923576540741594,-0.48702669163673884,-2.2944757051107465,0.6568054887654863,0.24794806171307568,1.1462909737644176,-0.6518434542949052,-1.2847094896028182,-0.10770260672408784,0.5414607011478373,-1.3803907379175562,-0.963580269676205,-0.8726407849622281,0.6951617327679566,-0.6198525571428117,-3.0219898027214125,0.5411618405711509,-0.2667254691915425,-0.34573511026075,-0.6575966841033088,0.2616332486935404,-2.6897078300896617,1.309259032880974,0.6322040456856609,-1.254849715783966,1.6523485186050857,0.707220414347512,-2.575018656416528,-0.39452269681899715,1.0518957314750534,-0.06011278402321719,1.1630500540037636,1.463714688075231,1.8987546154689738,0.9161567406386459,-0.434024229727542,1.9106060434225158,1.4440633057696468,-2.392741379806999,-1.317888356289063,0.12183251629396608,1.1259718166054207,0.4723818457282917,2.308392399870612,0.4616625366308059,-2.3186389440200945,-0.7420461857300342,0.3025125879147989,0.4415223457207714,-0.7386929191277526,-0.3357186137105907,-0.7373983634422293,-0.8758474085204477,-2.2154261195312683,0.717354309175866,0.2598011061483176,-1.0149948380428835,1.5296761976737223,-0.9631910166422882,-0.6836738418802348,1.598734219204209,-0.12900130132624085,-0.18186473707515072,-0.33581646604062143,2.8370194334154544,-0.36508757649960233,-0.5488209809598944,-0.12788728530834045,-2.1011269842062714,0.17620057727232694,0.601983502235914,-1.3358641556743176,0.2612978009028291,-2.480128526222276,-0.7498064583195153,0.27878983666200563,2.4409081345899315,-0.03358984085855424,-0.3594032052316121,0.7372049404562713,-1.7127154963762687,-1.8429914794157003,-0.38857670331720157,-1.953943535360549,-0.18232716294994,0.6549592490618644,-1.8821617224321012,0.903995578857707,-1.346594548329743,-0.016820780408703984,0.1004605930600165,0.5954514858713921,0.09961308172014738,-1.280817959310952,0.4815862001031266,0.79996389648152,-1.0192864460445037,1.5112642029411452,-0.9664849055968099,-1.7205221039594536],\"xaxis\":\"x\",\"y\":[2.3420822909020655,-1.4332983887707977,1.2243211681212318,1.0109519645059968,1.5541854145336782,0.28964188842975064,1.497526875032469,-0.00829631248885249,2.0186530226700876,-0.61390156353787,-1.1628965786167893,-1.30952905467874,-1.4314846566742108,1.7908959945826077,-0.8014325738074662,-0.25576147615707717,1.5211712752009678,-0.8700813087852052,1.018491165416897,-0.25024466455574795,1.1805612628698832,0.8526930004426118,1.039851253639581,0.8729298495258778,-0.7640767951659745,0.23135609147799371,0.4005780163324023,0.4940565072455452,0.07657979903984224,2.0189550357708845,0.21555105690783707,-0.7371026004414872,-0.3233870872910284,1.6261928502979475,-0.1034637586252338,-1.026136718959252,-0.24508618352196415,0.2692054302139437,0.2721224884888164,-1.2215027829877176,-0.4064621398670822,-0.861136110564759,0.9256903921823721,-1.229140025412351,1.8147588128643537,0.09226654716100861,0.4405454622334214,-1.333708422789297,0.5800481901550971,-0.601781425109501,-0.4641887404676285,-0.36833927501839303,-1.0286040264204954,-0.19268197174791843,1.6987265702337804,-0.8019005385135547,1.5916708436312845,-0.24525283157608108,-1.2991960347726432,-1.3972855852307036,-0.7452139846639695,1.3299779012198796,1.9112302740777352,-0.9420765460980166,-0.8799426448482022,1.2472264834704385,-0.4971830287130923,-1.4230491124814195,0.2619731271212027,-0.9818644678168035,-0.36606054562479273,0.9196265112549336,1.3991962009325172,0.6237303391548519,0.5478791598410184,2.236670976132384,-0.024313082411607914,1.4286269926620054,0.5581597837696111,-1.431702219589256,0.9812957153730811,1.0713790036210737,-1.2991185379526495,1.7100003685479348,1.4419518407102354,-0.5316810186498753,-0.8053611186375799,1.2181677780409064,-0.40026822296261383,-0.6664834692057003,1.5653517900317877,1.511888459882512,-0.07113836703354762,-1.7868663501109463,1.5504307054877453,1.6869420877576633,2.0227937902432895,0.02349946955076931,0.1332968947134269,0.21333769940848676,0.4335326894472043,-1.3364749907921876,-1.1326986012134086,-0.0026535750080251305,-0.9013608923413454,0.5590440658313747,0.5323553435559982,-0.09101186110962572,-0.25676516283611306,0.11973858125253556,-0.24148775646868278,-1.5503547828143396,-0.6958090825357267,-0.9682141971446561,0.14588980504609633,1.1030225700335312,-0.30658788625328715,-0.7739662733577354,-1.2387371461651657,0.2659578899160084,-1.0425136153569687,0.49670794799345463,-1.272127432685867,2.0443367430120065,-0.8283399757015433,-0.3876034892339445,0.46933779224490557,-0.4838155269195697,0.013327877794067714,-0.4589072058774218,-1.0371546315819993,-0.49084445920507164,-0.7318896046599981,1.1097930330923362,-1.5465106979257266,0.42809070180675174,-0.6413449907593077,2.168129982335689,0.20345373438482187,0.7254539505901392,-0.7235331246639626,-0.40843163056455967,-0.7594051495018179,-1.4270811796669807,-1.2989290831590459,-0.4402974127016428,0.456913865448158,1.2802615122386931,-0.6261417811817727,1.0061319778451336,0.8096255498911171,0.3959966817454293,-1.1260739014437084,-0.5419312834363129,0.1308260520898843,-1.8972685851729054,1.1545358073508176,0.7982764695447381,0.3899964935441534,0.15099722927261466,0.19612249368172957,-0.4754359805061052,0.19803877238045145,2.5700254580718327,0.10300185646318696,-0.04838144432157221,-0.15653453659299102,-1.6935707227311412,-1.1274305033540348,-0.34158262962317254,-0.2925703384960401,-0.9400230233408515,-0.032738636639200805,-0.07496726807672498,-0.8637915418312216,1.5940719198589497,0.734133406114614,1.3731792481298304,-0.4223808410176639,2.005018567129191,-0.5798033374363538,-0.4143296431826523,0.5755450855242681,1.3274460331752176,0.10974709459167818,-0.33296547770964324,2.732583353614133,2.29126528379631,-1.7980013654747233,-0.07203353967053666,1.5960993544377364,0.035884337108830405,0.19725599280403114,-0.581494935721561,-1.757163907837158,0.018713776205935135,-0.5943502799247268,-0.9201894977042985,0.3188024590003102,0.582913882881253,1.4230334560670577,-0.7818094477094762,-0.8510665277886338,-1.7650688602730569,0.36145298463369085,0.5054761463269603,0.7885105238066639,-0.8899845004893413,-1.5239050188818029,1.6163332167384474,0.05969729662634543,0.9882152968119182,1.3013655715165326,2.1239578010047184,1.388642337373983,0.5449967278449335,-0.28110099133034183,-1.2982061769845108,-1.2835765619738173,2.0821244577110227,-0.9560222727581454,-1.3614802833047217,-0.47570579394679563,-0.12100134410853787,-0.34204891035237206,-0.8034780184166905,-0.6671787804400877,1.6470370462554984,-1.4135907291029748,-1.3712277546155682,-0.8892959995377795,1.496907703137341,0.1343698367075332,-1.0906317347863523,0.7792953910599769,-0.4541574930936012,-0.9705717896143939,1.8008837726209705,0.07933795471177578,0.41685140211104643,-0.5392493809177061,1.3883415151805245,-1.1091201012048109,-0.7806506507062655,0.20352619925575013,-1.0832708820708206,1.3336448224384707,0.006257844596796174,-0.9202217440087028,-1.7028205771033154,0.48030920217767,1.0223479799976356,-1.1920064489598299,0.13305222450738566,-1.0204647057600886,-0.6782673308682922,0.08361908654187264,-0.4392999318640982,-1.2171135269622122,1.6949143898933259,-0.7537642737630257,1.5281419915526175,0.3121054162932082,1.801898288928944,-0.2047575356424779,0.20632409974969798,0.2945100969192883,0.30905361915570684,1.0489343942787555,-1.0201223196796778,-0.10741392974902292,0.17770108634017007,0.38337116057750364,-0.6938420915346164,0.09089381842435021,-0.1335893534094439,-0.8798188203481925,1.2652712339180479,-0.05875170243868702,-0.6841431260597333,-1.333975755407786,1.2677671569484883,1.2443013139050396,2.0888434608716553,0.31027716335496136,0.14192760244427124,-0.9015621406487385,-0.2133110653053263,1.1720329718721718,1.0446807510407805,-0.912456459819245,-0.7176371200259023,0.9645392187068376,1.6900311972213504,1.0930422372209705,-0.8428227726322555,-1.7118775206643302,1.0012085547251561,0.777705529641929,-0.1547913996030382,1.506926795151447,0.679121790950116,0.29246788871072543,1.1822782162373007,0.9921214775940154,-0.00148630896780966,-1.1821424667612637,-0.1456805036247526,-1.132577836562041,-1.6845226989054982,0.6642938432868449,-0.9503410230269812,-0.8667672613666637,-1.0776054095835754,-0.3592774362993607,-0.3453407609546759,0.3015128605748713,1.2423320109224107,-0.264225108295081,-0.708104240251601,-0.6306214186679379,-0.23708761062004843,0.053508538538565575,-0.5842147535386126,0.12184946867279094,0.544518322298089,1.2512314187102425,-0.013113125275058833,-0.3062128995134355,-0.6150198458140198,2.7201185652011,-0.41532555774049856,-1.1327459101741917,-1.2156981888946061,-1.3988006055037796,0.8269606421207858,-1.2681201744485866,-1.2342247534100843,-0.6146288677323952,-0.2921639498571301,-1.0369978251355758,-0.9959221815054017,-1.0764231462505722,-0.04688288335867621,0.3659914960583332,0.7483503744657805,-1.3377268442773778,-1.3605503062828466,0.07699522190182839,-0.10033108935303792,-1.4181619235108796,-0.5401227135603345,0.4730122889098121,-0.6647652216616025,1.0501550258653256,-1.3581485186130982,1.3144783465002774,-0.884615984807969,-0.6950453737559318,-1.4592580087936964,2.010784436524684,0.42128680214709496,0.21638891285390802,-1.6567775034961654,-1.0064837991420197,0.1861945459566502,-0.7179845580064227,-1.531867070845423,0.6711954784877321,0.41776385810921246,0.23704459733634925,-0.02178776234446015,-1.3821876036303942,2.215367715388702,1.9935735049796117,0.1598859783424847,-0.0007790937594646142,0.3206991920221606,1.8480289208918226,1.3477150447045945,0.5197978776038988,0.5616213709041156,-1.1295897887600737,-0.8954610304412826,-0.8593461189362038,-1.014491137557864,-1.6974747283273974,0.6262222006712859,-0.6986533798644625,-0.7419379924905981,-0.43170643967975547,-2.04329091702126,0.48155178398631665,-0.2318514639484089,-0.24711626044218113,-0.25250364010131654,1.6793573803200559,0.939489910530792,0.8370615056015468,0.7584246986223966,0.41382686843129723,-0.5739794719881373,-0.675670160199818,-0.8240584863721914,0.8707357807995209,-1.4647820799121924,0.8259169643541143,-0.8076383845103529,-0.8331621360621704,-0.6343247403166312,-1.7809880791184167,0.13834195492742504,0.7247345581109041,0.4587478861924696,0.11196524718598462,0.11416216886720036,-0.05860137894476899,-1.2365837816671021,-0.2565542798934922,-0.08147205471025865,-1.7978846772435233,-0.3095639859900454,1.0245391110261812,-0.0286643822308307,-0.8841561384670611,-1.7066609550213685,-0.5449416201288444,0.9804860518691869,-1.7364067551319031,1.58553328651495,2.688178476472629,-0.4191073354177584,0.31485853691222127,-0.13111083547689795,-0.9638197396577265,-0.9339738746935022,-1.3912156985622306,0.25125374546616225,2.093542405667008,-0.9581019789011594,0.465391474877585,-0.40921273368416267,-0.5219325798870644,0.5525455749209957,-0.42613236483099665,0.5643658498522413,-0.07369338317983005,0.17704914375046799,1.654693922635097,1.9446269755820973,-0.25981674474581035,-0.5576864368574093,0.04494778349632827,0.08319969132679346,-0.26844201456624484,-0.5347340173694858,0.13117698992193438,0.21536365341372105,-0.8256605187309956,-0.14528932029545413,0.2584618286498765,0.1774850518343205,-0.084245884086324,0.38819616213288377,-0.014711854122689084,2.022779225260267,-0.7095279561784008,-0.10419373128904817,-0.9162099836749535,0.12818909908682805,-1.5532899554909898,-1.3313546348259235,-0.6861790669427776,0.30463274809316265,-0.14883322282226286,-0.9954292475628759,-1.1528930684162917,-0.9702081775325219,0.43197550701542015,0.8249637946283732,-1.2192543195387244,-0.9580550635859,1.6009489379924864,-0.4247946315599801,0.868689711453698,1.0976126520254132,1.4504584253419666,2.048981674049813,-0.02072251390879833,-0.8994053868033642,-0.8654354131977902,0.8231462313159269,-0.7083291491344287,0.38508439587359916,0.3385689243952207,-1.665609678121347,-0.5909804080499048,0.4803504785127963,-0.24646372569832883,-0.583383952647486,-0.7573506528844227,0.7672867437211414,1.211540096603787,0.3049410378650246,-1.3571507034556862,-0.6767221533913946,0.24823742649538005,0.11482313741178571,-0.7013958437435553,0.979414146507323,-0.9404445442782543,-0.1394115856459057,-0.9929442050271433,-1.9601861102456224,1.5768242990588297,0.2561765278133587,0.5769562601208993,-1.3864854683881647,0.8192725810625952,0.31760816262400443,0.9522500765113838,-1.1202656197054248,1.5302207326750912,-1.2611322450088456,-0.9415743442043026,-0.3421786038214653,-0.3089500176973865,0.7771370979303107,-0.4958469654231433,0.600334143603434,-0.25613026624201096,-0.7365452045196705,0.4753147139596362,-0.9365620078479931,-0.9291809866793832,-0.24741587992175765,2.725844172671355,0.3126966785973041,0.7724423187593323,0.9425993546525766,-1.4234232475847344,1.8919009362667132,-0.18216570682452007,0.016113974405952813,1.9033074303958926,0.7629117629046439,0.24358692997965034,-0.2548997062846171,-1.2190267451842725,0.26529479771598014,-1.2400602309933804,1.0297477031316777,0.010775917003934361,-0.7244122170527683,2.230649991905882,-1.4445749460357615,-0.6260481697755905,-0.39252773340040836,-0.7470283197303654,-0.31929013097193537,1.3380320086996158,-1.3372999984102016,-0.5355111746336662,0.4974626369847509,0.39306844862566137,-1.4623831545355954,0.17682700471425025,0.028990379262442335,0.6625624228759135,-0.2957024899820629,-1.4180234109637688,0.4003471755114287,-0.891742418242348,-1.5023173487044315,-0.7653597019783911,-1.116755188812178,-0.708054101210205,-0.05475000945488241,-0.7973641831485047,-0.8538936980251551,-0.47536000307388876,1.2563253368781735,-1.0058174146499874,-0.28751041108324765,1.5614083356994732,-1.8918845684939962,0.12022539755793817,-1.6000763413055883,1.0119001433072368,1.8956431794092772,1.6427596173930636,0.6032504112577477,0.18770613958950286,-1.8914169426752392,0.5495899712732242,-0.1725924429965972,-1.4827953406595358,0.21291622961834525,-0.29008601512819565,-0.12307076997392656,0.9951376070912867,-0.43217861147257525,0.016617672895145045,-0.6640216849505616,-1.2875788603848033,-1.39311916820214,2.586857995029723,1.2971001390520496,-0.10880093693766678,1.0288852915519353,-1.4770782998860847,1.2019191558777649,-0.4622632313238005,-1.5548466601172501,-1.451841352599094,1.270628647830789,-0.6026778088872868,0.263983984354946,-1.7151605728388621,1.1291853868572768,-0.7343195415154393,-0.233461480564731,0.41144523211202344,-1.5541871662861655,2.1973838848964897,0.17771324320812582,0.6935211557599268,-0.49322525432085973,0.21056270037888045,2.254868306656249,-0.625071195801985,0.8146210044009135,-1.2277909437268564,-2.0084487684935772,-1.077314195494537,1.0545611789566625,-0.6580931701707109,-1.5261892399430024,-0.004297916978028986,-0.8984056045196217,-0.849162596319646,0.33322004282460976,0.6175557069593908,-0.13961210786599537,-0.2169411566815802,-0.7686734634005158,-0.18558154113619113,-0.8467230104764876,0.32912536258940456,0.331006428862032,1.3425912687490045,0.2939316872860669,0.897513652748454,0.7540598820424118,0.07282523393646162,-1.310276304661379,0.5694753978285408,0.40076093689424086,-0.631151630012296,0.6955461125843336,-1.4368818185564833,-1.248188110523613,1.2521699078848394,0.11717994813408689,1.2894849673433573,-0.7008959344424959,0.035901131250008454,-0.8001639072199069,0.7257202280980665,1.0446063888392196,-0.7202979648730523,-0.2717193581269242,0.719414720390593,-1.0228889168098052,0.6565088934088746,-1.0054713307280005,-0.05755176111900086,-1.1695676839946985,1.921814362434109,-0.9201968780811375,1.6928810740151408,0.4479295170562302,-0.12076326877184246,1.1629704263037284,-0.22838448917147577,0.1279950453278634,-0.6744272839968821,-0.37665099398724633,0.1771152456241158,-0.1923591837722395,-1.0668122106922118,-0.9727397269209983,-0.5140227568056948,1.0715751077261797,-0.6628855439219075,1.2118612810313287,-0.5514868462939456,0.3230393939263034,-1.16615547270231,0.39563082791455184,-0.6409777860535825,1.055150817925052,1.072387549689715,0.5951145756191886,-0.2250202528548765,0.2795713173645054,-1.124978268738492,-1.09635830982698,-1.0096608001855447,0.32430215042165145,-0.25931484560234747,0.18645451578862565,1.0676932644145027,-1.0143150104068839,-0.7088128792787167,2.163456515061152,0.597667320828225,-0.17608277010109857,-0.22092011600763953,-0.2200991155264563,0.009435049313700292,-1.2866412663081541,-1.1649925735370381,2.193187167588296,-1.7447600946622892,0.5661370786222419,1.0779148450528049,-1.16474718204981,1.6793795931775788,0.16043102175412652,-0.04008788265853007,-1.756146441300728,0.8209704876963209,-0.7448674571771239,0.4254434608144513,-0.4529827787641864,-1.3158695782908807,0.15994174074054202,1.092703966208506,-0.995558681891582,-0.20802199036291108,-1.3033019380019348,0.7089755204857922,-1.403552609957179,-0.2461342075406091,-0.6339879902388993,-1.4014202068061012,0.2609554618633789,-0.7476758435386,-0.06322052408328968,1.1513319343376522,-1.3551512981226113,-1.4571581536940978,-0.9786261542182255,1.682712542672743,-0.32476660193557044,2.5955806556577374,0.5566458691843383,-0.3679382548864676,0.029213984455620467,1.9694066554554928,-1.2892447779435818,-1.1177250044705629,-0.14780011940825824,-0.7619246829036871,0.5093825713190103,-0.32109768630199137,-0.295110957133233,-0.7079692742533501,2.031548859111295,-0.9445579396596894,-0.9660983989847955,0.2026697977904824,1.3844404185584305,2.279646980270747,-1.131100182558159,0.2565563568224286,-0.9784239292905825,0.4265896486417787,2.270248011208716,-1.011804140902454,1.873381832071256,-0.3125532280320773,-1.3212737564406987,2.022001092157232,0.12410728680131973,0.5745822953990462,0.38316913639653577,1.327892871384002,-0.745113340197115,0.38448184530802265,0.7539907578592682,-0.6422031584735394,1.3859383833633891,-0.29133787446493264,-1.499989870864784,1.5666956808629067,-1.5854610882281441,1.484935456208765,0.19816707715919799,1.526220136053363,0.9759133520479593,-1.1051148477905273,0.13854207478096925,-1.0749072518062328,-1.089121105751249,-0.9062315210853987,2.1697021456144934,1.6837575339120494,-1.026059281781267,-0.8943295622535413,-0.6784901751931025,-1.0860826985020455,1.4650210686945853,1.0169331332483527,1.422640528091253,2.061740836105111,-1.2280615505625239,0.870957857526054,-0.9263907850763735,-0.786546840465394,-1.0929345301645434,0.5727683706824931,1.0346809923072964,0.13366197071214872,-0.4540387819100657,-0.19228104765459736,0.23404922600679506,1.2521225665735123,0.5130255793663158,0.8715356447820726,-1.4738824479756938,-0.6014335605971216,0.8158460814804095,-0.9970514840492155,1.1035112920365249,-1.5485063254825049,-1.4123269109898209,2.0236792203319434,0.9798332148269171,-0.5137016904212954,-0.630722958353734,-1.299935535467066,1.2125869820748842,1.0948077960619718,0.20725030903742775,2.308923997956451,-0.7112895491219662,1.8229793480753065,1.6345534810453854,-0.24654458717658925,0.874807087783824,0.13098838343560876,-0.17951202207684283,0.9901662381698961,-0.14341084312130237,0.5847883619533104,-0.5367410215630248,-0.4665189209414214,-0.9154355639360416,-0.6637536592400074,-0.6444454073459444,0.0759428922253016,-0.13441796513877688,-1.105721951361835,-1.8252852484616495,-0.7562530797613568,0.7547149703446876,0.39753383286427396,-1.3521259070476785,0.6204802530225876,1.0353424745743944,-0.9323324451863789,-1.128145165178567,-0.4568482213404665,0.570939239045356,0.231478504016523,-0.6583373457027444,-0.6847464949047828,0.31420922045619354,0.4396650997452094,1.3617495237633812,0.22370423086188798,2.0695549184892763,0.7934689235415745,1.4045452795370772,0.0740665252803528,-1.2095141729081706,0.028821770328155184,0.5415611617192728,0.7435142379707226,0.988182414463133,0.3913703581276811,0.018289813599444846,-0.49702028778215673,-0.16898235365044909,-0.7781892224813411,0.14004095983203257,-0.14410396915411014,0.7405733314500323,0.6540218955629157,0.9528046942670625,0.9007039658362366,0.45175947709302494,0.11672309896421308,-1.9090384999838006,-1.0374835554105553,-0.6937104934591508,1.0423532916223122,0.06279338859361881,-0.002885886903545424,-0.9769598927205062,-0.9496975634512022,-0.5628939887646015,-0.43858744316813714,-0.11090279072502532,-0.12302626668150897,2.513239923904475,-0.10569889084876419,0.3206536358478369,-0.6586461469119704,0.3822720363351969,-1.5562728743670002,-0.5285965794633967,1.6448708914718184,0.9283327871233841,-1.784790435204011,0.551473058325249,1.7790798795724256,0.759283189073497,-1.1911353393862754,-1.4037963096174468,-0.4091081853823131,0.6515168514756655,-1.2889650853431645,-0.4530935226542608,-0.6757316212469494,-0.4717773164126023,0.7380264985020026,1.13872323190474,1.0677427062883642,-0.2908565493044122,-0.3187901979494865,0.7745342187817437,0.8525182994735927,-0.34102466017360067,-0.3012546656063066,0.4950817495551787,0.738005708393026,-0.27686433344203387,0.568497785080576,-1.2065054635421681,-0.7066453983018091,-0.8124646729996182,-0.5081716368622813,1.531920263506753,1.278642412766757,0.27560519442602555,0.9298067162163397,-0.33922180909201,-0.4854324692270251,1.05267146949217,-0.39349296181344745,0.11998048127767746,-1.4764186159343824,-0.8653668264942912,-1.2654815498055825,1.4325194325325243,-0.554488043587534,0.6145973323203906,-1.437295614836191,0.8415926309942863,-0.7359714932146578,0.04814302959005932,-0.12305412354758256,1.6715569617811408,2.0745801394587766,0.7791302398630626,1.0482587302020392,-1.1678912876848446,1.263583917510746,-0.253238996150209,-0.6181556267760062,-0.8355497157259741,-0.4456114734613002,-1.1722929990614934,-0.08545854991763703,2.0785969635440167,-0.40398453428341075,1.0873353295276,0.42511068354198805,-0.0033678520541824295,-1.3549523529566934,-0.42379541001503257,1.382897332093699,-0.29587332813556927,0.5341507413011909,0.3117099648053353,-1.3173151091460906,-0.7615947687873367],\"yaxis\":\"y\",\"type\":\"scatter\"}],                        {\"template\":{\"data\":{\"bar\":[{\"error_x\":{\"color\":\"#f2f5fa\"},\"error_y\":{\"color\":\"#f2f5fa\"},\"marker\":{\"line\":{\"color\":\"rgb(17,17,17)\",\"width\":0.5},\"pattern\":{\"fillmode\":\"overlay\",\"size\":10,\"solidity\":0.2}},\"type\":\"bar\"}],\"barpolar\":[{\"marker\":{\"line\":{\"color\":\"rgb(17,17,17)\",\"width\":0.5},\"pattern\":{\"fillmode\":\"overlay\",\"size\":10,\"solidity\":0.2}},\"type\":\"barpolar\"}],\"carpet\":[{\"aaxis\":{\"endlinecolor\":\"#A2B1C6\",\"gridcolor\":\"#506784\",\"linecolor\":\"#506784\",\"minorgridcolor\":\"#506784\",\"startlinecolor\":\"#A2B1C6\"},\"baxis\":{\"endlinecolor\":\"#A2B1C6\",\"gridcolor\":\"#506784\",\"linecolor\":\"#506784\",\"minorgridcolor\":\"#506784\",\"startlinecolor\":\"#A2B1C6\"},\"type\":\"carpet\"}],\"choropleth\":[{\"colorbar\":{\"outlinewidth\":0,\"ticks\":\"\"},\"type\":\"choropleth\"}],\"contour\":[{\"colorbar\":{\"outlinewidth\":0,\"ticks\":\"\"},\"colorscale\":[[0.0,\"#0d0887\"],[0.1111111111111111,\"#46039f\"],[0.2222222222222222,\"#7201a8\"],[0.3333333333333333,\"#9c179e\"],[0.4444444444444444,\"#bd3786\"],[0.5555555555555556,\"#d8576b\"],[0.6666666666666666,\"#ed7953\"],[0.7777777777777778,\"#fb9f3a\"],[0.8888888888888888,\"#fdca26\"],[1.0,\"#f0f921\"]],\"type\":\"contour\"}],\"contourcarpet\":[{\"colorbar\":{\"outlinewidth\":0,\"ticks\":\"\"},\"type\":\"contourcarpet\"}],\"heatmap\":[{\"colorbar\":{\"outlinewidth\":0,\"ticks\":\"\"},\"colorscale\":[[0.0,\"#0d0887\"],[0.1111111111111111,\"#46039f\"],[0.2222222222222222,\"#7201a8\"],[0.3333333333333333,\"#9c179e\"],[0.4444444444444444,\"#bd3786\"],[0.5555555555555556,\"#d8576b\"],[0.6666666666666666,\"#ed7953\"],[0.7777777777777778,\"#fb9f3a\"],[0.8888888888888888,\"#fdca26\"],[1.0,\"#f0f921\"]],\"type\":\"heatmap\"}],\"heatmapgl\":[{\"colorbar\":{\"outlinewidth\":0,\"ticks\":\"\"},\"colorscale\":[[0.0,\"#0d0887\"],[0.1111111111111111,\"#46039f\"],[0.2222222222222222,\"#7201a8\"],[0.3333333333333333,\"#9c179e\"],[0.4444444444444444,\"#bd3786\"],[0.5555555555555556,\"#d8576b\"],[0.6666666666666666,\"#ed7953\"],[0.7777777777777778,\"#fb9f3a\"],[0.8888888888888888,\"#fdca26\"],[1.0,\"#f0f921\"]],\"type\":\"heatmapgl\"}],\"histogram\":[{\"marker\":{\"pattern\":{\"fillmode\":\"overlay\",\"size\":10,\"solidity\":0.2}},\"type\":\"histogram\"}],\"histogram2d\":[{\"colorbar\":{\"outlinewidth\":0,\"ticks\":\"\"},\"colorscale\":[[0.0,\"#0d0887\"],[0.1111111111111111,\"#46039f\"],[0.2222222222222222,\"#7201a8\"],[0.3333333333333333,\"#9c179e\"],[0.4444444444444444,\"#bd3786\"],[0.5555555555555556,\"#d8576b\"],[0.6666666666666666,\"#ed7953\"],[0.7777777777777778,\"#fb9f3a\"],[0.8888888888888888,\"#fdca26\"],[1.0,\"#f0f921\"]],\"type\":\"histogram2d\"}],\"histogram2dcontour\":[{\"colorbar\":{\"outlinewidth\":0,\"ticks\":\"\"},\"colorscale\":[[0.0,\"#0d0887\"],[0.1111111111111111,\"#46039f\"],[0.2222222222222222,\"#7201a8\"],[0.3333333333333333,\"#9c179e\"],[0.4444444444444444,\"#bd3786\"],[0.5555555555555556,\"#d8576b\"],[0.6666666666666666,\"#ed7953\"],[0.7777777777777778,\"#fb9f3a\"],[0.8888888888888888,\"#fdca26\"],[1.0,\"#f0f921\"]],\"type\":\"histogram2dcontour\"}],\"mesh3d\":[{\"colorbar\":{\"outlinewidth\":0,\"ticks\":\"\"},\"type\":\"mesh3d\"}],\"parcoords\":[{\"line\":{\"colorbar\":{\"outlinewidth\":0,\"ticks\":\"\"}},\"type\":\"parcoords\"}],\"pie\":[{\"automargin\":true,\"type\":\"pie\"}],\"scatter\":[{\"marker\":{\"line\":{\"color\":\"#283442\"}},\"type\":\"scatter\"}],\"scatter3d\":[{\"line\":{\"colorbar\":{\"outlinewidth\":0,\"ticks\":\"\"}},\"marker\":{\"colorbar\":{\"outlinewidth\":0,\"ticks\":\"\"}},\"type\":\"scatter3d\"}],\"scattercarpet\":[{\"marker\":{\"colorbar\":{\"outlinewidth\":0,\"ticks\":\"\"}},\"type\":\"scattercarpet\"}],\"scattergeo\":[{\"marker\":{\"colorbar\":{\"outlinewidth\":0,\"ticks\":\"\"}},\"type\":\"scattergeo\"}],\"scattergl\":[{\"marker\":{\"line\":{\"color\":\"#283442\"}},\"type\":\"scattergl\"}],\"scattermapbox\":[{\"marker\":{\"colorbar\":{\"outlinewidth\":0,\"ticks\":\"\"}},\"type\":\"scattermapbox\"}],\"scatterpolar\":[{\"marker\":{\"colorbar\":{\"outlinewidth\":0,\"ticks\":\"\"}},\"type\":\"scatterpolar\"}],\"scatterpolargl\":[{\"marker\":{\"colorbar\":{\"outlinewidth\":0,\"ticks\":\"\"}},\"type\":\"scatterpolargl\"}],\"scatterternary\":[{\"marker\":{\"colorbar\":{\"outlinewidth\":0,\"ticks\":\"\"}},\"type\":\"scatterternary\"}],\"surface\":[{\"colorbar\":{\"outlinewidth\":0,\"ticks\":\"\"},\"colorscale\":[[0.0,\"#0d0887\"],[0.1111111111111111,\"#46039f\"],[0.2222222222222222,\"#7201a8\"],[0.3333333333333333,\"#9c179e\"],[0.4444444444444444,\"#bd3786\"],[0.5555555555555556,\"#d8576b\"],[0.6666666666666666,\"#ed7953\"],[0.7777777777777778,\"#fb9f3a\"],[0.8888888888888888,\"#fdca26\"],[1.0,\"#f0f921\"]],\"type\":\"surface\"}],\"table\":[{\"cells\":{\"fill\":{\"color\":\"#506784\"},\"line\":{\"color\":\"rgb(17,17,17)\"}},\"header\":{\"fill\":{\"color\":\"#2a3f5f\"},\"line\":{\"color\":\"rgb(17,17,17)\"}},\"type\":\"table\"}]},\"layout\":{\"annotationdefaults\":{\"arrowcolor\":\"#f2f5fa\",\"arrowhead\":0,\"arrowwidth\":1},\"autotypenumbers\":\"strict\",\"coloraxis\":{\"colorbar\":{\"outlinewidth\":0,\"ticks\":\"\"}},\"colorscale\":{\"diverging\":[[0,\"#8e0152\"],[0.1,\"#c51b7d\"],[0.2,\"#de77ae\"],[0.3,\"#f1b6da\"],[0.4,\"#fde0ef\"],[0.5,\"#f7f7f7\"],[0.6,\"#e6f5d0\"],[0.7,\"#b8e186\"],[0.8,\"#7fbc41\"],[0.9,\"#4d9221\"],[1,\"#276419\"]],\"sequential\":[[0.0,\"#0d0887\"],[0.1111111111111111,\"#46039f\"],[0.2222222222222222,\"#7201a8\"],[0.3333333333333333,\"#9c179e\"],[0.4444444444444444,\"#bd3786\"],[0.5555555555555556,\"#d8576b\"],[0.6666666666666666,\"#ed7953\"],[0.7777777777777778,\"#fb9f3a\"],[0.8888888888888888,\"#fdca26\"],[1.0,\"#f0f921\"]],\"sequentialminus\":[[0.0,\"#0d0887\"],[0.1111111111111111,\"#46039f\"],[0.2222222222222222,\"#7201a8\"],[0.3333333333333333,\"#9c179e\"],[0.4444444444444444,\"#bd3786\"],[0.5555555555555556,\"#d8576b\"],[0.6666666666666666,\"#ed7953\"],[0.7777777777777778,\"#fb9f3a\"],[0.8888888888888888,\"#fdca26\"],[1.0,\"#f0f921\"]]},\"colorway\":[\"#636efa\",\"#EF553B\",\"#00cc96\",\"#ab63fa\",\"#FFA15A\",\"#19d3f3\",\"#FF6692\",\"#B6E880\",\"#FF97FF\",\"#FECB52\"],\"font\":{\"color\":\"#f2f5fa\"},\"geo\":{\"bgcolor\":\"rgb(17,17,17)\",\"lakecolor\":\"rgb(17,17,17)\",\"landcolor\":\"rgb(17,17,17)\",\"showlakes\":true,\"showland\":true,\"subunitcolor\":\"#506784\"},\"hoverlabel\":{\"align\":\"left\"},\"hovermode\":\"closest\",\"mapbox\":{\"style\":\"dark\"},\"paper_bgcolor\":\"rgb(17,17,17)\",\"plot_bgcolor\":\"rgb(17,17,17)\",\"polar\":{\"angularaxis\":{\"gridcolor\":\"#506784\",\"linecolor\":\"#506784\",\"ticks\":\"\"},\"bgcolor\":\"rgb(17,17,17)\",\"radialaxis\":{\"gridcolor\":\"#506784\",\"linecolor\":\"#506784\",\"ticks\":\"\"}},\"scene\":{\"xaxis\":{\"backgroundcolor\":\"rgb(17,17,17)\",\"gridcolor\":\"#506784\",\"gridwidth\":2,\"linecolor\":\"#506784\",\"showbackground\":true,\"ticks\":\"\",\"zerolinecolor\":\"#C8D4E3\"},\"yaxis\":{\"backgroundcolor\":\"rgb(17,17,17)\",\"gridcolor\":\"#506784\",\"gridwidth\":2,\"linecolor\":\"#506784\",\"showbackground\":true,\"ticks\":\"\",\"zerolinecolor\":\"#C8D4E3\"},\"zaxis\":{\"backgroundcolor\":\"rgb(17,17,17)\",\"gridcolor\":\"#506784\",\"gridwidth\":2,\"linecolor\":\"#506784\",\"showbackground\":true,\"ticks\":\"\",\"zerolinecolor\":\"#C8D4E3\"}},\"shapedefaults\":{\"line\":{\"color\":\"#f2f5fa\"}},\"sliderdefaults\":{\"bgcolor\":\"#C8D4E3\",\"bordercolor\":\"rgb(17,17,17)\",\"borderwidth\":1,\"tickwidth\":0},\"ternary\":{\"aaxis\":{\"gridcolor\":\"#506784\",\"linecolor\":\"#506784\",\"ticks\":\"\"},\"baxis\":{\"gridcolor\":\"#506784\",\"linecolor\":\"#506784\",\"ticks\":\"\"},\"bgcolor\":\"rgb(17,17,17)\",\"caxis\":{\"gridcolor\":\"#506784\",\"linecolor\":\"#506784\",\"ticks\":\"\"}},\"title\":{\"x\":0.05},\"updatemenudefaults\":{\"bgcolor\":\"#506784\",\"borderwidth\":0},\"xaxis\":{\"automargin\":true,\"gridcolor\":\"#283442\",\"linecolor\":\"#506784\",\"ticks\":\"\",\"title\":{\"standoff\":15},\"zerolinecolor\":\"#283442\",\"zerolinewidth\":2},\"yaxis\":{\"automargin\":true,\"gridcolor\":\"#283442\",\"linecolor\":\"#506784\",\"ticks\":\"\",\"title\":{\"standoff\":15},\"zerolinecolor\":\"#283442\",\"zerolinewidth\":2}}},\"xaxis\":{\"anchor\":\"y\",\"domain\":[0.0,1.0],\"title\":{\"text\":\"Component1\"}},\"yaxis\":{\"anchor\":\"x\",\"domain\":[0.0,1.0],\"title\":{\"text\":\"Component2\"}},\"coloraxis\":{\"colorbar\":{\"title\":{\"text\":\"Cluster\"}},\"colorscale\":[[0.0,\"#0d0887\"],[0.1111111111111111,\"#46039f\"],[0.2222222222222222,\"#7201a8\"],[0.3333333333333333,\"#9c179e\"],[0.4444444444444444,\"#bd3786\"],[0.5555555555555556,\"#d8576b\"],[0.6666666666666666,\"#ed7953\"],[0.7777777777777778,\"#fb9f3a\"],[0.8888888888888888,\"#fdca26\"],[1.0,\"#f0f921\"]]},\"legend\":{\"tracegroupgap\":0},\"title\":{\"text\":\"Clusters K-Means\"}},                        {\"responsive\": true}                    ).then(function(){\n",
       "                            \n",
       "var gd = document.getElementById('038fba02-50e5-40b1-8522-d5d2df291747');\n",
       "var x = new MutationObserver(function (mutations, observer) {{\n",
       "        var display = window.getComputedStyle(gd).display;\n",
       "        if (!display || display === 'none') {{\n",
       "            console.log([gd, 'removed!']);\n",
       "            Plotly.purge(gd);\n",
       "            observer.disconnect();\n",
       "        }}\n",
       "}});\n",
       "\n",
       "// Listen for the removal of the full notebook cells\n",
       "var notebookContainer = gd.closest('#notebook-container');\n",
       "if (notebookContainer) {{\n",
       "    x.observe(notebookContainer, {childList: true});\n",
       "}}\n",
       "\n",
       "// Listen for the clearing of the current output cell\n",
       "var outputEl = gd.closest('.output');\n",
       "if (outputEl) {{\n",
       "    x.observe(outputEl, {childList: true});\n",
       "}}\n",
       "\n",
       "                        })                };                            </script>        </div>\n",
       "</body>\n",
       "</html>"
      ]
     },
     "metadata": {},
     "output_type": "display_data"
    }
   ],
   "source": [
    "px.scatter(pca_kmeans_df, x='Component1', y='Component2', color='Cluster', title='Clusters K-Means')"
   ]
  },
  {
   "cell_type": "markdown",
   "metadata": {
    "id": "nld_ur50OX1x"
   },
   "source": [
    "## Clustering with KModes"
   ]
  },
  {
   "cell_type": "code",
   "execution_count": 270,
   "metadata": {
    "id": "XAxWsr_f0xtE"
   },
   "outputs": [],
   "source": [
    "from kmodes.kprototypes import KPrototypes"
   ]
  },
  {
   "cell_type": "code",
   "execution_count": 271,
   "metadata": {
    "id": "XUkWNhcQO_to"
   },
   "outputs": [],
   "source": [
    "data = df.copy()"
   ]
  },
  {
   "cell_type": "code",
   "execution_count": 272,
   "metadata": {
    "colab": {
     "base_uri": "https://localhost:8080/",
     "height": 156
    },
    "id": "GMJ9wSu5R8sX",
    "outputId": "18eb363a-a7b3-43ea-e3b3-7931fab72e02"
   },
   "outputs": [
    {
     "data": {
      "text/html": [
       "\n",
       "  <div id=\"df-9e8419e3-c7bd-44dc-b7a3-72f69e916959\">\n",
       "    <div class=\"colab-df-container\">\n",
       "      <div>\n",
       "<style scoped>\n",
       "    .dataframe tbody tr th:only-of-type {\n",
       "        vertical-align: middle;\n",
       "    }\n",
       "\n",
       "    .dataframe tbody tr th {\n",
       "        vertical-align: top;\n",
       "    }\n",
       "\n",
       "    .dataframe thead th {\n",
       "        text-align: right;\n",
       "    }\n",
       "</style>\n",
       "<table border=\"1\" class=\"dataframe\">\n",
       "  <thead>\n",
       "    <tr style=\"text-align: right;\">\n",
       "      <th></th>\n",
       "      <th>Age</th>\n",
       "      <th>Sex</th>\n",
       "      <th>Job</th>\n",
       "      <th>Housing</th>\n",
       "      <th>Saving accounts</th>\n",
       "      <th>Checking account</th>\n",
       "      <th>Credit amount</th>\n",
       "      <th>Duration</th>\n",
       "      <th>Purpose</th>\n",
       "      <th>Age Cohorte</th>\n",
       "    </tr>\n",
       "  </thead>\n",
       "  <tbody>\n",
       "    <tr>\n",
       "      <th>0</th>\n",
       "      <td>67</td>\n",
       "      <td>male</td>\n",
       "      <td>2</td>\n",
       "      <td>own</td>\n",
       "      <td>unknown</td>\n",
       "      <td>little</td>\n",
       "      <td>1169</td>\n",
       "      <td>6</td>\n",
       "      <td>radio/TV</td>\n",
       "      <td>51-75</td>\n",
       "    </tr>\n",
       "    <tr>\n",
       "      <th>1</th>\n",
       "      <td>22</td>\n",
       "      <td>female</td>\n",
       "      <td>2</td>\n",
       "      <td>own</td>\n",
       "      <td>little</td>\n",
       "      <td>moderate</td>\n",
       "      <td>5951</td>\n",
       "      <td>48</td>\n",
       "      <td>radio/TV</td>\n",
       "      <td>0-25</td>\n",
       "    </tr>\n",
       "  </tbody>\n",
       "</table>\n",
       "</div>\n",
       "      <button class=\"colab-df-convert\" onclick=\"convertToInteractive('df-9e8419e3-c7bd-44dc-b7a3-72f69e916959')\"\n",
       "              title=\"Convert this dataframe to an interactive table.\"\n",
       "              style=\"display:none;\">\n",
       "        \n",
       "  <svg xmlns=\"http://www.w3.org/2000/svg\" height=\"24px\"viewBox=\"0 0 24 24\"\n",
       "       width=\"24px\">\n",
       "    <path d=\"M0 0h24v24H0V0z\" fill=\"none\"/>\n",
       "    <path d=\"M18.56 5.44l.94 2.06.94-2.06 2.06-.94-2.06-.94-.94-2.06-.94 2.06-2.06.94zm-11 1L8.5 8.5l.94-2.06 2.06-.94-2.06-.94L8.5 2.5l-.94 2.06-2.06.94zm10 10l.94 2.06.94-2.06 2.06-.94-2.06-.94-.94-2.06-.94 2.06-2.06.94z\"/><path d=\"M17.41 7.96l-1.37-1.37c-.4-.4-.92-.59-1.43-.59-.52 0-1.04.2-1.43.59L10.3 9.45l-7.72 7.72c-.78.78-.78 2.05 0 2.83L4 21.41c.39.39.9.59 1.41.59.51 0 1.02-.2 1.41-.59l7.78-7.78 2.81-2.81c.8-.78.8-2.07 0-2.86zM5.41 20L4 18.59l7.72-7.72 1.47 1.35L5.41 20z\"/>\n",
       "  </svg>\n",
       "      </button>\n",
       "      \n",
       "  <style>\n",
       "    .colab-df-container {\n",
       "      display:flex;\n",
       "      flex-wrap:wrap;\n",
       "      gap: 12px;\n",
       "    }\n",
       "\n",
       "    .colab-df-convert {\n",
       "      background-color: #E8F0FE;\n",
       "      border: none;\n",
       "      border-radius: 50%;\n",
       "      cursor: pointer;\n",
       "      display: none;\n",
       "      fill: #1967D2;\n",
       "      height: 32px;\n",
       "      padding: 0 0 0 0;\n",
       "      width: 32px;\n",
       "    }\n",
       "\n",
       "    .colab-df-convert:hover {\n",
       "      background-color: #E2EBFA;\n",
       "      box-shadow: 0px 1px 2px rgba(60, 64, 67, 0.3), 0px 1px 3px 1px rgba(60, 64, 67, 0.15);\n",
       "      fill: #174EA6;\n",
       "    }\n",
       "\n",
       "    [theme=dark] .colab-df-convert {\n",
       "      background-color: #3B4455;\n",
       "      fill: #D2E3FC;\n",
       "    }\n",
       "\n",
       "    [theme=dark] .colab-df-convert:hover {\n",
       "      background-color: #434B5C;\n",
       "      box-shadow: 0px 1px 3px 1px rgba(0, 0, 0, 0.15);\n",
       "      filter: drop-shadow(0px 1px 2px rgba(0, 0, 0, 0.3));\n",
       "      fill: #FFFFFF;\n",
       "    }\n",
       "  </style>\n",
       "\n",
       "      <script>\n",
       "        const buttonEl =\n",
       "          document.querySelector('#df-9e8419e3-c7bd-44dc-b7a3-72f69e916959 button.colab-df-convert');\n",
       "        buttonEl.style.display =\n",
       "          google.colab.kernel.accessAllowed ? 'block' : 'none';\n",
       "\n",
       "        async function convertToInteractive(key) {\n",
       "          const element = document.querySelector('#df-9e8419e3-c7bd-44dc-b7a3-72f69e916959');\n",
       "          const dataTable =\n",
       "            await google.colab.kernel.invokeFunction('convertToInteractive',\n",
       "                                                     [key], {});\n",
       "          if (!dataTable) return;\n",
       "\n",
       "          const docLinkHtml = 'Like what you see? Visit the ' +\n",
       "            '<a target=\"_blank\" href=https://colab.research.google.com/notebooks/data_table.ipynb>data table notebook</a>'\n",
       "            + ' to learn more about interactive tables.';\n",
       "          element.innerHTML = '';\n",
       "          dataTable['output_type'] = 'display_data';\n",
       "          await google.colab.output.renderOutput(dataTable, element);\n",
       "          const docLink = document.createElement('div');\n",
       "          docLink.innerHTML = docLinkHtml;\n",
       "          element.appendChild(docLink);\n",
       "        }\n",
       "      </script>\n",
       "    </div>\n",
       "  </div>\n",
       "  "
      ],
      "text/plain": [
       "   Age     Sex  Job Housing Saving accounts Checking account  Credit amount  \\\n",
       "0   67    male    2     own         unknown           little           1169   \n",
       "1   22  female    2     own          little         moderate           5951   \n",
       "\n",
       "   Duration   Purpose Age Cohorte  \n",
       "0         6  radio/TV       51-75  \n",
       "1        48  radio/TV        0-25  "
      ]
     },
     "execution_count": 272,
     "metadata": {},
     "output_type": "execute_result"
    }
   ],
   "source": [
    "data.head(2)"
   ]
  },
  {
   "cell_type": "code",
   "execution_count": 273,
   "metadata": {
    "id": "qvZb5xQq9TsM"
   },
   "outputs": [],
   "source": [
    "data[['Age', 'Credit amount', 'Duration']] = scaler.fit_transform(\n",
    "    data[['Age', 'Credit amount', 'Duration']]\n",
    ")"
   ]
  },
  {
   "cell_type": "code",
   "execution_count": 278,
   "metadata": {
    "colab": {
     "base_uri": "https://localhost:8080/",
     "height": 206
    },
    "id": "i-ZNDcz79g1I",
    "outputId": "e2bff8da-336a-49e0-9c55-2c7ee1a906c6"
   },
   "outputs": [
    {
     "data": {
      "text/html": [
       "\n",
       "  <div id=\"df-281d1f6c-ed22-47df-b89e-b0ddd7fd1e94\">\n",
       "    <div class=\"colab-df-container\">\n",
       "      <div>\n",
       "<style scoped>\n",
       "    .dataframe tbody tr th:only-of-type {\n",
       "        vertical-align: middle;\n",
       "    }\n",
       "\n",
       "    .dataframe tbody tr th {\n",
       "        vertical-align: top;\n",
       "    }\n",
       "\n",
       "    .dataframe thead th {\n",
       "        text-align: right;\n",
       "    }\n",
       "</style>\n",
       "<table border=\"1\" class=\"dataframe\">\n",
       "  <thead>\n",
       "    <tr style=\"text-align: right;\">\n",
       "      <th></th>\n",
       "      <th>Age</th>\n",
       "      <th>Housing</th>\n",
       "      <th>Saving accounts</th>\n",
       "      <th>Checking account</th>\n",
       "      <th>Credit amount</th>\n",
       "      <th>Duration</th>\n",
       "      <th>Purpose</th>\n",
       "    </tr>\n",
       "  </thead>\n",
       "  <tbody>\n",
       "    <tr>\n",
       "      <th>0</th>\n",
       "      <td>2.766456</td>\n",
       "      <td>own</td>\n",
       "      <td>unknown</td>\n",
       "      <td>little</td>\n",
       "      <td>-0.745131</td>\n",
       "      <td>-1.236478</td>\n",
       "      <td>radio/TV</td>\n",
       "    </tr>\n",
       "    <tr>\n",
       "      <th>1</th>\n",
       "      <td>-1.191404</td>\n",
       "      <td>own</td>\n",
       "      <td>little</td>\n",
       "      <td>moderate</td>\n",
       "      <td>0.949817</td>\n",
       "      <td>2.248194</td>\n",
       "      <td>radio/TV</td>\n",
       "    </tr>\n",
       "    <tr>\n",
       "      <th>2</th>\n",
       "      <td>1.183312</td>\n",
       "      <td>own</td>\n",
       "      <td>little</td>\n",
       "      <td>unknown</td>\n",
       "      <td>-0.416562</td>\n",
       "      <td>-0.738668</td>\n",
       "      <td>education</td>\n",
       "    </tr>\n",
       "    <tr>\n",
       "      <th>3</th>\n",
       "      <td>0.831502</td>\n",
       "      <td>free</td>\n",
       "      <td>little</td>\n",
       "      <td>little</td>\n",
       "      <td>1.634247</td>\n",
       "      <td>1.750384</td>\n",
       "      <td>furniture/equipment</td>\n",
       "    </tr>\n",
       "    <tr>\n",
       "      <th>4</th>\n",
       "      <td>1.535122</td>\n",
       "      <td>free</td>\n",
       "      <td>little</td>\n",
       "      <td>little</td>\n",
       "      <td>0.566664</td>\n",
       "      <td>0.256953</td>\n",
       "      <td>car</td>\n",
       "    </tr>\n",
       "  </tbody>\n",
       "</table>\n",
       "</div>\n",
       "      <button class=\"colab-df-convert\" onclick=\"convertToInteractive('df-281d1f6c-ed22-47df-b89e-b0ddd7fd1e94')\"\n",
       "              title=\"Convert this dataframe to an interactive table.\"\n",
       "              style=\"display:none;\">\n",
       "        \n",
       "  <svg xmlns=\"http://www.w3.org/2000/svg\" height=\"24px\"viewBox=\"0 0 24 24\"\n",
       "       width=\"24px\">\n",
       "    <path d=\"M0 0h24v24H0V0z\" fill=\"none\"/>\n",
       "    <path d=\"M18.56 5.44l.94 2.06.94-2.06 2.06-.94-2.06-.94-.94-2.06-.94 2.06-2.06.94zm-11 1L8.5 8.5l.94-2.06 2.06-.94-2.06-.94L8.5 2.5l-.94 2.06-2.06.94zm10 10l.94 2.06.94-2.06 2.06-.94-2.06-.94-.94-2.06-.94 2.06-2.06.94z\"/><path d=\"M17.41 7.96l-1.37-1.37c-.4-.4-.92-.59-1.43-.59-.52 0-1.04.2-1.43.59L10.3 9.45l-7.72 7.72c-.78.78-.78 2.05 0 2.83L4 21.41c.39.39.9.59 1.41.59.51 0 1.02-.2 1.41-.59l7.78-7.78 2.81-2.81c.8-.78.8-2.07 0-2.86zM5.41 20L4 18.59l7.72-7.72 1.47 1.35L5.41 20z\"/>\n",
       "  </svg>\n",
       "      </button>\n",
       "      \n",
       "  <style>\n",
       "    .colab-df-container {\n",
       "      display:flex;\n",
       "      flex-wrap:wrap;\n",
       "      gap: 12px;\n",
       "    }\n",
       "\n",
       "    .colab-df-convert {\n",
       "      background-color: #E8F0FE;\n",
       "      border: none;\n",
       "      border-radius: 50%;\n",
       "      cursor: pointer;\n",
       "      display: none;\n",
       "      fill: #1967D2;\n",
       "      height: 32px;\n",
       "      padding: 0 0 0 0;\n",
       "      width: 32px;\n",
       "    }\n",
       "\n",
       "    .colab-df-convert:hover {\n",
       "      background-color: #E2EBFA;\n",
       "      box-shadow: 0px 1px 2px rgba(60, 64, 67, 0.3), 0px 1px 3px 1px rgba(60, 64, 67, 0.15);\n",
       "      fill: #174EA6;\n",
       "    }\n",
       "\n",
       "    [theme=dark] .colab-df-convert {\n",
       "      background-color: #3B4455;\n",
       "      fill: #D2E3FC;\n",
       "    }\n",
       "\n",
       "    [theme=dark] .colab-df-convert:hover {\n",
       "      background-color: #434B5C;\n",
       "      box-shadow: 0px 1px 3px 1px rgba(0, 0, 0, 0.15);\n",
       "      filter: drop-shadow(0px 1px 2px rgba(0, 0, 0, 0.3));\n",
       "      fill: #FFFFFF;\n",
       "    }\n",
       "  </style>\n",
       "\n",
       "      <script>\n",
       "        const buttonEl =\n",
       "          document.querySelector('#df-281d1f6c-ed22-47df-b89e-b0ddd7fd1e94 button.colab-df-convert');\n",
       "        buttonEl.style.display =\n",
       "          google.colab.kernel.accessAllowed ? 'block' : 'none';\n",
       "\n",
       "        async function convertToInteractive(key) {\n",
       "          const element = document.querySelector('#df-281d1f6c-ed22-47df-b89e-b0ddd7fd1e94');\n",
       "          const dataTable =\n",
       "            await google.colab.kernel.invokeFunction('convertToInteractive',\n",
       "                                                     [key], {});\n",
       "          if (!dataTable) return;\n",
       "\n",
       "          const docLinkHtml = 'Like what you see? Visit the ' +\n",
       "            '<a target=\"_blank\" href=https://colab.research.google.com/notebooks/data_table.ipynb>data table notebook</a>'\n",
       "            + ' to learn more about interactive tables.';\n",
       "          element.innerHTML = '';\n",
       "          dataTable['output_type'] = 'display_data';\n",
       "          await google.colab.output.renderOutput(dataTable, element);\n",
       "          const docLink = document.createElement('div');\n",
       "          docLink.innerHTML = docLinkHtml;\n",
       "          element.appendChild(docLink);\n",
       "        }\n",
       "      </script>\n",
       "    </div>\n",
       "  </div>\n",
       "  "
      ],
      "text/plain": [
       "        Age Housing Saving accounts Checking account  Credit amount  Duration  \\\n",
       "0  2.766456     own         unknown           little      -0.745131 -1.236478   \n",
       "1 -1.191404     own          little         moderate       0.949817  2.248194   \n",
       "2  1.183312     own          little          unknown      -0.416562 -0.738668   \n",
       "3  0.831502    free          little           little       1.634247  1.750384   \n",
       "4  1.535122    free          little           little       0.566664  0.256953   \n",
       "\n",
       "               Purpose  \n",
       "0             radio/TV  \n",
       "1             radio/TV  \n",
       "2            education  \n",
       "3  furniture/equipment  \n",
       "4                  car  "
      ]
     },
     "execution_count": 278,
     "metadata": {},
     "output_type": "execute_result"
    }
   ],
   "source": [
    "data.head()"
   ]
  },
  {
   "cell_type": "code",
   "execution_count": 281,
   "metadata": {
    "id": "4TLai6WaBHiC"
   },
   "outputs": [],
   "source": [
    "# Get the position of categorical columns\n",
    "cat_columns = [data.columns.get_loc(col) for col in list (data.select_dtypes('object').columns)]"
   ]
  },
  {
   "cell_type": "code",
   "execution_count": 282,
   "metadata": {
    "colab": {
     "base_uri": "https://localhost:8080/"
    },
    "id": "GuGW1fu2BfP3",
    "outputId": "7153febc-68b2-48eb-d8d4-5583700f173b"
   },
   "outputs": [
    {
     "data": {
      "text/plain": [
       "[1, 2, 3, 6]"
      ]
     },
     "execution_count": 282,
     "metadata": {},
     "output_type": "execute_result"
    }
   ],
   "source": [
    "cat_columns"
   ]
  },
  {
   "cell_type": "code",
   "execution_count": 284,
   "metadata": {
    "colab": {
     "base_uri": "https://localhost:8080/"
    },
    "id": "oehYz4DWBo5f",
    "outputId": "e49d3f5b-32a3-4d1a-c426-ea3b386041ba"
   },
   "outputs": [
    {
     "data": {
      "text/plain": [
       "array([[2.7664564848025224, 'own', 'unknown', ..., -0.7451314133870967,\n",
       "        -1.2364778603818776, 'radio/TV'],\n",
       "       [-1.1914039404570154, 'own', 'little', ..., 0.9498167893630399,\n",
       "        2.2481943623946683, 'radio/TV'],\n",
       "       [1.1833123146987072, 'own', 'little', ..., -0.4165624079606273,\n",
       "        -0.738667542842371, 'education'],\n",
       "       ...,\n",
       "       [0.21583532185748686, 'own', 'little', ..., -0.8745032440026969,\n",
       "        -0.738667542842371, 'radio/TV'],\n",
       "       [-1.103451486562359, 'free', 'little', ..., -0.5055276942195742,\n",
       "        1.999289203624915, 'radio/TV'],\n",
       "       [-0.7516416709837335, 'own', 'moderate', ..., 0.4624571534823545,\n",
       "        1.999289203624915, 'car']], dtype=object)"
      ]
     },
     "execution_count": 284,
     "metadata": {},
     "output_type": "execute_result"
    }
   ],
   "source": [
    "data_matrix = data.to_numpy()\n",
    "data_matrix"
   ]
  },
  {
   "cell_type": "code",
   "execution_count": 286,
   "metadata": {
    "id": "GSUO0N6PTjsD"
   },
   "outputs": [],
   "source": [
    "cost = []\n",
    "for k in range(2, 11):\n",
    "  model = KPrototypes(n_clusters=k, random_state=1, n_jobs=-1)\n",
    "  model.fit_predict(data_matrix, categorical=cat_columns)\n",
    "  cost.append(model.cost_)\n",
    "    "
   ]
  },
  {
   "cell_type": "code",
   "execution_count": 287,
   "metadata": {
    "colab": {
     "base_uri": "https://localhost:8080/",
     "height": 337
    },
    "id": "LbRYdgXUUG_M",
    "outputId": "613cb745-ecbd-47d1-b698-39bfe29a5010"
   },
   "outputs": [
    {
     "data": {
      "text/plain": [
       "[<matplotlib.lines.Line2D at 0x7fca5cd4f590>]"
      ]
     },
     "execution_count": 287,
     "metadata": {},
     "output_type": "execute_result"
    },
    {
     "data": {
      "image/png": "[encoded data removed]",
      "text/plain": [
       "<Figure size 864x360 with 1 Axes>"
      ]
     },
     "metadata": {
      "needs_background": "light"
     },
     "output_type": "display_data"
    }
   ],
   "source": [
    "plt.figure(figsize=(12, 5))\n",
    "plt.plot(range(2, 11), cost, '-o')"
   ]
  },
  {
   "cell_type": "markdown",
   "metadata": {
    "id": "UF0Byh4cHh_R"
   },
   "source": [
    "### Number of Clusters using Silhoutte score\n",
    "\n",
    "If we want to use silhoutte score to see the number of clusters with mixed data (numerical and categorical, we have to create a matrix of distances, for this we can use Gower Method"
   ]
  },
  {
   "cell_type": "code",
   "execution_count": 289,
   "metadata": {
    "id": "zHuWH0O2qO1n"
   },
   "outputs": [],
   "source": [
    "import gower"
   ]
  },
  {
   "cell_type": "code",
   "execution_count": 290,
   "metadata": {
    "colab": {
     "base_uri": "https://localhost:8080/"
    },
    "id": "2jXCeiW4qT3w",
    "outputId": "84f420f4-01b6-4794-8ca6-bc2f9ae10f66"
   },
   "outputs": [
    {
     "data": {
      "text/plain": [
       "array([[0.        , 0.5263345 , 0.49438155, ..., 0.37516803, 0.48520568,\n",
       "        0.6393258 ],\n",
       "       [0.5263345 , 0.        , 0.4605244 , ..., 0.29976183, 0.32684314,\n",
       "        0.31558013],\n",
       "       [0.49438155, 0.4605244 , 0.        , ..., 0.18107416, 0.5661987 ,\n",
       "        0.5735157 ],\n",
       "       ...,\n",
       "       [0.37516803, 0.29976183, 0.18107416, ..., 0.        , 0.40149012,\n",
       "        0.5556103 ],\n",
       "       [0.48520568, 0.32684314, 0.5661987 , ..., 0.40149012, 0.        ,\n",
       "        0.60309976],\n",
       "       [0.6393258 , 0.31558013, 0.5735157 , ..., 0.5556103 , 0.60309976,\n",
       "        0.        ]], dtype=float32)"
      ]
     },
     "execution_count": 290,
     "metadata": {},
     "output_type": "execute_result"
    }
   ],
   "source": [
    "#Creating distance matrix\n",
    "dist_matrix = gower.gower_matrix(data)\n",
    "dist_matrix"
   ]
  },
  {
   "cell_type": "code",
   "execution_count": 292,
   "metadata": {
    "id": "hFiCmP4SHgi5"
   },
   "outputs": [],
   "source": [
    "silhoutte = []\n",
    "for k in range(2, 11):\n",
    "  model = KPrototypes(n_clusters=k, random_state=1, n_jobs=-1)\n",
    "  labels = model.fit_predict(dist_matrix, categorical=cat_columns)\n",
    "  silhoutte.append( silhouette_score(dist_matrix, labels, metric='precomputed') )"
   ]
  },
  {
   "cell_type": "code",
   "execution_count": 293,
   "metadata": {
    "colab": {
     "base_uri": "https://localhost:8080/",
     "height": 337
    },
    "id": "wL0j9_rCL7LT",
    "outputId": "b048c550-287f-459e-fffb-82d32da1adb0"
   },
   "outputs": [
    {
     "data": {
      "text/plain": [
       "[<matplotlib.lines.Line2D at 0x7fca5acf6490>]"
      ]
     },
     "execution_count": 293,
     "metadata": {},
     "output_type": "execute_result"
    },
    {
     "data": {
      "image/png": "[encoded data removed]",
      "text/plain": [
       "<Figure size 864x360 with 1 Axes>"
      ]
     },
     "metadata": {
      "needs_background": "light"
     },
     "output_type": "display_data"
    }
   ],
   "source": [
    "plt.figure(figsize=(12, 5))\n",
    "plt.plot(range(2, 11), silhoutte , '-o')"
   ]
  },
  {
   "cell_type": "code",
   "execution_count": 316,
   "metadata": {
    "id": "iM3T8zKvqXe8"
   },
   "outputs": [],
   "source": [
    "model = KPrototypes(n_clusters=4, n_jobs=-1 )\n",
    "labels = model.fit_predict(data, categorical=cat_columns)"
   ]
  },
  {
   "cell_type": "code",
   "execution_count": 317,
   "metadata": {
    "id": "m6eIvqrQsJMC"
   },
   "outputs": [],
   "source": [
    "kprop_data = df.assign(Cluster=labels)"
   ]
  },
  {
   "cell_type": "code",
   "execution_count": 324,
   "metadata": {
    "id": "KnEn7JOmsQCu"
   },
   "outputs": [],
   "source": [
    "group_table = kprop_data.groupby('Cluster').mean().round(2)"
   ]
  },
  {
   "cell_type": "code",
   "execution_count": 325,
   "metadata": {
    "colab": {
     "base_uri": "https://localhost:8080/",
     "height": 206
    },
    "id": "4w39GiX1sXbh",
    "outputId": "32bd57bf-fa8f-41a5-87ed-7e62b5aaadfa"
   },
   "outputs": [
    {
     "data": {
      "text/html": [
       "\n",
       "  <div id=\"df-00184d80-6690-4b6c-ad19-cf4448bb89f9\">\n",
       "    <div class=\"colab-df-container\">\n",
       "      <div>\n",
       "<style scoped>\n",
       "    .dataframe tbody tr th:only-of-type {\n",
       "        vertical-align: middle;\n",
       "    }\n",
       "\n",
       "    .dataframe tbody tr th {\n",
       "        vertical-align: top;\n",
       "    }\n",
       "\n",
       "    .dataframe thead th {\n",
       "        text-align: right;\n",
       "    }\n",
       "</style>\n",
       "<table border=\"1\" class=\"dataframe\">\n",
       "  <thead>\n",
       "    <tr style=\"text-align: right;\">\n",
       "      <th></th>\n",
       "      <th>Age</th>\n",
       "      <th>Job</th>\n",
       "      <th>Credit amount</th>\n",
       "      <th>Duration</th>\n",
       "    </tr>\n",
       "    <tr>\n",
       "      <th>Cluster</th>\n",
       "      <th></th>\n",
       "      <th></th>\n",
       "      <th></th>\n",
       "      <th></th>\n",
       "    </tr>\n",
       "  </thead>\n",
       "  <tbody>\n",
       "    <tr>\n",
       "      <th>0</th>\n",
       "      <td>36.53</td>\n",
       "      <td>2.25</td>\n",
       "      <td>9511.96</td>\n",
       "      <td>41.57</td>\n",
       "    </tr>\n",
       "    <tr>\n",
       "      <th>1</th>\n",
       "      <td>29.58</td>\n",
       "      <td>1.80</td>\n",
       "      <td>1711.86</td>\n",
       "      <td>13.06</td>\n",
       "    </tr>\n",
       "    <tr>\n",
       "      <th>2</th>\n",
       "      <td>52.44</td>\n",
       "      <td>1.78</td>\n",
       "      <td>2320.05</td>\n",
       "      <td>15.94</td>\n",
       "    </tr>\n",
       "    <tr>\n",
       "      <th>3</th>\n",
       "      <td>31.45</td>\n",
       "      <td>2.02</td>\n",
       "      <td>3801.38</td>\n",
       "      <td>27.97</td>\n",
       "    </tr>\n",
       "  </tbody>\n",
       "</table>\n",
       "</div>\n",
       "      <button class=\"colab-df-convert\" onclick=\"convertToInteractive('df-00184d80-6690-4b6c-ad19-cf4448bb89f9')\"\n",
       "              title=\"Convert this dataframe to an interactive table.\"\n",
       "              style=\"display:none;\">\n",
       "        \n",
       "  <svg xmlns=\"http://www.w3.org/2000/svg\" height=\"24px\"viewBox=\"0 0 24 24\"\n",
       "       width=\"24px\">\n",
       "    <path d=\"M0 0h24v24H0V0z\" fill=\"none\"/>\n",
       "    <path d=\"M18.56 5.44l.94 2.06.94-2.06 2.06-.94-2.06-.94-.94-2.06-.94 2.06-2.06.94zm-11 1L8.5 8.5l.94-2.06 2.06-.94-2.06-.94L8.5 2.5l-.94 2.06-2.06.94zm10 10l.94 2.06.94-2.06 2.06-.94-2.06-.94-.94-2.06-.94 2.06-2.06.94z\"/><path d=\"M17.41 7.96l-1.37-1.37c-.4-.4-.92-.59-1.43-.59-.52 0-1.04.2-1.43.59L10.3 9.45l-7.72 7.72c-.78.78-.78 2.05 0 2.83L4 21.41c.39.39.9.59 1.41.59.51 0 1.02-.2 1.41-.59l7.78-7.78 2.81-2.81c.8-.78.8-2.07 0-2.86zM5.41 20L4 18.59l7.72-7.72 1.47 1.35L5.41 20z\"/>\n",
       "  </svg>\n",
       "      </button>\n",
       "      \n",
       "  <style>\n",
       "    .colab-df-container {\n",
       "      display:flex;\n",
       "      flex-wrap:wrap;\n",
       "      gap: 12px;\n",
       "    }\n",
       "\n",
       "    .colab-df-convert {\n",
       "      background-color: #E8F0FE;\n",
       "      border: none;\n",
       "      border-radius: 50%;\n",
       "      cursor: pointer;\n",
       "      display: none;\n",
       "      fill: #1967D2;\n",
       "      height: 32px;\n",
       "      padding: 0 0 0 0;\n",
       "      width: 32px;\n",
       "    }\n",
       "\n",
       "    .colab-df-convert:hover {\n",
       "      background-color: #E2EBFA;\n",
       "      box-shadow: 0px 1px 2px rgba(60, 64, 67, 0.3), 0px 1px 3px 1px rgba(60, 64, 67, 0.15);\n",
       "      fill: #174EA6;\n",
       "    }\n",
       "\n",
       "    [theme=dark] .colab-df-convert {\n",
       "      background-color: #3B4455;\n",
       "      fill: #D2E3FC;\n",
       "    }\n",
       "\n",
       "    [theme=dark] .colab-df-convert:hover {\n",
       "      background-color: #434B5C;\n",
       "      box-shadow: 0px 1px 3px 1px rgba(0, 0, 0, 0.15);\n",
       "      filter: drop-shadow(0px 1px 2px rgba(0, 0, 0, 0.3));\n",
       "      fill: #FFFFFF;\n",
       "    }\n",
       "  </style>\n",
       "\n",
       "      <script>\n",
       "        const buttonEl =\n",
       "          document.querySelector('#df-00184d80-6690-4b6c-ad19-cf4448bb89f9 button.colab-df-convert');\n",
       "        buttonEl.style.display =\n",
       "          google.colab.kernel.accessAllowed ? 'block' : 'none';\n",
       "\n",
       "        async function convertToInteractive(key) {\n",
       "          const element = document.querySelector('#df-00184d80-6690-4b6c-ad19-cf4448bb89f9');\n",
       "          const dataTable =\n",
       "            await google.colab.kernel.invokeFunction('convertToInteractive',\n",
       "                                                     [key], {});\n",
       "          if (!dataTable) return;\n",
       "\n",
       "          const docLinkHtml = 'Like what you see? Visit the ' +\n",
       "            '<a target=\"_blank\" href=https://colab.research.google.com/notebooks/data_table.ipynb>data table notebook</a>'\n",
       "            + ' to learn more about interactive tables.';\n",
       "          element.innerHTML = '';\n",
       "          dataTable['output_type'] = 'display_data';\n",
       "          await google.colab.output.renderOutput(dataTable, element);\n",
       "          const docLink = document.createElement('div');\n",
       "          docLink.innerHTML = docLinkHtml;\n",
       "          element.appendChild(docLink);\n",
       "        }\n",
       "      </script>\n",
       "    </div>\n",
       "  </div>\n",
       "  "
      ],
      "text/plain": [
       "           Age   Job  Credit amount  Duration\n",
       "Cluster                                      \n",
       "0        36.53  2.25        9511.96     41.57\n",
       "1        29.58  1.80        1711.86     13.06\n",
       "2        52.44  1.78        2320.05     15.94\n",
       "3        31.45  2.02        3801.38     27.97"
      ]
     },
     "execution_count": 325,
     "metadata": {},
     "output_type": "execute_result"
    }
   ],
   "source": [
    "group_table"
   ]
  },
  {
   "cell_type": "code",
   "execution_count": 377,
   "metadata": {
    "colab": {
     "base_uri": "https://localhost:8080/",
     "height": 206
    },
    "id": "y9WZec4ge_Zy",
    "outputId": "75995bfb-c03c-4195-c568-2ed8ff200b88"
   },
   "outputs": [
    {
     "data": {
      "text/html": [
       "\n",
       "  <div id=\"df-55b6afbc-ad7e-43b7-8bb2-4a1217e2492c\">\n",
       "    <div class=\"colab-df-container\">\n",
       "      <div>\n",
       "<style scoped>\n",
       "    .dataframe tbody tr th:only-of-type {\n",
       "        vertical-align: middle;\n",
       "    }\n",
       "\n",
       "    .dataframe tbody tr th {\n",
       "        vertical-align: top;\n",
       "    }\n",
       "\n",
       "    .dataframe thead th {\n",
       "        text-align: right;\n",
       "    }\n",
       "</style>\n",
       "<table border=\"1\" class=\"dataframe\">\n",
       "  <thead>\n",
       "    <tr style=\"text-align: right;\">\n",
       "      <th></th>\n",
       "      <th>Age</th>\n",
       "      <th>Credit amount</th>\n",
       "      <th>Duration</th>\n",
       "    </tr>\n",
       "    <tr>\n",
       "      <th>Cluster</th>\n",
       "      <th></th>\n",
       "      <th></th>\n",
       "      <th></th>\n",
       "    </tr>\n",
       "  </thead>\n",
       "  <tbody>\n",
       "    <tr>\n",
       "      <th>0</th>\n",
       "      <td>21</td>\n",
       "      <td>5096</td>\n",
       "      <td>6</td>\n",
       "    </tr>\n",
       "    <tr>\n",
       "      <th>1</th>\n",
       "      <td>19</td>\n",
       "      <td>250</td>\n",
       "      <td>4</td>\n",
       "    </tr>\n",
       "    <tr>\n",
       "      <th>2</th>\n",
       "      <td>40</td>\n",
       "      <td>338</td>\n",
       "      <td>4</td>\n",
       "    </tr>\n",
       "    <tr>\n",
       "      <th>3</th>\n",
       "      <td>20</td>\n",
       "      <td>909</td>\n",
       "      <td>11</td>\n",
       "    </tr>\n",
       "  </tbody>\n",
       "</table>\n",
       "</div>\n",
       "      <button class=\"colab-df-convert\" onclick=\"convertToInteractive('df-55b6afbc-ad7e-43b7-8bb2-4a1217e2492c')\"\n",
       "              title=\"Convert this dataframe to an interactive table.\"\n",
       "              style=\"display:none;\">\n",
       "        \n",
       "  <svg xmlns=\"http://www.w3.org/2000/svg\" height=\"24px\"viewBox=\"0 0 24 24\"\n",
       "       width=\"24px\">\n",
       "    <path d=\"M0 0h24v24H0V0z\" fill=\"none\"/>\n",
       "    <path d=\"M18.56 5.44l.94 2.06.94-2.06 2.06-.94-2.06-.94-.94-2.06-.94 2.06-2.06.94zm-11 1L8.5 8.5l.94-2.06 2.06-.94-2.06-.94L8.5 2.5l-.94 2.06-2.06.94zm10 10l.94 2.06.94-2.06 2.06-.94-2.06-.94-.94-2.06-.94 2.06-2.06.94z\"/><path d=\"M17.41 7.96l-1.37-1.37c-.4-.4-.92-.59-1.43-.59-.52 0-1.04.2-1.43.59L10.3 9.45l-7.72 7.72c-.78.78-.78 2.05 0 2.83L4 21.41c.39.39.9.59 1.41.59.51 0 1.02-.2 1.41-.59l7.78-7.78 2.81-2.81c.8-.78.8-2.07 0-2.86zM5.41 20L4 18.59l7.72-7.72 1.47 1.35L5.41 20z\"/>\n",
       "  </svg>\n",
       "      </button>\n",
       "      \n",
       "  <style>\n",
       "    .colab-df-container {\n",
       "      display:flex;\n",
       "      flex-wrap:wrap;\n",
       "      gap: 12px;\n",
       "    }\n",
       "\n",
       "    .colab-df-convert {\n",
       "      background-color: #E8F0FE;\n",
       "      border: none;\n",
       "      border-radius: 50%;\n",
       "      cursor: pointer;\n",
       "      display: none;\n",
       "      fill: #1967D2;\n",
       "      height: 32px;\n",
       "      padding: 0 0 0 0;\n",
       "      width: 32px;\n",
       "    }\n",
       "\n",
       "    .colab-df-convert:hover {\n",
       "      background-color: #E2EBFA;\n",
       "      box-shadow: 0px 1px 2px rgba(60, 64, 67, 0.3), 0px 1px 3px 1px rgba(60, 64, 67, 0.15);\n",
       "      fill: #174EA6;\n",
       "    }\n",
       "\n",
       "    [theme=dark] .colab-df-convert {\n",
       "      background-color: #3B4455;\n",
       "      fill: #D2E3FC;\n",
       "    }\n",
       "\n",
       "    [theme=dark] .colab-df-convert:hover {\n",
       "      background-color: #434B5C;\n",
       "      box-shadow: 0px 1px 3px 1px rgba(0, 0, 0, 0.15);\n",
       "      filter: drop-shadow(0px 1px 2px rgba(0, 0, 0, 0.3));\n",
       "      fill: #FFFFFF;\n",
       "    }\n",
       "  </style>\n",
       "\n",
       "      <script>\n",
       "        const buttonEl =\n",
       "          document.querySelector('#df-55b6afbc-ad7e-43b7-8bb2-4a1217e2492c button.colab-df-convert');\n",
       "        buttonEl.style.display =\n",
       "          google.colab.kernel.accessAllowed ? 'block' : 'none';\n",
       "\n",
       "        async function convertToInteractive(key) {\n",
       "          const element = document.querySelector('#df-55b6afbc-ad7e-43b7-8bb2-4a1217e2492c');\n",
       "          const dataTable =\n",
       "            await google.colab.kernel.invokeFunction('convertToInteractive',\n",
       "                                                     [key], {});\n",
       "          if (!dataTable) return;\n",
       "\n",
       "          const docLinkHtml = 'Like what you see? Visit the ' +\n",
       "            '<a target=\"_blank\" href=https://colab.research.google.com/notebooks/data_table.ipynb>data table notebook</a>'\n",
       "            + ' to learn more about interactive tables.';\n",
       "          element.innerHTML = '';\n",
       "          dataTable['output_type'] = 'display_data';\n",
       "          await google.colab.output.renderOutput(dataTable, element);\n",
       "          const docLink = document.createElement('div');\n",
       "          docLink.innerHTML = docLinkHtml;\n",
       "          element.appendChild(docLink);\n",
       "        }\n",
       "      </script>\n",
       "    </div>\n",
       "  </div>\n",
       "  "
      ],
      "text/plain": [
       "         Age  Credit amount  Duration\n",
       "Cluster                              \n",
       "0         21           5096         6\n",
       "1         19            250         4\n",
       "2         40            338         4\n",
       "3         20            909        11"
      ]
     },
     "execution_count": 377,
     "metadata": {},
     "output_type": "execute_result"
    }
   ],
   "source": [
    "group_table = kprop_data.groupby('Cluster').min().round(2)[['Age', 'Credit amount', 'Duration']]\n",
    "group_table"
   ]
  },
  {
   "cell_type": "code",
   "execution_count": 378,
   "metadata": {
    "colab": {
     "base_uri": "https://localhost:8080/",
     "height": 206
    },
    "id": "UuSfQCQifU3H",
    "outputId": "07ab7f14-181b-496c-b020-658517ea31e3"
   },
   "outputs": [
    {
     "data": {
      "text/html": [
       "\n",
       "  <div id=\"df-0041f457-24b3-4711-95d7-f51dea6ef5a9\">\n",
       "    <div class=\"colab-df-container\">\n",
       "      <div>\n",
       "<style scoped>\n",
       "    .dataframe tbody tr th:only-of-type {\n",
       "        vertical-align: middle;\n",
       "    }\n",
       "\n",
       "    .dataframe tbody tr th {\n",
       "        vertical-align: top;\n",
       "    }\n",
       "\n",
       "    .dataframe thead th {\n",
       "        text-align: right;\n",
       "    }\n",
       "</style>\n",
       "<table border=\"1\" class=\"dataframe\">\n",
       "  <thead>\n",
       "    <tr style=\"text-align: right;\">\n",
       "      <th></th>\n",
       "      <th>Age</th>\n",
       "      <th>Credit amount</th>\n",
       "      <th>Duration</th>\n",
       "    </tr>\n",
       "    <tr>\n",
       "      <th>Cluster</th>\n",
       "      <th></th>\n",
       "      <th></th>\n",
       "      <th></th>\n",
       "    </tr>\n",
       "  </thead>\n",
       "  <tbody>\n",
       "    <tr>\n",
       "      <th>0</th>\n",
       "      <td>68</td>\n",
       "      <td>18424</td>\n",
       "      <td>72</td>\n",
       "    </tr>\n",
       "    <tr>\n",
       "      <th>1</th>\n",
       "      <td>42</td>\n",
       "      <td>6199</td>\n",
       "      <td>24</td>\n",
       "    </tr>\n",
       "    <tr>\n",
       "      <th>2</th>\n",
       "      <td>75</td>\n",
       "      <td>7865</td>\n",
       "      <td>42</td>\n",
       "    </tr>\n",
       "    <tr>\n",
       "      <th>3</th>\n",
       "      <td>54</td>\n",
       "      <td>8648</td>\n",
       "      <td>48</td>\n",
       "    </tr>\n",
       "  </tbody>\n",
       "</table>\n",
       "</div>\n",
       "      <button class=\"colab-df-convert\" onclick=\"convertToInteractive('df-0041f457-24b3-4711-95d7-f51dea6ef5a9')\"\n",
       "              title=\"Convert this dataframe to an interactive table.\"\n",
       "              style=\"display:none;\">\n",
       "        \n",
       "  <svg xmlns=\"http://www.w3.org/2000/svg\" height=\"24px\"viewBox=\"0 0 24 24\"\n",
       "       width=\"24px\">\n",
       "    <path d=\"M0 0h24v24H0V0z\" fill=\"none\"/>\n",
       "    <path d=\"M18.56 5.44l.94 2.06.94-2.06 2.06-.94-2.06-.94-.94-2.06-.94 2.06-2.06.94zm-11 1L8.5 8.5l.94-2.06 2.06-.94-2.06-.94L8.5 2.5l-.94 2.06-2.06.94zm10 10l.94 2.06.94-2.06 2.06-.94-2.06-.94-.94-2.06-.94 2.06-2.06.94z\"/><path d=\"M17.41 7.96l-1.37-1.37c-.4-.4-.92-.59-1.43-.59-.52 0-1.04.2-1.43.59L10.3 9.45l-7.72 7.72c-.78.78-.78 2.05 0 2.83L4 21.41c.39.39.9.59 1.41.59.51 0 1.02-.2 1.41-.59l7.78-7.78 2.81-2.81c.8-.78.8-2.07 0-2.86zM5.41 20L4 18.59l7.72-7.72 1.47 1.35L5.41 20z\"/>\n",
       "  </svg>\n",
       "      </button>\n",
       "      \n",
       "  <style>\n",
       "    .colab-df-container {\n",
       "      display:flex;\n",
       "      flex-wrap:wrap;\n",
       "      gap: 12px;\n",
       "    }\n",
       "\n",
       "    .colab-df-convert {\n",
       "      background-color: #E8F0FE;\n",
       "      border: none;\n",
       "      border-radius: 50%;\n",
       "      cursor: pointer;\n",
       "      display: none;\n",
       "      fill: #1967D2;\n",
       "      height: 32px;\n",
       "      padding: 0 0 0 0;\n",
       "      width: 32px;\n",
       "    }\n",
       "\n",
       "    .colab-df-convert:hover {\n",
       "      background-color: #E2EBFA;\n",
       "      box-shadow: 0px 1px 2px rgba(60, 64, 67, 0.3), 0px 1px 3px 1px rgba(60, 64, 67, 0.15);\n",
       "      fill: #174EA6;\n",
       "    }\n",
       "\n",
       "    [theme=dark] .colab-df-convert {\n",
       "      background-color: #3B4455;\n",
       "      fill: #D2E3FC;\n",
       "    }\n",
       "\n",
       "    [theme=dark] .colab-df-convert:hover {\n",
       "      background-color: #434B5C;\n",
       "      box-shadow: 0px 1px 3px 1px rgba(0, 0, 0, 0.15);\n",
       "      filter: drop-shadow(0px 1px 2px rgba(0, 0, 0, 0.3));\n",
       "      fill: #FFFFFF;\n",
       "    }\n",
       "  </style>\n",
       "\n",
       "      <script>\n",
       "        const buttonEl =\n",
       "          document.querySelector('#df-0041f457-24b3-4711-95d7-f51dea6ef5a9 button.colab-df-convert');\n",
       "        buttonEl.style.display =\n",
       "          google.colab.kernel.accessAllowed ? 'block' : 'none';\n",
       "\n",
       "        async function convertToInteractive(key) {\n",
       "          const element = document.querySelector('#df-0041f457-24b3-4711-95d7-f51dea6ef5a9');\n",
       "          const dataTable =\n",
       "            await google.colab.kernel.invokeFunction('convertToInteractive',\n",
       "                                                     [key], {});\n",
       "          if (!dataTable) return;\n",
       "\n",
       "          const docLinkHtml = 'Like what you see? Visit the ' +\n",
       "            '<a target=\"_blank\" href=https://colab.research.google.com/notebooks/data_table.ipynb>data table notebook</a>'\n",
       "            + ' to learn more about interactive tables.';\n",
       "          element.innerHTML = '';\n",
       "          dataTable['output_type'] = 'display_data';\n",
       "          await google.colab.output.renderOutput(dataTable, element);\n",
       "          const docLink = document.createElement('div');\n",
       "          docLink.innerHTML = docLinkHtml;\n",
       "          element.appendChild(docLink);\n",
       "        }\n",
       "      </script>\n",
       "    </div>\n",
       "  </div>\n",
       "  "
      ],
      "text/plain": [
       "         Age  Credit amount  Duration\n",
       "Cluster                              \n",
       "0         68          18424        72\n",
       "1         42           6199        24\n",
       "2         75           7865        42\n",
       "3         54           8648        48"
      ]
     },
     "execution_count": 378,
     "metadata": {},
     "output_type": "execute_result"
    }
   ],
   "source": [
    "group_table = kprop_data.groupby('Cluster').max().round(2)[['Age', 'Credit amount', 'Duration']]\n",
    "group_table"
   ]
  },
  {
   "cell_type": "code",
   "execution_count": 386,
   "metadata": {
    "colab": {
     "base_uri": "https://localhost:8080/",
     "height": 206
    },
    "id": "D76fgjC5f5Vt",
    "outputId": "69325fb5-5efe-4cfb-d771-6852a633ab8d"
   },
   "outputs": [
    {
     "data": {
      "text/html": [
       "\n",
       "  <div id=\"df-c35cff61-ebdf-43c9-8776-0a5e322fc34d\">\n",
       "    <div class=\"colab-df-container\">\n",
       "      <div>\n",
       "<style scoped>\n",
       "    .dataframe tbody tr th:only-of-type {\n",
       "        vertical-align: middle;\n",
       "    }\n",
       "\n",
       "    .dataframe tbody tr th {\n",
       "        vertical-align: top;\n",
       "    }\n",
       "\n",
       "    .dataframe thead th {\n",
       "        text-align: right;\n",
       "    }\n",
       "</style>\n",
       "<table border=\"1\" class=\"dataframe\">\n",
       "  <thead>\n",
       "    <tr style=\"text-align: right;\">\n",
       "      <th></th>\n",
       "      <th>Age</th>\n",
       "    </tr>\n",
       "    <tr>\n",
       "      <th>Cluster</th>\n",
       "      <th></th>\n",
       "    </tr>\n",
       "  </thead>\n",
       "  <tbody>\n",
       "    <tr>\n",
       "      <th>0</th>\n",
       "      <td>110</td>\n",
       "    </tr>\n",
       "    <tr>\n",
       "      <th>1</th>\n",
       "      <td>409</td>\n",
       "    </tr>\n",
       "    <tr>\n",
       "      <th>2</th>\n",
       "      <td>205</td>\n",
       "    </tr>\n",
       "    <tr>\n",
       "      <th>3</th>\n",
       "      <td>276</td>\n",
       "    </tr>\n",
       "  </tbody>\n",
       "</table>\n",
       "</div>\n",
       "      <button class=\"colab-df-convert\" onclick=\"convertToInteractive('df-c35cff61-ebdf-43c9-8776-0a5e322fc34d')\"\n",
       "              title=\"Convert this dataframe to an interactive table.\"\n",
       "              style=\"display:none;\">\n",
       "        \n",
       "  <svg xmlns=\"http://www.w3.org/2000/svg\" height=\"24px\"viewBox=\"0 0 24 24\"\n",
       "       width=\"24px\">\n",
       "    <path d=\"M0 0h24v24H0V0z\" fill=\"none\"/>\n",
       "    <path d=\"M18.56 5.44l.94 2.06.94-2.06 2.06-.94-2.06-.94-.94-2.06-.94 2.06-2.06.94zm-11 1L8.5 8.5l.94-2.06 2.06-.94-2.06-.94L8.5 2.5l-.94 2.06-2.06.94zm10 10l.94 2.06.94-2.06 2.06-.94-2.06-.94-.94-2.06-.94 2.06-2.06.94z\"/><path d=\"M17.41 7.96l-1.37-1.37c-.4-.4-.92-.59-1.43-.59-.52 0-1.04.2-1.43.59L10.3 9.45l-7.72 7.72c-.78.78-.78 2.05 0 2.83L4 21.41c.39.39.9.59 1.41.59.51 0 1.02-.2 1.41-.59l7.78-7.78 2.81-2.81c.8-.78.8-2.07 0-2.86zM5.41 20L4 18.59l7.72-7.72 1.47 1.35L5.41 20z\"/>\n",
       "  </svg>\n",
       "      </button>\n",
       "      \n",
       "  <style>\n",
       "    .colab-df-container {\n",
       "      display:flex;\n",
       "      flex-wrap:wrap;\n",
       "      gap: 12px;\n",
       "    }\n",
       "\n",
       "    .colab-df-convert {\n",
       "      background-color: #E8F0FE;\n",
       "      border: none;\n",
       "      border-radius: 50%;\n",
       "      cursor: pointer;\n",
       "      display: none;\n",
       "      fill: #1967D2;\n",
       "      height: 32px;\n",
       "      padding: 0 0 0 0;\n",
       "      width: 32px;\n",
       "    }\n",
       "\n",
       "    .colab-df-convert:hover {\n",
       "      background-color: #E2EBFA;\n",
       "      box-shadow: 0px 1px 2px rgba(60, 64, 67, 0.3), 0px 1px 3px 1px rgba(60, 64, 67, 0.15);\n",
       "      fill: #174EA6;\n",
       "    }\n",
       "\n",
       "    [theme=dark] .colab-df-convert {\n",
       "      background-color: #3B4455;\n",
       "      fill: #D2E3FC;\n",
       "    }\n",
       "\n",
       "    [theme=dark] .colab-df-convert:hover {\n",
       "      background-color: #434B5C;\n",
       "      box-shadow: 0px 1px 3px 1px rgba(0, 0, 0, 0.15);\n",
       "      filter: drop-shadow(0px 1px 2px rgba(0, 0, 0, 0.3));\n",
       "      fill: #FFFFFF;\n",
       "    }\n",
       "  </style>\n",
       "\n",
       "      <script>\n",
       "        const buttonEl =\n",
       "          document.querySelector('#df-c35cff61-ebdf-43c9-8776-0a5e322fc34d button.colab-df-convert');\n",
       "        buttonEl.style.display =\n",
       "          google.colab.kernel.accessAllowed ? 'block' : 'none';\n",
       "\n",
       "        async function convertToInteractive(key) {\n",
       "          const element = document.querySelector('#df-c35cff61-ebdf-43c9-8776-0a5e322fc34d');\n",
       "          const dataTable =\n",
       "            await google.colab.kernel.invokeFunction('convertToInteractive',\n",
       "                                                     [key], {});\n",
       "          if (!dataTable) return;\n",
       "\n",
       "          const docLinkHtml = 'Like what you see? Visit the ' +\n",
       "            '<a target=\"_blank\" href=https://colab.research.google.com/notebooks/data_table.ipynb>data table notebook</a>'\n",
       "            + ' to learn more about interactive tables.';\n",
       "          element.innerHTML = '';\n",
       "          dataTable['output_type'] = 'display_data';\n",
       "          await google.colab.output.renderOutput(dataTable, element);\n",
       "          const docLink = document.createElement('div');\n",
       "          docLink.innerHTML = docLinkHtml;\n",
       "          element.appendChild(docLink);\n",
       "        }\n",
       "      </script>\n",
       "    </div>\n",
       "  </div>\n",
       "  "
      ],
      "text/plain": [
       "         Age\n",
       "Cluster     \n",
       "0        110\n",
       "1        409\n",
       "2        205\n",
       "3        276"
      ]
     },
     "execution_count": 386,
     "metadata": {},
     "output_type": "execute_result"
    }
   ],
   "source": [
    "group_table = kprop_data.groupby('Cluster').count()[['Age']]\n",
    "group_table"
   ]
  },
  {
   "cell_type": "markdown",
   "metadata": {
    "id": "yKKJz7swShhU"
   },
   "source": [
    "### Visualize Clusters with FAMD"
   ]
  },
  {
   "cell_type": "code",
   "execution_count": 360,
   "metadata": {
    "id": "pP9HI6N2sZI-"
   },
   "outputs": [],
   "source": [
    "from prince import FAMD"
   ]
  },
  {
   "cell_type": "code",
   "execution_count": 357,
   "metadata": {
    "id": "XqvTmbSCtmYt"
   },
   "outputs": [],
   "source": [
    "data_famd = kprop_data.drop('Cluster', axis=1)"
   ]
  },
  {
   "cell_type": "code",
   "execution_count": 361,
   "metadata": {
    "id": "qgBFn6O1TPuE"
   },
   "outputs": [],
   "source": [
    "famd = FAMD(n_components=2, n_iter=3, random_state=101)"
   ]
  },
  {
   "cell_type": "code",
   "execution_count": 369,
   "metadata": {
    "id": "Mjtgp49WbAdA"
   },
   "outputs": [],
   "source": [
    "famd_df = famd.fit_transform(data_famd)"
   ]
  },
  {
   "cell_type": "code",
   "execution_count": 370,
   "metadata": {
    "id": "eZD6tZigbOm9"
   },
   "outputs": [],
   "source": [
    "famd_df['Cluster'] = kprop_data['Cluster']"
   ]
  },
  {
   "cell_type": "code",
   "execution_count": 373,
   "metadata": {
    "colab": {
     "base_uri": "https://localhost:8080/",
     "height": 542
    },
    "id": "cmibHjz5bd92",
    "outputId": "4f66f0b4-68e2-452f-ed0a-1cd874f89c8a"
   },
   "outputs": [
    {
     "data": {
      "text/html": [
       "<html>\n",
       "<head><meta charset=\"utf-8\" /></head>\n",
       "<body>\n",
       "    <div>            <script src=\"https://cdnjs.cloudflare.com/ajax/libs/mathjax/2.7.5/MathJax.js?config=TeX-AMS-MML_SVG\"></script><script type=\"text/javascript\">if (window.MathJax) {MathJax.Hub.Config({SVG: {font: \"STIX-Web\"}});}</script>                <script type=\"text/javascript\">window.PlotlyConfig = {MathJaxConfig: 'local'};</script>\n",
       "        <script src=\"https://cdn.plot.ly/plotly-2.8.3.min.js\"></script>                <div id=\"302e1f4a-de12-43cb-9600-43b86fce523b\" class=\"plotly-graph-div\" style=\"height:525px; width:100%;\"></div>            <script type=\"text/javascript\">                                    window.PLOTLYENV=window.PLOTLYENV || {};                                    if (document.getElementById(\"302e1f4a-de12-43cb-9600-43b86fce523b\")) {                    Plotly.newPlot(                        \"302e1f4a-de12-43cb-9600-43b86fce523b\",                        [{\"hovertemplate\":\"Cluster=2<br>0=%{x}<br>1=%{y}<extra></extra>\",\"legendgroup\":\"2\",\"marker\":{\"color\":\"#636efa\",\"symbol\":\"circle\"},\"mode\":\"markers\",\"name\":\"2\",\"orientation\":\"v\",\"showlegend\":true,\"x\":[-0.13387668015325868,-0.6290007064247641,1.2898534947773719,0.34711872252718556,-0.33218709477679537,-0.004723477076530963,0.47552562598216713,-0.21814959267895456,-0.6363200432950656,-0.6908594391994182,-0.08321873066521783,-0.29256460468310286,0.12444648769133075,1.419892801576644,1.1773276969755373,-0.05140369035593882,1.9260223588528633,0.8216374183256148,-1.0819605084195962,1.1629622206535717,0.9716093639749005,0.2975099490460925,-0.41050505241295115,0.39346434029838345,-0.6040225443161849,-0.3144150501020615,-0.040787812899945215,-0.022294819707389987,-0.03993038927159077,0.20384485572490918,0.2623773567853597,-0.5390191121203292,-1.308103718994867,-0.36611632451015863,-0.27455557614761505,-0.47758753228740836,-0.9713781694714734,1.9437058335643322,-0.33586836760325955,-0.6712323310757744,0.28577024960240877,-0.28523412672953086,0.3264155149599315,1.3745105441991041,-0.0888349811037887,1.30730011099363,-0.3761283458421143,-0.40888582114596467,-0.06439669770887917,0.9638425278203911,1.1742399506302847,0.9903085352906396,-0.21398274648960253,1.582904368051094,-0.0547257349917812,0.28977122798456834,-0.43395681273113473,-0.3558831720799541,-1.1263702703143064,-0.8497037352165664,-0.041624897027183035,-0.14445152143484527,-0.7064627786748153,-0.36548922091164154,-0.6059752770990575,0.17953822864053878,-0.6403878186639014,-0.09410452343873832,1.7963920795116366,-0.6247722176236425,-0.11848068684767529,-1.4314584256136158,-0.35337659240365055,-0.01062946444738722,0.33544160148630947,2.290822225078471,-0.058225692831968295,-1.0567241136996899,-0.17110177492609013,-0.11346259528776319,0.7719273021406109,-1.0190612728254713,0.5357431408283387,-0.3099493113291428,-0.7984074051599065,0.3525483626751415,0.3726805373939435,0.31280886636545274,-0.6610225877819584,-0.34183515818376015,-0.7295007768519058,-0.0036160759943985234,0.40380045420704264,-0.024142072079684395,0.020178545288560366,0.7230965812355358,-0.37806337950539093,0.35956585868713153,-0.3693836228627625,0.011995792904918904,0.01081385703159867,1.003261488938201,-0.6183711148419117,0.6551499145642313,-0.4746990909070473,-0.4085819987540084,0.3664078774240524,-0.8163049627495547,0.9608974754278173,-0.36985497883900775,0.48102944775893774,-1.0730696602170067,0.1557134540010848,0.9711234419466248,-0.296043921709688,0.7767722319439121,-0.8333663828006892,-0.014353032916920968,-1.0059604747181319,0.046362223814400444,-0.6719372884894372,1.632421136608657,0.8986619096059614,0.36781707271398834,-0.6545480882253839,-0.7530837579807376,0.715737414087146,0.02229781470595541,-0.26626753322869706,-0.3495069633119295,0.25365939412792693,-0.7571753219610323,0.03857632082831569,-1.370137714739216,0.12628902040537981,0.2761846143909438,-0.23418153422097515,-0.04845923606979027,-0.5363216012303492,0.9445162091384854,-0.25223355217653515,-0.5660905149154781,0.045337702554143024,0.7756786363310373,1.8132338821410423,-0.8895243585350799,-0.8116522295689497,-1.3137118961971759,0.7751650409836587,-1.0246680886903674,0.17687987155682616,-0.9336685836832267,0.6052047781709344,-0.4709484013036265,0.35052764162911954,-0.4560990310286464,0.3691689850106816,0.4891214089214814,1.74974627456656,0.6397364125519929,1.6228952058479678,0.41617532525339745,0.7058806360199129,-0.8552760360090391,0.013370659727263015,-0.49880299919092863,-0.9134165444877956,0.2938972757200469,-0.29399099669890694,0.7282241244392142,0.1365821957207804,0.29603478720988097,0.07929981279387077,1.2609444960501826,-0.26852965386959343,-0.7157379814119736,-0.20618789351788835,-0.6076022308934628,-1.0000284184966106,-0.5066462799483108,-0.28535205718351103,0.10929534338787161,-0.08482091625983876,0.4534996716709094,-0.4906787056481539,1.0339412126768204,-0.38223770986962,0.6603270293853304,-0.7414961779051601,0.624343413479292,-0.992984031461828,-0.6397466263630514,-0.6882152693367394,0.20214234729596334,0.13813947352982706,0.2733109917884467,0.28569140836296797,-0.4143036693364314,-0.6530639109528174,-0.5630382664371212,0.33938713389360886,-0.08602835353272191,-0.2266801086944818,-0.3159380047851346,0.10158835542880702],\"xaxis\":\"x\",\"y\":[2.6046434593022503,1.2344846099946345,1.566617170512168,1.6055224159758668,2.412798978427933,2.0503699517282596,1.737674672512306,1.0809575720768603,0.5674160819560182,0.6983339643855255,0.5806951686798346,1.8847388313071405,0.4706725607594062,1.6221013234120008,1.3299414403393426,0.9273585527431897,1.588830591240457,0.7771953112102423,0.9230562269002516,1.7264072443833949,2.449895856825498,1.4082653850103604,1.099123423724026,1.5397698248587244,1.800082140813029,2.084490472016219,1.8654255588567936,1.9347607071580086,2.177855361490577,2.6702406866257022,0.817177186292803,2.5675149273815534,0.3782794437946279,1.5864991301149824,0.9696070914208051,1.0066875031977391,1.0228597658127534,2.2348694538645506,0.36955781690916273,2.0452574965760215,2.2629401185624634,0.60903035459365,0.7451884622863256,2.308579123079742,2.709777057104127,1.5325609386285883,2.2058541630509185,0.5886150706365039,2.1943813666204015,0.4205836778459084,2.0289030554866483,1.3950367882636099,2.2350079322638834,1.257311965455434,2.2611303590082055,1.443525809709178,1.899814798138487,1.898222809362521,0.5948821458372887,1.8912442011264325,1.3944078424883386,2.1096880784649668,0.9569137175493688,0.925752690889829,1.2010208684215424,2.2154786508348816,0.6116694740084031,0.7099736845963971,1.588161568148569,1.1730403845274717,0.4551924053137252,2.090618034646424,1.038996253025179,0.19302740735542775,0.39921537517338235,2.355165975420353,0.08721282973216735,0.5897092506338069,1.42525119958918,1.1046660431407203,2.3075454903822763,1.8492704240979072,1.4092404280515245,0.45160381307560704,0.5862694300097244,0.5351632138492255,0.6981841243981792,0.5217015044872083,0.9359075351145796,0.9953661763414449,2.0023577104775403,2.8668047142999526,2.029278988074789,1.600231972340488,2.2704729400528083,1.9833122352030736,0.47566690737877293,0.914876353288777,1.0702244387807394,0.8204513046255402,1.7578268730745068,1.9216672512814659,1.1050320477966544,1.8467738566500078,0.7546799677731566,0.42965160072926933,2.6546506089411457,0.40339616032241654,2.1868812909106112,2.4257404811761027,0.6700870077046426,1.2250876166607074,2.1326044639416386,0.9373699696256459,0.8972417067608796,1.7591925592345774,0.8916009123775707,1.856950883912649,1.8997086453638286,-0.1297925931423615,0.4401345643631081,2.289989669282039,0.24729389431688326,1.140130956338431,1.087575844737302,1.2651920264538803,2.287761255770386,2.606831486992345,0.4217458824724357,1.0863954212637412,0.5525534611428881,0.6695045632013763,0.7376951230185709,1.230963325675278,0.18537448620641875,0.6260116448395266,0.6718786274567193,1.7825788958199318,1.9857558192187397,0.7080080130994382,0.854130767936477,1.1116445740342065,0.6498488814315007,0.7666079533941046,1.8359711240457655,2.3627632471160354,1.19271740850903,0.5716145277124717,0.6201524772441387,0.6591985705034259,2.417002080963477,3.2508360071072477,1.8018646742890785,2.4381827815066766,1.540915077664398,3.0917506816247338,1.9500727905517672,2.1906657967303866,1.6127572098212202,1.5434642091965802,1.511977665960031,1.9382691744512648,1.998101834733278,0.20183350783879112,2.5655241138488964,2.6120466692282722,1.0997648309590033,0.6701769420664961,0.9583112988821865,1.9813490716871818,0.661144537216262,0.8279481506483942,0.5816133256344815,1.985232037147399,2.089083740472613,2.0881226206236567,0.46047276190742703,1.1301282143531575,2.309527328752452,1.6599842780164338,0.8560434324913854,0.1768833072885611,0.25137715087181817,0.7326015200253251,0.6519330135331708,1.1584411791624203,0.8910257871812451,1.8973646289150528,0.8169736897762746,0.8073674958054636,1.0329374744540243,-0.03248292561634674,0.6133328269091088,1.2316117214708795,0.8716517542850091,0.604819955739953,1.0931195802542415,0.543800450464436,1.9447963354971813,2.063173409646361,0.3880391617942542,0.8642541347635513,2.059041808107754,0.6825145594947892,1.2002015520777158],\"yaxis\":\"y\",\"type\":\"scatter\"},{\"hovertemplate\":\"Cluster=0<br>0=%{x}<br>1=%{y}<extra></extra>\",\"legendgroup\":\"0\",\"marker\":{\"color\":\"#EF553B\",\"symbol\":\"circle\"},\"mode\":\"markers\",\"name\":\"0\",\"orientation\":\"v\",\"showlegend\":true,\"x\":[0.6702177472303081,1.9389986246542952,1.6123575226257953,1.641552216711193,1.0295100670934805,2.4893055608448376,2.607042453902346,1.7642401398057037,1.688611152908257,1.1505377786951458,2.5490789649781362,1.1053362487721519,0.8517024749971387,2.0248983713762843,2.744269888044578,3.7416101082131017,2.7605352742258784,0.7287253217522367,1.5209609513050761,1.4357508147790723,1.0369377389805021,1.7088465187778121,1.0399786704610265,1.8169191097989792,1.628985727364589,2.4708831153033852,1.985212349406733,0.38218118547024327,1.6204785967208024,1.37416507264805,3.5185218880425593,1.1995616911821108,1.516192127877145,3.24948993524393,1.9227446392794267,2.5520241924887554,1.6151154769970686,2.6316657589142967,1.863512448119796,2.006262476223777,1.2570732682708194,4.595464120866657,5.043989674151418,1.5046100320628573,3.7160556427345486,2.265430654011456,1.9992828537425238,1.6107662207357303,2.5236265360340466,1.3333487635385617,2.3818377977156024,1.6090799147838533,1.9733387953211399,1.7633435147042211,2.232449238825032,2.251547556420462,1.0707476807781,2.684200823213816,2.5016186964327947,1.4364526380248341,2.749197514159864,1.1022759411874845,3.362389187550988,3.1315013634498743,2.7470884718246396,1.4257597648472322,2.6511578687351727,2.0827437025244153,2.143797563960214,3.0952343291904834,1.7703975817002324,1.4416704982129018,2.5257843582217894,2.1013959486271547,1.3108715005102556,3.5219662212675855,1.8208291432835935,1.2705997634060393,2.766124570546378,2.540288264185753,1.063832218614264,2.1230702160417967,1.1760990001848572,3.1055761561276243,1.231725074939915,1.4326716615114627,3.7432904262507196,2.1778139235575313,2.3514608288382335,2.186733400680786,1.9986708231762826,1.5722056969180265,0.9442191515905632,1.9503491878089683,2.7150340906322112,1.2448483101069594,2.0686646210628172,2.4520985329054015,4.215888450829459,2.4706678361591408,2.7585499246500937,2.618144598370437,2.4198823950595614,1.5682902583945983,1.7181771914888722,1.2619287175792804,2.0847712522296513,1.3506770216031025,1.3049701353659364,1.2522417194912572],\"xaxis\":\"x\",\"y\":[-1.9444377983487247,-0.15532733486301026,0.037258244338954374,-0.8804110370117161,-1.283799957791271,-0.3907528196575539,1.0269679518632049,-0.3592246228329541,1.1676232685530574,-0.8796455648023505,-2.136407422358948,-0.7855403550786556,-0.5093555887294772,-0.30771219721301596,-0.11673405507823002,-0.0496091416314519,-0.6098783747627888,-1.450457084496816,-1.0231071952174673,-1.8574204163942962,-0.5835879076973675,-2.286511527340235,-0.3998890391859149,1.039124412799619,-0.8386607500471368,-0.30668599588578316,-1.1599146374196199,-1.118842948411941,-1.1018433814172286,0.22060188696424884,-0.7762658736592978,-0.43838655870191595,-0.9314862922286528,-1.0270328578499093,-1.3418228568013384,-0.11518530717515453,-1.721870172105911,0.09346388759322136,-0.02745810711426206,-2.254412013850791,-2.2094636432377714,1.0252171266446997,0.05776209900127615,-1.230666180158963,0.8029696949962248,-0.5860189505249067,-1.2656666472699951,-0.3051955431352808,-1.0245350248856049,-1.351855030264877,-0.712504717769546,-0.5473691298579879,-0.4070238388755007,-1.574201921897714,-0.10246650888192323,0.8079013177066531,-0.5781356922276845,-0.2529227235934922,-0.30449059494175906,-0.672475810901684,-0.4467004942868891,-1.0462056119590204,-0.517339719958465,-1.2547214956095731,-2.2915787112254904,-1.0190268991280096,0.18081693168049795,-0.3786046147250491,-0.4994139884048808,-0.6198591070687158,-2.0458403738023407,-0.9106668572287493,-0.40875156455388245,0.11236628168825578,-1.6536228527300303,-1.7342470708927733,0.4084991037213809,-2.2068407628408555,-1.312888867797046,-0.4119211668568612,-1.6425318971732128,0.27061220930078667,-1.462776231518165,0.9133931903395873,-1.4840735811754144,0.4505306030786483,-0.7760705102682743,0.3298239903385908,-0.3899840076724829,-1.5349323984114183,-0.019460036286438602,-0.21038984452257992,-0.3754363025366181,0.6524865538749164,-2.3010182526053096,-0.16151729510165655,-0.5420651587435292,0.11269437292985018,-1.959848573294076,1.6936073260024438,-0.6818700004731115,-0.43923208022536225,-0.2917886409078065,-1.055600637967306,-1.4638994610723723,-0.903173860333851,-1.1977326233704704,-0.041519779286734136,-0.8546165905438524,-0.4739575851625593],\"yaxis\":\"y\",\"type\":\"scatter\"},{\"hovertemplate\":\"Cluster=3<br>0=%{x}<br>1=%{y}<extra></extra>\",\"legendgroup\":\"3\",\"marker\":{\"color\":\"#00cc96\",\"symbol\":\"circle\"},\"mode\":\"markers\",\"name\":\"3\",\"orientation\":\"v\",\"showlegend\":true,\"x\":[1.1684983255740566,0.5327746810105511,0.006996633447101681,0.07572415000880903,0.5492422711084447,0.2624211575373261,0.43976798419840163,0.47542004578591834,0.34553260280858433,0.09505266295246467,-0.34013554065549695,1.2103642133392472,0.18534749928880398,-0.2639588771268586,-0.31319693663668746,0.7822109146313849,-0.1600832970346499,0.9989052848017987,0.7647447454893623,-0.0030183342749842365,0.523184202116583,-0.4158382107546867,0.42352620125207835,1.2900017890119504,-0.35860786170528963,-0.10459428395085292,1.043378100167099,0.338484517970492,0.5907248517137222,5.20635437031342e-06,1.2535790779252642,-0.20024077287407202,0.5225205842316423,0.8832336499004597,0.4963918890885045,1.2676823027158364,0.7004247050451227,0.32710670503741157,0.5593542810960063,1.4043776669309624,0.49746370374844806,0.10684855360905594,0.2785870412656164,-0.5571205283854825,0.15549230878642306,0.11794834881254175,-0.04604709685211691,1.350558148671515,1.357091517732176,0.6343506794888992,0.33504280960014743,0.8382605154856543,0.603995584736058,0.607915002086709,-0.029861284117006084,0.1932736741937833,0.01223352928812258,-0.8946828668993416,0.41208369128279226,0.11833068809786478,0.271790550827483,0.01348694901396871,0.36337130235811577,0.2110253489049736,-0.29211028826062424,1.2581789467807667,-0.38946522702053005,-0.3011398228628305,0.294143358312881,-0.42556595121720536,1.215110886957609,1.3862980017461055,0.8227338642463312,0.5401201313829229,1.1708765772920684,1.4485646068172486,-0.11883179125218302,0.48265290130444927,-0.40026540658827714,-0.3175485468735449,0.10098159082575654,-0.360143959693575,0.3351900138987568,1.0154489299491078,1.0153009969362077,-0.3161010111143558,0.4752997073766226,-0.3225353019198248,0.11308847237113487,0.3612199417585889,-0.8683303431914717,0.7898560968362738,-1.4284521159035204,0.6788360072596931,-0.8191600939189159,0.9578130607082446,-0.641110339104012,0.050443225057273854,0.6002956487251255,0.8108063237213339,0.2889923308693059,0.23144886341578227,1.0821001434548072,1.539607645315309,0.48653905371893286,1.0706324737819333,0.32278540218547286,-0.13442703563740854,1.0745159155944521,0.13883764103884844,0.16089812604071524,0.048999792943358586,-0.12973863165159796,-0.31044341052797736,0.17216692873729025,0.5982322188259253,0.44530732762873104,0.26026248256717116,0.5562683461310884,0.18849828189684475,0.07608817955127116,-0.3422626895499143,0.20375626610398442,-0.16739451061627383,-0.10401098689532304,-0.29383277676320735,-0.10533756283364325,-0.12884933816478536,1.5137673197017838,-0.8245885769410073,1.075996026384993,1.675923910426493,0.3052476580935592,0.9690210136451035,-0.3069752624556954,0.17038381382865367,0.44625159074730014,-0.19608537424327374,-0.21632120236068814,0.8462881342529804,-0.14527206519265773,0.2554650904977494,0.003006264574823143,1.2408032213844857,-0.09006457623034467,1.301686044592852,-1.1298916238673777,0.7426010350764765,0.7038930461701,-0.16764136733358898,0.5623314341587432,-0.1176321045864587,-0.9802117729880477,1.1986199074616781,-0.8022869420241651,0.16771092498639428,-0.05973962771605198,0.8047162723289182,-0.2583673450782948,0.5618293270394421,-0.48655572906796585,-0.4762172173136426,-0.3532787268894538,0.26528684489025134,1.4439343014990076,0.7767830747548194,-0.22286837522651645,-1.0278903172916973,0.7139721816293786,0.6420146326529904,0.43455126214287865,0.22453390505238402,0.13073774021626858,0.414245795264394,0.5217614658534587,1.6450496783531818,0.3267110544370562,0.8347188468056945,0.02471132041000634,1.1483570507578285,0.4208057309405574,0.3491036679800909,1.0898486170444657,0.08216453577981189,0.65799879241447,0.10789570349930093,0.4018032028576031,0.4753908000333373,0.020244651226564016,0.67403370571297,-0.5427773484292953,-0.13601703153631606,0.6120942563099794,-0.3269184823760706,-0.4937225942030874,-0.11133999683097079,-0.04336553896704878,0.14415184512210766,0.20207301900148686,-0.5401618625609683,0.5049871803400314,0.012957684352323594,-0.28502267718071667,-0.07419024389101116,0.10705473991932023,-0.2259983961044326,-0.13303339632116767,0.6063075264616565,-0.6335006246575512,0.7444794074226652,1.4629835397432118,0.5083438848556502,-0.04916270810449506,1.188836383655601,1.0039025755416897,1.4009509683409191,-0.12623529447911042,-0.5777250981735248,-0.8510117945481263,1.086782012308245,1.7284837156323556,0.4720339695703173,0.3815249599375028,-0.20591355546500292,0.3016930116509395,0.4323629980508291,0.6848044143027706,-0.385513818403806,0.3174390743920038,-0.13920304156239513,-0.1540229144330053,0.6593568165086955,0.038659951289438776,0.5033736387644235,-0.3130986584819965,-0.13004216263620355,0.4342171850808975,0.9880081042468842,1.4401455019031415,0.5420659936726656,0.39247577596412825,0.48781158734526997,1.5974079897992393,0.8385163829167203,1.1248529387412434,-0.44620466820668564,0.75001765932877,0.3988727861079192,-0.6914446977175779,-0.19653038194697434,0.1693476632685094,-0.02524703233720499,0.46550507786934464,0.5620068739753159,1.5542104791830165,0.376964748828575,0.1521648068366895,-0.4940267717710886,0.14325129332247535,-0.013903430006088666,0.23464349096260326,0.5325484525005372,-0.09666025524881516,-0.1182308773801201,-0.7563858916581265,0.6114912662074129,-1.32765129257951,-0.06780647734325877,1.6900916624569584,0.11767996425131354,-0.5957823859543654,1.5143271336408473,0.9266047109163383,1.041492630652471,0.5233040148523594,1.207444933142502],\"xaxis\":\"x\",\"y\":[-0.6714657891569217,-2.0719803527058827,0.09734397198527699,-0.5905412735278395,-0.39119459484235686,-1.3355050172235492,-0.08113027042132746,-1.5739929737742155,0.32754612539746053,0.43881420053360315,-0.29093527203704583,-0.5753044598281407,0.18571072941848557,-2.0329364864378516,-0.5274387259397985,0.36445054076730377,-1.0857905585463519,0.19856913958058212,-0.3930651677607752,-1.4441380554712624,0.21369578452734792,-1.3895759758506054,-0.1915154932278447,-0.4842744311824575,0.2636796009861534,-1.5115222784937736,0.16977347097741363,-0.14481983881050942,-0.8344690485801053,-0.658945246429954,0.3467816963930435,-1.4822498183225907,-0.26138359231899894,-0.9608133375899636,-0.5284920531502905,-0.8790696394805924,-0.8236546136176583,-1.1344792374600356,-1.0060606904160962,-0.8385972670036754,0.010682167550738048,0.12479333919714802,0.3289041875171334,-1.5745929329872732,-0.27139398074519194,-0.5954294567672878,-0.264967000965424,-0.7639614217401257,-0.46549067499589103,-0.2131703662091139,-1.9071814864259942,0.2788694392741934,-0.10600113594018633,-0.5154448925259246,-1.2698090248726501,0.28607910933181574,-1.0644610106910721,-1.3463782805492974,0.02557391827777714,0.020244444053414704,-0.2586063109149578,-1.070163026255209,-0.49086367359264854,0.11608849241117004,-0.2454270213410774,-1.2330164436953133,-0.3323904172422899,-1.2774213669717216,-0.17168676576709296,0.2604832428150594,0.11750732111965574,-0.18974815466846878,-0.7931201239507601,-0.05618564356111224,-0.8477493352312937,0.06011176089886817,-0.17583819309309445,-0.2610029914449047,0.6209271072899694,-1.3458040250458319,-1.1595205084702256,-0.6936830334721218,-0.5322102503194814,-0.6128683326977294,0.07069926578114467,0.13411256431052962,-0.28103677678374195,-1.5559786541469571,-0.5543107112246023,-1.186322391041689,-1.0379160462454486,-0.3309702179467372,-1.3361481472759293,0.4105150767805673,-0.8173138991666955,-0.6484800325363508,-1.8063098228728038,-0.11649020323496982,-0.07781313948622792,0.13221515794338193,-0.03194117318997832,-0.484792792692073,-0.2890512613462118,0.07816777895136146,0.16788483687582864,-0.6309495560568866,-0.21624966600916362,-0.0025820116185748627,-0.17099328547625162,-1.5903760442928996,-0.11320113054930074,-0.17926106782183113,0.24281494676495213,0.2835547666258719,-0.36668208592567025,0.11582409528846224,-0.22832750725703424,-0.4080617857263589,-0.3136370804298219,-0.7271671787725675,0.19575194912656815,-1.5195007939130845,-0.8164248719355186,-0.8501426326174805,-0.3230924838139391,-1.2075241222893263,0.27631571421435375,-0.5607131668381286,0.17967772349696812,-1.3617194585859285,-0.31961653429579445,-0.1872106130345216,-2.050309507692024,0.6836921109523255,-1.1528959690791603,-0.6542216208492523,-0.25822571613738005,-0.6774674356473239,-0.3535960296915256,-0.5539493496005389,0.09150079393971236,-0.30339179160844226,-0.5627000454842841,-0.172007768195519,0.2703021515190198,-0.16781862074376527,-1.656927366348012,0.00259520057813957,-0.9371597069228317,0.0664274639111847,-0.5721490912449392,-0.41859504750958726,-1.6166726801749605,0.24276925363243576,-1.4207941054377238,-0.0833833179643099,0.1278395076463137,0.029199392088193665,0.0526938259493928,-0.9201006232413487,-1.039744593293328,-1.596171318155226,-2.11235717552136,-0.5044568558381493,-0.15521559679387464,-0.1856449137351935,-0.6015155126151874,-0.9863924163206582,-0.7779148823951283,0.3595219015077274,-0.4974798970583879,0.6461916176823829,0.2348202261730351,-0.8943730945629189,-0.08397211281545441,-0.5962645883605834,-0.27870381840633845,-0.9796379679283268,-0.33286752651259466,-0.5454101025546145,-1.1300534312450268,-0.2514272364910043,-0.35922543974212773,-0.4124738650421913,-0.023036267198229918,-0.5638193954683526,0.26461149807041967,0.3576800246246321,0.0893679447311038,-0.39584903616816314,-1.4917767226488572,0.40469262368809217,-0.37084750481483947,-0.5243076485693954,-0.5255474228065535,0.10680879377883788,-1.281952520048957,-0.10486330291640608,0.5462147828884932,-1.0192206110817328,-0.20046720792418765,-1.2815126190098745,-0.4558775660960468,0.11113583681382486,-0.20277535408735803,-0.3551055453581578,-0.8172857542177071,0.1743865968332332,-1.2326376700455397,0.05643877727864491,0.020691040421528237,-1.347432465741102,0.5810825206372551,0.04407974097649922,-0.6868362779522553,0.2634135725435822,-0.33469028707699633,-1.3836360078545311,-1.3278068675560255,1.1598442505100988,0.25514181011674497,-0.07924216673502071,-0.08053997488756333,-0.5651001802888018,0.14051269961127377,-0.0455692080784813,-0.7671380283168736,0.0298492463049888,-0.16837190595179471,-0.015581260559982841,-0.2423129755475385,0.5884254369187782,0.12662731974491603,-0.18332289147812392,-0.21321666134165382,-0.060809030117388196,-0.40693236248830883,-0.040728277352395995,-0.05490782489708222,0.06437793301342097,0.04436290124301266,-0.09531270350140975,-0.3617353913606481,0.17480587192598418,-0.4337669045247733,-0.6943449377234913,-0.47550119543014835,-0.44025006017015156,-1.4167764095580355,-1.2425650397265595,-0.5836440354625396,-0.2910403807730471,-0.4326955209210797,-0.5078977978172088,0.45741618161833114,-0.10398273384078309,-0.1452372387657715,0.3343627300605612,-1.1689605879786447,-0.8213041375039463,0.48501804078497013,-0.4029516380610405,0.33917511111906196,-0.6655793277569748,-0.835174333558633,0.39505296660739736,-0.47998883744884807,-0.2898740728109977,-0.9532017835640937,-0.44524747609580073,-0.101262264459735,-0.3730415384364365,-0.7491873595526127,0.03599357752029205,-1.1184107037037996,-0.8948699841780832],\"yaxis\":\"y\",\"type\":\"scatter\"},{\"hovertemplate\":\"Cluster=1<br>0=%{x}<br>1=%{y}<extra></extra>\",\"legendgroup\":\"1\",\"marker\":{\"color\":\"#ab63fa\",\"symbol\":\"circle\"},\"mode\":\"markers\",\"name\":\"1\",\"orientation\":\"v\",\"showlegend\":true,\"x\":[-1.1136722404754542,-1.2126766663208026,-0.7753585227657989,-0.8808237901295496,-0.5450492132555244,-1.2255027569218664,-1.3204174928111894,-1.1990642445181119,-0.5608221372609168,-0.02811426583507759,-0.5975628940996714,-0.40899516958723175,-0.949600516909682,-1.202618127435866,-0.7465840674684622,-0.2882303305434446,-2.2950793823704996,-0.7856630328681703,-1.0344131776112016,-1.1066479752607674,-0.5371923196901368,-0.48659691059269167,-0.8280621269793953,-0.904893627826276,-1.2271785896946845,-0.2627825914790824,-0.7184637662700708,0.3207842311136208,-0.7615064002334635,-1.2504620274704357,0.17643085270407896,-1.554278005285524,-0.647181158283114,-0.32401133729711734,-0.24669083056895622,-0.44903742084625103,-1.4934688164874772,-0.6211610217246089,-0.8807045784092631,0.19206413302481531,-0.9115692756321383,-1.4774196036382972,-0.5623778452729249,-0.38837945798175133,-1.0757144811115955,-0.7223547339624629,0.12866797143195471,-0.44257040185022845,-0.8331890006176874,-0.6934138778219605,-0.07953631319074991,-1.8614239107817103,-0.7000579792662117,-0.8543072381284171,-0.9107762770663194,-0.23932525753284414,-0.5511963494646671,-1.4592496658885776,-1.01136850092896,-0.5952981123419826,-0.6968325195803388,-0.6471001680757469,-0.7422695308155939,-1.321119646356074,-0.5205902375083149,-1.0866990189271284,-0.6971895226711943,-0.25375354300518277,-0.2114242766889455,-0.5714156411730583,-1.1375249635448481,-0.3303518296754855,-0.8770848098694491,-0.3834982219590877,-1.1651543894648804,-0.9934012546666139,-0.9962460813471578,-1.163245266269997,-0.7765733418458923,-0.7992029433750107,-0.32556052850777534,-1.1838981225535226,0.05324740827549014,-1.2029014430434088,-1.1912157228295255,-0.7872338714598985,-1.1436314793289724,-0.42151634123693443,-1.2417346700980574,-1.1708260399131538,0.19136711913429594,-0.8795204850274296,-0.7436305764663299,-0.9158033989031228,-0.3684036399875413,-0.6687624216334708,-1.3527097820728846,-1.4090383170360867,-0.8041913379251145,-0.18339821665805392,-0.5570591279882168,-0.6920083753764129,-0.9696313741891166,-0.501765932839525,-0.3987110818596656,-0.5233158586962102,0.08830803767592085,-0.9677642018792048,-0.5497444414695196,-0.6342119500599667,-0.6038049559666208,0.18059590268615788,-0.5878029553780558,-0.5206876651963166,-0.5792336984837914,-0.8631733501459772,-1.0993243823456982,-1.366273492789687,-1.5778442594947315,-1.2784723085694119,-1.158275488508001,-1.1002758477922463,-0.6702203089505769,-0.954524520482061,-0.17949012106226456,-0.3727871261933016,-0.514217247579782,-0.612719328750181,-0.8887760350778422,-0.49990695207511276,-1.499261554072384,-1.2923291810077566,-1.0566026474686827,-0.5965988869496949,-0.6142240974695814,-1.0174265355098746,-0.8489446108894828,-0.2761494809808999,-1.6517554182611078,-1.042673120081698,-0.0678767235025883,-0.804938020555762,0.16110315415026197,-0.6630728538622882,-1.3035017783600096,-1.4900133888173401,-0.3061536609841729,-0.8625995422146987,-0.36166146651740483,-1.3366008767629864,-0.2794703452878361,-0.289356756849116,-0.016781000943051533,-0.7014117516449263,-0.6935912521089455,-0.9365695546178631,-1.1078511342279558,-0.18468338515526186,-0.8027525698325085,0.19481101882956078,-1.9044397479414956,-1.0456966508376853,-0.18924506202776722,-0.340013848029424,0.05650425090853088,-0.9738297566622885,-0.48467587476697366,-0.6884919634520761,-0.7695710375978911,-0.7783806473003743,-0.9357533873360474,-0.6917286369822397,-0.33221138632599717,-0.9128122264876165,-0.16783732253778344,0.19916661004761527,-0.8301901097179548,-0.48556222025562606,-1.1949182227075836,0.09269330932947824,-1.0085008442097951,-0.7774501924728382,-1.90613669987407,-1.8196241212262663,0.1323848581266308,-0.9092114050258125,0.6213006257088124,-0.9566606032833865,-1.1709685811273802,-0.521593253733617,-1.2851901054457762,-0.40876681222617167,-0.15232710560258056,0.28575392790629056,-1.4909324041704284,0.045438619680272296,-0.2651130304352194,-0.22758486318335241,-0.3542404328355382,-0.07089927917830817,-1.0297636772758774,-1.5666980737588678,-1.1620411023452517,-0.16167086760000385,-0.38964096242589,-0.6266807021160852,-0.6162191668299812,-1.303922830834109,-0.9500630231982665,-0.9191392893526512,-0.5089660995851512,-0.6534332439302354,-1.1300581599164703,-0.7040222955974259,-0.7705023024967608,-0.8123036920419353,-0.7946991834628511,-0.05095983624145956,-0.8771822376380333,-0.33493207747209114,-0.30539154273263325,-0.6568579017952281,-0.4012483449680063,-1.2326343562316995,-0.978202057228156,-0.9817774579376891,-0.34542303068816843,-0.8153842709799963,-1.180883307425679,-0.6374227954044344,-1.1771966238934815,-1.0761754579001925,-0.42911317602011156,-0.277826656906965,-0.3351959621542535,-1.0425405804099765,-0.7472978178300301,-0.22694295764942313,-1.8312148450426784,-1.202499451535913,-0.2951568263756594,-0.9952543394828651,-0.2907789227623368,-0.7263167106350308,-1.1266448585283073,-1.3975316560606188,-0.82127200080969,-0.4194830233121529,-1.4654677623373669,-1.2178223897756901,-0.9626891796818148,-0.6674783339678219,-0.7211960166985147,-0.269975027374377,-1.182769885778826,-1.1413422544069218,-0.3909390523047549,-1.5139675261862235,-0.7232755719700321,-1.2609458450795241,-1.034831016164794,-1.516875119422097,-0.33548027929990193,-1.4903826760498509,-0.4068451697211467,-1.0432447116202155,-0.3406003582629463,-0.23897516068487212,-1.3413253541753618,-0.2669916810259756,-0.7474513439931855,-0.45357588374809266,-0.7119484331549424,-1.4526255041325904,-0.6088841793984027,-0.8623463933142661,-1.6343040106345286,-0.8217129339970586,-0.16627162072492235,0.02836448247117365,-0.8446542731129313,-1.081876563996451,-0.8422575418253386,-0.003393158985867235,-1.2884206051728802,-0.7885462638787577,-0.3721563859550751,-0.9737903303203767,-0.7819784223841558,0.11441950849143823,-0.5246554139230166,-0.7837765705183747,-0.426566060818867,-0.18740219553099705,-0.9886124589298166,-1.2455148269945637,-0.17005547817493738,-0.6688403657915565,-1.536227973989527,-0.7647466952875533,-0.08316785790108641,-1.5419680792980648,-1.042460446618886,-1.3262731566710142,-0.9147217302272816,-0.19714368141586755,-0.6107448020418117,-1.5834978566864033,0.3891349505461142,-0.4534639371833183,-1.615224593822732,-1.546005189508267,-1.4327271807412159,-1.09744983859675,-1.100760299407209,-0.6018814866604765,-1.5089271055453661,-0.7765276677826598,-0.9366126352312173,-1.0917409418333262,-0.09199004625857805,-1.39908898387874,-1.4835616110397052,-0.05161518120954219,-0.5395095573216593,-1.0712841945660947,-1.3303792211286936,-0.9215723610291423,-0.5029481626214422,-0.382692229724311,-0.7516053321138721,-0.9203441600511886,-1.4656882879313011,-0.45512763816939567,-0.20110948930005088,-0.7961219663439301,-1.2882713977554285,-1.8391808586932483,-1.105645942859826,-0.5229802573939919,-1.4086244244324626,-1.4962194604579393,-0.6093943451424104,-1.396669338928602,-1.5506726734328586,-0.5571913240060012,-0.5769813398100654,-0.9140684418613031,-0.16859471138005744,-1.0376875219557216,-1.5780136587618394,-1.2523859469868284,-2.1940991318999603,-1.0064627500737482,-0.09080357521391451,-0.27580969367533886,-0.6959911076506398,0.10335549967565012,-0.27095321819728546,-0.3278173033393446,-0.12214716530092481,-1.4612904721615938,-1.2443330781722581,-0.6348538445051238,-1.5002883754607843,-0.013256848870814582,-1.2490716305193126,-0.7803845990794128,-0.6252415039646364,0.5010521634791781,0.18389490222077576,-0.6840602771051956,-0.3779833480495061,-0.16267109792213363,-0.8809417013524157,-1.0247614737266642,-0.3811097276407672,0.2044849744946241,-0.8179741744075758,-0.7152563814524239,-0.4109748595591936,-0.2293913985311006,-0.6942183428179022,-1.5206910493691472,-0.4163112220586264,-1.2809558626200446,-0.9995960220489275,-1.2968148553170489,-0.6153738631729924,-0.6890784779778037,-1.2927847611297745,-1.7191197660985709,-0.3816372240640789,-0.9348993315057813,-0.18378816912906398,0.42106069334844864,-0.6921108377625818,-1.064508143813526,-0.9200519976980864,0.08443744177918111,-1.7445893807920967,-0.7904691022214712,-0.6924156232178602,-1.264581492747555,-0.41990667011440214,-0.8416154328243458,-1.1291510580901847,-1.2816020721363521,-0.6584604988651692],\"xaxis\":\"x\",\"y\":[-1.2084302506199796,-1.0901230240373214,-0.5886412393774595,-0.24982808224866881,-0.05924736143288928,0.36919680620752926,0.8719451291085671,0.4242668810692977,0.19176168259370474,0.20263505645542618,-0.1445662052720157,0.4274555229666423,0.6509638291402368,-0.6317172416225184,-0.015308398766008705,0.1533329482017106,-0.7579016869276974,-0.24337670806130562,-0.4637341424929889,0.41217264751777527,-0.9501349612314363,-0.17211325152602266,-0.13423323674150447,-0.6017456880238687,-1.2487726322984056,-0.26495974239110004,-0.6667035852195786,-0.19133401916334833,0.13592444669427373,0.3213489332263849,-0.14794019642989478,-0.6430616856988639,-0.2656307413810137,-0.20906236628666838,0.26642036625720833,-0.015605127418200238,-0.9754279444126948,0.4438962019626461,-0.7301770940331207,0.3180027786276722,-1.0347531403045263,-0.9382301413309216,-0.9341020448738099,0.08479961855625044,0.6659911400372001,0.16960685967105243,0.09657580390884475,-0.2950550883337929,-0.1286210909984833,0.42074623085642804,0.18008805136296635,0.6588202684744632,-1.080392475164912,-1.1914189537482534,0.4118025126849841,0.9329152985812296,0.5720677063506235,-1.577971174947297,0.6526469964963951,-0.06771578796395503,0.6397317391132308,0.2907855408107767,-0.3019726083612979,-1.1913897143855874,-0.08343642862987344,-0.3610533257223611,0.1897300030015991,-0.2023314380156652,0.24562979345027472,0.207526004940867,-0.8598760390442111,-0.5120819541051801,-0.10250653174527716,-0.02948154415758949,-0.0334717455112506,-0.9409223890981547,0.10593120677027272,-0.9723285869443198,0.7182882711596684,-0.1529091266901393,0.38841172035025606,0.5724866011994237,-0.15761159084137485,-0.04521862819027751,-1.0589071036721958,0.2507375932505596,-0.5624082794881232,0.32102300110960724,-0.6595509728109697,0.9736920176237778,-0.2489818774334169,0.18868504850797566,-0.24192320850018992,0.43134679769766016,-0.7374911738191072,0.20591144406871947,-1.2251254649063341,0.6713939362179485,-0.806789742699402,0.13410601992197385,-1.0237927964881655,-0.252129709257502,0.4963991808897326,0.29111092569001046,0.1117349865658325,-0.5521819094513247,0.27339997175949055,-0.06541055416715537,0.27200125995789576,-0.38229656932518136,-0.2204842521911106,-0.5565482438601869,-0.8501111594974159,-0.02775014831972168,-1.3210572805632856,0.4082371897389286,0.2789036749228928,-1.0896546865475165,-0.8811298311070468,-0.4959138747717371,0.5809758901707891,0.40008752211355264,0.45114421989637005,-0.5727975287524769,-0.06591268423754376,-0.21723356153084955,0.2044576948898997,0.5803491807807992,0.017813619646142375,-0.12981223058847935,-0.9935610314204097,-1.1380308982709058,-0.015374020488473222,-1.0612781934923283,0.6030226141854693,-0.7679811808619866,0.4220875817450683,0.5528942875553252,-1.03986007611817,-0.40814805625773815,-0.6256626970709533,0.15644371075522923,0.4431189862337193,0.2737022078032955,-1.074197646064248,-0.7463203648305717,0.39547303350880375,-1.7275725228962888,-0.50568707720135,-1.3253436194938568,0.23624013300604157,0.8392290146244368,0.21784010035344975,-1.0586594507283158,0.13009214198280392,-0.8734979846306484,-1.217702868476736,-0.1653150678526929,-0.20816922698437682,0.03983629242691747,-1.4416352559953918,-0.06816501029727363,-0.030801288039435444,0.5121007117131244,-0.21115994668041557,0.23050187193986732,-1.0632561552425317,-0.09035905433322616,0.40488147045177914,-1.4019451900668685,0.6729990397241616,0.2925583521740577,-0.05809286591846818,-1.2273508589619526,0.09966835264938434,-0.11474955670699022,-1.1074842401107126,-1.3232266557993317,-0.8180796512077291,0.2901455381734159,-0.7773373012116845,-0.6033749533523088,-0.3468519627403055,-0.01046475150193268,0.5407984115266029,-0.36742817207222583,-0.3413660700651878,0.9556457252184344,0.4911102801482048,0.2272783672547993,0.06302198774951115,0.13374458530417133,-0.057999449404004325,0.3850352554545145,-0.11296335048228807,0.010771233767036774,0.32970350847708596,-0.7780090274774072,0.5921244439895904,0.18209352833705536,-0.6613833847497966,-0.6852728189001112,0.23106279844482674,0.6925170855455152,0.03491948098528218,-1.0593256364459716,0.37046387110156903,-1.0646435923089008,-0.09352496744618885,0.22695634113997679,-0.26771991945884144,-0.00263456776452826,-0.13981919606599377,0.6041454856593386,0.26658950400292225,0.08621494350883852,0.24973730690883356,0.09331989209630238,0.3600298343731079,0.6316435142305098,-0.07928845265361988,-0.014553441166604853,-0.4539264538469142,-1.19283285495259,0.3365453673134521,0.7795973133229495,0.8644009558181522,-1.1109970774466695,-0.42595144621414444,-0.015507783153085736,0.9761310995677644,0.8662752290042527,-0.815981038050795,-0.23328850778587926,-0.02927255051479366,-1.1140050494058382,0.17114501530473,0.09282063676425288,-0.759825207409613,-0.562136974594993,-0.19727461524152956,-0.8233002157843399,-0.520717480518957,-0.17147780956566291,-1.0833327171232356,0.09605017427852458,-1.6356346579059902,0.39992473954567564,-0.9863395797060864,0.022148364274250345,-1.0771507331917891,-0.4897527314295402,0.11351618710997927,-0.035169710912801196,-0.6724981098094277,-1.7219235354916769,0.040769133042088984,-0.8570654648393731,0.2405776575020883,0.03735205003606952,-0.36061443128724574,-0.9069610499914514,0.20714834712422903,-0.9868926953978258,-0.34060730237670356,-1.1584991014461143,0.08315040803163118,0.2469988560450981,-1.522048215717123,0.4448235619628718,0.6294209135422099,-0.02443092918594747,-0.7406437369077924,-1.4793600543359269,-0.16853081530503822,0.1315735651720721,-0.06527267727107501,0.5408266702374366,0.1201277285407093,-0.06326513089468827,-0.007526776503690552,0.45314012193353526,0.19836496670033632,-0.7250693579754244,-0.8368843140955382,-0.5204637389133979,0.0595266995021161,-0.24328217194579804,-0.32572176618539256,0.7166425198135207,0.2906952941794777,0.24694092708371193,0.3340745310032894,0.18720372931452908,-0.8071882186202967,-0.9027517224769129,-0.13110407151245904,-0.0380925597361612,0.5990761892804692,-0.6397527790947748,0.3102151740638276,-0.3098478086526623,-1.537265149262594,-0.8839042862470722,0.41146235810100956,0.3082665993876988,0.4172440476542383,-0.442946939514058,0.24483132547672948,0.3862190483487963,-0.8990872991743869,-0.7416872048060689,0.9221010373781126,-1.3118128179617314,-1.2448513495514877,0.34044223839023824,-0.6286757640552834,-0.03298846277923893,-1.3360108364630723,0.29778750323889125,0.25237747325025695,-0.8707088966334768,-1.3718771566554022,0.8601820422720227,0.3953427527107537,-1.546601996684163,-0.6015118007622833,0.554575378319511,-0.23052735641776823,-0.7317655185726566,-1.0848797817404505,0.24341519295716055,-0.9177480648166798,0.25559623347731497,-0.06952267829101244,0.1022402544956118,-1.4330515812211788,-1.2508626422170592,0.6025388424004994,0.5539511245282248,0.05578209421853173,-0.5861035235772687,-0.17192829977180085,0.1522770994438015,-1.0037872900183415,-0.20228390962814496,0.14596584590505587,-0.5703297967708434,-0.032703042349929524,-1.3084308305581471,-0.6867678488450593,-0.7807837898128989,-1.0347918592353964,-0.8111359710964581,0.5313183320653239,0.36620265966290655,0.674352250458239,-0.07100648454049041,-0.3718796875922002,-0.3905680365464473,-0.10150199679107838,-0.8864572316946981,-1.3861814039988531,-0.47207993609221216,-1.360114426628796,-0.44944037264981496,-0.6546822836813367,-0.17721297884620935,0.41090219326572897,0.26356117620887404,0.09085474043600256,0.5423029071394293,0.17298375500550575,-0.9127983511525503,0.14380948150978443,-0.30976274327569736,0.38185078404284506,0.18977758048580137,-1.239200576009213,0.06192489059604228,0.16383820417555287,0.23060380502685257,-0.43248507185675494,-1.268021839500283,-0.3162514322842312,-1.6179340869884193,-0.9468653243400801,-1.0467911841560973,0.3233915187955598,0.9642174524611467,-0.9565162936451967,0.09752940833806283,-0.3746340298769785,0.43256534975698774,0.003233711369419277,0.5314448833658532,-0.1995144638937289,0.46881052868645273,-0.035519741026403116,0.13439174798330816,-0.4374860367206087,-0.8185234609562175,-1.073141070767337,-1.410940709788008,0.699703145607458,0.3602187705956713,-0.9589661309436471,-0.09374275486015578,0.6057234265219538],\"yaxis\":\"y\",\"type\":\"scatter\"}],                        {\"template\":{\"data\":{\"bar\":[{\"error_x\":{\"color\":\"#f2f5fa\"},\"error_y\":{\"color\":\"#f2f5fa\"},\"marker\":{\"line\":{\"color\":\"rgb(17,17,17)\",\"width\":0.5},\"pattern\":{\"fillmode\":\"overlay\",\"size\":10,\"solidity\":0.2}},\"type\":\"bar\"}],\"barpolar\":[{\"marker\":{\"line\":{\"color\":\"rgb(17,17,17)\",\"width\":0.5},\"pattern\":{\"fillmode\":\"overlay\",\"size\":10,\"solidity\":0.2}},\"type\":\"barpolar\"}],\"carpet\":[{\"aaxis\":{\"endlinecolor\":\"#A2B1C6\",\"gridcolor\":\"#506784\",\"linecolor\":\"#506784\",\"minorgridcolor\":\"#506784\",\"startlinecolor\":\"#A2B1C6\"},\"baxis\":{\"endlinecolor\":\"#A2B1C6\",\"gridcolor\":\"#506784\",\"linecolor\":\"#506784\",\"minorgridcolor\":\"#506784\",\"startlinecolor\":\"#A2B1C6\"},\"type\":\"carpet\"}],\"choropleth\":[{\"colorbar\":{\"outlinewidth\":0,\"ticks\":\"\"},\"type\":\"choropleth\"}],\"contour\":[{\"colorbar\":{\"outlinewidth\":0,\"ticks\":\"\"},\"colorscale\":[[0.0,\"#0d0887\"],[0.1111111111111111,\"#46039f\"],[0.2222222222222222,\"#7201a8\"],[0.3333333333333333,\"#9c179e\"],[0.4444444444444444,\"#bd3786\"],[0.5555555555555556,\"#d8576b\"],[0.6666666666666666,\"#ed7953\"],[0.7777777777777778,\"#fb9f3a\"],[0.8888888888888888,\"#fdca26\"],[1.0,\"#f0f921\"]],\"type\":\"contour\"}],\"contourcarpet\":[{\"colorbar\":{\"outlinewidth\":0,\"ticks\":\"\"},\"type\":\"contourcarpet\"}],\"heatmap\":[{\"colorbar\":{\"outlinewidth\":0,\"ticks\":\"\"},\"colorscale\":[[0.0,\"#0d0887\"],[0.1111111111111111,\"#46039f\"],[0.2222222222222222,\"#7201a8\"],[0.3333333333333333,\"#9c179e\"],[0.4444444444444444,\"#bd3786\"],[0.5555555555555556,\"#d8576b\"],[0.6666666666666666,\"#ed7953\"],[0.7777777777777778,\"#fb9f3a\"],[0.8888888888888888,\"#fdca26\"],[1.0,\"#f0f921\"]],\"type\":\"heatmap\"}],\"heatmapgl\":[{\"colorbar\":{\"outlinewidth\":0,\"ticks\":\"\"},\"colorscale\":[[0.0,\"#0d0887\"],[0.1111111111111111,\"#46039f\"],[0.2222222222222222,\"#7201a8\"],[0.3333333333333333,\"#9c179e\"],[0.4444444444444444,\"#bd3786\"],[0.5555555555555556,\"#d8576b\"],[0.6666666666666666,\"#ed7953\"],[0.7777777777777778,\"#fb9f3a\"],[0.8888888888888888,\"#fdca26\"],[1.0,\"#f0f921\"]],\"type\":\"heatmapgl\"}],\"histogram\":[{\"marker\":{\"pattern\":{\"fillmode\":\"overlay\",\"size\":10,\"solidity\":0.2}},\"type\":\"histogram\"}],\"histogram2d\":[{\"colorbar\":{\"outlinewidth\":0,\"ticks\":\"\"},\"colorscale\":[[0.0,\"#0d0887\"],[0.1111111111111111,\"#46039f\"],[0.2222222222222222,\"#7201a8\"],[0.3333333333333333,\"#9c179e\"],[0.4444444444444444,\"#bd3786\"],[0.5555555555555556,\"#d8576b\"],[0.6666666666666666,\"#ed7953\"],[0.7777777777777778,\"#fb9f3a\"],[0.8888888888888888,\"#fdca26\"],[1.0,\"#f0f921\"]],\"type\":\"histogram2d\"}],\"histogram2dcontour\":[{\"colorbar\":{\"outlinewidth\":0,\"ticks\":\"\"},\"colorscale\":[[0.0,\"#0d0887\"],[0.1111111111111111,\"#46039f\"],[0.2222222222222222,\"#7201a8\"],[0.3333333333333333,\"#9c179e\"],[0.4444444444444444,\"#bd3786\"],[0.5555555555555556,\"#d8576b\"],[0.6666666666666666,\"#ed7953\"],[0.7777777777777778,\"#fb9f3a\"],[0.8888888888888888,\"#fdca26\"],[1.0,\"#f0f921\"]],\"type\":\"histogram2dcontour\"}],\"mesh3d\":[{\"colorbar\":{\"outlinewidth\":0,\"ticks\":\"\"},\"type\":\"mesh3d\"}],\"parcoords\":[{\"line\":{\"colorbar\":{\"outlinewidth\":0,\"ticks\":\"\"}},\"type\":\"parcoords\"}],\"pie\":[{\"automargin\":true,\"type\":\"pie\"}],\"scatter\":[{\"marker\":{\"line\":{\"color\":\"#283442\"}},\"type\":\"scatter\"}],\"scatter3d\":[{\"line\":{\"colorbar\":{\"outlinewidth\":0,\"ticks\":\"\"}},\"marker\":{\"colorbar\":{\"outlinewidth\":0,\"ticks\":\"\"}},\"type\":\"scatter3d\"}],\"scattercarpet\":[{\"marker\":{\"colorbar\":{\"outlinewidth\":0,\"ticks\":\"\"}},\"type\":\"scattercarpet\"}],\"scattergeo\":[{\"marker\":{\"colorbar\":{\"outlinewidth\":0,\"ticks\":\"\"}},\"type\":\"scattergeo\"}],\"scattergl\":[{\"marker\":{\"line\":{\"color\":\"#283442\"}},\"type\":\"scattergl\"}],\"scattermapbox\":[{\"marker\":{\"colorbar\":{\"outlinewidth\":0,\"ticks\":\"\"}},\"type\":\"scattermapbox\"}],\"scatterpolar\":[{\"marker\":{\"colorbar\":{\"outlinewidth\":0,\"ticks\":\"\"}},\"type\":\"scatterpolar\"}],\"scatterpolargl\":[{\"marker\":{\"colorbar\":{\"outlinewidth\":0,\"ticks\":\"\"}},\"type\":\"scatterpolargl\"}],\"scatterternary\":[{\"marker\":{\"colorbar\":{\"outlinewidth\":0,\"ticks\":\"\"}},\"type\":\"scatterternary\"}],\"surface\":[{\"colorbar\":{\"outlinewidth\":0,\"ticks\":\"\"},\"colorscale\":[[0.0,\"#0d0887\"],[0.1111111111111111,\"#46039f\"],[0.2222222222222222,\"#7201a8\"],[0.3333333333333333,\"#9c179e\"],[0.4444444444444444,\"#bd3786\"],[0.5555555555555556,\"#d8576b\"],[0.6666666666666666,\"#ed7953\"],[0.7777777777777778,\"#fb9f3a\"],[0.8888888888888888,\"#fdca26\"],[1.0,\"#f0f921\"]],\"type\":\"surface\"}],\"table\":[{\"cells\":{\"fill\":{\"color\":\"#506784\"},\"line\":{\"color\":\"rgb(17,17,17)\"}},\"header\":{\"fill\":{\"color\":\"#2a3f5f\"},\"line\":{\"color\":\"rgb(17,17,17)\"}},\"type\":\"table\"}]},\"layout\":{\"annotationdefaults\":{\"arrowcolor\":\"#f2f5fa\",\"arrowhead\":0,\"arrowwidth\":1},\"autotypenumbers\":\"strict\",\"coloraxis\":{\"colorbar\":{\"outlinewidth\":0,\"ticks\":\"\"}},\"colorscale\":{\"diverging\":[[0,\"#8e0152\"],[0.1,\"#c51b7d\"],[0.2,\"#de77ae\"],[0.3,\"#f1b6da\"],[0.4,\"#fde0ef\"],[0.5,\"#f7f7f7\"],[0.6,\"#e6f5d0\"],[0.7,\"#b8e186\"],[0.8,\"#7fbc41\"],[0.9,\"#4d9221\"],[1,\"#276419\"]],\"sequential\":[[0.0,\"#0d0887\"],[0.1111111111111111,\"#46039f\"],[0.2222222222222222,\"#7201a8\"],[0.3333333333333333,\"#9c179e\"],[0.4444444444444444,\"#bd3786\"],[0.5555555555555556,\"#d8576b\"],[0.6666666666666666,\"#ed7953\"],[0.7777777777777778,\"#fb9f3a\"],[0.8888888888888888,\"#fdca26\"],[1.0,\"#f0f921\"]],\"sequentialminus\":[[0.0,\"#0d0887\"],[0.1111111111111111,\"#46039f\"],[0.2222222222222222,\"#7201a8\"],[0.3333333333333333,\"#9c179e\"],[0.4444444444444444,\"#bd3786\"],[0.5555555555555556,\"#d8576b\"],[0.6666666666666666,\"#ed7953\"],[0.7777777777777778,\"#fb9f3a\"],[0.8888888888888888,\"#fdca26\"],[1.0,\"#f0f921\"]]},\"colorway\":[\"#636efa\",\"#EF553B\",\"#00cc96\",\"#ab63fa\",\"#FFA15A\",\"#19d3f3\",\"#FF6692\",\"#B6E880\",\"#FF97FF\",\"#FECB52\"],\"font\":{\"color\":\"#f2f5fa\"},\"geo\":{\"bgcolor\":\"rgb(17,17,17)\",\"lakecolor\":\"rgb(17,17,17)\",\"landcolor\":\"rgb(17,17,17)\",\"showlakes\":true,\"showland\":true,\"subunitcolor\":\"#506784\"},\"hoverlabel\":{\"align\":\"left\"},\"hovermode\":\"closest\",\"mapbox\":{\"style\":\"dark\"},\"paper_bgcolor\":\"rgb(17,17,17)\",\"plot_bgcolor\":\"rgb(17,17,17)\",\"polar\":{\"angularaxis\":{\"gridcolor\":\"#506784\",\"linecolor\":\"#506784\",\"ticks\":\"\"},\"bgcolor\":\"rgb(17,17,17)\",\"radialaxis\":{\"gridcolor\":\"#506784\",\"linecolor\":\"#506784\",\"ticks\":\"\"}},\"scene\":{\"xaxis\":{\"backgroundcolor\":\"rgb(17,17,17)\",\"gridcolor\":\"#506784\",\"gridwidth\":2,\"linecolor\":\"#506784\",\"showbackground\":true,\"ticks\":\"\",\"zerolinecolor\":\"#C8D4E3\"},\"yaxis\":{\"backgroundcolor\":\"rgb(17,17,17)\",\"gridcolor\":\"#506784\",\"gridwidth\":2,\"linecolor\":\"#506784\",\"showbackground\":true,\"ticks\":\"\",\"zerolinecolor\":\"#C8D4E3\"},\"zaxis\":{\"backgroundcolor\":\"rgb(17,17,17)\",\"gridcolor\":\"#506784\",\"gridwidth\":2,\"linecolor\":\"#506784\",\"showbackground\":true,\"ticks\":\"\",\"zerolinecolor\":\"#C8D4E3\"}},\"shapedefaults\":{\"line\":{\"color\":\"#f2f5fa\"}},\"sliderdefaults\":{\"bgcolor\":\"#C8D4E3\",\"bordercolor\":\"rgb(17,17,17)\",\"borderwidth\":1,\"tickwidth\":0},\"ternary\":{\"aaxis\":{\"gridcolor\":\"#506784\",\"linecolor\":\"#506784\",\"ticks\":\"\"},\"baxis\":{\"gridcolor\":\"#506784\",\"linecolor\":\"#506784\",\"ticks\":\"\"},\"bgcolor\":\"rgb(17,17,17)\",\"caxis\":{\"gridcolor\":\"#506784\",\"linecolor\":\"#506784\",\"ticks\":\"\"}},\"title\":{\"x\":0.05},\"updatemenudefaults\":{\"bgcolor\":\"#506784\",\"borderwidth\":0},\"xaxis\":{\"automargin\":true,\"gridcolor\":\"#283442\",\"linecolor\":\"#506784\",\"ticks\":\"\",\"title\":{\"standoff\":15},\"zerolinecolor\":\"#283442\",\"zerolinewidth\":2},\"yaxis\":{\"automargin\":true,\"gridcolor\":\"#283442\",\"linecolor\":\"#506784\",\"ticks\":\"\",\"title\":{\"standoff\":15},\"zerolinecolor\":\"#283442\",\"zerolinewidth\":2}}},\"xaxis\":{\"anchor\":\"y\",\"domain\":[0.0,1.0],\"title\":{\"text\":\"0\"}},\"yaxis\":{\"anchor\":\"x\",\"domain\":[0.0,1.0],\"title\":{\"text\":\"1\"}},\"legend\":{\"title\":{\"text\":\"Cluster\"},\"tracegroupgap\":0},\"margin\":{\"t\":60}},                        {\"responsive\": true}                    ).then(function(){\n",
       "                            \n",
       "var gd = document.getElementById('302e1f4a-de12-43cb-9600-43b86fce523b');\n",
       "var x = new MutationObserver(function (mutations, observer) {{\n",
       "        var display = window.getComputedStyle(gd).display;\n",
       "        if (!display || display === 'none') {{\n",
       "            console.log([gd, 'removed!']);\n",
       "            Plotly.purge(gd);\n",
       "            observer.disconnect();\n",
       "        }}\n",
       "}});\n",
       "\n",
       "// Listen for the removal of the full notebook cells\n",
       "var notebookContainer = gd.closest('#notebook-container');\n",
       "if (notebookContainer) {{\n",
       "    x.observe(notebookContainer, {childList: true});\n",
       "}}\n",
       "\n",
       "// Listen for the clearing of the current output cell\n",
       "var outputEl = gd.closest('.output');\n",
       "if (outputEl) {{\n",
       "    x.observe(outputEl, {childList: true});\n",
       "}}\n",
       "\n",
       "                        })                };                            </script>        </div>\n",
       "</body>\n",
       "</html>"
      ]
     },
     "metadata": {},
     "output_type": "display_data"
    }
   ],
   "source": [
    "px.scatter(famd_df, x=0, y=1, color='Cluster')"
   ]
  },
  {
   "cell_type": "markdown",
   "metadata": {
    "id": "YEkYLWoFjlxd"
   },
   "source": [
    "#### Insights\n",
    "\n",
    "- Cluster 0 - second highest average age, the higher credit amount in the dataset and a long duration, this group have ages between 20 and 68 years besides this group represents the minority in the dataset and it is the most dispersed\n",
    "- Cluster 1 - lower mean in age, lower mean in credit amount and shor duration this group have ages between 19 and 42 years and represent sthe majority in the dataset and it is the younger group in dataset\n",
    "- Cluster 2 - higher mean of age with low credit amount and short duration this group have ages between 40 and 75 years and it is the oldest group\n",
    "- Cluster 3 - second lowest average age, third lowest average credit mount and the second highest duration this group have ages between 20 and 54 years\n",
    "\n",
    "#### Conclusion\n",
    "People who can take credits of big money amount is people between 20 and 68 years old, besides they have skills to get a good job with good salary.\n",
    "\n",
    "Company can make some investigations about the salary of this group and also about the jobs"
   ]
  },
  {
   "cell_type": "markdown",
   "metadata": {
    "id": "N8KtbcHIdKbx"
   },
   "source": [
    "# Have A Good Day!!"
   ]
  },
  {
   "cell_type": "code",
   "execution_count": null,
   "metadata": {
    "id": "fXNaqlcLbmL0"
   },
   "outputs": [],
   "source": []
  }
 ],
 "metadata": {
  "colab": {
   "collapsed_sections": [],
   "name": "Clustering-Bank.ipynb",
   "provenance": []
  },
  "kernelspec": {
   "display_name": "bank",
   "language": "python",
   "name": "bank"
  },
  "language_info": {
   "codemirror_mode": {
    "name": "ipython",
    "version": 3
   },
   "file_extension": ".py",
   "mimetype": "text/x-python",
   "name": "python",
   "nbconvert_exporter": "python",
   "pygments_lexer": "ipython3",
   "version": "3.9.7"
  }
 },
 "nbformat": 4,
 "nbformat_minor": 4
}
